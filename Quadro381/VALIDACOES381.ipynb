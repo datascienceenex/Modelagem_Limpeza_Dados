{
 "cells": [
  {
   "cell_type": "markdown",
   "metadata": {},
   "source": [
    "# Implanatação de algumas Bibliotacas"
   ]
  },
  {
   "cell_type": "code",
   "execution_count": null,
   "metadata": {},
   "outputs": [],
   "source": [
    "import csv\n",
    "import numpy as np\n",
    "import pandas as pd\n",
    "import sys\n",
    "from tkinter import Tk\n",
    "from tkinter import filedialog\n",
    "from datetime import date, datetime, timedelta\n",
    "#import os\n",
    "#from ciso8601 import parse_datetime"
   ]
  },
  {
   "cell_type": "markdown",
   "metadata": {},
   "source": [
    "# Criando variaveis para os arquivos permitidos"
   ]
  },
  {
   "cell_type": "code",
   "execution_count": null,
   "metadata": {},
   "outputs": [],
   "source": [
    "#p_cmpid6  = pd.read_excel('PQ381.xlsx')      ### leitura do arquivo com os sinais dos cpmids do quadro 381\n",
    "param6    = pd.read_excel('LQ381.xlsx')      ### leitura do arquivo com o layout atualizado do quadro 381"
   ]
  },
  {
   "cell_type": "code",
   "execution_count": null,
   "metadata": {},
   "outputs": [],
   "source": [
    "#control  = 0                                              ### controle de backup    \n",
    "#p_cmpid6['cmpid'] = p_cmpid6.cmpid.astype(str)            ### transforma o campo cmpid - QE 381 - do arq auxiliar para string"
   ]
  },
  {
   "cell_type": "code",
   "execution_count": null,
   "metadata": {},
   "outputs": [],
   "source": [
    "## FUNÇÃO PARA SELEÇÃO DO ARQUIVO\n",
    "\n",
    "class qe_s:\n",
    "\n",
    "    def __init__(self):\n",
    "        self.df = {nome[s]: [] for s in range(nome.shape[0])}\n",
    "  \n",
    "    def make_df(self):\n",
    "        lines = []\n",
    "        root = Tk()\n",
    "        root.attributes(\"-topmost\", True)\n",
    "        root.withdraw()\n",
    "        for file in filedialog.askopenfilenames(filetypes=[(\"Arquivos de Text\", \"*.txt\")]):\n",
    "            for line in open(file, encoding=\"utf-8\"):\n",
    "                line = line.replace(\",\",\".\").strip()\n",
    "                for x in range(nome.shape[0]):\n",
    "                    self.df[nome[x]].append(line[i[x]:j[x]])\n",
    "                    \n",
    "        return pd.DataFrame(self.df)"
   ]
  },
  {
   "cell_type": "code",
   "execution_count": null,
   "metadata": {
    "scrolled": true
   },
   "outputs": [],
   "source": [
    "nome     = param6.Campo                      ### guarda os nomes das colunas existentes no quadro 381\n",
    "i        = param6.Ind_inf                    ### guarda a posição no arquivo que inicia um determinado campo\n",
    "j        = param6.Ind_sup                    ### guarda a posição no arquivo que termina um determinado campo\n",
    "\n",
    "quadro = qe_s()       \n",
    "df_main = quadro.make_df()\n",
    "df_main\n",
    "\n",
    "## SELECINE O(S) ARQUIVO(S) DESEJADO(S)"
   ]
  },
  {
   "cell_type": "code",
   "execution_count": null,
   "metadata": {},
   "outputs": [],
   "source": [
    "###################################\n",
    "###Importacao do Quadro381.xlsx ###\n",
    "####que serão usados para fins#####\n",
    "######### de comparação ###########\n",
    "###################################\n",
    "\n",
    "#Pasta Bib_DefCamposEstatísticos\n",
    "arq_defcamesta = pd.read_excel('Quadro381.xlsx','Bib_DefCamposEstatísticos',fileEncoding = \"UTF-8\",encoding = 'latin_1', dtype=str)\n",
    "\n",
    "#Pasta Cod_SUSEP\n",
    "arq_codsusep = pd.read_excel('Quadro381.xlsx','Cod_SUSEP',fileEncoding = \"UTF-8\",encoding = 'latin_1', dtype=str)\n",
    "\n",
    "#Pasta MRFMESANO\n",
    "arq_mrfmesano = pd.read_excel('Quadro381.xlsx','MRFMESANO',fileEncoding = \"UTF-8\",encoding = 'latin_1', dtype=str)\n",
    "\n",
    "#Pasta TiposEventosPrev\n",
    "arq_tp_even = pd.read_excel('Quadro381.xlsx','TiposEventosPrev',fileEncoding = \"UTF-8\",encoding = 'latin_1', dtype=str)\n",
    "\n",
    "#Pasta TipoRenda\n",
    "arq_tp_rend = pd.read_excel('Quadro381.xlsx','TipoRenda',fileEncoding = \"UTF-8\",encoding = 'latin_1', dtype=str)\n",
    "\n",
    "#Pasta TBOID\n",
    "arq_tboid = pd.read_excel('Quadro381.xlsx','TBOID',fileEncoding = \"UTF-8\",encoding = 'latin_1', dtype=str)\n",
    "\n",
    "#Pasta TFCID\n",
    "arq_tfcid = pd.read_excel('Quadro381.xlsx','TFCID',fileEncoding = \"UTF-8\",encoding = 'latin_1', dtype=str)\n",
    "\n",
    "#Pasta PBCMESRENDA13\n",
    "arq_pbcrend = pd.read_excel('Quadro381.xlsx','PBCMESRENDA13',fileEncoding = \"UTF-8\",encoding = 'latin_1', dtype=str)\n",
    "\n",
    "#Pasta TiposFormaPagto\n",
    "arq_formpag = pd.read_excel('Quadro381.xlsx','TiposFormaPagto',fileEncoding = \"UTF-8\",encoding = 'latin_1', dtype=str)\n",
    "\n",
    "#Pasta PeriodicidadeAtu\n",
    "arq_percid = pd.read_excel('Quadro381.xlsx','PeriodicidadeAtu',fileEncoding = \"UTF-8\",encoding = 'latin_1', dtype=str)\n",
    "\n",
    "#Pasta Indexadores\n",
    "arq_index = pd.read_excel('Quadro381.xlsx','Indexadores',fileEncoding = \"UTF-8\",encoding = 'latin_1', dtype=str)\n",
    "\n",
    "#Pasta DefasIndex\n",
    "arq_defindx = pd.read_excel('Quadro381.xlsx','DefasIndex',fileEncoding = \"UTF-8\",encoding = 'latin_1', dtype=str)\n",
    "\n",
    "#Pasta FORMAREV\n",
    "arq_formarev = pd.read_excel('Quadro381.xlsx','FORMAREV',fileEncoding = \"UTF-8\",encoding = 'latin_1', dtype=str)"
   ]
  },
  {
   "cell_type": "code",
   "execution_count": null,
   "metadata": {},
   "outputs": [],
   "source": [
    "# Criando uma lista para guardar todas as criticas impeditivas\n",
    "criticas_impeditivas = []"
   ]
  },
  {
   "cell_type": "markdown",
   "metadata": {},
   "source": [
    "# Criticas (Validacoes)"
   ]
  },
  {
   "cell_type": "code",
   "execution_count": null,
   "metadata": {},
   "outputs": [],
   "source": [
    "#7397.2 Verifica o tamanho padrão da linha (133 caracteres)\n",
    "tamanho = 0\n",
    "for i in range(0,df_main.shape[0]):                    #Passando por cada linha\n",
    "    for iten in df_main.columns:                       #Passando por cada coluna\n",
    "        tamanho = tamanho + len(df_main[iten][i])      #Contando Caracteres por linha\n",
    "    if tamanho != 133:\n",
    "        print('Erro na linha ',i,' o número de caracteres é de: ',tamanho)\n",
    "        critica7397_2 = (\"Critica 7397.2, Erro na linha \",i,\" o número de caracteres é de: \",tamanho)\n",
    "        criticas_impeditivas.append(critica7397_2)\n",
    "    tamanho = 0"
   ]
  },
  {
   "cell_type": "code",
   "execution_count": null,
   "metadata": {},
   "outputs": [],
   "source": [
    "#7397.3 Verifica se o campo sequencial é numérico e válido (PBCSEQ)\n",
    "array3 = df_main['PBCSEQ']\n",
    "x = list(array3)                                     ##Dados do arquivo\n",
    "arrayteste = x[:]\n",
    "arrayteste.sort()                                    ##Dados sequenciados\n",
    "if (arrayteste == x):                                ##Comparando\n",
    "    print('Tudo certo, esta de forma sequencial.')\n",
    "else: \n",
    "    print('ERRO!!!, Não prossiga.')\n",
    "    critica7397_3 = str('Critica 7397.3, Não temos uma sequencia valida na coluna PBCSEQ')\n",
    "    criticas_impeditivas.append(critica7397_3)"
   ]
  },
  {
   "cell_type": "code",
   "execution_count": null,
   "metadata": {},
   "outputs": [],
   "source": [
    "#7397.4 Verifica se o código da entidade é válido (ENTCODIGO)\n",
    "entcod = set(arq_codsusep['Cod_SUSEP'].astype('str'))                   #Escolhendo a coluna do arquivo modelo\n",
    "dadosentcod = set(df_main['ENTCODIGO'])                               #Escolhendo a coluna dos dados\n",
    "for itemtentcod in dadosentcod: \n",
    "    if itemtentcod not in entcod:\n",
    "        print('ERRO!! ENTCODIGO não corresponde a uma operação valida', itemtentcod)\n",
    "        critica7397_4 = ('Critica 7397.4, ENTCODIGO não corresponde a uma operação valida', itemtentcod)\n",
    "        criticas_impeditivas.append(critica7397_4)\n",
    "    else:\n",
    "        print('ENTCODIGO corresponde a um tipo de operação válida.', itemtentcod)\n",
    "        continue"
   ]
  },
  {
   "cell_type": "code",
   "execution_count": null,
   "metadata": {},
   "outputs": [],
   "source": [
    "#7397.5 Verifica se o campo MRFMESANO corresponde, respectivamente, ao ano, mês e último dia do mês de referência do FIP/SUSEP\n",
    "df_main.loc[:,'DTMRFMESANO'] = df_main['MRFMESANO'].astype('datetime64')     #Criando uma nova coluna no formato Date\n",
    "mrfmesano = set(arq_mrfmesano['DATAS'].astype('datetime64'))                 #Escolhendo a coluna do arquivo modelo\n",
    "dadosmrfmesano = set(df_main['DTMRFMESANO'])                                 #Escolhendo a coluna dos dados\n",
    "for itemmrfmesano in dadosmrfmesano: \n",
    "    if itemmrfmesano not in mrfmesano:\n",
    "        print('ERRO!! MRFMESANO não corresponde a uma operação valida', itemmrfmesano)\n",
    "        critica7397_5 = ('Critica 7397.5, MRFMESANO não corresponde a uma Data valida', itemmrfmesano)\n",
    "        criticas_impeditivas.append(critica7397_5)\n",
    "    else:\n",
    "        print('MRFMESANO corresponde a uma Data válida.', itemmrfmesano)\n",
    "        continue"
   ]
  },
  {
   "cell_type": "code",
   "execution_count": null,
   "metadata": {},
   "outputs": [],
   "source": [
    "#7397.6 Verifica se o campo QUAID corresponde ao quadro 381\n",
    "array6 = set(df_main['QUAID'])           ##Verificando todos os Quadros que estamos tratando no documento.\n",
    "for itemarray6 in array6:\n",
    "    if itemarray6 == '381':\n",
    "        print('Este se trata do Quadro:',itemarray6)\n",
    "    else:\n",
    "        print('ERRO!! Este se trata do Quadro:',itemarray6)\n",
    "        critica7397_6 = ('Critica 7397.6, Este esta se tratando do(s) Quadro(s):',itemarray6)\n",
    "        criticas_impeditivas.append(critica7397_6)"
   ]
  },
  {
   "cell_type": "code",
   "execution_count": null,
   "metadata": {},
   "outputs": [],
   "source": [
    "#7397.7 Verifica se o (PLNCODIGO) pertence ao Cadastro de Planos da entidade "
   ]
  },
  {
   "cell_type": "code",
   "execution_count": null,
   "metadata": {},
   "outputs": [],
   "source": [
    "#7397.8 Verifica se CPF do Participante/Segurado/Beneficiário (PBCCPFPARTIC) é inteiro e válido, exceto para preenchimento com zeros \n",
    "#Criação da função\n",
    "import re\n",
    "\n",
    "def isCpfValid(cpf):\n",
    "    \"\"\" If cpf in the Brazilian format is valid, it returns True, otherwise, it returns False. \"\"\"\n",
    "\n",
    "    # Check if type is str\n",
    "    if not isinstance(cpf,str):\n",
    "        return False\n",
    "\n",
    "    # Remove some unwanted characters\n",
    "    cpf = re.sub(\"[^0-9]\",'',cpf)\n",
    "    \n",
    "    # Verify if CPF number is equal\n",
    "    if cpf=='00000000000' or cpf=='11111111111' or cpf=='22222222222' or cpf=='33333333333' or cpf=='44444444444' or cpf=='55555555555' or cpf=='66666666666' or cpf=='77777777777' or cpf=='88888888888' or cpf=='99999999999':\n",
    "        return False\n",
    "\n",
    "    # Checks if string has 11 characters\n",
    "    if len(cpf) != 11:\n",
    "        return False\n",
    "\n",
    "    sum = 0\n",
    "    weight = 10\n",
    "\n",
    "    \"\"\" Calculating the first cpf check digit. \"\"\"\n",
    "    for n in range(9):\n",
    "        sum = sum + int(cpf[n]) * weight\n",
    "\n",
    "        # Decrement weight\n",
    "        weight = weight - 1\n",
    "\n",
    "    verifyingDigit = 11 -  sum % 11\n",
    "\n",
    "    if verifyingDigit > 9 :\n",
    "        firstVerifyingDigit = 0\n",
    "    else:\n",
    "        firstVerifyingDigit = verifyingDigit\n",
    "\n",
    "    \"\"\" Calculating the second check digit of cpf. \"\"\"\n",
    "    sum = 0\n",
    "    weight = 11\n",
    "    for n in range(10):\n",
    "        sum = sum + int(cpf[n]) * weight\n",
    "\n",
    "        # Decrement weight\n",
    "        weight = weight - 1\n",
    "\n",
    "    verifyingDigit = 11 -  sum % 11\n",
    "\n",
    "    if verifyingDigit > 9 :\n",
    "        secondVerifyingDigit = 0\n",
    "    else:\n",
    "        secondVerifyingDigit = verifyingDigit\n",
    "\n",
    "    if cpf[-2:] == \"%s%s\" % (firstVerifyingDigit,secondVerifyingDigit):\n",
    "        return True\n",
    "    return False"
   ]
  },
  {
   "cell_type": "code",
   "execution_count": null,
   "metadata": {},
   "outputs": [],
   "source": [
    "# Realizando Check no Campo PBCCPFPARTIC\n",
    "validacpf = set(df_main['PBCCPFPARTIC'])\n",
    "\n",
    "for itemcpfp in validacpf:\n",
    "    verificacao1 = isCpfValid(itemcpfp)\n",
    "    if verificacao1 == False:\n",
    "        print(\"Erro!! Critica 7397.10 o CPF \", itemcpfp, \" não é um CPF valido.\")\n",
    "        critica7396_10 = (\"Critica 7397.10\",\"o CPF \", itemcpfp, \" não é um CPF valido.\")\n",
    "        criticas_impeditivas.append(critica7396_10)\n",
    "\n",
    "print('Demais CPF do participante nos campos (PBCCPFPARTIC) são validos') "
   ]
  },
  {
   "cell_type": "code",
   "execution_count": null,
   "metadata": {},
   "outputs": [],
   "source": [
    "#7397.9 Verifica se PBCIDADE é inteiro \n",
    "#Criando uma nova coluna no formato Int\n",
    "df_main.loc[:,'iPBCIDADE'] = df_main['PBCIDADE'].astype('int64')     "
   ]
  },
  {
   "cell_type": "code",
   "execution_count": null,
   "metadata": {},
   "outputs": [],
   "source": [
    "#7397.10 Verifica se o TPEVID pertence à tabela ‘TiposEventosPrev’ do FIP/Susep \n",
    "tp_even = set(arq_tp_even['TPEVID'].astype('str'))                   #Escolhendo a coluna do arquivo modelo\n",
    "dadostp_even = set(df_main['TPEVID'])                               #Escolhendo a coluna dos dados\n",
    "for itemtp_even in dadostp_even: \n",
    "    if itemtp_even not in tp_even:\n",
    "        print('ERRO!! O TPEVID não pertence à tabela ‘TiposEventosPrev’ do FIP/Susep', itemtp_even)\n",
    "        critica7397_10 = ('Critica 7397.10, O TPEVID não pertence à tabela ‘TiposEventosPrev’ do FIP/Susep', itemtp_even)\n",
    "        criticas_impeditivas.append(critica7397_10)\n",
    "    else:\n",
    "        print('O TPEVID pertence à tabela ‘TiposEventosPrev’ do FIP/Susep.', itemtp_even)\n",
    "        continue"
   ]
  },
  {
   "cell_type": "code",
   "execution_count": null,
   "metadata": {},
   "outputs": [],
   "source": [
    "#7397.11 Verifica se o TPRENID pertence à tabela ‘TipoRenda’ do FIP/Susep \n",
    "tp_rend = set(arq_tp_rend['TPRENID'].astype('str'))                   #Escolhendo a coluna do arquivo modelo\n",
    "dadostp_rend = set(df_main['TPRENID'])                               #Escolhendo a coluna dos dados\n",
    "for itemtp_rend in dadostp_rend: \n",
    "    if itemtp_rend not in tp_rend:\n",
    "        print('ERRO!! O TPRENID não pertence à tabela ‘TipoRenda’ do FIP/Susep', itemtp_rend)\n",
    "        critica7397_11 = ('Critica 7397.11, O TPRENID não pertence à tabela ‘TipoRenda’ do FIP/Susep', itemtp_rend)\n",
    "        criticas_impeditivas.append(critica7397_11)\n",
    "    else:\n",
    "        print('O TPRENID pertence à tabela ‘TipoRenda’ do FIP/Susep.', itemtp_rend)\n",
    "        continue"
   ]
  },
  {
   "cell_type": "code",
   "execution_count": null,
   "metadata": {},
   "outputs": [],
   "source": [
    "#7397.12 Verifica se o TBOID pertence à tabela ‘TabuaBiometrica’ do FIP/SUSEP, exceto códigos 63, 64, 65 e 66.\n",
    "tboid = set(arq_tboid['TBOID'].astype('str'))                   #Escolhendo a coluna do arquivo modelo\n",
    "dadostboid = set(df_main['TBOID'])                               #Escolhendo a coluna dos dados\n",
    "for itemtboid in dadostboid: \n",
    "    if itemtboid != 63 and itemtboid != 64 and itemtboid != 65 and itemtboid != 66:\n",
    "        if itemtboid not in tboid:\n",
    "            print('ERRO!! O TBOID não pertence à tabela ‘TabuaBiometrica’ do FIP/SUSEP', itemtboid)\n",
    "            critica7397_12 = ('Critica 7397.12, O TBOID não pertence à tabela ‘TabuaBiometrica’ do FIP/SUSEP', itemtboid)\n",
    "            criticas_impeditivas.append(critica7397_12)\n",
    "        else:\n",
    "            print('O TBOID pertence à tabela ‘TabuaBiometrica’ do FIP/SUSEP.', itemtboid)\n",
    "            continue\n",
    "    else:\n",
    "        print('O TBOID pertence à tabela ‘TabuaBiometrica’ do FIP/SUSEP.', itemtboid)\n",
    "        continue"
   ]
  },
  {
   "cell_type": "code",
   "execution_count": null,
   "metadata": {},
   "outputs": [],
   "source": [
    "#7397.13 Verifica se o TFCID pertence à tabela ‘TiposFormaCalc’ do FIP/Susep \n",
    "tfcid = set(arq_tfcid['TFCID'].astype('str'))                   #Escolhendo a coluna do arquivo modelo\n",
    "dadostfcid = set(df_main['TFCID'])                               #Escolhendo a coluna dos dados\n",
    "for itemtfcid in dadostfcid: \n",
    "    if itemtfcid not in tfcid:\n",
    "        print('ERRO!! O TFCID não pertence à tabela ‘TiposFormaCalc’ do FIP/Susep', itemtfcid)\n",
    "        critica7397_13 = ('Critica 7397.13, O TFCID não pertence à tabela ‘TiposFormaCalc’ do FIP/Susep', itemtfcid)\n",
    "        criticas_impeditivas.append(critica7397_13)\n",
    "    else:\n",
    "        print('O TFCID pertence à tabela ‘TiposFormaCalc’ do FIP/Susep.', itemtfcid)\n",
    "        continue"
   ]
  },
  {
   "cell_type": "code",
   "execution_count": null,
   "metadata": {},
   "outputs": [],
   "source": [
    "#7397.14 Verifica se PBCNUMRECEBAN é inteiro e válido (aceita somente 12 e 13) \n",
    "df_main.loc[:,'iPBCNUMRECEBAN'] = df_main['PBCNUMRECEBAN'].astype('int64')   #Criando uma nova coluna no formato Int\n",
    "dadospcbn = set(df_main['iPBCNUMRECEBAN']) \n",
    "for itempcbn in dadospcbn:\n",
    "    if itempcbn != 12 & itempcbn != 13:\n",
    "        print('ERRO!! O PBCNUMRECEBAN é inteiro, porem diferente de 12 ou 13, valendo:', itempcbn)\n",
    "        critica7397_14 = ('Critica 7397.14, O PBCNUMRECEBAN é inteiro, porem diferente de 12 ou 13, valendo:', itempcbn)\n",
    "        criticas_impeditivas.append(critica7397_14)\n",
    "    else:\n",
    "        print('O PBCNUMRECEBAN é inteiro e vale:', itemtfcid)\n",
    "        continue"
   ]
  },
  {
   "cell_type": "code",
   "execution_count": null,
   "metadata": {},
   "outputs": [],
   "source": [
    "#7397.15 Verifica se PBCMESRENDA13 é inteiro e se está entre 00 e 11 ou 99 de acordo com valor informado em PBCNUMRECEBAN. \n",
    "#Se PBCNUMRECEBAN=13 então PBCMESRENDA13=00 à 11, se PBCNUMRECEBAN=12 então PBCMESRENDA13=99 \n",
    "df_main.loc[:,'iPBCMESRENDA13'] = df_main['PBCMESRENDA13'].astype('int64')   #Criando uma nova coluna no formato Int\n",
    "\n",
    "pbcrend = set(arq_pbcrend['PBCMESRENDA13'].astype('str')) \n",
    "dadospbcrend = set(df_main['PBCMESRENDA13'])                               #Escolhendo a coluna dos dados\n",
    "for itempbcrend in dadospbcrend: \n",
    "    if itempbcrend not in pbcrend:\n",
    "        print('ERRO!! PBCMESRENDA13 é inteiro porem não está entre 00 e 11 ou 99', itempbcrend)\n",
    "        critica7397_15 = ('Critica 7397.15, PBCMESRENDA13 é inteiro porem não está entre 00 e 11 ou 99', itempbcrend)\n",
    "        criticas_impeditivas.append(critica7397_15)\n",
    "    else:\n",
    "        print('PBCMESRENDA13 é inteiro e se está entre 00 e 11 ou 99.', itempbcrend)\n",
    "        continue"
   ]
  },
  {
   "cell_type": "code",
   "execution_count": null,
   "metadata": {},
   "outputs": [],
   "source": [
    "mask15 = (df_main['iPBCNUMRECEBAN'] == 12) & (df_main['iPBCMESRENDA13'] != 99)\n",
    "df15 = df_main.loc[mask15]\n",
    "df15"
   ]
  },
  {
   "cell_type": "code",
   "execution_count": null,
   "metadata": {},
   "outputs": [],
   "source": [
    "#7397.16 Verifica se o TFPID pertence à tabela ‘TiposFormaPagto’ do FIP/Susep \n",
    "pbcrend = set(arq_pbcrend['PBCMESRENDA13'].astype('str')) \n",
    "dadospbcrend = set(df_main['PBCMESRENDA13'])                               #Escolhendo a coluna dos dados\n",
    "for itempbcrend in dadospbcrend: \n",
    "    if itempbcrend not in pbcrend:\n",
    "        print('ERRO!! TFPID não pertence à tabela ‘TiposFormaPagto’ do FIP/Susep ', itempbcrend)\n",
    "        critica7397_16 = ('Critica 7397.16, TFPID não pertence à tabela ‘TiposFormaPagto’ do FIP/Susep ', itempbcrend)\n",
    "        criticas_impeditivas.append(critica7397_16)\n",
    "    else:\n",
    "        print('TFPID pertence à tabela ‘TiposFormaPagto’ do FIP/Susep ', itempbcrend)\n",
    "        continue"
   ]
  },
  {
   "cell_type": "code",
   "execution_count": null,
   "metadata": {},
   "outputs": [],
   "source": [
    "#7397.17 Verifica se PBCTEMPORECEB, PBCTEMPORARIE e PBCIDADBENREV são inteiros \n",
    "df_main.loc[:,'iPBCTEMPORECEB'] = df_main['PBCTEMPORECEB'].astype('int64')   #Criando uma nova coluna no formato Int\n",
    "df_main.loc[:,'iPBCTEMPORARIE'] = df_main['PBCTEMPORARIE'].astype('int64')   #Criando uma nova coluna no formato Int\n",
    "df_main.loc[:,'iPBCIDADBENREV'] = df_main['PBCIDADBENREV'].astype('int64')   #Criando uma nova coluna no formato Int"
   ]
  },
  {
   "cell_type": "code",
   "execution_count": null,
   "metadata": {},
   "outputs": [],
   "source": [
    "#7397.18 Verifica se o TBOIDBENREV pertence à tabela ‘TabuaBiometrica’ do FIP/SUSEP, exceto códigos 63, 64, 65 e 66. \n",
    "tboidbr = set(arq_tboid['TBOID'].astype('str'))                   #Escolhendo a coluna do arquivo modelo\n",
    "dadostboidbr = set(df_main['TBOIDBENREV'])                               #Escolhendo a coluna dos dados\n",
    "for itemtboidbr in dadostboidbr: \n",
    "    if itemtboidbr != 63 and itemtboidbr != 64 and itemtboidbr != 65 and itemtboidbr != 66:\n",
    "        if itemtboidbr not in tboidbr:\n",
    "            print('ERRO!! O TBOIDBENREV não pertence à tabela ‘TabuaBiometrica’ do FIP/SUSEP', itemtboidbr)\n",
    "            critica7397_18 = ('Critica 7397.18, O TBOIDBENREV não pertence à tabela ‘TabuaBiometrica’ do FIP/SUSEP', itemtboidbr)\n",
    "            criticas_impeditivas.append(critica7397_18)\n",
    "        else:\n",
    "            print('O TBOIDBENREV pertence à tabela ‘TabuaBiometrica’ do FIP/SUSEP.', itemtboidbr)\n",
    "            continue\n",
    "    else:\n",
    "        print('O TBOIDBENREV pertence à tabela ‘TabuaBiometrica’ do FIP/SUSEP.', itemtboidbr)\n",
    "        continue"
   ]
  },
  {
   "cell_type": "code",
   "execution_count": null,
   "metadata": {},
   "outputs": [],
   "source": [
    "#7397.19 Verifica se o PRAID pertence à tabela ‘PeriodicidadeAtu’ do FIP/Susep \n",
    "percid = set(arq_percid['PRAID'].astype('str'))                   #Escolhendo a coluna do arquivo modelo\n",
    "dadospercid = set(df_main['PRAID'])                               #Escolhendo a coluna dos dados\n",
    "for itempercid in dadospercid: \n",
    "    if itempercid not in percid:\n",
    "        print('ERRO!! O TBOIDBENREV não pertence à tabela ‘TabuaBiometrica’ do FIP/SUSEP', itempercid)\n",
    "        critica7397_19 = ('Critica 7397.19, O TBOIDBENREV não pertence à tabela ‘TabuaBiometrica’ do FIP/SUSEP', itempercid)\n",
    "        criticas_impeditivas.append(critica7397_19)\n",
    "    else:\n",
    "        print('O TBOIDBENREV pertence à tabela ‘TabuaBiometrica’ do FIP/SUSEP.', itempercid)\n",
    "        continue"
   ]
  },
  {
   "cell_type": "code",
   "execution_count": null,
   "metadata": {},
   "outputs": [],
   "source": [
    "#7397.20 Verifica se o INDID pertence à tabela ‘Indexadores’ do FIP/Susep \n",
    "index = set(arq_index['INDID'].astype('str'))                   #Escolhendo a coluna do arquivo modelo\n",
    "dadosindex = set(df_main['INDID'])                               #Escolhendo a coluna dos dados\n",
    "for itemindex in dadosindex: \n",
    "    if itemindex not in index:\n",
    "        print('ERRO!! O INDID não pertence à tabela ‘Indexadores’ do FIP/Susep ', itemindex)\n",
    "        critica7397_20 = ('Critica 7397.20, O INDID não pertence à tabela ‘Indexadores’ do FIP/Susep ', itemindex)\n",
    "        criticas_impeditivas.append(critica7397_20)\n",
    "    else:\n",
    "        print('O INDID pertence à tabela ‘Indexadores’ do FIP/Susep .', itemindex)\n",
    "        continue"
   ]
  },
  {
   "cell_type": "code",
   "execution_count": null,
   "metadata": {},
   "outputs": [],
   "source": [
    "#7397.21 Verifica se o DFAID pertence à tabela ‘DefasIndex’ do FIP/Susep \n",
    "defindx = set(arq_defindx['DEFAID'].astype('str'))                   #Escolhendo a coluna do arquivo modelo\n",
    "dadosdefindx = set(df_main['DFAID'])                               #Escolhendo a coluna dos dados\n",
    "for itemdefindx in dadosdefindx: \n",
    "    if itemdefindx not in defindx:\n",
    "        print('ERRO!! O DFAID não pertence à tabela ‘DefasIndex’ do FIP/Susep', itemdefindx)\n",
    "        critica7397_21 = ('Critica 7397.21, O DFAID não pertence à tabela ‘DefasIndex’ do FIP/Susep', itemdefindx)\n",
    "        criticas_impeditivas.append(critica7397_21)\n",
    "    else:\n",
    "        print('O DFAID pertence à tabela ‘DefasIndex’ do FIP/Susep.', itemdefindx)\n",
    "        continue"
   ]
  },
  {
   "cell_type": "code",
   "execution_count": null,
   "metadata": {},
   "outputs": [],
   "source": [
    "#7397.22 Verifica se PBCTAXAJUROS é percentual válido \n",
    "df_main.loc[:,'fPBCTAXAJUROS'] = df_main['PBCTAXAJUROS'].astype('float64')\n",
    "mask22 = (df_main['fPBCTAXAJUROS'] < 0.0) | (df_main['fPBCTAXAJUROS'] > 100.0)\n",
    "df22 = df_main.loc[mask22]\n",
    "if len(df22) > 0:\n",
    "    df22.loc[:,'ID da Critica'] = ('CRITICA 7397.22')\n",
    "df22"
   ]
  },
  {
   "cell_type": "code",
   "execution_count": null,
   "metadata": {},
   "outputs": [],
   "source": [
    "#7397.23 Verifica se PBCPERCREV é percentual válido e consta entre 0 e 100% \n",
    "df_main.loc[:,'fPBCPERCREV'] = df_main['PBCPERCREV'].astype('float64')\n",
    "mask23 = (df_main['fPBCPERCREV'] < 0.0) | (df_main['fPBCPERCREV'] > 100.0)\n",
    "df23 = df_main.loc[mask23]\n",
    "if len(df23) > 0:\n",
    "    df23.loc[:,'ID da Critica'] = ('CRITICA 7397.23')\n",
    "df23"
   ]
  },
  {
   "cell_type": "code",
   "execution_count": null,
   "metadata": {},
   "outputs": [],
   "source": [
    "#7397.24 Verifica se PBCDATULTATU é uma data válida \n",
    "df_main.loc[:,'DTPBCDATULTATU'] = df_main['PBCDATULTATU'].astype('datetime64')   #Criando uma nova coluna no formato date\n",
    "mask24_day = df_main['DTPBCDATULTATU'].dt.strftime(\"%d\").astype('int64')\n",
    "mask24_mon = df_main['DTPBCDATULTATU'].dt.strftime(\"%m\").astype('int64')\n",
    "mask24_d1 = ((mask24_day < 1) | (mask24_day > 30)) & ((mask24_mon == 4)|(mask24_mon == 6)|(mask24_mon == 9)|(mask24_mon == 11))\n",
    "mask24_d2 = ((mask24_day < 1) | (mask24_day > 31)) & ((mask24_mon == 1)|(mask24_mon == 3)|(mask24_mon == 5)|(mask24_mon == 7)|(mask24_mon == 8)|(mask24_mon == 10)|(mask24_mon == 12))\n",
    "mask24 = (mask24_d1) | (mask24_d2)\n",
    "df24 = df_main.loc[mask24]\n",
    "if len(df24) > 0:\n",
    "    df24.loc[:,'ID da Critica'] = ('CRITICA 7397.24')\n",
    "df24"
   ]
  },
  {
   "cell_type": "code",
   "execution_count": null,
   "metadata": {},
   "outputs": [],
   "source": [
    "#7397.25 Verifica se PBCVALORBENEF e PBCVALORRESER são validos e maiores que zero \n",
    "\n",
    "###########################################\n",
    "##Readicionando as colunas str para float##\n",
    "###########################################\n",
    "\n",
    "df_main.loc[:,'fPBCVALORBENEF'] = df_main['PBCVALORBENEF'].astype('float64')\n",
    "df_main.loc[:,'fPBCVALORRESER'] = df_main['PBCVALORRESER'].astype('float64')\n",
    "\n",
    "\n",
    "mask25 = (df_main['fPBCVALORBENEF'] < 0.0) | (df_main['fPBCVALORRESER'] < 0.0)\n",
    "df25 = df_main.loc[mask25]\n",
    "if len(df25) > 0:\n",
    "    df25.loc[:,'ID da Critica'] = ('CRITICA 7397.25')\n",
    "df25"
   ]
  },
  {
   "cell_type": "code",
   "execution_count": null,
   "metadata": {},
   "outputs": [],
   "source": [
    "criticas_impeditivas  #Lista das criticas impeditivas"
   ]
  },
  {
   "cell_type": "code",
   "execution_count": null,
   "metadata": {},
   "outputs": [],
   "source": [
    "df_criticas_i = pd.DataFrame(criticas_impeditivas)     #criacao do DataFrame das criticas impeditivas\n",
    "df_criticas_i = df_criticas_i.rename(columns={0:'Descrição'})\n",
    "df_criticas_i"
   ]
  },
  {
   "cell_type": "code",
   "execution_count": null,
   "metadata": {},
   "outputs": [],
   "source": [
    "df_criticas_i2 = pd.concat([df15,df22,df23,df24,df25])\n",
    "df_criticas_i2"
   ]
  },
  {
   "cell_type": "code",
   "execution_count": null,
   "metadata": {},
   "outputs": [],
   "source": [
    "if criticas_impeditivas == []:                             # Verificando se a lista de criticas esta vazia\n",
    "    print('Nenhuma Critica Impeditiva encontrada no Quadro 381')\n",
    "else:\n",
    "    print('Foi encontrada uma ou mais Criticas Impeditivas no Quadro 381')\n",
    "    df_criticas_i.to_csv('Criticas_Impeditivas_381.csv')   # Gerando csv das criticas impeditivas"
   ]
  },
  {
   "cell_type": "code",
   "execution_count": null,
   "metadata": {},
   "outputs": [],
   "source": [
    "if len(df_criticas_i2) == 0:                               # Verificando se a lista de criticas esta vazia\n",
    "    print('Nenhuma Critica Impeditiva encontrada no Quadro 381')\n",
    "else:\n",
    "    print('Foi encontrada uma ou mais Criticas Impeditivas no Quadro 381')\n",
    "    df_criticas_i2.to_csv('Criticas_Impeditivas_381_2.csv')   # Gerando csv das criticas impeditivas"
   ]
  },
  {
   "cell_type": "markdown",
   "metadata": {},
   "source": [
    "# Criticas (Validacoes) Não Impeditivas"
   ]
  },
  {
   "cell_type": "code",
   "execution_count": null,
   "metadata": {},
   "outputs": [],
   "source": [
    "#7397.26 Verifica se os campos TBOID, PBCIDADBENREV, TBOIDBENREV e PBCPERCREV são iguais à zero para Pensão por prazo certo - TPEVID=1 e TPRENID=01 \n",
    "mask26_tpmoid = (df_main['TPEVID'] == '1') & (df_main['TPRENID'] == '01')\n",
    "mask26_1 = (df_main['TBOID'] != '00')|(df_main['iPBCIDADBENREV'] != 0)|(df_main['TBOIDBENREV'] != '00')|(df_main['fPBCPERCREV'] != 0.0)\n",
    "mask26 = (mask26_tpmoid)&(mask26_1)\n",
    "df26 = df_main.loc[mask26]\n",
    "if len(df26) > 0:\n",
    "    df26.loc[:,'ID da Critica'] = ('CRITICA 7398.26')\n",
    "df26"
   ]
  },
  {
   "cell_type": "code",
   "execution_count": null,
   "metadata": {},
   "outputs": [],
   "source": [
    "#7397.27 Verifica se os campos TBOID, PBCIDADBENREV, TBOIDBENREV e PBCPERCREV são iguais à zero para Renda certa por invalidez - TPEVID=2 e TPRENID=01  \n",
    "mask27_tpmoid = (df_main['TPEVID'] == '2') & (df_main['TPRENID'] == '01')\n",
    "mask27_1 = (df_main['TBOID'] != '00')|(df_main['iPBCIDADBENREV'] != 0)|(df_main['TBOIDBENREV'] != '00')|(df_main['fPBCPERCREV'] != 0.0)\n",
    "mask27 = (mask27_tpmoid)&(mask27_1)\n",
    "df27 = df_main.loc[mask27]\n",
    "if len(df27) > 0:\n",
    "    df27.loc[:,'ID da Critica'] = ('CRITICA 7398.27')\n",
    "df27"
   ]
  },
  {
   "cell_type": "code",
   "execution_count": null,
   "metadata": {},
   "outputs": [],
   "source": [
    "#7397.28 Verifica se o campo TBOID é igual à zero para Renda certa por sobrevivência - TPEVID=3 e TPRENID=01 \n",
    "mask28_tpmoid = (df_main['TPEVID'] == '3') & (df_main['TPRENID'] == '01')\n",
    "mask28_1 = (df_main['TBOID'] != '00')\n",
    "mask28 = (mask28_tpmoid)&(mask28_1)\n",
    "df28 = df_main.loc[mask28]\n",
    "if len(df28) > 0:\n",
    "    df28.loc[:,'ID da Critica'] = ('CRITICA 7398.28')\n",
    "df28"
   ]
  },
  {
   "cell_type": "code",
   "execution_count": null,
   "metadata": {},
   "outputs": [],
   "source": [
    "#7397.29 Verifica se os campos PBCIDADBENREV, TBOIDBENREV e PBCPERCREV são iguais à zero para Pensão temporária - TPEVID=1 e TPRENID=02 \n",
    "mask29_tpmoid = (df_main['TPEVID'] == '1') & (df_main['TPRENID'] == '02')\n",
    "mask29_1 = (df_main['iPBCIDADBENREV'] != 0)|(df_main['TBOIDBENREV'] != '00')|(df_main['fPBCPERCREV'] != 0.0)\n",
    "mask29 = (mask29_tpmoid)&(mask29_1)\n",
    "df29 = df_main.loc[mask29]\n",
    "if len(df29) > 0:\n",
    "    df29.loc[:,'ID da Critica'] = ('CRITICA 7398.29')\n",
    "df29"
   ]
  },
  {
   "cell_type": "code",
   "execution_count": null,
   "metadata": {},
   "outputs": [],
   "source": [
    "#7397.30 Verifica se os campos PBCIDADBENREV, TBOIDBENREV e PBCPERCREV são iguais à zero para Pensão por invalidez temporária - TPEVID=2 e TPRENID=02 \n",
    "mask30_tpmoid = (df_main['TPEVID'] == '2') & (df_main['TPRENID'] == '02')\n",
    "mask30_1 = (df_main['iPBCIDADBENREV'] != 0)|(df_main['TBOIDBENREV'] != '00')|(df_main['fPBCPERCREV'] != 0.0)\n",
    "mask30 = (mask30_tpmoid)&(mask30_1)\n",
    "df30 = df_main.loc[mask30]\n",
    "if len(df30) > 0:\n",
    "    df30.loc[:,'ID da Critica'] = ('CRITICA 7398.30')\n",
    "df30"
   ]
  },
  {
   "cell_type": "code",
   "execution_count": null,
   "metadata": {},
   "outputs": [],
   "source": [
    "#7397.31 Verifica se os campos PBCIDADBENREV, TBOIDBENREV e PBCPERCREV são iguais à zero para Renda por sobrevivência temporária - TPEVID=3 e TPRENID=02\n",
    "mask31_tpmoid = (df_main['TPEVID'] == '3') & (df_main['TPRENID'] == '02')\n",
    "mask31_1 = (df_main['iPBCIDADBENREV'] != 0)|(df_main['TBOIDBENREV'] != '00')|(df_main['fPBCPERCREV'] != 0.0)\n",
    "mask31 = (mask31_tpmoid)&(mask31_1)\n",
    "df31 = df_main.loc[mask31]\n",
    "if len(df31) > 0:\n",
    "    df31.loc[:,'ID da Critica'] = ('CRITICA 7398.31')\n",
    "df31"
   ]
  },
  {
   "cell_type": "code",
   "execution_count": null,
   "metadata": {},
   "outputs": [],
   "source": [
    "#7397.32 Verifica se os campos PBCIDADBENREV, PBCTEMPORECEB, PBCTEMPORARIE, TBOIDBENREV e PBCPERCREV são iguais à zero para Pensão vitalícia - TPEVID=1 e TPRENID=06 \n",
    "mask32_tpmoid = (df_main['TPEVID'] == '1') & (df_main['TPRENID'] == '06')\n",
    "mask32_1 = (df_main['iPBCIDADBENREV'] != 0)|(df_main['iPBCTEMPORECEB'] != 0)|(df_main['iPBCTEMPORARIE'] != 0)|(df_main['TBOIDBENREV'] != '00')|(df_main['fPBCPERCREV'] != 0.0)\n",
    "mask32 = (mask32_tpmoid)&(mask32_1)\n",
    "df32 = df_main.loc[mask32]\n",
    "if len(df32) > 0:\n",
    "    df32.loc[:,'ID da Critica'] = ('CRITICA 7398.32')\n",
    "df32"
   ]
  },
  {
   "cell_type": "code",
   "execution_count": null,
   "metadata": {},
   "outputs": [],
   "source": [
    "#7397.33 Verifica se os campos PBCIDADBENREV, PBCTEMPORECEB, PBCTEMPORARIE, TBOIDBENREV e PBCPERCREV são iguais à zero para Renda por invalidez vitalícia - TPEVID=2 e TPRENID=06 \n",
    "mask33_tpmoid = (df_main['TPEVID'] == '2') & (df_main['TPRENID'] == '06')\n",
    "mask33_1 = (df_main['iPBCIDADBENREV'] != 0)|(df_main['iPBCTEMPORECEB'] != 0)|(df_main['iPBCTEMPORARIE'] != 0)|(df_main['TBOIDBENREV'] != '00')|(df_main['fPBCPERCREV'] != 0.0)\n",
    "mask33 = (mask33_tpmoid)&(mask33_1)\n",
    "df33 = df_main.loc[mask33]\n",
    "if len(df33) > 0:\n",
    "    df33.loc[:,'ID da Critica'] = ('CRITICA 7398.33')\n",
    "df33"
   ]
  },
  {
   "cell_type": "code",
   "execution_count": null,
   "metadata": {},
   "outputs": [],
   "source": [
    "#7397.34 Verifica se os campos PBCIDADBENREV, PBCTEMPORECEB, PBCTEMPORARIE, TBOIDBENREV e PBCPERCREV são iguais à zero para Renda por sobrevivência vitalícia - TPEVID=3 e TPRENID=06 \n",
    "mask34_tpmoid = (df_main['TPEVID'] == '3') & (df_main['TPRENID'] == '06')\n",
    "mask34_1 = (df_main['iPBCIDADBENREV'] != 0)|(df_main['iPBCTEMPORECEB'] != 0)|(df_main['iPBCTEMPORARIE'] != 0)|(df_main['TBOIDBENREV'] != '00')|(df_main['fPBCPERCREV'] != 0.0)\n",
    "mask34 = (mask34_tpmoid)&(mask34_1)\n",
    "df34 = df_main.loc[mask34]\n",
    "if len(df34) > 0:\n",
    "    df34.loc[:,'ID da Critica'] = ('CRITICA 7398.34')\n",
    "df34"
   ]
  },
  {
   "cell_type": "code",
   "execution_count": null,
   "metadata": {},
   "outputs": [],
   "source": [
    "#7397.35 Verifica se Pensão vitalícia reversível - para TPEVID=1 e TPRENID=07 os campos PBCTEMPORECEB e PBCTEMPORARIE e devem ser iguais à zero \n",
    "mask35_tpmoid = (df_main['TPEVID'] == '1') & (df_main['TPRENID'] == '07')\n",
    "mask35_1 = (df_main['iPBCTEMPORECEB'] != 0)|(df_main['iPBCTEMPORARIE'] != 0)\n",
    "mask35 = (mask35_tpmoid)&(mask35_1)\n",
    "df35 = df_main.loc[mask35]\n",
    "if len(df35) > 0:\n",
    "    df35.loc[:,'ID da Critica'] = ('CRITICA 7398.35')\n",
    "df35"
   ]
  },
  {
   "cell_type": "code",
   "execution_count": null,
   "metadata": {},
   "outputs": [],
   "source": [
    "#7397.36 Verifica se o campo PBCPERCREV é diferente de zero para Pensão vitalícia reversível - TPEVID=1 e TPRENID=07\n",
    "mask36_tpmoid = (df_main['TPEVID'] == '1') & (df_main['TPRENID'] == '07')\n",
    "mask36_1 = (df_main['fPBCPERCREV'] != 0.0)\n",
    "mask36 = (mask36_tpmoid)&(mask36_1)\n",
    "df36 = df_main.loc[mask36]\n",
    "if len(df36) > 0:\n",
    "    df36.loc[:,'ID da Critica'] = ('CRITICA 7398.36')\n",
    "df36"
   ]
  },
  {
   "cell_type": "code",
   "execution_count": null,
   "metadata": {},
   "outputs": [],
   "source": [
    "#7397.37 Verifica se os campos PBCIDADBENREV e PBCIDADE não são iguais à zero simultaneamente para Renda por invalidez vitalícia reversível - TPEVID=2 e TPRENID=07 \n",
    "mask37_tpmoid = (df_main['TPEVID'] == '2') & (df_main['TPRENID'] == '07')\n",
    "mask37_1 = (df_main['iPBCIDADBENREV'] == 0) & (df_main['PBCIDADE'] == '0000')\n",
    "mask37 = (mask37_tpmoid)&(mask37_1)\n",
    "df37 = df_main.loc[mask37]\n",
    "if len(df37) > 0:\n",
    "    df37.loc[:,'ID da Critica'] = ('CRITICA 7398.37')\n",
    "df37"
   ]
  },
  {
   "cell_type": "code",
   "execution_count": null,
   "metadata": {},
   "outputs": [],
   "source": [
    "#7397.38 Verifica se os campos PBCTEMPORECEB e PBCTEMPORARIE são iguais à zero para Renda por invalidez vitalícia reversível - TPEVID=2 e TPRENID=07 \n",
    "mask38_tpmoid = (df_main['TPEVID'] == '2') & (df_main['TPRENID'] == '07')\n",
    "mask38_1 = (df_main['iPBCTEMPORECEB'] != 0)|(df_main['iPBCTEMPORARIE'] != 0)\n",
    "mask38 = (mask38_tpmoid)&(mask38_1)\n",
    "df38 = df_main.loc[mask38]\n",
    "if len(df38) > 0:\n",
    "    df38.loc[:,'ID da Critica'] = ('CRITICA 7398.38')\n",
    "df38"
   ]
  },
  {
   "cell_type": "code",
   "execution_count": null,
   "metadata": {},
   "outputs": [],
   "source": [
    "#7397.39 Verifica se o campo PBCPERCREV é diferente de zero para Renda por invalidez vitalícia reversível - TPEVID=2 e TPRENID=07 \n",
    "mask39_tpmoid = (df_main['TPEVID'] == '2') & (df_main['TPRENID'] == '07')\n",
    "mask39_1 = (df_main['PBCPERCREV'] == '000.00')\n",
    "mask39 = (mask39_tpmoid)&(mask39_1)\n",
    "df39 = df_main.loc[mask39]\n",
    "if len(df39) > 0:\n",
    "    df39.loc[:,'ID da Critica'] = ('CRITICA 7398.39')\n",
    "df39"
   ]
  },
  {
   "cell_type": "code",
   "execution_count": null,
   "metadata": {},
   "outputs": [],
   "source": [
    "#7397.40 Verifica se os campos PBCIDADBENREV e PBCIDADE não são iguais à zero simultaneamente para Renda por sobrevivência vitalícia reversível - TPEVID=3 e TPRENID=07 \n",
    "mask40_tpmoid = (df_main['TPEVID'] == '3') & (df_main['TPRENID'] == '07')\n",
    "mask40_1 = (df_main['iPBCIDADBENREV'] == 0) & (df_main['PBCIDADE'] == '0000')\n",
    "mask40 = (mask40_tpmoid)&(mask40_1)\n",
    "df40 = df_main.loc[mask40]\n",
    "if len(df40) > 0:\n",
    "    df40.loc[:,'ID da Critica'] = ('CRITICA 7398.40')\n",
    "df40"
   ]
  },
  {
   "cell_type": "code",
   "execution_count": null,
   "metadata": {},
   "outputs": [],
   "source": [
    "#7397.41 Verifica se os campos PBCTEMPORECEB e PBCTEMPORARIE são iguais à zero para Renda por sobrevivência vitalícia reversível - TPEVID=3 e TPRENID=07\n",
    "mask41_tpmoid = (df_main['TPEVID'] == '3') & (df_main['TPRENID'] == '07')\n",
    "mask41_1 = (df_main['iPBCTEMPORECEB'] != 0)|(df_main['iPBCTEMPORARIE'] != 0)\n",
    "mask41 = (mask41_tpmoid)&(mask41_1)\n",
    "df41 = df_main.loc[mask41]\n",
    "if len(df41) > 0:\n",
    "    df41.loc[:,'ID da Critica'] = ('CRITICA 7398.41')\n",
    "df41"
   ]
  },
  {
   "cell_type": "code",
   "execution_count": null,
   "metadata": {},
   "outputs": [],
   "source": [
    "#7397.42 Verifica se o campo PBCPERCREV é diferente de zero para Renda por sobrevivência vitalícia reversível - TPEVID=3 e TPRENID=07\n",
    "mask42_tpmoid = (df_main['TPEVID'] == '3') & (df_main['TPRENID'] == '07')\n",
    "mask42_1 = (df_main['PBCPERCREV'] == '000.00')\n",
    "mask42 = (mask42_tpmoid)&(mask42_1)\n",
    "df42 = df_main.loc[mask42]\n",
    "if len(df42) > 0:\n",
    "    df42.loc[:,'ID da Critica'] = ('CRITICA 7398.42')\n",
    "df42"
   ]
  },
  {
   "cell_type": "code",
   "execution_count": null,
   "metadata": {},
   "outputs": [],
   "source": [
    "#7397.43 Verifica se os campos PBCIDADBENREV, TBOIDBENREV e PBCPERCREV são iguais à zero para Pensão vitalícia com mínimo garantido - TPEVID=1 e TPRENID=08 \n",
    "mask43_tpmoid = (df_main['TPEVID'] == '1') & (df_main['TPRENID'] == '08')\n",
    "mask43_1 = (df_main['iPBCIDADBENREV'] != 0)|(df_main['TBOIDBENREV'] != '00')|(df_main['fPBCPERCREV'] != 0.0)\n",
    "mask43 = (mask43_tpmoid)&(mask43_1)\n",
    "df43 = df_main.loc[mask43]\n",
    "if len(df43) > 0:\n",
    "    df43.loc[:,'ID da Critica'] = ('CRITICA 7398.43')\n",
    "df43"
   ]
  },
  {
   "cell_type": "code",
   "execution_count": null,
   "metadata": {},
   "outputs": [],
   "source": [
    "#7397.44 Verifica se os campos PBCIDADBENREV, TBOIDBENREV e PBCPERCREV são iguais à zero para Renda por invalidez vitalícia com mínimo garantido - TPEVID=2 e TPRENID=08 \n",
    "mask44_tpmoid = (df_main['TPEVID'] == '2') & (df_main['TPRENID'] == '08')\n",
    "mask44_1 = (df_main['iPBCIDADBENREV'] != 0)|(df_main['TBOIDBENREV'] != '00')|(df_main['fPBCPERCREV'] != 0.0)\n",
    "mask44 = (mask44_tpmoid)&(mask44_1)\n",
    "df44 = df_main.loc[mask44]\n",
    "if len(df44) > 0:\n",
    "    df44.loc[:,'ID da Critica'] = ('CRITICA 7398.44')\n",
    "df44"
   ]
  },
  {
   "cell_type": "code",
   "execution_count": null,
   "metadata": {},
   "outputs": [],
   "source": [
    "#7397.45 Verifica se os campos PBCIDADBENREV, TBOIDBENREV e PBCPERCREV são iguais à zero para Renda por sobrevivência vitalícia com mínimo garantido - TPEVID=3 e TPRENID=08 \n",
    "mask45_tpmoid = (df_main['TPEVID'] == '3') & (df_main['TPRENID'] == '08')\n",
    "mask45_1 = (df_main['iPBCIDADBENREV'] != 0)|(df_main['TBOIDBENREV'] != '00')|(df_main['fPBCPERCREV'] != 0.0)\n",
    "mask45 = (mask45_tpmoid)&(mask45_1)\n",
    "df45 = df_main.loc[mask45]\n",
    "if len(df45) > 0:\n",
    "    df45.loc[:,'ID da Critica'] = ('CRITICA 7398.45')\n",
    "df45"
   ]
  },
  {
   "cell_type": "code",
   "execution_count": null,
   "metadata": {},
   "outputs": [],
   "source": [
    "#7397.46 Verifica se os campos PBCIDADBENREV e PBCIDADE não são iguais à zero simultaneamente para Pensão vitalícia reversível com mínimo garantido - TPEVID=1 e TPRENID=09 \n",
    "mask46_tpmoid = (df_main['TPEVID'] == '1') & (df_main['TPRENID'] == '09')\n",
    "mask46_1 = (df_main['iPBCIDADBENREV'] == 0) & (df_main['PBCIDADE'] == '0000')\n",
    "mask46 = (mask46_tpmoid)&(mask46_1)\n",
    "df46 = df_main.loc[mask46]\n",
    "if len(df46) > 0:\n",
    "    df46.loc[:,'ID da Critica'] = ('CRITICA 7398.46')\n",
    "df46"
   ]
  },
  {
   "cell_type": "code",
   "execution_count": null,
   "metadata": {},
   "outputs": [],
   "source": [
    "#7397.47 Verifica se o campo PBCPERCREV é diferente de zero para Pensão vitalícia reversível com mínimo garantido - TPEVID=1 e TPRENID=09 \n",
    "mask47_tpmoid = (df_main['TPEVID'] == '1') & (df_main['TPRENID'] == '09')\n",
    "mask47_1 = (df_main['PBCPERCREV'] == '000.00')\n",
    "mask47 = (mask47_tpmoid)&(mask47_1)\n",
    "df47 = df_main.loc[mask47]\n",
    "if len(df47) > 0:\n",
    "    df47.loc[:,'ID da Critica'] = ('CRITICA 7398.47')\n",
    "df47"
   ]
  },
  {
   "cell_type": "code",
   "execution_count": null,
   "metadata": {},
   "outputs": [],
   "source": [
    "#7397.48 Verifica se os campos PBCIDADBENREV e PBCIDADE não são iguais à zero simultaneamente para Renda por invalidez vitalícia reversível com mínimo garantido - TPEVID=2 e TPRENID=09 \n",
    "mask48_tpmoid = (df_main['TPEVID'] == '2') & (df_main['TPRENID'] == '09')\n",
    "mask48_1 = (df_main['iPBCIDADBENREV'] == 0) & (df_main['PBCIDADE'] == '0000')\n",
    "mask48 = (mask48_tpmoid)&(mask48_1)\n",
    "df48 = df_main.loc[mask48]\n",
    "if len(df48) > 0:\n",
    "    df48.loc[:,'ID da Critica'] = ('CRITICA 7398.48')\n",
    "df48"
   ]
  },
  {
   "cell_type": "code",
   "execution_count": null,
   "metadata": {},
   "outputs": [],
   "source": [
    "#7397.49 Verifica se o campo PBCPERCREV é diferente de zero para Renda por invalidez vitalícia reversível com mínimo garantido - TPEVID=2 e TPRENID=09 \n",
    "mask49_tpmoid = (df_main['TPEVID'] == '2') & (df_main['TPRENID'] == '09')\n",
    "mask49_1 = (df_main['PBCPERCREV'] == '000.00')\n",
    "mask49 = (mask49_tpmoid)&(mask49_1)\n",
    "df49 = df_main.loc[mask49]\n",
    "if len(df49) > 0:\n",
    "    df49.loc[:,'ID da Critica'] = ('CRITICA 7398.49')\n",
    "df49"
   ]
  },
  {
   "cell_type": "code",
   "execution_count": null,
   "metadata": {},
   "outputs": [],
   "source": [
    "#7397.50 Verifica se os campos PBCIDADBENREV e PBCIDADE não são iguais à zero simultaneamente para Renda por sobrevivência vitalícia reversível com mínimo garantido - TPEVID=3 e TPRENID=09 \n",
    "mask50_tpmoid = (df_main['TPEVID'] == '3') & (df_main['TPRENID'] == '09')\n",
    "mask50_1 = (df_main['iPBCIDADBENREV'] == 0) & (df_main['PBCIDADE'] == '0000')\n",
    "mask50 = (mask50_tpmoid)&(mask50_1)\n",
    "df50 = df_main.loc[mask50]\n",
    "if len(df50) > 0:\n",
    "    df50.loc[:,'ID da Critica'] = ('CRITICA 7398.50')\n",
    "df50"
   ]
  },
  {
   "cell_type": "code",
   "execution_count": null,
   "metadata": {},
   "outputs": [],
   "source": [
    "#7397.51 Verifica se o campo PBCPERCREV é diferente de zero para Renda por sobrevivência vitalícia reversível com mínimo garantido - TPEVID=3 e TPRENID=09\n",
    "mask51_tpmoid = (df_main['TPEVID'] == '3') & (df_main['TPRENID'] == '09')\n",
    "mask51_1 = (df_main['PBCPERCREV'] == '000.00')\n",
    "mask51 = (mask51_tpmoid)&(mask51_1)\n",
    "df51 = df_main.loc[mask51]\n",
    "if len(df51) > 0:\n",
    "    df51.loc[:,'ID da Critica'] = ('CRITICA 7398.51')\n",
    "df51"
   ]
  },
  {
   "cell_type": "code",
   "execution_count": null,
   "metadata": {},
   "outputs": [],
   "source": [
    "#7397.52 Verifica se o campo PBCTEMPORARIE é maior que zero para Rendas por prazo determinado –TPRENID=(01 ou 02)\n",
    "mask52_tpmoid = (df_main['TPRENID'] == '01') & (df_main['TPRENID'] == '02')\n",
    "mask52_1 = (df_main['iPBCTEMPORARIE'] <= 0)\n",
    "mask52 = (mask52_tpmoid)&(mask52_1)\n",
    "df52 = df_main.loc[mask52]\n",
    "if len(df52) > 0:\n",
    "    df52.loc[:,'ID da Critica'] = ('CRITICA 7398.52')\n",
    "df52"
   ]
  },
  {
   "cell_type": "code",
   "execution_count": null,
   "metadata": {},
   "outputs": [],
   "source": [
    "#7397.53 Verifica se o campo TBOID é diferente de 00 para Rendas Atuariais – qualquer TPRENID diferente de (01)\n",
    "mask53 = (df_main['TBOID'] == '00') & (df_main['TPRENID'] != '01')\n",
    "df53 = df_main.loc[mask53]\n",
    "if len(df53) > 0:\n",
    "    df53.loc[:,'ID da Critica'] = ('CRITICA 7398.53')\n",
    "df53"
   ]
  },
  {
   "cell_type": "code",
   "execution_count": null,
   "metadata": {},
   "outputs": [],
   "source": [
    "#7397.54 Verifica se o campo TBOIDBENREV é diferente de 00 para Rendas Reversíveis - TPRENID=(03, 05, 07 ou 09) \n",
    "mask54_tprenid = (df_main['TPRENID'] == '03')|(df_main['TPRENID'] == '05')|(df_main['TPRENID'] == '07')|(df_main['TPRENID'] == '09')\n",
    "mask54 = (df_main['TBOIDBENREV'] == '00') & (mask54_tprenid)\n",
    "df54 = df_main.loc[mask54]\n",
    "if len(df54) > 0:\n",
    "    df54.loc[:,'ID da Critica'] = ('CRITICA 7398.54')\n",
    "df54"
   ]
  },
  {
   "cell_type": "code",
   "execution_count": null,
   "metadata": {},
   "outputs": [],
   "source": [
    "#7397.55 Verifica se o campo PBCTEMPORARIE é maior ou igual ao campo PBCTEMPORECEB \n",
    "mask55 = (df_main['iPBCTEMPORARIE']) < (df_main['iPBCTEMPORECEB'])\n",
    "df55 = df_main.loc[mask55]\n",
    "if len(df55) > 0:\n",
    "    df55.loc[:,'ID da Critica'] = ('CRITICA 7398.55')\n",
    "df55"
   ]
  },
  {
   "cell_type": "code",
   "execution_count": null,
   "metadata": {},
   "outputs": [],
   "source": [
    "#7397.56 Verifica se a Idade do Participante/Segurado/Beneficiário (PBCIDADE) é menor que 1200 meses \n",
    "mask56 = (df_main['iPBCIDADE'] >= 1200)\n",
    "df56 = df_main.loc[mask56]\n",
    "if len(df56) > 0:\n",
    "    df56.loc[:,'ID da Critica'] = ('CRITICA 7398.56')\n",
    "df56"
   ]
  },
  {
   "cell_type": "code",
   "execution_count": null,
   "metadata": {},
   "outputs": [],
   "source": [
    "#7397.57 Verifica se os campos TBOID ou TBOIDBENREV foram preenchidos com o código 99 (Outras). Para esses casos, a tábua utilizada deverá ser enviada na justificativa da crítica\n",
    "mask57_tprenid = (df_main['TBOID'] == '99')|(df_main['TBOIDBENREV'] == '99')\n",
    "df57 = df_main.loc[mask57_tprenid]\n",
    "df57"
   ]
  },
  {
   "cell_type": "code",
   "execution_count": null,
   "metadata": {},
   "outputs": [],
   "source": [
    "#7397.58 Verifica se a idade do beneficiário da reversão (PBCIDADBENREV) é menor do que 1200 meses, somente para o campo TPRENID=(03, 05, 07 e 09)\n",
    "mask58_tprenid = (df_main['TPRENID'] == '03')|(df_main['TPRENID'] == '05')|(df_main['TPRENID'] == '07')|(df_main['TPRENID'] == '09')\n",
    "mask58 = (df_main['iPBCIDADBENREV'] >= 1200) & (mask58_tprenid)\n",
    "df58 = df_main.loc[mask58]\n",
    "if len(df58) > 0:\n",
    "    df58.loc[:,'ID da Critica'] = ('CRITICA 7398.58')\n",
    "df58"
   ]
  },
  {
   "cell_type": "code",
   "execution_count": null,
   "metadata": {},
   "outputs": [],
   "source": [
    "#7397.59 Verifica se o campo TPEVID, TPRENID e PBCTAXAJUROS de cada registro de mesmo plncodigo do quadro 381 é igual ao campo TPEVID, TPRENID e PBCTAXAJUROS da tabela Planos do quadro de Cadastro de Planos, de mesmo plncodigo da companhia. "
   ]
  },
  {
   "cell_type": "code",
   "execution_count": null,
   "metadata": {},
   "outputs": [],
   "source": [
    "#7397.60 1)Quando o campo TPRENID for diferente de 01 e o campo TBOID for diferente de 52, 53, 57, 58, 59, 60, 61 e 62, verifica se TBOID está preenchido com o mesmo valor de um dos seguintes campos do quadro de cadastro de planos: TBOIDMORTFEM, TBOIDMORTMASC, TBOIDBENFEM, TBOIDBENMASC e TBOIDMORTINV, no plano de PLNCODIGO correspondente ao informado no quadro estatístico 381. 2) Quando o campo TPRENID for diferente de 01 e o campo TBOID for igual a 52, 53, 57, 58, 59, 60, 61 e 62, verifica se algum dos campos TBOIDMORTFEM, TBOIDMORTMASC, TBOIDBENFEM, TBOIDBENMASC e TBOIDMORTINV do quadro de cadastro de planos, no plano de PLNCODIGO correspondente ao informado no quadro estatístico 381, está preenchido com valor 63, 64, 65 ou 66. "
   ]
  },
  {
   "cell_type": "code",
   "execution_count": null,
   "metadata": {},
   "outputs": [],
   "source": [
    "#7397.63 Para cada “PLNCODIGO” informado pela companhia no quadro estatístico 381, verifica se o somatório do campo PBCVALORRESER é igual ao somatório da PMBC dos quadros 110 (CMPID: 12928), 111 (CMPID: 12967), 112 (CMPID: 13006) e 113 (CMPID: 13045) "
   ]
  },
  {
   "cell_type": "code",
   "execution_count": null,
   "metadata": {},
   "outputs": [],
   "source": [
    "#7397.64 Para cada “PLNCODIGO” informado pela companhia no quadro estatístico 381 (exceto planos cadastrados com a forma de pagamento único), verifica se o somatório do campo PBCVALORBENEF é igual ao somatório dos benefícios informados nos quadros 106 (CMPID: 12872), 107 (CMPID: 12876), 108 (CMPID: 12880) e 109 (CMPID: 12884). "
   ]
  },
  {
   "cell_type": "code",
   "execution_count": null,
   "metadata": {},
   "outputs": [],
   "source": [
    "################################################\n",
    "# Adicionando Nome do Criador do output e data #\n",
    "################################################\n",
    "\n",
    "df_main.loc[:,'Criador'] = input(\"Insira seu nome: \") ### insere a coluna com o nome do criador da tabela\n",
    "data_presente = datetime.now()\n",
    "df_main.loc[:,'Data do output'] = data_presente ### insere a coluna com a data de criacao da tabela"
   ]
  },
  {
   "cell_type": "code",
   "execution_count": null,
   "metadata": {},
   "outputs": [],
   "source": [
    "df_main"
   ]
  },
  {
   "cell_type": "code",
   "execution_count": null,
   "metadata": {},
   "outputs": [],
   "source": [
    "df_criticas_2 = pd.concat([df26,df27,df28,df29,df30,df31,df32,df33,df34,df35,df36,df37,df38,df39,df40,df41,df42,df43,df44,df45,df46,df47,df48,df49,df50,df51,df52,df53,df54,df55,df56,df58])\n",
    "df_criticas_2"
   ]
  },
  {
   "cell_type": "code",
   "execution_count": null,
   "metadata": {},
   "outputs": [],
   "source": [
    "if len(df_criticas_2) == 0:                             # Verificando se o DataFrame de criticas esta vazia\n",
    "    print('Nenhuma Critica NÃO Impeditiva encontrada no Quadro 381')\n",
    "else:\n",
    "    print('Foi encontrada uma ou mais Criticas NÃO Impeditivas no Quadro 381')\n",
    "    df_criticas_2.to_csv('Criticas_nao_impeditivas381.csv')         # Gerando csv das criticas impeditivas"
   ]
  },
  {
   "cell_type": "code",
   "execution_count": null,
   "metadata": {},
   "outputs": [],
   "source": [
    "df_main.to_csv('381_Trabalho.csv')"
   ]
  }
 ],
 "metadata": {
  "kernelspec": {
   "display_name": "Python 3",
   "language": "python",
   "name": "python3"
  },
  "language_info": {
   "codemirror_mode": {
    "name": "ipython",
    "version": 3
   },
   "file_extension": ".py",
   "mimetype": "text/x-python",
   "name": "python",
   "nbconvert_exporter": "python",
   "pygments_lexer": "ipython3",
   "version": "3.8.3"
  }
 },
 "nbformat": 4,
 "nbformat_minor": 2
}
