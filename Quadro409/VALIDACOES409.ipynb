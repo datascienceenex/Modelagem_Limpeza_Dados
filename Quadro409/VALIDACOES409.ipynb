{
 "cells": [
  {
   "cell_type": "markdown",
   "metadata": {},
   "source": [
    "# Implanatação de algumas Bibliotacas"
   ]
  },
  {
   "cell_type": "code",
   "execution_count": null,
   "metadata": {},
   "outputs": [],
   "source": [
    "import csv\n",
    "import numpy as np\n",
    "import pandas as pd\n",
    "import sys\n",
    "from tkinter import Tk\n",
    "from tkinter import filedialog\n",
    "from datetime import date, datetime, timedelta\n",
    "#import os\n",
    "#from ciso8601 import parse_datetime"
   ]
  },
  {
   "cell_type": "markdown",
   "metadata": {},
   "source": [
    "# Criando variaveis para os arquivos permitidos"
   ]
  },
  {
   "cell_type": "code",
   "execution_count": null,
   "metadata": {},
   "outputs": [],
   "source": [
    "p_cmpid13  = pd.read_excel('PQ409.xlsx')      ### leitura do arquivo com os sinais dos cpmids do quadro 409\n",
    "param13    = pd.read_excel('LQ409.xlsx')      ### leitura do arquivo com o layout atualizado do quadro 409"
   ]
  },
  {
   "cell_type": "code",
   "execution_count": null,
   "metadata": {},
   "outputs": [],
   "source": [
    "control  = 0                                              ### controle de backup    \n",
    "p_cmpid13['cmpid'] = p_cmpid13.cmpid.astype(str)            ### transforma o campo cmpid - QE 409 - do arq auxiliar para string"
   ]
  },
  {
   "cell_type": "code",
   "execution_count": null,
   "metadata": {},
   "outputs": [],
   "source": [
    "## FUNÇÃO PARA SELEÇÃO DO ARQUIVO\n",
    "\n",
    "class qe_s:\n",
    "\n",
    "    def __init__(self):\n",
    "        self.df = {nome[s]: [] for s in range(nome.shape[0])}\n",
    "  \n",
    "    def make_df(self):\n",
    "        lines = []\n",
    "        root = Tk()\n",
    "        root.attributes(\"-topmost\", True)\n",
    "        root.withdraw()\n",
    "        for file in filedialog.askopenfilenames(filetypes=[(\"Arquivos de Text\", \"*.txt\")]):\n",
    "            for line in open(file, encoding=\"utf-8\"):\n",
    "                line = line.replace(\",\",\".\").strip()\n",
    "                for x in range(nome.shape[0]):\n",
    "                    self.df[nome[x]].append(line[i[x]:j[x]])\n",
    "                    \n",
    "        return pd.DataFrame(self.df)"
   ]
  },
  {
   "cell_type": "code",
   "execution_count": null,
   "metadata": {
    "scrolled": true
   },
   "outputs": [],
   "source": [
    "nome     = param13.Campo                      ### guarda os nomes das colunas existentes no quadro 409\n",
    "i        = param13.Ind_inf                    ### guarda a posição no arquivo que inicia um determinado campo\n",
    "j        = param13.Ind_sup                    ### guarda a posição no arquivo que termina um determinado campo\n",
    "\n",
    "quadro = qe_s()       \n",
    "df_main = quadro.make_df()\n",
    "df_main\n",
    "\n",
    "## SELECINE O(S) ARQUIVO(S) DESEJADO(S)"
   ]
  },
  {
   "cell_type": "code",
   "execution_count": null,
   "metadata": {},
   "outputs": [],
   "source": [
    "###################################\n",
    "###Importacao do Quadro409.xlsx ###\n",
    "####que serão usados para fins#####\n",
    "######### de comparação ###########\n",
    "###################################\n",
    "\n",
    "#Pasta ENTCODIGO\n",
    "arq_entcod = pd.read_excel('Quadro409.xlsx','Cod_SUSEP',fileEncoding = \"UTF-8\",encoding = 'latin_1', dtype=str)\n",
    "\n",
    "#Pasta MRFMESANO\n",
    "arq_mrfmesano = pd.read_excel('Quadro409.xlsx','MRFMESANO',fileEncoding = \"UTF-8\",encoding = 'latin_1', dtype=str)\n",
    "\n",
    "#Pasta RAMCODIGO\n",
    "arq_ramcod = pd.read_excel('Quadro409.xlsx','RAMCODIGO',fileEncoding = \"UTF-8\",encoding = 'latin_1', dtype=str)\n",
    "\n",
    "#Pasta TPMORESSID\n",
    "arq_tpmoressid = pd.read_excel('Quadro409.xlsx','TPMORESSID',fileEncoding = \"UTF-8\",encoding = 'latin_1', dtype=str)\n",
    "\n",
    "#Pasta MPRTIPOCONT\n",
    "arq_mprtipocont = pd.read_excel('Quadro409.xlsx','MPRTIPOCONT',fileEncoding = \"UTF-8\",encoding = 'latin_1', dtype=str)\n",
    "\n",
    "#Pasta MPRMODCONT\n",
    "arq_mprmodcont = pd.read_excel('Quadro409.xlsx','MPRMODCONT',fileEncoding = \"UTF-8\",encoding = 'latin_1', dtype=str)\n",
    "\n",
    "#Pasta MPRBASEIND\n",
    "arq_mprbaseind = pd.read_excel('Quadro409.xlsx','MPRBASEIND',fileEncoding = \"UTF-8\",encoding = 'latin_1', dtype=str)\n",
    "\n",
    "#Pasta MPRMOEDA\n",
    "arq_mprmoeda = pd.read_excel('Quadro409.xlsx','MPRMOEDA',fileEncoding = \"UTF-8\",encoding = 'latin_1', dtype=str)"
   ]
  },
  {
   "cell_type": "code",
   "execution_count": null,
   "metadata": {},
   "outputs": [],
   "source": [
    "# Criando uma lista para guardar todas as criticas impeditivas\n",
    "criticas_impeditivas = []\n",
    "criticas = []"
   ]
  },
  {
   "cell_type": "markdown",
   "metadata": {},
   "source": [
    "# Criticas (Validacoes)"
   ]
  },
  {
   "cell_type": "code",
   "execution_count": null,
   "metadata": {},
   "outputs": [],
   "source": [
    "#8048.2 Verifica o tamanho padrão da linha (deve conter 172 caracteres)\n",
    "tamanho = 0\n",
    "for i in range(0,df_main.shape[0]):                    #Passando por cada linha\n",
    "    for iten in df_main.columns:                       #Passando por cada coluna\n",
    "        tamanho = tamanho + len(df_main[iten][i])      #Contando Caracteres por linha\n",
    "    if tamanho != 172:\n",
    "        print('Erro na linha ',i,' o número de caracteres é de: ',tamanho)\n",
    "        critica8048_2 = (\"Critica 8048.2, Erro na linha \",i,\" o número de caracteres é de: \",tamanho)\n",
    "        criticas_impeditivas.append(critica8048_2)\n",
    "    tamanho = 0"
   ]
  },
  {
   "cell_type": "code",
   "execution_count": null,
   "metadata": {},
   "outputs": [],
   "source": [
    "#8048.3 Verifica se o campo sequencial MPRSEQ é uma sequência válida, que se inicia em 0000001\n",
    "array3 = df_main['MPRSEQ']\n",
    "x = list(array3)                                     ##Dados do arquivo\n",
    "arrayteste = x[:]\n",
    "arrayteste.sort()                                    ##Dados sequenciados\n",
    "if (arrayteste == x):                                ##Comparando\n",
    "    print('Tudo certo, esta de forma sequencial.')\n",
    "else: \n",
    "    print('ERRO!!!, Não prossiga.')\n",
    "    critica8048_3 = str('Critica 8048.3, Não temos uma sequencia valida na coluna MPRSEQ')\n",
    "    criticas_impeditivas.append(critica8048_3)"
   ]
  },
  {
   "cell_type": "code",
   "execution_count": null,
   "metadata": {},
   "outputs": [],
   "source": [
    "#8048.4 Verifica se o campo ENTCODIGO corresponde à sociedade que está enviando o FIP/SUSEP\n",
    "entcod = set(arq_entcod['Cod_SUSEP'].astype('str'))                   #Escolhendo a coluna do arquivo modelo\n",
    "dadosentcod = set(df_main['ENTCODIGO'])                               #Escolhendo a coluna dos dados\n",
    "for itemtentcod in dadosentcod: \n",
    "    if itemtentcod not in entcod:\n",
    "        print('ERRO!! ENTCODIGO não corresponde a uma operação valida', itemtentcod)\n",
    "        critica8048_4 = ('Critica 8048.4, ENTCODIGO não corresponde a uma operação valida', itemtentcod)\n",
    "        criticas_impeditivas.append(critica8048_4)\n",
    "    else:\n",
    "        print('ENTCODIGO corresponde a um tipo de operação válida.', itemtentcod)\n",
    "        continue"
   ]
  },
  {
   "cell_type": "code",
   "execution_count": null,
   "metadata": {},
   "outputs": [],
   "source": [
    "#8048.5 Verifica se o campo MRFMESANO corresponde a um ano e mês válidos\n",
    "try:\n",
    "    mr = (df_main['MRFMESANO'] + '01')\n",
    "    mr = pd.to_datetime(mr)\n",
    "    print(mr)\n",
    "except ValueError:\n",
    "    print('ERROOO!! MRFMESANO corresponde a um ano e mês válidos')\n",
    "    critica8048_5 = ('Critica 8048.5, MRFMESANO corresponde a um ano e mês válidos')\n",
    "    criticas_impeditivas.append(critica8048_5)"
   ]
  },
  {
   "cell_type": "code",
   "execution_count": null,
   "metadata": {},
   "outputs": [],
   "source": [
    "#8048.6 Verifica se o campo TPMORESSID corresponde a um tipo de movimento válido (conforme tabela 'TiposMovimentosResseguros' do FIPSUSEP) \n",
    "tpmoressid = set(arq_tpmoressid['TPMORESSID'].astype('int64'))                 #Escolhendo a coluna do arquivo modelo\n",
    "dadostpmoressid = set(df_main['TPMORESSID'].astype('int64'))                                 #Escolhendo a coluna dos dados\n",
    "for itemtpmoressid in dadostpmoressid: \n",
    "    if itemtpmoressid not in tpmoressid:\n",
    "        print('ERRO!! TPMORESSID não corresponde a um tipo de movimento válido (conforme tabela TiposMovimentosResseguros do FIPSUSEP)', itemtpmoressid)\n",
    "        critica8048_6 = ('Critica 8048.6, TPMORESSID não corresponde a um tipo de movimento válido (conforme tabela TiposMovimentosResseguros do FIPSUSEP)', itemtpmoressid)\n",
    "        criticas_impeditivas.append(critica8048_6)\n",
    "    else:\n",
    "        print('TPMORESSID corresponde a um tipo de movimento válido (conforme tabela TiposMovimentosResseguros do FIPSUSEP)', itemtpmoressid)\n",
    "        continue"
   ]
  },
  {
   "cell_type": "code",
   "execution_count": null,
   "metadata": {},
   "outputs": [],
   "source": [
    "#8048.7 Verifica se o campo GRACODIGO corresponde a um grupo de ramos válido operado pelo ressegurador \n",
    "ramcod = set(arq_ramcod['graCodigo'].astype('str'))                 #Escolhendo a coluna do arquivo modelo\n",
    "dadosramcod = set(df_main['GRACODIGO'])                                 #Escolhendo a coluna dos dados\n",
    "for itemramcod in dadosramcod: \n",
    "    if itemramcod not in ramcod:\n",
    "        print('ERRO!! GRACODIGO não corresponde a um grupo de ramos válido operado pelo ressegurador', itemramcod)\n",
    "        critica8048_7 = ('Critica 8048.7, GRACODIGO não corresponde a um grupo de ramos válido operado pelo ressegurador', itemramcod)\n",
    "        criticas_impeditivas.append(critica8048_7)\n",
    "    else:\n",
    "        print('GRACODIGO corresponde a um grupo de ramos válido operado pelo ressegurador', itemramcod)\n",
    "        continue"
   ]
  },
  {
   "cell_type": "code",
   "execution_count": null,
   "metadata": {},
   "outputs": [],
   "source": [
    "#8048.9 Verifica se o campo MPRTIPOCONT foi preenchido com um tipo de contrato válido\n",
    "mprtipocont = set(arq_mprtipocont['MPRTIPOCONT'].astype('str'))                 #Escolhendo a coluna do arquivo modelo\n",
    "dadosmprtipocont = set(df_main['MPRTIPOCONT'])                                 #Escolhendo a coluna dos dados\n",
    "for itemmprtipocont in dadosmprtipocont: \n",
    "    if itemmprtipocont not in mprtipocont:\n",
    "        print('ERRO!! MPRTIPOCONT não foi preenchido com um tipo de contrato válido', itemmprtipocont)\n",
    "        critica8048_9 = ('Critica 8048.9, MPRTIPOCONT não foi preenchido com um tipo de contrato válido', itemmprtipocont)\n",
    "        criticas_impeditivas.append(critica8048_9)\n",
    "    else:\n",
    "        print('MPRTIPOCONT foi preenchido com um tipo de contrato válido', itemmprtipocont)\n",
    "        continue"
   ]
  },
  {
   "cell_type": "code",
   "execution_count": null,
   "metadata": {},
   "outputs": [],
   "source": [
    "#8048.10 Verifica se o campo MPRMODCONT foi preenchido com uma modalidade de contrato válida, exceto nos casos em que o tipo de contrato seja ‘Facultativo’, quando o campo deve ser preenchido com ‘99’ \n",
    "mprmodcont = set(arq_mprmodcont['MPRMODCONT'].astype('int64'))                 #Escolhendo a coluna do arquivo modelo\n",
    "dadosmprmodcont = set(df_main['MPRMODCONT'].astype('int64'))                                 #Escolhendo a coluna dos dados\n",
    "for itemmprmodcont in dadosmprmodcont: \n",
    "    if itemmprmodcont not in mprmodcont:\n",
    "        print('ERRO!! MPRMODCONT não foi preenchido com uma modalidade de contrato válido', itemmprmodcont)\n",
    "        critica8048_10 = ('Critica 8048.10, MPRMODCONT não foi preenchido com uma modalidade de contrato válido', itemmprmodcont)\n",
    "        criticas_impeditivas.append(critica8048_10)\n",
    "    else:\n",
    "        print('MPRMODCONT foi preenchido com uma modalidade de contrato válido', itemmprmodcont)\n",
    "        continue"
   ]
  },
  {
   "cell_type": "code",
   "execution_count": null,
   "metadata": {},
   "outputs": [],
   "source": [
    "#8048.11 Para o tipo de contrato 'Facultativo', verifica se o tipo de movimento é 'Emissão de Prêmio Efetivo'35 ou 'Endosso de Prêmio Efetivo'36 ou 'Restituição de Prêmio Efetivo'37 ou 'Cancelamento de Prêmio Efetivo'38 ou 'Informação sem Movimentação de Prêmio'45 \n",
    "mask11_tipocont = (df_main['MPRTIPOCONT'] == '2')\n",
    "mask11_tpmoresid = ((df_main['TPMORESSID'] != '035') & (df_main['TPMORESSID'] != '036') & (df_main['TPMORESSID'] != '037') & (df_main['TPMORESSID'] != '038') & (df_main['TPMORESSID'] != '045'))\n",
    "mask11 = (mask11_tipocont) & (mask11_tpmoresid)\n",
    "df11 = df_main.loc[mask11]\n",
    "if len(df11) > 0:\n",
    "    df11.loc[:,'ID da Critica'] = ('CRITICA 8048.11')\n",
    "df11"
   ]
  },
  {
   "cell_type": "code",
   "execution_count": null,
   "metadata": {},
   "outputs": [],
   "source": [
    "#8048.12 Para o tipo de contrato 'Automático' e para as modalidades de contrato 'Proporcional', verifica se o tipo de movimento é 'Emissão de Prêmio Efetivo' ou 'Endosso de Prêmio Efetivo' ou 'Restituição de Prêmio Efetivo' ou 'Cancelamento de Prêmio Efetivo' ou 'Ajuste de Prêmio Efetivo' ou 'Emissão de Prêmio Estimado' ou 'Alteração de Prêmio Estimado' ou 'Cancelamento de Prêmio Estimado' ou 'Ajuste de Prêmio Estimado' ou 'Informação sem Movimentação de Prêmio' \n",
    "mask12_tipocont = ((df_main['MPRTIPOCONT'] == '1') & ((df_main['MPRMODCONT'] == '01')|(df_main['MPRMODCONT'] == '02')))\n",
    "mask12_tpmoresid = (df_main['TPMORESSID'] == '044')\n",
    "mask12 = (mask12_tipocont) & (mask12_tpmoresid)\n",
    "df12 = df_main.loc[mask12]\n",
    "if len(df12) > 0:\n",
    "    df12.loc[:,'ID da Critica'] = ('CRITICA 8048.12')\n",
    "df12"
   ]
  },
  {
   "cell_type": "code",
   "execution_count": null,
   "metadata": {},
   "outputs": [],
   "source": [
    "#8048.13 Para o tipo de contrato 'Automático' e para as modalidades de contrato 'Não Proporcional' e 'Clash', verifica se o tipo de movimento é 'Emissão de Prêmio Efetivo' ou 'Endosso de Prêmio Efetivo' ou 'Restituição de Prêmio Efetivo' ou 'Cancelamento de Prêmio Efetivo' ou ' Ajuste de Prêmio Efetivo' ou 'Prêmio de Reintegração' ou 'Informação sem Movimentação de Prêmio' \n",
    "mask13_tipocont = ((df_main['MPRTIPOCONT'] == '1') & ((df_main['MPRMODCONT'] == '03')|(df_main['MPRMODCONT'] == '04')|(df_main['MPRMODCONT'] == '05')|(df_main['MPRMODCONT'] == '06')))\n",
    "mask13_tpmoresid = ((df_main['TPMORESSID'] == '035') & (df_main['TPMORESSID'] == '036') & (df_main['TPMORESSID'] == '037') & (df_main['TPMORESSID'] == '038'))\n",
    "mask13 = (mask13_tipocont) & (mask13_tpmoresid)\n",
    "df13 = df_main.loc[mask13]\n",
    "if len(df13) > 0:\n",
    "    df13.loc[:,'ID da Critica'] = ('CRITICA 8048.13')\n",
    "df13"
   ]
  },
  {
   "cell_type": "code",
   "execution_count": null,
   "metadata": {},
   "outputs": [],
   "source": [
    "#8048.14 Verifica se os campos MPRDATACEITE, MPRDATAINICIO, MPRDATAFIM e MPRDATAEMISS correspondem a uma data válida \n",
    "\n",
    "#####################################################\n",
    "##Readicionando as colunas de Data de str para date##\n",
    "#####################################################\n",
    "\n",
    "df_main.loc[:,'DTMPRDATACEITE'] = df_main['MPRDATACEITE'].astype('datetime64')\n",
    "df_main.loc[:,'DTMPRDATAINICIO'] = df_main['MPRDATAINICIO'].astype('datetime64')\n",
    "df_main.loc[:,'DTMPRDATAFIM'] = df_main['MPRDATAFIM'].astype('datetime64')\n",
    "df_main.loc[:,'DTMPRDATAEMISS'] = df_main['MPRDATAEMISS'].astype('datetime64')"
   ]
  },
  {
   "cell_type": "code",
   "execution_count": null,
   "metadata": {},
   "outputs": [],
   "source": [
    "#8048.15 Verifica se o campo MPRDATACONTR foi preenchido com uma data válida ou com '99999999'\n",
    "mask15 = set(df_main['MPRDATACONTR'])\n",
    "for item15 in mask15:\n",
    "    try:\n",
    "        x = pd.to_datetime(item15)\n",
    "        print('Valida ',x)\n",
    "    except ValueError:\n",
    "        if item15 == '99999999':\n",
    "            print(\"Valida Campo preenchido com \",item15)\n",
    "        else:\n",
    "            print(\"ERROO!!! Campo preenchido com \",item15)\n",
    "            critica8048_15 = ('Critica 8048.15, MPRDATACONTR não correspondem a uma data válida', item15)\n",
    "            criticas_impeditivas.append(critica8048_15)"
   ]
  },
  {
   "cell_type": "code",
   "execution_count": null,
   "metadata": {
    "scrolled": true
   },
   "outputs": [],
   "source": [
    "#8048.16 Verifica se o valor dos campos MPRVALORMOV, MPRVALORMOVCOMISS, MPRVALORMOVCORRET e MPRTAXACONV é float \n",
    "\n",
    "###########################################\n",
    "##Readicionando as colunas str para float##\n",
    "###########################################\n",
    "\n",
    "df_main.loc[:,'fMPRVALORMOV'] = df_main['MPRVALORMOV'].astype('float64')\n",
    "df_main.loc[:,'fMPRVALORMOVCOMIS'] = df_main['MPRVALORMOVCOMIS'].astype('float64')\n",
    "df_main.loc[:,'fMPRVALORMOVCORRET'] = df_main['MPRVALORMOVCORRET'].astype('float64')\n",
    "df_main.loc[:,'fMPRTAXACONV'] = df_main['MPRTAXACONV'].astype('float64')\n",
    "\n",
    "#Adicionado colunas MPAVALORMOV, MPAVALORMOVCOMIS, MPAVALORMOVCORRET e MPATAXACONV no tipo Float"
   ]
  },
  {
   "cell_type": "code",
   "execution_count": null,
   "metadata": {},
   "outputs": [],
   "source": [
    "#8048.17 Verifica se o campo MPRPERCRISCO corresponde a um valor entre '000,01' e '100,00' \n",
    "mask17 = ((df_main['MPRPERCRISCO'].astype('float64')) > 100.00) | ((df_main['MPRPERCRISCO'].astype('float64')) < 0.01)\n",
    "df17 = df_main.loc[mask17]\n",
    "if len(df17) > 0:\n",
    "    df17.loc[:,'ID da Critica'] = ('CRITICA 8048.17')\n",
    "df17"
   ]
  },
  {
   "cell_type": "code",
   "execution_count": null,
   "metadata": {},
   "outputs": [],
   "source": [
    "#8048.18 Verifica se o campo MPRCODCORRET corresponde a um código de corretora de resseguro válido  ou '99999' \n",
    "mask18 = (((df_main['MPRCODCORRET'].astype('int64')) > 79999) | ((df_main['MPRCODCORRET'].astype('int64')) < 70000)) & ((df_main['MPRCODCORRET'].astype('int64')) != 99999)\n",
    "df18 = df_main.loc[mask18]\n",
    "if len(df18) > 0:\n",
    "    df18.loc[:,'ID da Critica'] = ('CRITICA 8048.18')\n",
    "df18"
   ]
  },
  {
   "cell_type": "code",
   "execution_count": null,
   "metadata": {},
   "outputs": [],
   "source": [
    "#8048.19 Verifica se o campo MPRVIGMED corresponde a um valor entre '01' e '99' \n",
    "mask19 = ((df_main['MPRVIGMED'].astype('int64')) > 99) | ((df_main['MPRVIGMED'].astype('int64')) < 1)\n",
    "df19 = df_main.loc[mask19]\n",
    "if len(df19) > 0:\n",
    "    df19.loc[:,'ID da Critica'] = ('CRITICA 8048.19')\n",
    "df19"
   ]
  },
  {
   "cell_type": "code",
   "execution_count": null,
   "metadata": {},
   "outputs": [],
   "source": [
    "#8048.20 Verifica se o campo MPRBASEIND foi preenchido com uma base indenitária válida \n",
    "mprbaseind = set(arq_mprbaseind['MPRBASEIND'].astype('int64'))                 #Escolhendo a coluna do arquivo modelo\n",
    "dadosmprbaseind = set(df_main['MPRBASEIND'].astype('int64'))                                 #Escolhendo a coluna dos dados\n",
    "for itemmprbaseind in dadosmprbaseind: \n",
    "    if itemmprbaseind not in mprbaseind:\n",
    "        print('ERRO!! MPRBASEIND não foi preenchido com uma base indenitária válida', itemmprbaseind)\n",
    "        critica8047_21 = ('Critica 8048.20, MPRBASEIND não foi preenchido com uma base indenitária válida', itemmprbaseind)\n",
    "        criticas_impeditivas.append(critica8047_21)\n",
    "    else:\n",
    "        print('MPRBASEIND foi preenchido com uma base indenitária válida', itemmprbaseind)\n",
    "        continue"
   ]
  },
  {
   "cell_type": "code",
   "execution_count": null,
   "metadata": {},
   "outputs": [],
   "source": [
    "#8048.21 Verifica se o campo MPRMOEDA foi preenchido com uma moeda válida \n",
    "mprmoeda = set(arq_mprmoeda['Código'].astype('int64'))                 #Escolhendo a coluna do arquivo modelo\n",
    "dadosmprmoeda = set(df_main['MPRMOEDA'].astype('int64'))                                 #Escolhendo a coluna dos dados\n",
    "for itemmprmoeda in dadosmprmoeda: \n",
    "    if itemmprmoeda not in mprmoeda:\n",
    "        print('ERRO!! MPRMOEDA não foi preenchido com uma moeda válida', itemmprmoeda)\n",
    "        critica8048_21 = ('Critica 8048.21, MPRMOEDA não foi preenchido com uma moeda válida', itemmprmoeda)\n",
    "        criticas_impeditivas.append(critica8048_21)\n",
    "    else:\n",
    "        print('MPRMOEDA foi preenchido com uma moeda válida', itemmprmoeda)\n",
    "        continue"
   ]
  },
  {
   "cell_type": "code",
   "execution_count": null,
   "metadata": {},
   "outputs": [],
   "source": [
    "criticas_impeditivas  #Lista das criticas impeditivas"
   ]
  },
  {
   "cell_type": "code",
   "execution_count": null,
   "metadata": {},
   "outputs": [],
   "source": [
    "df_criticas_i = pd.DataFrame(criticas_impeditivas)     #criacao do DataFrame das criticas impeditivas\n",
    "df_criticas_i = df_criticas_i.rename(columns={0:'Descrição'})\n",
    "df_criticas_i"
   ]
  },
  {
   "cell_type": "code",
   "execution_count": null,
   "metadata": {},
   "outputs": [],
   "source": [
    "df_criticas_i2 = pd.concat([df11,df12,df13,df17,df18,df19])\n",
    "df_criticas_i2"
   ]
  },
  {
   "cell_type": "code",
   "execution_count": null,
   "metadata": {},
   "outputs": [],
   "source": [
    "if criticas_impeditivas == []:                             # Verificando se a lista de criticas esta vazia\n",
    "    print('Nenhuma Critica Impeditiva encontrada no Quadro 409')\n",
    "else:\n",
    "    print('Foi encontrada uma ou mais Criticas Impeditivas no Quadro 409')\n",
    "    df_criticas_i.to_csv('Criticas_Impeditivas_409.csv')   # Gerando csv das criticas impeditivas"
   ]
  },
  {
   "cell_type": "code",
   "execution_count": null,
   "metadata": {},
   "outputs": [],
   "source": [
    "if len(df_criticas_i2) == 0:                             # Verificando se o DataFrame de criticas esta vazia\n",
    "    print('Nenhuma Critica Impeditiva encontrada no Quadro 409')\n",
    "else:\n",
    "    print('Foi encontrada uma ou mais Criticas Impeditivas no Quadro 409')\n",
    "    df_criticas_i2.to_csv('Criticas_Impeditivas2_409.csv')   # Gerando csv das criticas impeditivas"
   ]
  },
  {
   "cell_type": "markdown",
   "metadata": {},
   "source": [
    "# Criticas (Validacoes) Não Impeditivas"
   ]
  },
  {
   "cell_type": "code",
   "execution_count": null,
   "metadata": {},
   "outputs": [],
   "source": [
    "#8048.8 Verifica se o campo MPRCODCESS corresponde a um código de sociedade válido\n",
    "df_mains = df_main.copy()\n",
    "df_mains['MPRCODCESS'] = df_mains['MPRCODCESS12'].astype('int64')\n",
    "mask8 = ((df_mains['MPRCODCESS'].values < 1) & (df_mains['MPRCODCESS'].values > 19999)) | ((df_mains['MPRCODCESS'].values < 30000) & (df_mains['MPRCODCESS'].values > 59999))\n",
    "df8 = df_main.loc[mask8]\n",
    "if len(df8) > 0:\n",
    "    df8.loc[:,'ID da Critica'] = ('CRITICA 8048.8')\n",
    "df8"
   ]
  },
  {
   "cell_type": "code",
   "execution_count": null,
   "metadata": {},
   "outputs": [],
   "source": [
    "#8048.22 Verifica se o valor do campo MPRVALORMOV é maior do que zero, exceto para os tipos de movimento 'Repasse de Ajuste de Prêmio - Prêmio Efetivo'39 ou 'Repasse de Ajuste de Prêmio - Prêmio Estimado'43 ou 'Alteração de Prêmio Estimado'41, quando o campo também pode assumir valor negativo, e para o tipo de movimento 'Informação sem Movimentação de Prêmio'45, quando o campo deve ser igual a zero. Quando o campo MPRVALORMOVCORRET for diferente de zero e o campo MPRVALORMOV for igual a zero, a regra não se aplica. \n",
    "mask22_1 = ((df_main['fMPRVALORMOV'] <= 0.0) & ((df_main['TPMORESSID'] != '039') & (df_main['TPMORESSID'] != '041') & (df_main['TPMORESSID'] != '043')  & (df_main['TPMORESSID'] != '045'))) & ((df_main['fMPRVALORMOVCORRET'] == 0.0) & (df_main['fMPRVALORMOV'] != 0.0))\n",
    "df22_1 = df_main.loc[mask22_1]\n",
    "if len(df22_1) > 0:\n",
    "    df22_1.loc[:,'ID da Critica'] = ('CRITICA 8048.22')\n",
    "df22_1"
   ]
  },
  {
   "cell_type": "code",
   "execution_count": null,
   "metadata": {},
   "outputs": [],
   "source": [
    "mask22_2 = (df_main['fMPRVALORMOV'] != 0.0) & (df_main['TPMORESSID'] == '045')\n",
    "df22_2 = df_main.loc[mask22_2]\n",
    "if len(df22_2) > 0:\n",
    "    df22_2.loc[:,'ID da Critica'] = ('CRITICA 8048.22')\n",
    "df22_2"
   ]
  },
  {
   "cell_type": "code",
   "execution_count": null,
   "metadata": {},
   "outputs": [],
   "source": [
    "#8048.23 Verifica se o valor do campo MPRVALORMOVCOMIS é maior ou igual a zero, exceto para o tipo de movimento ‘Prêmio de Reintegração’44 e 'Informação sem Movimentação de Prêmio'45 e para as modalidades de contrato 'Não Proporcional' e 'Clash', quando o valor do campo deve ser igual a zero; e para o tipo 'Ajuste de Prêmio Efetivo'39 ou 'Alteração de Prêmio Estimado'41 ou 'Repasse de Ajuste de Prêmio Estimado'43, quando o valor do campo pode assumir tanto valores positivos quanto valores negativos ou iguais a zero. \n",
    "mask23_1 = ((df_main['MPRVALORMOVCOMIS'].astype('float64')) < 0.0) & ((df_main['TPMORESSID'] != '039') & (df_main['TPMORESSID'] != '041') & (df_main['TPMORESSID'] != '043')) \n",
    "df23_1 = df_main.loc[mask23_1]\n",
    "if len(df23_1) > 0:\n",
    "    df23_1.loc[:,'ID da Critica'] = ('CRITICA 8048.23')\n",
    "df23_1"
   ]
  },
  {
   "cell_type": "code",
   "execution_count": null,
   "metadata": {},
   "outputs": [],
   "source": [
    "mask23_2 = ((df_main['MPRVALORMOVCOMIS'].astype('float64')) != 0.0) & ((df_main['TPMORESSID'] == '044') | (df_main['TPMORESSID'] == '045') | (df_main['MPRMODCONT'] == '03') | (df_main['MPRMODCONT'] == '04') | (df_main['MPRMODCONT'] == '05') | (df_main['MPRMODCONT'] == '06'))\n",
    "df23_2 = df_main.loc[mask23_2]\n",
    "if len(df23_2) > 0:\n",
    "    df23_2.loc[:,'ID da Critica'] = ('CRITICA 8048.23')\n",
    "df23_2"
   ]
  },
  {
   "cell_type": "code",
   "execution_count": null,
   "metadata": {},
   "outputs": [],
   "source": [
    "#8048.25 Verifica para qualquer tipo de movimento, exceto pelo tipo de movimento ‘Informação sem Movimentação de Prêmio’, quando a modalidade do contrato for não proporcional, clash ou facultativo, se o mês e ano da data do campo MPRDATAEMISS é igual ao mês e ano da data do campo MRFMESANO.\n",
    "mask25_rel = (df_main['TPMORESSID'] != '045') & (((df_main['MPRMODCONT'] == '99')|(df_main['MPRMODCONT'] == '06')|(df_main['MPRMODCONT'] == '03')|(df_main['MPRMODCONT'] == '04')|(df_main['MPRMODCONT'] == '05')))\n",
    "maskmr = mr.dt.strftime(\"%Y-%m\")\n",
    "maskdtemi = (df_main['MPRDATAEMISS'].astype('datetime64')).dt.strftime(\"%Y-%m\")\n",
    "\n",
    "mask25 = ((maskmr != maskdtemi)) & (mask25_rel)\n",
    "df25 = df_main.loc[mask25]\n",
    "if len(df25) > 0:\n",
    "    df25.loc[:,'ID da Critica'] = ('CRITICA 8048.25')\n",
    "df25"
   ]
  },
  {
   "cell_type": "code",
   "execution_count": null,
   "metadata": {},
   "outputs": [],
   "source": [
    "#8048.26 Verifica se a data de formalização do contrato (campo MPRDATACONTR) não ultrapassou 270 dias da data de início de vigência da cobertura (campo MPRDATAINICIO)\n",
    "mask26_1 = (df_main['MPRDATACONTR'] != '99999999')\n",
    "df26_1 =  df_main.loc[mask26_1]\n",
    "for item26_1 in (df26_1['MPRDATACONTR']):\n",
    "    try:\n",
    "        v1 = pd.to_datetime(item26_1)\n",
    "        print('Valida ',v1)\n",
    "    except ValueError:\n",
    "        if item26_1 == '99999999':\n",
    "            print(\"Valida Campo preenchido com \",item26_1)\n",
    "        else:\n",
    "            print(\"Campo preenchido com \",item26_1)\n",
    "            critica8048_26 = ('Critica 8048.26, MPRDATACONTR não correspondem a uma data válida', item26_1)\n",
    "            criticas_impeditivas.append(critica8048_26)"
   ]
  },
  {
   "cell_type": "code",
   "execution_count": null,
   "metadata": {},
   "outputs": [],
   "source": [
    "mask26_2 = (df_main['MPRDATAINICIO'] != '99999999')\n",
    "df26_2 =  df_main.loc[mask26_2]\n",
    "\n",
    "for item26_2 in (df26_2['MPRDATAINICIO']):\n",
    "    try:\n",
    "        v2 = pd.to_datetime(item26_2)\n",
    "        print('Valida ',v2)\n",
    "    except ValueError:\n",
    "        if item26_2 == '99999999':\n",
    "            print(\"Valida Campo preenchido com \",item26_2)\n",
    "        else:\n",
    "            print(\"Campo preenchido com \",item26_2)\n",
    "            critica8048_26 = ('Critica 8048.26, MPRDATACONTR não correspondem a uma data válida', item26_2)\n",
    "            criticas_impeditivas.append(critica8048_26)"
   ]
  },
  {
   "cell_type": "code",
   "execution_count": null,
   "metadata": {},
   "outputs": [],
   "source": [
    "comparacao = (v1 + timedelta(days = 270)) < (v2)\n",
    "if comparacao == True:\n",
    "    print('ERRO!! A diferença de dias entre a data dos campos MPRDATACONTR e MPRDATAINICIO  ultrapassou 270 dias da data de início de vigência da cobertura')\n",
    "    critica8048_26 = ('Critica 8048.26, A diferença de dias entre a data dos campos MPRDATACONTR e MPRDATAINICIO  ultrapassou 270 dias da data de início de vigência da cobertura')\n",
    "    criticas.append(critica8048_26)\n",
    "else:\n",
    "    print('A diferença de dias entre a data dos campos MPRDATACONTR e MPRDATAINICIO não ultrapassou 270 dias da data de início de vigência da cobertura.')"
   ]
  },
  {
   "cell_type": "code",
   "execution_count": null,
   "metadata": {},
   "outputs": [],
   "source": [
    "v1"
   ]
  },
  {
   "cell_type": "code",
   "execution_count": null,
   "metadata": {},
   "outputs": [],
   "source": [
    "#8048.27 Para cada grupo de ramos, compara os valores registrados no campo MPRVALORMOV com os valores informados no Quadro 02R do FIPSUSEP (tolerância: R$ 1.000,00 ou 1% do valor informado no respectivo campo do Quadro 02R, o que for menor)"
   ]
  },
  {
   "cell_type": "code",
   "execution_count": null,
   "metadata": {},
   "outputs": [],
   "source": [
    "#8048.28  Verifica se o campo MPRCODCESS não foi preenchido com '99999'\n",
    "mask28 = (df_main['MPRCODCESS12'] == '99999')\n",
    "df28 = df_main.loc[mask28]\n",
    "if len(df28) > 0:\n",
    "    df28.loc[:,'ID da Critica'] = ('CRITICA 8048.28')\n",
    "df28"
   ]
  },
  {
   "cell_type": "code",
   "execution_count": null,
   "metadata": {},
   "outputs": [],
   "source": [
    "################################################\n",
    "# Adicionando Nome do Criador do output e data #\n",
    "################################################\n",
    "\n",
    "df_main.loc[:,'Criador'] = input(\"Insira seu nome: \") ### insere a coluna com o nome do criador da tabela\n",
    "data_presente = datetime.now()\n",
    "df_main.loc[:,'Data do output'] = data_presente ### insere a coluna com a data de criacao da tabela"
   ]
  },
  {
   "cell_type": "code",
   "execution_count": null,
   "metadata": {},
   "outputs": [],
   "source": [
    "df_main"
   ]
  },
  {
   "cell_type": "code",
   "execution_count": null,
   "metadata": {},
   "outputs": [],
   "source": [
    "criticas"
   ]
  },
  {
   "cell_type": "code",
   "execution_count": null,
   "metadata": {},
   "outputs": [],
   "source": [
    "df_criticas = pd.DataFreame(criticas)\n",
    "df_criticas = df_criticas.rename(columns={0:'Descrição'})\n",
    "df_criticas"
   ]
  },
  {
   "cell_type": "code",
   "execution_count": null,
   "metadata": {},
   "outputs": [],
   "source": [
    "df_criticas_2 = pd.concat([df8,df22_1,df22_2,df23_1,df23_2,df25,df28])\n",
    "df_criticas_2"
   ]
  },
  {
   "cell_type": "code",
   "execution_count": null,
   "metadata": {},
   "outputs": [],
   "source": [
    "if criticas == []:                   # Verificando se a lista de criticas esta vazia\n",
    "    print('Nenhuma Critica NÃO Impeditiva encontrada no Quadro 409')\n",
    "else:\n",
    "    print('Foi encontrada uma ou mais Criticas NÃO Impeditivas no Quadro 409')\n",
    "    df_criticas.to_csv('Criticas_409.csv')     # Gerando csv das criticas impeditivas"
   ]
  },
  {
   "cell_type": "code",
   "execution_count": null,
   "metadata": {},
   "outputs": [],
   "source": [
    "if len(df_criticas_2) == 0:                             # Verificando se o DataFrame de criticas esta vazia\n",
    "    print('Nenhuma Critica NÃO Impeditiva encontrada no Quadro 409')\n",
    "else:\n",
    "    print('Foi encontrada uma ou mais Criticas NÃO Impeditivas no Quadro 409')\n",
    "    df_criticas_2.to_csv('Criticas_409_2.csv')         # Gerando csv das criticas impeditivas"
   ]
  },
  {
   "cell_type": "code",
   "execution_count": null,
   "metadata": {},
   "outputs": [],
   "source": [
    "df_main.to_csv('409_Trabalho.csv')"
   ]
  },
  {
   "cell_type": "markdown",
   "metadata": {},
   "source": [
    "# Teste"
   ]
  },
  {
   "cell_type": "code",
   "execution_count": null,
   "metadata": {},
   "outputs": [],
   "source": [
    "# 5\n",
    "mr = (df_main['MRFMESANO'] + '01')\n",
    "mr = pd.to_datetime(mr)\n",
    "maskmr = mr.dt.strftime(\"%Y-%m\")\n"
   ]
  },
  {
   "cell_type": "code",
   "execution_count": null,
   "metadata": {},
   "outputs": [],
   "source": [
    "x = (df_main['MRFMESANO'] + '01')\n",
    "x = pd.to_datetime(x)\n",
    "maskmr = x.dt.strftime(\"%Y-%m\")\n",
    "'''\n",
    "maskreg = df_main['DTEBIDATAREG'].dt.strftime(\"%Y-%m\")\n",
    "\n",
    "mask26_1 = ((maskmr != maskreg)) & (mask26_rel)\n",
    "df26_1 = df_main.loc[mask26_1]\n",
    "if len(df26_1) > 0:\n",
    "    df26_1.loc[:,'ID da Critica'] = ('CRITICA 7395.26')\n",
    "df26_1\n",
    "'''"
   ]
  },
  {
   "cell_type": "code",
   "execution_count": null,
   "metadata": {},
   "outputs": [],
   "source": [
    "mr = (df_main['MRFMESANO'] + '01')\n",
    "mr = pd.to_datetime(mr)\n",
    "maskmr = mr.dt.strftime(\"%Y-%m\")\n",
    "maskmr"
   ]
  },
  {
   "cell_type": "code",
   "execution_count": null,
   "metadata": {},
   "outputs": [],
   "source": [
    "try:\n",
    "    mr = (df_main['MRFMESANO'] + '01')\n",
    "    mr = pd.to_datetime(mr)\n",
    "    print(mr)\n",
    "except ValueError:\n",
    "    print('ERROOO!! MRFMESANO corresponde a um ano e mês válidos')\n",
    "    critica8048_5 = ('Critica 8048.5, MRFMESANO corresponde a um ano e mês válidos')\n",
    "    criticas_impeditivas.append(critica8048_5)"
   ]
  },
  {
   "cell_type": "code",
   "execution_count": null,
   "metadata": {},
   "outputs": [],
   "source": []
  },
  {
   "cell_type": "code",
   "execution_count": null,
   "metadata": {},
   "outputs": [],
   "source": [
    "#8048.25 Verifica para qualquer tipo de movimento, exceto pelo tipo de movimento ‘Informação sem Movimentação de Prêmio’, quando a modalidade do contrato for não proporcional, clash ou facultativo, se o mês e ano da data do campo MPRDATAEMISS é igual ao mês e ano da data do campo MRFMESANO."
   ]
  },
  {
   "cell_type": "code",
   "execution_count": null,
   "metadata": {},
   "outputs": [],
   "source": [
    "mask26_rel = (df_main['TPMORESSID'] != '045') & (((df_main['MPRMODCONT'] == '99')|(df_main['MPRMODCONT'] == '06')|(df_main['MPRMODCONT'] == '03')|(df_main['MPRMODCONT'] == '04')|(df_main['MPRMODCONT'] == '05')))\n",
    "maskmr = mr.dt.strftime(\"%Y-%m\")\n",
    "maskdtemi = (df_main['MPRDATAEMISS'].astype('datetime64')).dt.strftime(\"%Y-%m\")\n",
    "\n",
    "mask26 = ((maskmr != maskdtemi)) & (mask26_rel)\n",
    "df26 = df_main.loc[mask26]\n",
    "if len(df26) > 0:\n",
    "    df26.loc[:,'ID da Critica'] = ('CRITICA 8047.26')\n",
    "df26"
   ]
  },
  {
   "cell_type": "code",
   "execution_count": null,
   "metadata": {},
   "outputs": [],
   "source": [
    "w = df_main['MPRDATAEMISS']\n",
    "pd.to_datetime(w)"
   ]
  },
  {
   "cell_type": "code",
   "execution_count": null,
   "metadata": {},
   "outputs": [],
   "source": [
    "maskmr = mr.dt.strftime(\"%Y-%m\")\n",
    "maskdtemi = df_main['MPRDATAEMISS'].dt.strftime(\"%Y-%m\")"
   ]
  },
  {
   "cell_type": "code",
   "execution_count": null,
   "metadata": {},
   "outputs": [],
   "source": []
  },
  {
   "cell_type": "code",
   "execution_count": null,
   "metadata": {},
   "outputs": [],
   "source": []
  },
  {
   "cell_type": "code",
   "execution_count": null,
   "metadata": {},
   "outputs": [],
   "source": []
  },
  {
   "cell_type": "code",
   "execution_count": null,
   "metadata": {},
   "outputs": [],
   "source": [
    "#8048.26 Verifica se a data de formalização do contrato (campo MPRDATACONTR) não ultrapassou 270 dias da data de início de vigência da cobertura (campo MPRDATAINICIO)\n",
    "mask26_1 = ((df_main['MPRDATACONTR'] != '99999999') & (df_main['MPRDATAINICIO'] != '99999999'))\n",
    "df26_1 =  df_main.loc[mask26_1]\n",
    "df26_1['MPRDATACONTR'] = (df26_1['MPRDATACONTR'].astype('datetime64'))\n",
    "df26_1['MPRDATAINICIO'] = (df26_1['MPRDATAINICIO'].astype('datetime64'))\n",
    "mask26 = (df26_1['MPRDATACONTR'] + timedelta(days = 270)) < (df26_1['MPRDATAINICIO'])\n",
    "try:\n",
    "    df26 = df_main.loc[mask26]\n",
    "    if len(df26) > 0:\n",
    "        df26.loc[:,'ID da Critica'] = ('CRITICA 8048.26')\n",
    "    df26\n",
    "except IndexingError:\n",
    "    print('Tudo certo')"
   ]
  },
  {
   "cell_type": "code",
   "execution_count": null,
   "metadata": {},
   "outputs": [],
   "source": []
  },
  {
   "cell_type": "code",
   "execution_count": null,
   "metadata": {},
   "outputs": [],
   "source": []
  },
  {
   "cell_type": "code",
   "execution_count": null,
   "metadata": {},
   "outputs": [],
   "source": []
  },
  {
   "cell_type": "code",
   "execution_count": null,
   "metadata": {},
   "outputs": [],
   "source": []
  },
  {
   "cell_type": "code",
   "execution_count": null,
   "metadata": {},
   "outputs": [],
   "source": []
  },
  {
   "cell_type": "code",
   "execution_count": null,
   "metadata": {},
   "outputs": [],
   "source": []
  },
  {
   "cell_type": "code",
   "execution_count": null,
   "metadata": {},
   "outputs": [],
   "source": []
  }
 ],
 "metadata": {
  "kernelspec": {
   "display_name": "Python 3",
   "language": "python",
   "name": "python3"
  },
  "language_info": {
   "codemirror_mode": {
    "name": "ipython",
    "version": 3
   },
   "file_extension": ".py",
   "mimetype": "text/x-python",
   "name": "python",
   "nbconvert_exporter": "python",
   "pygments_lexer": "ipython3",
   "version": "3.8.3"
  }
 },
 "nbformat": 4,
 "nbformat_minor": 2
}
