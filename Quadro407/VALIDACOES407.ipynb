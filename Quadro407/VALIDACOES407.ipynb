{
 "cells": [
  {
   "cell_type": "markdown",
   "metadata": {},
   "source": [
    "# Implanatação de algumas Bibliotacas"
   ]
  },
  {
   "cell_type": "code",
   "execution_count": null,
   "metadata": {},
   "outputs": [],
   "source": [
    "import csv\n",
    "import numpy as np\n",
    "import pandas as pd\n",
    "import sys\n",
    "from tkinter import Tk\n",
    "from tkinter import filedialog\n",
    "from datetime import date, datetime, timedelta\n",
    "#import os\n",
    "#from ciso8601 import parse_datetime"
   ]
  },
  {
   "cell_type": "markdown",
   "metadata": {},
   "source": [
    "# Criando variaveis para os arquivos permitidos"
   ]
  },
  {
   "cell_type": "code",
   "execution_count": null,
   "metadata": {},
   "outputs": [],
   "source": [
    "param11    = pd.read_excel('LQ407.xlsx')      ### leitura do arquivo com o layout atualizado do quadro 407"
   ]
  },
  {
   "cell_type": "code",
   "execution_count": null,
   "metadata": {},
   "outputs": [],
   "source": [
    "## FUNÇÃO PARA SELEÇÃO DO ARQUIVO\n",
    "\n",
    "class qe_s:\n",
    "\n",
    "    def __init__(self):\n",
    "        self.df = {nome[s]: [] for s in range(nome.shape[0])}\n",
    "  \n",
    "    def make_df(self):\n",
    "        lines = []\n",
    "        root = Tk()\n",
    "        root.attributes(\"-topmost\", True)\n",
    "        root.withdraw()\n",
    "        for file in filedialog.askopenfilenames(filetypes=[(\"Arquivos de Text\", \"*.txt\")]):\n",
    "            for line in open(file, encoding=\"utf-8\"):\n",
    "                line = line.replace(\",\",\".\").strip()\n",
    "                for x in range(nome.shape[0]):\n",
    "                    self.df[nome[x]].append(line[i[x]:j[x]])\n",
    "                    \n",
    "        return pd.DataFrame(self.df)"
   ]
  },
  {
   "cell_type": "code",
   "execution_count": null,
   "metadata": {
    "scrolled": true
   },
   "outputs": [],
   "source": [
    "nome     = param11.Campo                      ### guarda os nomes das colunas existentes no quadro 407\n",
    "i        = param11.Ind_inf                    ### guarda a posição no arquivo que inicia um determinado campo\n",
    "j        = param11.Ind_sup                    ### guarda a posição no arquivo que termina um determinado campo\n",
    "\n",
    "quadro = qe_s()       \n",
    "df_main = quadro.make_df()\n",
    "df_main\n",
    "\n",
    "## SELECINE O(S) ARQUIVO(S) DESEJADO(S)"
   ]
  },
  {
   "cell_type": "code",
   "execution_count": null,
   "metadata": {},
   "outputs": [],
   "source": [
    "###################################\n",
    "###Importacao do Quadro407.xlsx ###\n",
    "####que serão usados para fins#####\n",
    "######### de comparação ###########\n",
    "###################################\n",
    "\n",
    "#Pasta RAMCODIGO\n",
    "arq_ramcod = pd.read_excel('Quadro407.xlsx','RAMCODIGO',fileEncoding = \"UTF-8\",encoding = 'latin_1', dtype=str)\n",
    "\n",
    "#Pasta ENTCODIGO\n",
    "arq_entcod = pd.read_excel('Quadro407.xlsx','Cod_SUSEP',fileEncoding = \"UTF-8\",encoding = 'latin_1', dtype=str)\n",
    "\n",
    "#Pasta MRFMESANO\n",
    "arq_mrfmesano = pd.read_excel('Quadro407.xlsx','MRFMESANO',fileEncoding = \"UTF-8\",encoding = 'latin_1', dtype=str)\n",
    "\n",
    "#Pasta SLRTIPOCONT\n",
    "arq_slrtipocont = pd.read_excel('Quadro407.xlsx','SLRTIPOCONT',fileEncoding = \"UTF-8\",encoding = 'latin_1', dtype=str)\n",
    "\n",
    "#Pasta SLRTIPOSIN\n",
    "arq_slrtiposin = pd.read_excel('Quadro407.xlsx','SLRTIPOSIN',fileEncoding = \"UTF-8\",encoding = 'latin_1', dtype=str)\n",
    "\n",
    "#Pasta SLRMODCONT\n",
    "arq_slrmodcont = pd.read_excel('Quadro407.xlsx','SLRMODCONT',fileEncoding = \"UTF-8\",encoding = 'latin_1', dtype=str)\n",
    "\n",
    "#Pasta SLRMOEDA\n",
    "arq_slrmoeda = pd.read_excel('Quadro407.xlsx','SLRMOEDA',fileEncoding = \"UTF-8\",encoding = 'latin_1', dtype=str)\n",
    "\n",
    "#Pasta SLRBASEIND\n",
    "arq_slrbaseind = pd.read_excel('Quadro407.xlsx','SLRBASEIND',fileEncoding = \"UTF-8\",encoding = 'latin_1', dtype=str)"
   ]
  },
  {
   "cell_type": "code",
   "execution_count": null,
   "metadata": {},
   "outputs": [],
   "source": [
    "# Criando uma lista para guardar todas as criticas impeditivas\n",
    "criticas_impeditivas = []\n",
    "criticas = []"
   ]
  },
  {
   "cell_type": "markdown",
   "metadata": {},
   "source": [
    "# Criticas (Validacoes)"
   ]
  },
  {
   "cell_type": "code",
   "execution_count": null,
   "metadata": {},
   "outputs": [],
   "source": [
    "#8046.2 Verifica o tamanho padrão da linha (deve conter 129 caracteres) \n",
    "tamanho = 0\n",
    "for i in range(0,df_main.shape[0]):                    #Passando por cada linha\n",
    "    for iten in df_main.columns:                       #Passando por cada coluna\n",
    "        tamanho = tamanho + len(df_main[iten][i])      #Contando Caracteres por linha\n",
    "    if tamanho != 129:\n",
    "        print('Erro na linha ',i,' o número de caracteres é de: ',tamanho)\n",
    "        critica8046_2 = (\"Critica 8046.2, Erro na linha \",i,\" o número de caracteres é de: \",tamanho)\n",
    "        criticas_impeditivas.append(critica8046_2)\n",
    "    tamanho = 0"
   ]
  },
  {
   "cell_type": "code",
   "execution_count": null,
   "metadata": {},
   "outputs": [],
   "source": [
    "#8046.3 Verifica se o campo sequencial SLRSEQ é uma sequência válida, que se inicia em 0000001 \n",
    "array3 = df_main['SLRSEQ']\n",
    "x = list(array3)                                     ##Dados do arquivo\n",
    "arrayteste = x[:]\n",
    "arrayteste.sort()                                    ##Dados sequenciados\n",
    "if (arrayteste == x):                                ##Comparando\n",
    "    print('Tudo certo, esta de forma sequencial.')\n",
    "else: \n",
    "    print('ERRO!!!, Não prossiga.')\n",
    "    critica8046_3 = str('Critica 8046.3, Não temos uma sequencia valida na coluna SLRSEQ')\n",
    "    criticas_impeditivas.append(critica8046_3)"
   ]
  },
  {
   "cell_type": "code",
   "execution_count": null,
   "metadata": {},
   "outputs": [],
   "source": [
    "#8046.4 Verifica se o campo ENTCODIGO corresponde à sociedade que está enviando o FIP/SUSEP \n",
    "entcod = set(arq_entcod['Cod_SUSEP'].astype('str'))                   #Escolhendo a coluna do arquivo modelo\n",
    "dadosentcod = set(df_main['ENTCODIGO'])                               #Escolhendo a coluna dos dados\n",
    "for itemtentcod in dadosentcod: \n",
    "    if itemtentcod not in entcod:\n",
    "        print('ERRO!! ENTCODIGO não corresponde a uma operação valida', itemtentcod)\n",
    "        critica8046_4 = ('Critica 8046.4, ENTCODIGO não corresponde a uma operação valida', itemtentcod)\n",
    "        criticas_impeditivas.append(critica8046_4)\n",
    "    else:\n",
    "        print('ENTCODIGO corresponde a um tipo de operação válida.', itemtentcod)\n",
    "        continue"
   ]
  },
  {
   "cell_type": "code",
   "execution_count": null,
   "metadata": {},
   "outputs": [],
   "source": [
    "#8046.5 Verifica se o campo MRFMESANO corresponde a um ano e mês válidos\n",
    "try:\n",
    "    mr = (df_main['MRFMESANO'] + '01')\n",
    "    mr = pd.to_datetime(mr)\n",
    "    print(mr)\n",
    "except ValueError:\n",
    "    print('ERROOO!! MRFMESANO corresponde a um ano e mês válidos')\n",
    "    critica8046_5 = ('Critica 8046.5, MRFMESANO corresponde a um ano e mês válidos')\n",
    "    criticas_impeditivas.append(critica8046_5)"
   ]
  },
  {
   "cell_type": "code",
   "execution_count": null,
   "metadata": {},
   "outputs": [],
   "source": [
    "#8046.6 Verifica se o campo GRACODIGO corresponde a um grupo de ramos válido operado pelo ressegurador \n",
    "ramcod = set(arq_ramcod['graCodigo'].astype('str'))                 #Escolhendo a coluna do arquivo modelo\n",
    "dadosramcod = set(df_main['GRACODIGO'])                                 #Escolhendo a coluna dos dados\n",
    "for itemramcod in dadosramcod: \n",
    "    if itemramcod not in ramcod:\n",
    "        print('ERRO!! GRACODIGO não corresponde a um grupo de ramos válido operado pelo ressegurador', itemramcod)\n",
    "        critica8046_6 = ('Critica 8046.6, GRACODIGO não corresponde a um grupo de ramos válido operado pelo ressegurador', itemramcod)\n",
    "        criticas_impeditivas.append(critica8046_6)\n",
    "    else:\n",
    "        print('GRACODIGO corresponde a um grupo de ramos válido operado pelo ressegurador', itemramcod)\n",
    "        continue"
   ]
  },
  {
   "cell_type": "code",
   "execution_count": null,
   "metadata": {},
   "outputs": [],
   "source": [
    "#8046.7 Verifica se o campo SLRTIPOCONT foi preenchido com um tipo de contrato válido\n",
    "slrtipocont = set(arq_slrtipocont['SLRTIPOCONT'].astype('str'))                 #Escolhendo a coluna do arquivo modelo\n",
    "dadosslrtipocont = set(df_main['SLRTIPOCONT'])                                 #Escolhendo a coluna dos dados\n",
    "for itemslrtipocont in dadosslrtipocont: \n",
    "    if itemslrtipocont not in slrtipocont:\n",
    "        print('ERRO!! SLRTIPOCONT não foi preenchido com um tipo de contrato válido', itemslrtipocont)\n",
    "        critica8046_7 = ('Critica 8046.7, SLRTIPOCONT não foi preenchido com um tipo de contrato válido', itemslrtipocont)\n",
    "        criticas_impeditivas.append(critica8046_7)\n",
    "    else:\n",
    "        print('SLRTIPOCONT foi preenchido com um tipo de contrato válido', itemslrtipocont)\n",
    "        continue"
   ]
  },
  {
   "cell_type": "code",
   "execution_count": null,
   "metadata": {},
   "outputs": [],
   "source": [
    "#8046.10 Verifica se o valor dos campos SLRVALORMOVPEN e SLRVALORMOVTOT é float\n",
    "\n",
    "###########################################\n",
    "##Readicionando as colunas str para float##\n",
    "###########################################\n",
    "\n",
    "df_main.loc[:,'fSLRVALORMOVPEN'] = df_main['SLRVALORMOVPEN'].astype('float64')\n",
    "df_main.loc[:,'fSLRVALORMOVTOT'] = df_main['SLRVALORMOVTOT'].astype('float64')\n",
    "\n",
    "#Adicionado colunas fSLRVALORMOVPEN e fSLRVALORMOVTOT no tipo Float"
   ]
  },
  {
   "cell_type": "code",
   "execution_count": null,
   "metadata": {},
   "outputs": [],
   "source": [
    "#8046.11 Verifica se o campo SLRTIPOSIN foi preenchido com um tipo de sinistro válido \n",
    "slrtiposin = set(arq_slrtiposin['SLRTIPOSIN'].astype('str'))                 #Escolhendo a coluna do arquivo modelo\n",
    "dadosslrtiposin = set(df_main['SLRTIPOSIN'])                                 #Escolhendo a coluna dos dados\n",
    "for itemslrtiposin in dadosslrtiposin: \n",
    "    if itemslrtiposin not in slrtiposin:\n",
    "        print('ERRO!! SLRTIPOSIN não foi preenchido com um tipo de sinistro válido', itemslrtiposin)\n",
    "        critica8046_11 = ('Critica 8046.11, SLRTIPOSIN não foi preenchido com um tipo de sinistro válido', itemslrtiposin)\n",
    "        criticas_impeditivas.append(critica8046_11)\n",
    "    else:\n",
    "        print('SLRTIPOSIN foi preenchido com um tipo de sinistro válido', itemslrtiposin)\n",
    "        continue"
   ]
  },
  {
   "cell_type": "code",
   "execution_count": null,
   "metadata": {},
   "outputs": [],
   "source": [
    "#8046.12 Verifica se o campo SLRMODCONT foi preenchido com uma modalidade de contrato válida, exceto nos casos em que o tipo de contrato seja ‘Facultativo’, quando o campo deve ser preenchido com ‘99’ \n",
    "slrmodcont = set(arq_slrmodcont['SLRMODCONT'].astype('int64'))                 #Escolhendo a coluna do arquivo modelo\n",
    "dadosdlrmodcont = set(df_main['SLRMODCONT'].astype('int64'))                                 #Escolhendo a coluna dos dados\n",
    "for itemdlrmodcont in dadosdlrmodcont: \n",
    "    if itemdlrmodcont not in slrmodcont:\n",
    "        print('ERRO!! SLRMODCONT não foi preenchido com uma modalidade de contrato válida', itemdlrmodcont)\n",
    "        critica8046_12 = ('Critica 8046.12, SLRMODCONT não foi preenchido com uma modalidade de contrato válida', itemdlrmodcont)\n",
    "        criticas_impeditivas.append(critica8046_12)\n",
    "    else:\n",
    "        print('SLRMODCONT foi preenchido com uma modalidade de contrato válida', itemdlrmodcont)\n",
    "        continue"
   ]
  },
  {
   "cell_type": "code",
   "execution_count": null,
   "metadata": {},
   "outputs": [],
   "source": [
    "#8046.13  Verifica se o campo SLRMOEDA foi preenchido com uma moeda válida\n",
    "slrmoeda = set(arq_slrmoeda['Código'].astype('str'))                 #Escolhendo a coluna do arquivo modelo\n",
    "dadosslrmoeda = set(df_main['SLRMOEDA'])                                 #Escolhendo a coluna dos dados\n",
    "for itemslrmoeda in dadosslrmoeda: \n",
    "    if itemslrmoeda not in slrmoeda:\n",
    "        print('ERRO!! SLRMOEDA não foi preenchido com uma moeda válida', itemslrmoeda)\n",
    "        critica8046_13 = ('Critica 8046.13, SLRMOEDA não foi preenchido com uma moeda válida', itemslrmoeda)\n",
    "        criticas_impeditivas.append(critica8046_13)\n",
    "    else:\n",
    "        print('SLRMOEDA foi preenchido com uma moeda válida', itemslrmoeda)\n",
    "        continue"
   ]
  },
  {
   "cell_type": "code",
   "execution_count": null,
   "metadata": {},
   "outputs": [],
   "source": [
    "#8046.14 Verifica se o campo SLRBASEIND foi preenchido com uma base indenitária válida \n",
    "slrbaseind = set(arq_slrbaseind['SLRBASEIND'].astype('str'))                 #Escolhendo a coluna do arquivo modelo\n",
    "dadosslrbaseind = set(df_main['SLRBASEIND'])                                 #Escolhendo a coluna dos dados\n",
    "for itemslrbaseind in dadosslrbaseind: \n",
    "    if itemslrbaseind not in slrbaseind:\n",
    "        print('ERRO!! SLRBASEIND não foi preenchido com uma base indenitária válida', itemslrbaseind)\n",
    "        critica8046_14 = ('Critica 8046.14, SLRBASEIND não foi preenchido com uma base indenitária válida', itemslrbaseind)\n",
    "        criticas_impeditivas.append(critica8046_14)\n",
    "    else:\n",
    "        print('SLRBASEIND foi preenchido com uma base indenitária válida', itemslrbaseind)\n",
    "        continue"
   ]
  },
  {
   "cell_type": "code",
   "execution_count": null,
   "metadata": {},
   "outputs": [],
   "source": [
    "criticas_impeditivas  #Lista das criticas impeditivas"
   ]
  },
  {
   "cell_type": "code",
   "execution_count": null,
   "metadata": {},
   "outputs": [],
   "source": [
    "df_criticas_i = pd.DataFrame(criticas_impeditivas)     #criacao do DataFrame das criticas impeditivas\n",
    "df_criticas_i = df_criticas_i.rename(columns={0:'Descrição'})\n",
    "df_criticas_i"
   ]
  },
  {
   "cell_type": "code",
   "execution_count": null,
   "metadata": {},
   "outputs": [],
   "source": [
    "if criticas_impeditivas == []:                             # Verificando se a lista de criticas esta vazia\n",
    "    print('Nenhuma Critica Impeditiva encontrada no Quadro 380')\n",
    "else:\n",
    "    print('Foi encontrada uma ou mais Criticas Impeditivas no Quadro 380')\n",
    "    df_criticas_i.to_csv('Criticas_Impeditivas_380.csv')   # Gerando csv das criticas impeditivas"
   ]
  },
  {
   "cell_type": "markdown",
   "metadata": {},
   "source": [
    "# Criticas (Validacoes) Não Impeditivas"
   ]
  },
  {
   "cell_type": "code",
   "execution_count": null,
   "metadata": {},
   "outputs": [],
   "source": [
    "#8046.8 Verifica se o campo SLRCODCESS corresponde a um código de sociedade válido\n",
    "df_mains = df_main.copy()\n",
    "df_mains['SLRCODCESS'] = df_mains['SLRCODCESS'].astype('int64')\n",
    "mask8 = ((df_mains['SLRCODCESS'].values < 1) & (df_mains['SLRCODCESS'].values > 19999)) | ((df_mains['SLRCODCESS'].values < 30000) & (df_mains['SLRCODCESS'].values > 59999))\n",
    "df8 = df_main.loc[mask8]\n",
    "if len(df8) > 0:\n",
    "    df8.loc[:,'ID da Critica'] = ('CRITICA 8046.08')\n",
    "df8"
   ]
  },
  {
   "cell_type": "code",
   "execution_count": null,
   "metadata": {},
   "outputs": [],
   "source": [
    "#8046.9 Verifica se os campos SLRDATAOCORR, SLRDATACOMUNICA e SLRDATAREG correspondem a uma data válida. Nos casos em que a modalidade do contrato seja 'Proporcional: Cota Parte' ou 'Proporcional: ER', os campos podem ser preenchidos com '99999999' \n",
    "# Campo SLRDATAOCORR\n",
    "mask9_1 = set(df_main['SLRDATAOCORR'])\n",
    "for item9_1 in mask9_1:\n",
    "    try:\n",
    "        x = pd.to_datetime(item9_1)\n",
    "        print('Valida ',x)\n",
    "    except ValueError:\n",
    "        if item9_1 == '99999999':\n",
    "            print(\"Valida Campo preenchido com \",item9_1)\n",
    "        else:\n",
    "            print(\"Campo preenchido com \",item9_1)\n",
    "            critica8046_9 = ('Critica 8046.9, SLRDATAOCORR não correspondem a uma data válida', item9_1)\n",
    "            criticas_impeditivas.append(critica8046_9)"
   ]
  },
  {
   "cell_type": "code",
   "execution_count": null,
   "metadata": {},
   "outputs": [],
   "source": [
    "# Campo SLRDATACOMUNICA\n",
    "mask9_2 = set(df_main['SLRDATACOMUNICA'])\n",
    "for item9_2 in mask9_2:\n",
    "    try:\n",
    "        x = pd.to_datetime(item9_2)\n",
    "        print('Valida ',x)\n",
    "    except ValueError:\n",
    "        if item9_2 == '99999999':\n",
    "            print(\"Valida Campo preenchido com \",item9_2)\n",
    "        else:\n",
    "            print(\"Campo preenchido com \",item9_2)\n",
    "            critica8046_9 = ('Critica 8046.9, SLRDATACOMUNICA não correspondem a uma data válida', item9_2)\n",
    "            criticas_impeditivas.append(critica8046_9)"
   ]
  },
  {
   "cell_type": "code",
   "execution_count": null,
   "metadata": {},
   "outputs": [],
   "source": [
    "# Campo SLRDATAREG\n",
    "mask9_3 = set(df_main['SLRDATAREG'])\n",
    "for item9_3 in mask9_3:\n",
    "    try:\n",
    "        x = pd.to_datetime(item9_3)\n",
    "        print('Valida ',x)\n",
    "    except ValueError:\n",
    "        if item9_2 == '99999999':\n",
    "            print(\"Valida Campo preenchido com \",item9_3)\n",
    "        else:\n",
    "            print(\"Campo preenchido com \",item9_3)\n",
    "            critica8046_9 = ('Critica 8046.9, SLRDATAREG não correspondem a uma data válida', item9_3)\n",
    "            criticas_impeditivas.append(critica8046_9)"
   ]
  },
  {
   "cell_type": "code",
   "execution_count": null,
   "metadata": {},
   "outputs": [],
   "source": [
    "#8046.15 Exceto nos casos em que as datas foram preenchidas com '99999999', verifica se a data do campo SLRDATAOCORR é igual ou anterior à data dos campos SLRDATACOMUNICA\n",
    "mask15 = (df_main['SLRDATAOCORR'].astype('int64')) > (df_main['SLRDATACOMUNICA'].astype('int64'))\n",
    "df15 = df_main.loc[mask15]\n",
    "if len(df15) > 0:\n",
    "    df15.loc[:,'ID da Critica'] = ('CRITICA 8046.15')\n",
    "df15"
   ]
  },
  {
   "cell_type": "code",
   "execution_count": null,
   "metadata": {},
   "outputs": [],
   "source": [
    "#8046.16 Exceto nos casos em que as datas foram preenchidas com '99999999', verifica se a data do campo SLRDATACOMUNICA é igual ou anterior à data do campo SLRDATAREG\n",
    "mask16 = (df_main['SLRDATACOMUNICA'].astype('int64')) > (df_main['SLRDATAREG'].astype('int64'))\n",
    "df16 = df_main.loc[mask16]\n",
    "if len(df16) > 0:\n",
    "    df16.loc[:,'ID da Critica'] = ('CRITICA 8046.16')\n",
    "df16"
   ]
  },
  {
   "cell_type": "code",
   "execution_count": null,
   "metadata": {},
   "outputs": [],
   "source": [
    "#8046.17 Exceto nos casos em que as datas foram preenchidas com '99999999', verifica se o mês e ano da data do campo SLRDATAREG é igual ou anterior à data do campo MRFMESANO\n",
    "mask17_rel = (df_main['SLRDATAREG'] != '99999999')\n",
    "df17_rel = df_main.loc[mask17_rel]\n",
    "df17_rel['MRFMESANO'] = (df17_rel['MRFMESANO'] + '01')\n",
    "maskmr = (df17_rel['MRFMESANO'].astype('datetime64')).dt.strftime(\"%Y-%m\")\n",
    "maskdtreg = (df17_rel['SLRDATAREG'].astype('datetime64')).dt.strftime(\"%Y-%m\")\n",
    "\n",
    "mask17 = ((maskdtreg) > (maskmr))\n",
    "df17 = df17_rel.loc[mask17]\n",
    "if len(df17) > 0:\n",
    "    df17.loc[:,'ID da Critica'] = ('CRITICA 8046.17')\n",
    "df17"
   ]
  },
  {
   "cell_type": "code",
   "execution_count": null,
   "metadata": {},
   "outputs": [],
   "source": [
    "#8046.18 Verifica se o valor do campo SLRVALORMOVPEN é maior do que zero\n",
    "mask18 = (df_main['fSLRVALORMOVPEN'] <= 0.0)\n",
    "df18 = df_main.loc[mask18]\n",
    "if len(df18) > 0:\n",
    "    df18.loc[:,'ID da Critica'] = ('CRITICA 8046.18')\n",
    "df18"
   ]
  },
  {
   "cell_type": "code",
   "execution_count": null,
   "metadata": {},
   "outputs": [],
   "source": [
    "#8046.19 Para cada grupo de ramos, compara os valores registrados no campo SLRVALORMOVPEN com os valores informados no Quadro 07R do FIPSUSEP (tolerância: R$ 1.000,00 ou 1% do valor informado no respectivo campo do Quadro 07R, o que for menor) "
   ]
  },
  {
   "cell_type": "code",
   "execution_count": null,
   "metadata": {},
   "outputs": [],
   "source": [
    "#8046.20 Verifica se o campo SLRCODCESS não foi preenchido com '99999'. Caso seja preenchido, a crítica será gerada e a empresa deverá informar na justificativa o nome da retrocessionária. \n",
    "mask20 = (df_main['SLRCODCESS'] == '99999')\n",
    "df20 = df_main.loc[mask20]\n",
    "if len(df20) > 0:\n",
    "    df20.loc[:,'ID da Critica'] = ('CRITICA 8046.20')\n",
    "df20"
   ]
  },
  {
   "cell_type": "code",
   "execution_count": null,
   "metadata": {},
   "outputs": [],
   "source": [
    "################################################\n",
    "# Adicionando Nome do Criador do output e data #\n",
    "################################################\n",
    "\n",
    "df_main.loc[:,'Criador'] = input(\"Insira seu nome: \") ### insere a coluna com o nome do criador da tabela\n",
    "data_presente = datetime.now()\n",
    "df_main.loc[:,'Data do output'] = data_presente ### insere a coluna com a data de criacao da tabela"
   ]
  },
  {
   "cell_type": "code",
   "execution_count": null,
   "metadata": {},
   "outputs": [],
   "source": [
    "df_main"
   ]
  },
  {
   "cell_type": "code",
   "execution_count": null,
   "metadata": {},
   "outputs": [],
   "source": [
    "criticas"
   ]
  },
  {
   "cell_type": "code",
   "execution_count": null,
   "metadata": {},
   "outputs": [],
   "source": [
    "df_criticas = pd.DataFrame(criticas)     #criacao do DataFrame das criticas impeditivas\n",
    "df_criticas = df_criticas.rename(columns={0:'Descrição'})\n",
    "df_criticas"
   ]
  },
  {
   "cell_type": "code",
   "execution_count": null,
   "metadata": {},
   "outputs": [],
   "source": [
    "df_criticas_2 = pd.concat([df8,df15,df16,df18,df20])\n",
    "df_criticas_2"
   ]
  },
  {
   "cell_type": "code",
   "execution_count": null,
   "metadata": {},
   "outputs": [],
   "source": [
    "if criticas == []:                   # Verificando se a lista de criticas esta vazia\n",
    "    print('Nenhuma Critica NÃO Impeditiva encontrada no Quadro 407')\n",
    "else:\n",
    "    print('Foi encontrada uma ou mais Criticas NÃO Impeditivas no Quadro 407')\n",
    "    df_criticas.to_csv('Criticas_nao_impeditivas407.csv')     # Gerando csv das criticas impeditivas"
   ]
  },
  {
   "cell_type": "code",
   "execution_count": null,
   "metadata": {},
   "outputs": [],
   "source": [
    "if len(df_criticas_2) == 0:                             # Verificando se o DataFrame de criticas esta vazia\n",
    "    print('Nenhuma Critica NÃO Impeditiva encontrada no Quadro 407')\n",
    "else:\n",
    "    print('Foi encontrada uma ou mais Criticas NÃO Impeditivas no Quadro 407')\n",
    "    df_criticas_2.to_csv('Criticas_nao_impeditivas407_2.csv')         # Gerando csv das criticas impeditivas"
   ]
  },
  {
   "cell_type": "code",
   "execution_count": null,
   "metadata": {},
   "outputs": [],
   "source": [
    "df_main.to_csv('407_Trabalho.csv')"
   ]
  }
 ],
 "metadata": {
  "kernelspec": {
   "display_name": "Python 3",
   "language": "python",
   "name": "python3"
  },
  "language_info": {
   "codemirror_mode": {
    "name": "ipython",
    "version": 3
   },
   "file_extension": ".py",
   "mimetype": "text/x-python",
   "name": "python",
   "nbconvert_exporter": "python",
   "pygments_lexer": "ipython3",
   "version": "3.8.3"
  }
 },
 "nbformat": 4,
 "nbformat_minor": 2
}
