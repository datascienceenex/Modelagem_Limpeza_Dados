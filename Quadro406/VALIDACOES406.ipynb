{
 "cells": [
  {
   "cell_type": "markdown",
   "metadata": {},
   "source": [
    "# Implanatação de algumas Bibliotacas"
   ]
  },
  {
   "cell_type": "code",
   "execution_count": null,
   "metadata": {},
   "outputs": [],
   "source": [
    "import csv\n",
    "import numpy as np\n",
    "import pandas as pd\n",
    "import sys\n",
    "from tkinter import Tk\n",
    "from tkinter import filedialog\n",
    "from datetime import date, datetime, timedelta\n",
    "#import os\n",
    "#from ciso8601 import parse_datetime"
   ]
  },
  {
   "cell_type": "markdown",
   "metadata": {},
   "source": [
    "# Criando variaveis para os arquivos permitidos"
   ]
  },
  {
   "cell_type": "code",
   "execution_count": null,
   "metadata": {},
   "outputs": [],
   "source": [
    "param10    = pd.read_excel('LQ406.xlsx')      ### leitura do arquivo com o layout atualizado do quadro 406"
   ]
  },
  {
   "cell_type": "code",
   "execution_count": null,
   "metadata": {},
   "outputs": [],
   "source": [
    "## FUNÇÃO PARA SELEÇÃO DO ARQUIVO\n",
    "\n",
    "class qe_s:\n",
    "\n",
    "    def __init__(self):\n",
    "        self.df = {nome[s]: [] for s in range(nome.shape[0])}\n",
    "  \n",
    "    def make_df(self):\n",
    "        lines = []\n",
    "        root = Tk()\n",
    "        root.attributes(\"-topmost\", True)\n",
    "        root.withdraw()\n",
    "        for file in filedialog.askopenfilenames(filetypes=[(\"Arquivos de Text\", \"*.txt\")]):\n",
    "            for line in open(file, encoding=\"utf-8\"):\n",
    "                line = line.replace(\",\",\".\").strip()\n",
    "                for x in range(nome.shape[0]):\n",
    "                    self.df[nome[x]].append(line[i[x]:j[x]])\n",
    "                    \n",
    "        return pd.DataFrame(self.df)"
   ]
  },
  {
   "cell_type": "code",
   "execution_count": null,
   "metadata": {
    "scrolled": true
   },
   "outputs": [],
   "source": [
    "nome     = param10.Campo                      ### guarda os nomes das colunas existentes no quadro 406\n",
    "i        = param10.Ind_inf                    ### guarda a posição no arquivo que inicia um determinado campo\n",
    "j        = param10.Ind_sup                    ### guarda a posição no arquivo que termina um determinado campo\n",
    "\n",
    "quadro = qe_s()       \n",
    "df_main = quadro.make_df()\n",
    "df_main\n",
    "\n",
    "## SELECINE O(S) ARQUIVO(S) DESEJADO(S)"
   ]
  },
  {
   "cell_type": "code",
   "execution_count": null,
   "metadata": {},
   "outputs": [],
   "source": [
    "###################################\n",
    "###Importacao do Quadro406.xlsx ###\n",
    "####que serão usados para fins#####\n",
    "######### de comparação ###########\n",
    "###################################\n",
    "\n",
    "#Pasta RAMCODIGO\n",
    "arq_ramcod = pd.read_excel('Quadro406.xlsx','RAMCODIGO',fileEncoding = \"UTF-8\",encoding = 'latin_1', dtype=str)\n",
    "\n",
    "#Pasta ENTCODIGO\n",
    "arq_entcod = pd.read_excel('Quadro406.xlsx','Cod_SUSEP',fileEncoding = \"UTF-8\",encoding = 'latin_1', dtype=str)\n",
    "\n",
    "#Pasta MRFMESANO\n",
    "arq_mrfmesano = pd.read_excel('Quadro406.xlsx','MRFMESANO',fileEncoding = \"UTF-8\",encoding = 'latin_1', dtype=str)\n",
    "\n",
    "#Pasta SLATIPOPERA\n",
    "arq_slatipopera = pd.read_excel('Quadro406.xlsx','SLATIPOPERA',fileEncoding = \"UTF-8\",encoding = 'latin_1', dtype=str)\n",
    "\n",
    "#Pasta SLATIPOCONT\n",
    "arq_slatipocont = pd.read_excel('Quadro406.xlsx','SLATIPOCONT',fileEncoding = \"UTF-8\",encoding = 'latin_1', dtype=str)\n",
    "\n",
    "#Pasta SLATIPOSIN\n",
    "arq_slatiposin = pd.read_excel('Quadro406.xlsx','SLATIPOSIN',fileEncoding = \"UTF-8\",encoding = 'latin_1', dtype=str)\n",
    "\n",
    "#Pasta SLAMODCONT\n",
    "arq_slamodcont = pd.read_excel('Quadro406.xlsx','SLAMODCONT',fileEncoding = \"UTF-8\",encoding = 'latin_1', dtype=str)\n",
    "\n",
    "#Pasta SLAMOEDA\n",
    "arq_slamoeda = pd.read_excel('Quadro406.xlsx','SLAMOEDA',fileEncoding = \"UTF-8\",encoding = 'latin_1', dtype=str)\n",
    "\n",
    "#Pasta SLABASEIND\n",
    "arq_slabaseind = pd.read_excel('Quadro406.xlsx','SLABASEIND',fileEncoding = \"UTF-8\",encoding = 'latin_1', dtype=str)"
   ]
  },
  {
   "cell_type": "code",
   "execution_count": null,
   "metadata": {},
   "outputs": [],
   "source": [
    "# Criando uma lista para guardar todas as criticas impeditivas\n",
    "criticas_impeditivas = []\n",
    "criticas = []"
   ]
  },
  {
   "cell_type": "markdown",
   "metadata": {},
   "source": [
    "# Criticas (Validacoes)"
   ]
  },
  {
   "cell_type": "code",
   "execution_count": null,
   "metadata": {},
   "outputs": [],
   "source": [
    "#8045.2 Verifica o tamanho padrão da linha (deve conter 130 caracteres) \n",
    "tamanho = 0\n",
    "for i in range(0,df_main.shape[0]):                    #Passando por cada linha\n",
    "    for iten in df_main.columns:                       #Passando por cada coluna\n",
    "        tamanho = tamanho + len(df_main[iten][i])      #Contando Caracteres por linha\n",
    "    if tamanho != 130:\n",
    "        print('Erro na linha ',i,' o número de caracteres é de: ',tamanho)\n",
    "        critica8045_2 = (\"Critica 8045.2, Erro na linha \",i,\" o número de caracteres é de: \",tamanho)\n",
    "        criticas_impeditivas.append(critica8045_2)\n",
    "    tamanho = 0"
   ]
  },
  {
   "cell_type": "code",
   "execution_count": null,
   "metadata": {},
   "outputs": [],
   "source": [
    "#8045.3 Verifica se o campo sequencial SLASEQ é uma sequência válida, que se inicia em 0000001 \n",
    "array3 = df_main['SLASEQ']\n",
    "x = list(array3)                                     ##Dados do arquivo\n",
    "arrayteste = x[:]\n",
    "arrayteste.sort()                                    ##Dados sequenciados\n",
    "if (arrayteste == x):                                ##Comparando\n",
    "    print('Tudo certo, esta de forma sequencial.')\n",
    "else: \n",
    "    print('ERRO!!!, Não prossiga.')\n",
    "    critica8045_3 = str('Critica 8045.3, Não temos uma sequencia valida na coluna SLASEQ')\n",
    "    criticas_impeditivas.append(critica8045_3)"
   ]
  },
  {
   "cell_type": "code",
   "execution_count": null,
   "metadata": {},
   "outputs": [],
   "source": [
    "#8045.4 Verifica se o campo ENTCODIGO corresponde à sociedade que está enviando o FIP/SUSEP \n",
    "entcod = set(arq_entcod['Cod_SUSEP'].astype('str'))                   #Escolhendo a coluna do arquivo modelo\n",
    "dadosentcod = set(df_main['ENTCODIGO'])                               #Escolhendo a coluna dos dados\n",
    "for itemtentcod in dadosentcod: \n",
    "    if itemtentcod not in entcod:\n",
    "        print('ERRO!! ENTCODIGO não corresponde a uma operação valida', itemtentcod)\n",
    "        critica8045_4 = ('Critica 8045.4, ENTCODIGO não corresponde a uma operação valida', itemtentcod)\n",
    "        criticas_impeditivas.append(critica8045_4)\n",
    "    else:\n",
    "        print('ENTCODIGO corresponde a um tipo de operação válida.', itemtentcod)\n",
    "        continue"
   ]
  },
  {
   "cell_type": "code",
   "execution_count": null,
   "metadata": {},
   "outputs": [],
   "source": [
    "#8045.5 Verifica se o campo MRFMESANO corresponde a um ano e mês válidos\n",
    "try:\n",
    "    mr = (df_main['MRFMESANO'] + '01')\n",
    "    mr = pd.to_datetime(mr)\n",
    "    print(mr)\n",
    "except ValueError:\n",
    "    print('ERROOO!! MRFMESANO corresponde a um ano e mês válidos')\n",
    "    critica8045_5 = ('Critica 8045.5, MRFMESANO corresponde a um ano e mês válidos')\n",
    "    criticas_impeditivas.append(critica8045_5)"
   ]
  },
  {
   "cell_type": "code",
   "execution_count": null,
   "metadata": {},
   "outputs": [],
   "source": [
    "#8045.6 Verifica se o campo GRACODIGO corresponde a um grupo de ramos válido operado pelo ressegurador \n",
    "ramcod = set(arq_ramcod['graCodigo'].astype('str'))                 #Escolhendo a coluna do arquivo modelo\n",
    "dadosramcod = set(df_main['GRACODIGO'])                                 #Escolhendo a coluna dos dados\n",
    "for itemramcod in dadosramcod: \n",
    "    if itemramcod not in ramcod:\n",
    "        print('ERRO!! GRACODIGO não corresponde a um grupo de ramos válido operado pelo ressegurador', itemramcod)\n",
    "        critica8045_6 = ('Critica 8045.6, GRACODIGO não corresponde a um grupo de ramos válido operado pelo ressegurador', itemramcod)\n",
    "        criticas_impeditivas.append(critica8045_6)\n",
    "    else:\n",
    "        print('GRACODIGO corresponde a um grupo de ramos válido operado pelo ressegurador', itemramcod)\n",
    "        continue"
   ]
  },
  {
   "cell_type": "code",
   "execution_count": null,
   "metadata": {},
   "outputs": [],
   "source": [
    "#8045.7 Verifica se o campo SLATIPOPERA foi preenchido com um tipo de operação válido\n",
    "slatipopera = set(arq_slatipopera['SLATIPOPERA'].astype('str'))                 #Escolhendo a coluna do arquivo modelo\n",
    "dadosslatipopera = set(df_main['SLATIPOPERA'])                                 #Escolhendo a coluna dos dados\n",
    "for itemslatipopera in dadosslatipopera: \n",
    "    if itemslatipopera not in slatipopera:\n",
    "        print('ERRO!! SLATIPOPERA não foi preenchido com um tipo de operação válido', itemslatipopera)\n",
    "        critica8045_7 = ('Critica 8045.7, SLATIPOPERA não foi preenchido com um tipo de operação válido', itemslatipopera)\n",
    "        criticas_impeditivas.append(critica8045_7)\n",
    "    else:\n",
    "        print('SLATIPOPERA foi preenchido com um tipo de operação válido', itemslatipopera)\n",
    "        continue"
   ]
  },
  {
   "cell_type": "code",
   "execution_count": null,
   "metadata": {},
   "outputs": [],
   "source": [
    "#8045.8 Verifica se o campo SLATIPOCONT foi preenchido com um tipo de contrato válido\n",
    "slatipocont = set(arq_slatipocont['SLATIPOCONT'].astype('str'))                 #Escolhendo a coluna do arquivo modelo\n",
    "dadosslatipocont = set(df_main['SLATIPOCONT'])                                 #Escolhendo a coluna dos dados\n",
    "for itemslatipocont in dadosslatipocont: \n",
    "    if itemslatipocont not in slatipocont:\n",
    "        print('ERRO!! SLATIPOCONT não foi preenchido com um tipo de contrato válido', itemslatipocont)\n",
    "        critica8045_8 = ('Critica 8045.8, SLATIPOCONT não foi preenchido com um tipo de contrato válido', itemslatipocont)\n",
    "        criticas_impeditivas.append(critica8044_8)\n",
    "    else:\n",
    "        print('SLATIPOCONT foi preenchido com um tipo de contrato válido', itemslatipocont)\n",
    "        continue"
   ]
  },
  {
   "cell_type": "code",
   "execution_count": null,
   "metadata": {},
   "outputs": [],
   "source": [
    "#8045.10 Verifica se os campos SLADATAOCORR, SLADATACOMUNICA e SLADATAREG correspondem a uma data válida. Nos casos em que a modalidade do contrato seja 'Proporcional: Cota Parte' ou 'Proporcional: ER', os campos podem ser preenchidos com '99999999'\n",
    "# Campo SLADATAOCORR\n",
    "mask10_1 = set(df_main['SLADATAOCORR'])\n",
    "for item10_1 in mask10_1:\n",
    "    try:\n",
    "        x = pd.to_datetime(item10_1)\n",
    "        print('Valida ',x)\n",
    "    except ValueError:\n",
    "        if item10_1 == '99999999':\n",
    "            print(\"Campo preenchido com \",item10_1)\n",
    "        else:\n",
    "            print(\"Campo preenchido com \",item10_1)\n",
    "            critica8045_10 = ('Critica 8045.10, SLADATAOCORR não correspondem a uma data válida', item10_1)\n",
    "            criticas_impeditivas.append(critica8045_10)"
   ]
  },
  {
   "cell_type": "code",
   "execution_count": null,
   "metadata": {},
   "outputs": [],
   "source": [
    "# Campo SLADATACOMUNICA\n",
    "mask10_2 = set(df_main['SLADATACOMUNICA'])\n",
    "for item10_2 in mask10_2:\n",
    "    try:\n",
    "        x = pd.to_datetime(item10_2)\n",
    "        print('Valida ',x)\n",
    "    except ValueError:\n",
    "        if item10_2 == '99999999':\n",
    "            print(\"Campo preenchido com \",item10_2)\n",
    "        else:\n",
    "            print(\"Campo preenchido com \",item10_2)\n",
    "            critica8045_10 = ('Critica 8045.10, SLADATACOMUNICA não correspondem a uma data válida', item10_2)\n",
    "            criticas_impeditivas.append(critica8045_10)"
   ]
  },
  {
   "cell_type": "code",
   "execution_count": null,
   "metadata": {},
   "outputs": [],
   "source": [
    "# Campo SLADATAREG\n",
    "mask10_3 = set(df_main['SLADATAREG'])\n",
    "for item10_3 in mask10_3:\n",
    "    try:\n",
    "        x = pd.to_datetime(item10_3)\n",
    "        print('Valida ',x)\n",
    "    except ValueError:\n",
    "        if item10_3 == '99999999':\n",
    "            print(\"Campo preenchido com \",item10_3)\n",
    "        else:\n",
    "            print(\"Campo preenchido com \",item10_3)\n",
    "            critica8045_10 = ('Critica 8045.10, SLADATAREG não correspondem a uma data válida', item10_3)\n",
    "            criticas_impeditivas.append(critica8045_10)"
   ]
  },
  {
   "cell_type": "code",
   "execution_count": null,
   "metadata": {},
   "outputs": [],
   "source": [
    "#8045.11 Verifica se o valor dos campos SLAVALORMOVPEN e SLAVALORMOVTOT é float\n",
    "\n",
    "###########################################\n",
    "##Readicionando as colunas str para float##\n",
    "###########################################\n",
    "\n",
    "df_main.loc[:,'fSLAVALORMOVPEN'] = df_main['SLAVALORMOVPEN'].astype('float64')\n",
    "df_main.loc[:,'fSLAVALORMOVTOT'] = df_main['SLAVALORMOVTOT'].astype('float64')\n",
    "\n",
    "#Adicionado colunas fSLAVALORMOVPEN e fSLAVALORMOVTOT no tipo Float"
   ]
  },
  {
   "cell_type": "code",
   "execution_count": null,
   "metadata": {},
   "outputs": [],
   "source": [
    "#8045.12 Verifica se o campo SLATIPOSIN foi preenchido com um tipo de sinistro válido\n",
    "slatiposin = set(arq_slatiposin['SLATIPOSIN'].astype('str'))                 #Escolhendo a coluna do arquivo modelo\n",
    "dadosslatiposin = set(df_main['SLATIPOSIN'])                                 #Escolhendo a coluna dos dados\n",
    "for itemslatiposin in dadosslatiposin: \n",
    "    if itemslatiposin not in slatiposin:\n",
    "        print('ERRO!! SLATIPOSIN não foi preenchido com um tipo de sinistro válido', itemslatiposin)\n",
    "        critica8045_12 = ('Critica 8045.12, SLATIPOSIN não foi preenchido com um tipo de sinistro válido', itemslatiposin)\n",
    "        criticas_impeditivas.append(critica8045_12)\n",
    "    else:\n",
    "        print('SLATIPOSIN foi preenchido com um tipo de sinistro válido', itemslatiposin)\n",
    "        continue"
   ]
  },
  {
   "cell_type": "code",
   "execution_count": null,
   "metadata": {},
   "outputs": [],
   "source": [
    "#8045.13 Verifica se o campo SLAMODCONT foi preenchido com uma modalidade de contrato válida, exceto nos casos em que o tipo de contrato seja ‘Facultativo’, quando o campo deve ser preenchido com ‘99'\n",
    "slamodcont = set(arq_slamodcont['SLAMODCONT'].astype('int64'))                 #Escolhendo a coluna do arquivo modelo\n",
    "dadosslamodcont = set(df_main['SLAMODCONT'].astype('int64'))                                 #Escolhendo a coluna dos dados\n",
    "for itemslamodcont in dadosslamodcont: \n",
    "    if itemslamodcont not in slamodcont:\n",
    "        print('ERRO!! SLAMODCONT não foi preenchido com uma modalidade de contrato válida', itemslamodcont)\n",
    "        critica8045_13 = ('Critica 8045.13, SLAMODCONT não foi preenchido com uma modalidade de contrato válida', itemslamodcont)\n",
    "        criticas_impeditivas.append(critica8045_13)\n",
    "    else:\n",
    "        print('SLAMODCONT foi preenchido com uma modalidade de contrato válida', itemslamodcont)\n",
    "        continue"
   ]
  },
  {
   "cell_type": "code",
   "execution_count": null,
   "metadata": {},
   "outputs": [],
   "source": [
    "#8045.14 Verifica se o campo SLAMOEDA foi preenchido com uma moeda válida\n",
    "slamoeda = set(arq_slamoeda['Código'].astype('str'))                 #Escolhendo a coluna do arquivo modelo\n",
    "dadosslamoeda = set(df_main['SLAMOEDA'])                                 #Escolhendo a coluna dos dados\n",
    "for itemslamoeda in dadosslamoeda: \n",
    "    if itemslamoeda not in slamoeda:\n",
    "        print('ERRO!! SLAMOEDA não foi preenchido com uma moeda válida', itemslamoeda)\n",
    "        critica8045_14 = ('Critica 8045.14, SLAMOEDA não foi preenchido com uma moeda válida', itemslamoeda)\n",
    "        criticas_impeditivas.append(critica8045_14)\n",
    "    else:\n",
    "        print('SLAMOEDA foi preenchido com uma moeda válida', itemslamoeda)\n",
    "        continue"
   ]
  },
  {
   "cell_type": "code",
   "execution_count": null,
   "metadata": {},
   "outputs": [],
   "source": [
    "#8045.15 Verifica se o campo SLABASEIND foi preenchido com uma base indenitária válida\n",
    "slabaseind = set(arq_slabaseind['SLABASEIND'].astype('str'))                 #Escolhendo a coluna do arquivo modelo\n",
    "dadosslabaseind = set(df_main['SLABASEIND'])                                 #Escolhendo a coluna dos dados\n",
    "for itemslabaseind in dadosslabaseind: \n",
    "    if itemslabaseind not in slabaseind:\n",
    "        print('ERRO!! SLABASEIND não foi preenchido com uma base indenitária válida', itemslabaseind)\n",
    "        critica8045_15 = ('Critica 8045.15, SLABASEIND não foi preenchido com uma base indenitária válida', itemslabaseind)\n",
    "        criticas_impeditivas.append(critica8045_15)\n",
    "    else:\n",
    "        print('SLABASEIND foi preenchido com uma base indenitária válida', itemslabaseind)\n",
    "        continue"
   ]
  },
  {
   "cell_type": "code",
   "execution_count": null,
   "metadata": {},
   "outputs": [],
   "source": [
    "criticas_impeditivas  #Lista das criticas impeditivas"
   ]
  },
  {
   "cell_type": "code",
   "execution_count": null,
   "metadata": {},
   "outputs": [],
   "source": [
    "df_criticas_i = pd.DataFrame(criticas_impeditivas)     #criacao do DataFrame das criticas impeditivas\n",
    "df_criticas_i = df_criticas_i.rename(columns={0:'Descrição'})\n",
    "df_criticas_i"
   ]
  },
  {
   "cell_type": "code",
   "execution_count": null,
   "metadata": {},
   "outputs": [],
   "source": [
    "if criticas_impeditivas == []:                   # Verificando se a lista de criticas esta vazia\n",
    "    print('Nenhuma Critica Impeditiva encontrada no Quadro 406')\n",
    "else:\n",
    "    print('Foi encontrada uma ou mais Criticas Impeditivas no Quadro 406')\n",
    "    df_criticas_i.to_csv('Criticas_Impeditivas_406.csv')     # Gerando csv das criticas impeditivas"
   ]
  },
  {
   "cell_type": "markdown",
   "metadata": {},
   "source": [
    "# Criticas (Validacoes) Não Impeditivas"
   ]
  },
  {
   "cell_type": "code",
   "execution_count": null,
   "metadata": {},
   "outputs": [],
   "source": [
    "# Criando DataFrame copia com Campos SLATIPOPERA, SLACODCESS  no formato int\n",
    "df_mains = df_main.copy()\n",
    "df_mains['SLATIPOPERA'] = df_mains['SLATIPOPERA'].astype('int64')\n",
    "df_mains['SLACODCESS'] = df_mains['SLACODCESS'].astype('int64')"
   ]
  },
  {
   "cell_type": "code",
   "execution_count": null,
   "metadata": {},
   "outputs": [],
   "source": [
    "#8045.9 Verifica se o campo SLACODCESS corresponde a um código de sociedade válido ou ‘99999’ e valida a correspondência entre os campos SLATIPOPERA e SLACODCESS \n",
    "relacao9_1 = df_mains[(df_mains['SLATIPOPERA'] == 1) & (df_mains['SLACODCESS'].values < 1) & (df_mains['SLACODCESS'].values > 19999)] \n",
    "relacao9_2 = df_mains[(df_mains['SLATIPOPERA'] == 2) & (df_mains['SLACODCESS'].values < 30000) & (df_mains['SLACODCESS'].values > 59999)] "
   ]
  },
  {
   "cell_type": "code",
   "execution_count": null,
   "metadata": {},
   "outputs": [],
   "source": [
    "i = 20   #Definindo numero de colunas\n",
    "\n",
    "# Adicionando criticas com Relação SLATIPOPERA_SLACODCESS em desacordo\n",
    "if relacao9_1.shape != (0,i): \n",
    "    critica7392_9_1 = ('Critica 8045.9_1, Relação SLATIPOPERA_SLACODCESS em desacordo') \n",
    "    criticas.append(critica7392_9_1)\n",
    "elif relacao9_2.shape != (0,i): \n",
    "    critica7392_9_2 = ('Critica 8045.9_2, Relação SLATIPOPERA_SLACODCESS em desacordo')\n",
    "    criticas.append(critica7392_9_2)\n",
    "\n",
    "else: print('Relação SLATIPOPERA_SLACODCESS de acordo')"
   ]
  },
  {
   "cell_type": "code",
   "execution_count": null,
   "metadata": {},
   "outputs": [],
   "source": [
    "#8045.16 Exceto nos casos em que as datas foram preenchidas com '99999999', verifica se a data do campo SLADATAOCORR é igual ou anterior à data dos campos SLADATACOMUNICA\n",
    "mask16 = (df_main['SLADATAOCORR'].astype('int64')) > (df_main['SLADATACOMUNICA'].astype('int64'))\n",
    "df16 = df_main.loc[mask16]\n",
    "if len(df16) > 0:\n",
    "    df16.loc[:,'ID da Critica'] = ('CRITICA 8045.16')\n",
    "df16"
   ]
  },
  {
   "cell_type": "code",
   "execution_count": null,
   "metadata": {},
   "outputs": [],
   "source": [
    "#8045.17 Exceto nos casos em que as datas foram preenchidas com '99999999', verifica se a data do campo SLADATACOMUNICA é igual ou anterior à data do campo SLADATAREG \n",
    "mask17 = (df_main['SLADATACOMUNICA'].astype('int64')) > (df_main['SLADATAREG'].astype('int64'))\n",
    "df17 = df_main.loc[mask17]\n",
    "if len(df17) > 0:\n",
    "    df17.loc[:,'ID da Critica'] = ('CRITICA 8045.17')\n",
    "df17"
   ]
  },
  {
   "cell_type": "code",
   "execution_count": null,
   "metadata": {},
   "outputs": [],
   "source": [
    "#8045.18 Exceto nos casos em que as datas foram preenchidas com '99999999', verifica se o mês e ano da data do campo SLADATAREG é igual ou anterior à data do campo MRFMESANO \n",
    "mask18_rel = (df_main['SLADATAREG'] != '99999999')\n",
    "df18_rel = df_main.loc[mask18_rel]\n",
    "df18_rel['MRFMESANO'] = (df18_rel['MRFMESANO'] + '01')\n",
    "maskmr = (df18_rel['MRFMESANO'].astype('datetime64')).dt.strftime(\"%Y-%m\")\n",
    "maskdtreg = (df18_rel['SLADATAREG'].astype('datetime64')).dt.strftime(\"%Y-%m\")\n",
    "\n",
    "mask18 = ((maskdtreg) > (maskmr))\n",
    "df18 = df18_rel.loc[mask18]\n",
    "if len(df18) > 0:\n",
    "    df18.loc[:,'ID da Critica'] = ('CRITICA 8045.18')\n",
    "df18"
   ]
  },
  {
   "cell_type": "code",
   "execution_count": null,
   "metadata": {},
   "outputs": [],
   "source": [
    "#8045.19 Verifica se o valor do campo SLAVALORMOVPEN é maior do que zero\n",
    "mask19 = (df_main['fSLAVALORMOVPEN'] <= 0.0)\n",
    "df19 = df_main.loc[mask19]\n",
    "if len(df19) > 0:\n",
    "    df19.loc[:,'ID da Critica'] = ('CRITICA 8045.19')\n",
    "df19"
   ]
  },
  {
   "cell_type": "code",
   "execution_count": null,
   "metadata": {},
   "outputs": [],
   "source": [
    "#8045.20 Para cada grupo de ramos, compara os valores registrados no campo SLAVALORMOVPEN com os valores informados no Quadro 07R do FIPSUSEP (tolerância: R$ 1.000,00 ou 1% do valor informado no respectivo campo do Quadro 07R, o que for menor) "
   ]
  },
  {
   "cell_type": "code",
   "execution_count": null,
   "metadata": {},
   "outputs": [],
   "source": [
    "################################################\n",
    "# Adicionando Nome do Criador do output e data #\n",
    "################################################\n",
    "\n",
    "df_main.loc[:,'Criador'] = input(\"Insira seu nome: \") ### insere a coluna com o nome do criador da tabela\n",
    "data_presente = datetime.now()\n",
    "df_main.loc[:,'Data do output'] = data_presente ### insere a coluna com a data de criacao da tabela"
   ]
  },
  {
   "cell_type": "code",
   "execution_count": null,
   "metadata": {},
   "outputs": [],
   "source": [
    "df_main"
   ]
  },
  {
   "cell_type": "code",
   "execution_count": null,
   "metadata": {},
   "outputs": [],
   "source": [
    "criticas"
   ]
  },
  {
   "cell_type": "code",
   "execution_count": null,
   "metadata": {},
   "outputs": [],
   "source": [
    "df_criticas = pd.DataFrame(criticas)     #criacao do DataFrame das criticas impeditivas\n",
    "df_criticas = df_criticas.rename(columns={0:'Descrição'})\n",
    "df_criticas"
   ]
  },
  {
   "cell_type": "code",
   "execution_count": null,
   "metadata": {},
   "outputs": [],
   "source": [
    "df_criticas_2 = pd.concat([df16,df17,df18,df19])\n",
    "df_criticas_2"
   ]
  },
  {
   "cell_type": "code",
   "execution_count": null,
   "metadata": {},
   "outputs": [],
   "source": [
    "if criticas == []:                   # Verificando se a lista de criticas esta vazia\n",
    "    print('Nenhuma Critica NÃO Impeditiva encontrada no Quadro 408')\n",
    "else:\n",
    "    print('Foi encontrada uma ou mais Criticas NÃO Impeditivas no Quadro 408')\n",
    "    df_criticas.to_csv('Criticas_nao_impeditivas408.csv')     # Gerando csv das criticas impeditivas"
   ]
  },
  {
   "cell_type": "code",
   "execution_count": null,
   "metadata": {},
   "outputs": [],
   "source": [
    "if len(df_criticas_2) == 0:                             # Verificando se o DataFrame de criticas esta vazia\n",
    "    print('Nenhuma Critica NÃO Impeditiva encontrada no Quadro 408')\n",
    "else:\n",
    "    print('Foi encontrada uma ou mais Criticas NÃO Impeditivas no Quadro 408')\n",
    "    df_criticas_2.to_csv('Criticas_nao_impeditivas408_2.csv')         # Gerando csv das criticas impeditivas"
   ]
  },
  {
   "cell_type": "code",
   "execution_count": null,
   "metadata": {},
   "outputs": [],
   "source": [
    "df_main.to_csv('406_Trabalho.csv')"
   ]
  },
  {
   "cell_type": "markdown",
   "metadata": {},
   "source": [
    "# teste"
   ]
  },
  {
   "cell_type": "code",
   "execution_count": null,
   "metadata": {},
   "outputs": [],
   "source": [
    "mask18 = (df_main['SLADATAREG']) > (df_main['MRFMESANO'])\n",
    "df18 = df_main.loc[mask18]\n",
    "if len(df18) > 0:\n",
    "    df18.loc[:,'ID da Critica'] = ('CRITICA 8045.18')\n",
    "df18"
   ]
  }
 ],
 "metadata": {
  "kernelspec": {
   "display_name": "Python 3",
   "language": "python",
   "name": "python3"
  },
  "language_info": {
   "codemirror_mode": {
    "name": "ipython",
    "version": 3
   },
   "file_extension": ".py",
   "mimetype": "text/x-python",
   "name": "python",
   "nbconvert_exporter": "python",
   "pygments_lexer": "ipython3",
   "version": "3.8.3"
  }
 },
 "nbformat": 4,
 "nbformat_minor": 2
}
