{
 "cells": [
  {
   "cell_type": "markdown",
   "metadata": {},
   "source": [
    "# Implanatação de algumas Bibliotacas"
   ]
  },
  {
   "cell_type": "code",
   "execution_count": 1,
   "metadata": {},
   "outputs": [],
   "source": [
    "import csv\n",
    "import numpy as np\n",
    "import pandas as pd\n",
    "import sys\n",
    "from tkinter import Tk\n",
    "from tkinter import filedialog\n",
    "from datetime import date, datetime, timedelta\n",
    "#import os\n",
    "#from ciso8601 import parse_datetime"
   ]
  },
  {
   "cell_type": "markdown",
   "metadata": {},
   "source": [
    "# Criando variaveis para os arquivos permitidos"
   ]
  },
  {
   "cell_type": "code",
   "execution_count": 2,
   "metadata": {},
   "outputs": [],
   "source": [
    "param9    = pd.read_excel('LQ405.xlsx')      ### leitura do arquivo com o layout atualizado do quadro 405"
   ]
  },
  {
   "cell_type": "code",
   "execution_count": 3,
   "metadata": {},
   "outputs": [],
   "source": [
    "## FUNÇÃO PARA SELEÇÃO DO ARQUIVO\n",
    "\n",
    "class qe_s:\n",
    "\n",
    "    def __init__(self):\n",
    "        self.df = {nome[s]: [] for s in range(nome.shape[0])}\n",
    "  \n",
    "    def make_df(self):\n",
    "        lines = []\n",
    "        root = Tk()\n",
    "        root.attributes(\"-topmost\", True)\n",
    "        root.withdraw()\n",
    "        for file in filedialog.askopenfilenames(filetypes=[(\"Arquivos de Text\", \"*.txt\")]):\n",
    "            for line in open(file, encoding=\"utf-8\"):\n",
    "                line = line.replace(\",\",\".\").strip()\n",
    "                for x in range(nome.shape[0]):\n",
    "                    self.df[nome[x]].append(line[i[x]:j[x]])\n",
    "                    \n",
    "        return pd.DataFrame(self.df)"
   ]
  },
  {
   "cell_type": "code",
   "execution_count": 5,
   "metadata": {
    "scrolled": true
   },
   "outputs": [
    {
     "data": {
      "text/html": [
       "<div>\n",
       "<style scoped>\n",
       "    .dataframe tbody tr th:only-of-type {\n",
       "        vertical-align: middle;\n",
       "    }\n",
       "\n",
       "    .dataframe tbody tr th {\n",
       "        vertical-align: top;\n",
       "    }\n",
       "\n",
       "    .dataframe thead th {\n",
       "        text-align: right;\n",
       "    }\n",
       "</style>\n",
       "<table border=\"1\" class=\"dataframe\">\n",
       "  <thead>\n",
       "    <tr style=\"text-align: right;\">\n",
       "      <th></th>\n",
       "      <th>MSRSEQ</th>\n",
       "      <th>ENTCODIGO</th>\n",
       "      <th>MRFMESANO</th>\n",
       "      <th>TPMORESSID</th>\n",
       "      <th>GRACODIGO</th>\n",
       "      <th>MSRNUMSIN</th>\n",
       "      <th>MSRNUMCONT</th>\n",
       "      <th>MSRTIPOCONT</th>\n",
       "      <th>MSRCODCESS</th>\n",
       "      <th>MSRDATACOMUNICA</th>\n",
       "      <th>MSRDATAREG</th>\n",
       "      <th>MSRDATAOCORR</th>\n",
       "      <th>MSRVALORMOV</th>\n",
       "      <th>MSRTIPOSIN</th>\n",
       "      <th>MSRMODCONT</th>\n",
       "      <th>MSRMOEDA</th>\n",
       "      <th>MSRBASEIND</th>\n",
       "      <th>MSRVALORMON</th>\n",
       "    </tr>\n",
       "  </thead>\n",
       "  <tbody>\n",
       "    <tr>\n",
       "      <th>0</th>\n",
       "      <td>0000001</td>\n",
       "      <td>38270</td>\n",
       "      <td>201901</td>\n",
       "      <td>012</td>\n",
       "      <td>01</td>\n",
       "      <td>99999999999999999999</td>\n",
       "      <td>00000000001148373_20140101</td>\n",
       "      <td>1</td>\n",
       "      <td>42790</td>\n",
       "      <td>99999999</td>\n",
       "      <td>99999999</td>\n",
       "      <td>99999999</td>\n",
       "      <td>0000110434.56</td>\n",
       "      <td>1</td>\n",
       "      <td>01</td>\n",
       "      <td>790</td>\n",
       "      <td>1</td>\n",
       "      <td>0000000000.00</td>\n",
       "    </tr>\n",
       "    <tr>\n",
       "      <th>1</th>\n",
       "      <td>0000002</td>\n",
       "      <td>38270</td>\n",
       "      <td>201901</td>\n",
       "      <td>014</td>\n",
       "      <td>03</td>\n",
       "      <td>99999999999999999999</td>\n",
       "      <td>00000000001148373_20140101</td>\n",
       "      <td>1</td>\n",
       "      <td>42790</td>\n",
       "      <td>99999999</td>\n",
       "      <td>99999999</td>\n",
       "      <td>99999999</td>\n",
       "      <td>-000033707.92</td>\n",
       "      <td>1</td>\n",
       "      <td>01</td>\n",
       "      <td>790</td>\n",
       "      <td>1</td>\n",
       "      <td>0000000000.00</td>\n",
       "    </tr>\n",
       "    <tr>\n",
       "      <th>2</th>\n",
       "      <td>0000003</td>\n",
       "      <td>38270</td>\n",
       "      <td>201901</td>\n",
       "      <td>012</td>\n",
       "      <td>06</td>\n",
       "      <td>99999999999999999999</td>\n",
       "      <td>00000000001148373_20140101</td>\n",
       "      <td>1</td>\n",
       "      <td>42790</td>\n",
       "      <td>99999999</td>\n",
       "      <td>99999999</td>\n",
       "      <td>99999999</td>\n",
       "      <td>0000000411.14</td>\n",
       "      <td>1</td>\n",
       "      <td>01</td>\n",
       "      <td>790</td>\n",
       "      <td>1</td>\n",
       "      <td>0000000000.00</td>\n",
       "    </tr>\n",
       "    <tr>\n",
       "      <th>3</th>\n",
       "      <td>0000004</td>\n",
       "      <td>38270</td>\n",
       "      <td>201901</td>\n",
       "      <td>012</td>\n",
       "      <td>15</td>\n",
       "      <td>99999999999999999999</td>\n",
       "      <td>00000000001148373_20140101</td>\n",
       "      <td>1</td>\n",
       "      <td>42790</td>\n",
       "      <td>99999999</td>\n",
       "      <td>99999999</td>\n",
       "      <td>99999999</td>\n",
       "      <td>0000029280.79</td>\n",
       "      <td>1</td>\n",
       "      <td>01</td>\n",
       "      <td>790</td>\n",
       "      <td>1</td>\n",
       "      <td>0000000000.00</td>\n",
       "    </tr>\n",
       "    <tr>\n",
       "      <th>4</th>\n",
       "      <td>0000005</td>\n",
       "      <td>38270</td>\n",
       "      <td>201901</td>\n",
       "      <td>023</td>\n",
       "      <td>01</td>\n",
       "      <td>99999999999999999999</td>\n",
       "      <td>00000000001148373_20140101</td>\n",
       "      <td>1</td>\n",
       "      <td>42790</td>\n",
       "      <td>99999999</td>\n",
       "      <td>99999999</td>\n",
       "      <td>99999999</td>\n",
       "      <td>0000008074.77</td>\n",
       "      <td>3</td>\n",
       "      <td>01</td>\n",
       "      <td>790</td>\n",
       "      <td>1</td>\n",
       "      <td>0000000000.00</td>\n",
       "    </tr>\n",
       "    <tr>\n",
       "      <th>...</th>\n",
       "      <td>...</td>\n",
       "      <td>...</td>\n",
       "      <td>...</td>\n",
       "      <td>...</td>\n",
       "      <td>...</td>\n",
       "      <td>...</td>\n",
       "      <td>...</td>\n",
       "      <td>...</td>\n",
       "      <td>...</td>\n",
       "      <td>...</td>\n",
       "      <td>...</td>\n",
       "      <td>...</td>\n",
       "      <td>...</td>\n",
       "      <td>...</td>\n",
       "      <td>...</td>\n",
       "      <td>...</td>\n",
       "      <td>...</td>\n",
       "      <td>...</td>\n",
       "    </tr>\n",
       "    <tr>\n",
       "      <th>89</th>\n",
       "      <td>0000090</td>\n",
       "      <td>38270</td>\n",
       "      <td>201903</td>\n",
       "      <td>017</td>\n",
       "      <td>09</td>\n",
       "      <td>99999999999999999999</td>\n",
       "      <td>00000000015004226_20140101</td>\n",
       "      <td>1</td>\n",
       "      <td>42790</td>\n",
       "      <td>99999999</td>\n",
       "      <td>99999999</td>\n",
       "      <td>99999999</td>\n",
       "      <td>0000039781.00</td>\n",
       "      <td>3</td>\n",
       "      <td>01</td>\n",
       "      <td>790</td>\n",
       "      <td>1</td>\n",
       "      <td>0000000000.00</td>\n",
       "    </tr>\n",
       "    <tr>\n",
       "      <th>90</th>\n",
       "      <td>0000091</td>\n",
       "      <td>38270</td>\n",
       "      <td>201903</td>\n",
       "      <td>023</td>\n",
       "      <td>09</td>\n",
       "      <td>99999999999999999999</td>\n",
       "      <td>00000000015004226_20140101</td>\n",
       "      <td>1</td>\n",
       "      <td>42790</td>\n",
       "      <td>99999999</td>\n",
       "      <td>99999999</td>\n",
       "      <td>99999999</td>\n",
       "      <td>0000089009.43</td>\n",
       "      <td>3</td>\n",
       "      <td>01</td>\n",
       "      <td>790</td>\n",
       "      <td>1</td>\n",
       "      <td>0000000000.00</td>\n",
       "    </tr>\n",
       "    <tr>\n",
       "      <th>91</th>\n",
       "      <td>0000092</td>\n",
       "      <td>38270</td>\n",
       "      <td>201903</td>\n",
       "      <td>014</td>\n",
       "      <td>09</td>\n",
       "      <td>99999999999999999999</td>\n",
       "      <td>00000000015004226_20150101</td>\n",
       "      <td>1</td>\n",
       "      <td>42790</td>\n",
       "      <td>99999999</td>\n",
       "      <td>99999999</td>\n",
       "      <td>99999999</td>\n",
       "      <td>-000098758.46</td>\n",
       "      <td>1</td>\n",
       "      <td>01</td>\n",
       "      <td>790</td>\n",
       "      <td>1</td>\n",
       "      <td>0000000000.00</td>\n",
       "    </tr>\n",
       "    <tr>\n",
       "      <th>92</th>\n",
       "      <td>0000093</td>\n",
       "      <td>38270</td>\n",
       "      <td>201903</td>\n",
       "      <td>017</td>\n",
       "      <td>09</td>\n",
       "      <td>99999999999999999999</td>\n",
       "      <td>00000000015004226_20150101</td>\n",
       "      <td>1</td>\n",
       "      <td>42790</td>\n",
       "      <td>99999999</td>\n",
       "      <td>99999999</td>\n",
       "      <td>99999999</td>\n",
       "      <td>0000005581.00</td>\n",
       "      <td>3</td>\n",
       "      <td>01</td>\n",
       "      <td>790</td>\n",
       "      <td>1</td>\n",
       "      <td>0000000000.00</td>\n",
       "    </tr>\n",
       "    <tr>\n",
       "      <th>93</th>\n",
       "      <td>0000094</td>\n",
       "      <td>38270</td>\n",
       "      <td>201903</td>\n",
       "      <td>023</td>\n",
       "      <td>09</td>\n",
       "      <td>99999999999999999999</td>\n",
       "      <td>00000000015004226_20150101</td>\n",
       "      <td>1</td>\n",
       "      <td>42790</td>\n",
       "      <td>99999999</td>\n",
       "      <td>99999999</td>\n",
       "      <td>99999999</td>\n",
       "      <td>-000089009.43</td>\n",
       "      <td>3</td>\n",
       "      <td>01</td>\n",
       "      <td>790</td>\n",
       "      <td>1</td>\n",
       "      <td>0000000000.00</td>\n",
       "    </tr>\n",
       "  </tbody>\n",
       "</table>\n",
       "<p>94 rows × 18 columns</p>\n",
       "</div>"
      ],
      "text/plain": [
       "     MSRSEQ ENTCODIGO MRFMESANO TPMORESSID GRACODIGO             MSRNUMSIN  \\\n",
       "0   0000001     38270    201901        012        01  99999999999999999999   \n",
       "1   0000002     38270    201901        014        03  99999999999999999999   \n",
       "2   0000003     38270    201901        012        06  99999999999999999999   \n",
       "3   0000004     38270    201901        012        15  99999999999999999999   \n",
       "4   0000005     38270    201901        023        01  99999999999999999999   \n",
       "..      ...       ...       ...        ...       ...                   ...   \n",
       "89  0000090     38270    201903        017        09  99999999999999999999   \n",
       "90  0000091     38270    201903        023        09  99999999999999999999   \n",
       "91  0000092     38270    201903        014        09  99999999999999999999   \n",
       "92  0000093     38270    201903        017        09  99999999999999999999   \n",
       "93  0000094     38270    201903        023        09  99999999999999999999   \n",
       "\n",
       "                    MSRNUMCONT MSRTIPOCONT MSRCODCESS MSRDATACOMUNICA  \\\n",
       "0   00000000001148373_20140101           1      42790        99999999   \n",
       "1   00000000001148373_20140101           1      42790        99999999   \n",
       "2   00000000001148373_20140101           1      42790        99999999   \n",
       "3   00000000001148373_20140101           1      42790        99999999   \n",
       "4   00000000001148373_20140101           1      42790        99999999   \n",
       "..                         ...         ...        ...             ...   \n",
       "89  00000000015004226_20140101           1      42790        99999999   \n",
       "90  00000000015004226_20140101           1      42790        99999999   \n",
       "91  00000000015004226_20150101           1      42790        99999999   \n",
       "92  00000000015004226_20150101           1      42790        99999999   \n",
       "93  00000000015004226_20150101           1      42790        99999999   \n",
       "\n",
       "   MSRDATAREG MSRDATAOCORR    MSRVALORMOV MSRTIPOSIN MSRMODCONT MSRMOEDA  \\\n",
       "0    99999999     99999999  0000110434.56          1         01      790   \n",
       "1    99999999     99999999  -000033707.92          1         01      790   \n",
       "2    99999999     99999999  0000000411.14          1         01      790   \n",
       "3    99999999     99999999  0000029280.79          1         01      790   \n",
       "4    99999999     99999999  0000008074.77          3         01      790   \n",
       "..        ...          ...            ...        ...        ...      ...   \n",
       "89   99999999     99999999  0000039781.00          3         01      790   \n",
       "90   99999999     99999999  0000089009.43          3         01      790   \n",
       "91   99999999     99999999  -000098758.46          1         01      790   \n",
       "92   99999999     99999999  0000005581.00          3         01      790   \n",
       "93   99999999     99999999  -000089009.43          3         01      790   \n",
       "\n",
       "   MSRBASEIND    MSRVALORMON  \n",
       "0           1  0000000000.00  \n",
       "1           1  0000000000.00  \n",
       "2           1  0000000000.00  \n",
       "3           1  0000000000.00  \n",
       "4           1  0000000000.00  \n",
       "..        ...            ...  \n",
       "89          1  0000000000.00  \n",
       "90          1  0000000000.00  \n",
       "91          1  0000000000.00  \n",
       "92          1  0000000000.00  \n",
       "93          1  0000000000.00  \n",
       "\n",
       "[94 rows x 18 columns]"
      ]
     },
     "execution_count": 5,
     "metadata": {},
     "output_type": "execute_result"
    }
   ],
   "source": [
    "nome     = param9.Campo                      ### guarda os nomes das colunas existentes no quadro 405\n",
    "i        = param9.Ind_inf                    ### guarda a posição no arquivo que inicia um determinado campo\n",
    "j        = param9.Ind_sup                    ### guarda a posição no arquivo que termina um determinado campo\n",
    "\n",
    "quadro = qe_s()       \n",
    "df_main = quadro.make_df()\n",
    "df_main\n",
    "\n",
    "## SELECINE O(S) ARQUIVO(S) DESEJADO(S)"
   ]
  },
  {
   "cell_type": "code",
   "execution_count": 6,
   "metadata": {},
   "outputs": [],
   "source": [
    "###################################\n",
    "###Importacao do Quadro405.xlsx ###\n",
    "####que serão usados para fins#####\n",
    "######### de comparação ###########\n",
    "###################################\n",
    "\n",
    "#Pasta RAMCODIGO\n",
    "arq_ramcod = pd.read_excel('Quadro405.xlsx','RAMCODIGO',fileEncoding = \"UTF-8\",encoding = 'latin_1', dtype=str)\n",
    "\n",
    "#Pasta Cod_SUSEP\n",
    "arq_entcod = pd.read_excel('Quadro405.xlsx','Cod_SUSEP',fileEncoding = \"UTF-8\",encoding = 'latin_1', dtype=str)\n",
    "\n",
    "#Pasta MRFMESANO\n",
    "arq_mrfmesano = pd.read_excel('Quadro405.xlsx','MRFMESANO',fileEncoding = \"UTF-8\",encoding = 'latin_1', dtype=str)\n",
    "\n",
    "#Pasta TPMORESSID\n",
    "arq_tpmoressid = pd.read_excel('Quadro405.xlsx','TPMORESSID',fileEncoding = \"UTF-8\",encoding = 'latin_1', dtype=str)\n",
    "\n",
    "#Pasta MSRTIPOCONT\n",
    "arq_msrtipocont = pd.read_excel('Quadro405.xlsx','MSRTIPOCONT',fileEncoding = \"UTF-8\",encoding = 'latin_1', dtype=str)\n",
    "\n",
    "#Pasta MSRTIPOSIN\n",
    "arq_msrtiposin = pd.read_excel('Quadro405.xlsx','MSRTIPOSIN',fileEncoding = \"UTF-8\",encoding = 'latin_1', dtype=str)\n",
    "\n",
    "#Pasta MSRMODCONT\n",
    "arq_msrmodcont = pd.read_excel('Quadro405.xlsx','MSRMODCONT',fileEncoding = \"UTF-8\",encoding = 'latin_1', dtype=str)\n",
    "\n",
    "#Pasta MSRMOEDA\n",
    "arq_msrmoeda = pd.read_excel('Quadro405.xlsx','MSRMOEDA',fileEncoding = \"UTF-8\",encoding = 'latin_1', dtype=str)\n",
    "\n",
    "#Pasta MSRBASEIND\n",
    "arq_msrbaseind = pd.read_excel('Quadro405.xlsx','MSRBASEIND',fileEncoding = \"UTF-8\",encoding = 'latin_1', dtype=str)"
   ]
  },
  {
   "cell_type": "code",
   "execution_count": 7,
   "metadata": {},
   "outputs": [],
   "source": [
    "# Criando uma lista para guardar todas as criticas impeditivas\n",
    "criticas_impeditivas = []\n",
    "criticas = []"
   ]
  },
  {
   "cell_type": "markdown",
   "metadata": {},
   "source": [
    "# Criticas (Validacoes)"
   ]
  },
  {
   "cell_type": "code",
   "execution_count": 8,
   "metadata": {},
   "outputs": [],
   "source": [
    "#8044.2 Verifica o tamanho padrão da linha (deve conter 132 caracteres) \n",
    "tamanho = 0\n",
    "for i in range(0,df_main.shape[0]):                    #Passando por cada linha\n",
    "    for iten in df_main.columns:                       #Passando por cada coluna\n",
    "        tamanho = tamanho + len(df_main[iten][i])      #Contando Caracteres por linha\n",
    "    if tamanho != 132:\n",
    "        print('Erro na linha ',i,' o número de caracteres é de: ',tamanho)\n",
    "        critica8044_2 = (\"Critica 8044.2, Erro na linha \",i,\" o número de caracteres é de: \",tamanho)\n",
    "        criticas_impeditivas.append(critica8044_2)\n",
    "    tamanho = 0"
   ]
  },
  {
   "cell_type": "code",
   "execution_count": 9,
   "metadata": {},
   "outputs": [
    {
     "name": "stdout",
     "output_type": "stream",
     "text": [
      "Tudo certo, esta de forma sequencial.\n"
     ]
    }
   ],
   "source": [
    "#8044.3 Verifica se o campo sequencial MSRSEQ é uma sequência válida, que se inicia em 0000001 \n",
    "array3 = df_main['MSRSEQ']\n",
    "x = list(array3)                                     ##Dados do arquivo\n",
    "arrayteste = x[:]\n",
    "arrayteste.sort()                                    ##Dados sequenciados\n",
    "if (arrayteste == x):                                ##Comparando\n",
    "    print('Tudo certo, esta de forma sequencial.')\n",
    "else: \n",
    "    print('ERRO!!!, Não prossiga.')\n",
    "    critica8044_3 = str('Critica 8044.3, Não temos uma sequencia valida na coluna MSRSEQ')\n",
    "    criticas_impeditivas.append(critica8044_3)"
   ]
  },
  {
   "cell_type": "code",
   "execution_count": 10,
   "metadata": {},
   "outputs": [
    {
     "name": "stdout",
     "output_type": "stream",
     "text": [
      "ENTCODIGO corresponde a um tipo de operação válida. 38270\n"
     ]
    }
   ],
   "source": [
    "#8044.4 Verifica se o campo ENTCODIGO corresponde à sociedade que está enviando o FIP/SUSEP\n",
    "entcod = set(arq_entcod['Cod_SUSEP'].astype('str'))                   #Escolhendo a coluna do arquivo modelo\n",
    "dadosentcod = set(df_main['ENTCODIGO'])                               #Escolhendo a coluna dos dados\n",
    "for itemtentcod in dadosentcod: \n",
    "    if itemtentcod not in entcod:\n",
    "        print('ERRO!! ENTCODIGO não corresponde a uma operação valida', itemtentcod)\n",
    "        critica8044_4 = ('Critica 8044.4, ENTCODIGO não corresponde a uma operação valida', itemtentcod)\n",
    "        criticas_impeditivas.append(critica8044_4)\n",
    "    else:\n",
    "        print('ENTCODIGO corresponde a um tipo de operação válida.', itemtentcod)\n",
    "        continue"
   ]
  },
  {
   "cell_type": "code",
   "execution_count": 11,
   "metadata": {},
   "outputs": [
    {
     "name": "stdout",
     "output_type": "stream",
     "text": [
      "0    2019-01-01\n",
      "1    2019-01-01\n",
      "2    2019-01-01\n",
      "3    2019-01-01\n",
      "4    2019-01-01\n",
      "        ...    \n",
      "89   2019-03-01\n",
      "90   2019-03-01\n",
      "91   2019-03-01\n",
      "92   2019-03-01\n",
      "93   2019-03-01\n",
      "Name: MRFMESANO, Length: 94, dtype: datetime64[ns]\n"
     ]
    }
   ],
   "source": [
    "#8044.5 Verifica se o campo MRFMESANO corresponde a um ano e mês válidos\n",
    "try:\n",
    "    mr = (df_main['MRFMESANO'] + '01')\n",
    "    mr = pd.to_datetime(mr)\n",
    "    print(mr)\n",
    "except ValueError:\n",
    "    print('ERROOO!! MRFMESANO corresponde a um ano e mês válidos')\n",
    "    critica8044_5 = ('Critica 8044.5, MRFMESANO corresponde a um ano e mês válidos')\n",
    "    criticas_impeditivas.append(critica8044_5)"
   ]
  },
  {
   "cell_type": "code",
   "execution_count": 12,
   "metadata": {},
   "outputs": [
    {
     "name": "stdout",
     "output_type": "stream",
     "text": [
      "TPMORESSID corresponde a um tipo de movimento válido. 17\n",
      "TPMORESSID corresponde a um tipo de movimento válido. 12\n",
      "TPMORESSID corresponde a um tipo de movimento válido. 14\n",
      "TPMORESSID corresponde a um tipo de movimento válido. 23\n"
     ]
    }
   ],
   "source": [
    "#8044.6 Verifica se o campo TPMORESSID corresponde a um tipo de movimento válido (conforme tabela 'TiposMovimentosResseguros' do FIPSUSEP)\n",
    "df_main.loc[:,'iTPMORESSID'] = df_main['TPMORESSID'].astype('int64')\n",
    "tpmoressid = set(arq_tpmoressid['TPMORESSID'].astype('int64'))                   #Escolhendo a coluna do arquivo modelo\n",
    "dadostpmoressid = set(df_main['iTPMORESSID'])                               #Escolhendo a coluna dos dados\n",
    "for itemtpmoressid in dadostpmoressid: \n",
    "    if itemtpmoressid not in tpmoressid:\n",
    "        print('ERRO!! TPMORESSID não corresponde a um tipo de movimento válido', itemtpmoressid)\n",
    "        critica8044_6 = ('Critica 8044.6, TPMORESSID não corresponde a um tipo de movimento válido', itemtpmoressid)\n",
    "        criticas_impeditivas.append(critica8044_6)\n",
    "    else:\n",
    "        print('TPMORESSID corresponde a um tipo de movimento válido.', itemtpmoressid)\n",
    "        continue"
   ]
  },
  {
   "cell_type": "code",
   "execution_count": 13,
   "metadata": {},
   "outputs": [
    {
     "name": "stdout",
     "output_type": "stream",
     "text": [
      "GRACODIGO corresponde a um grupo de ramos válido operado pelo ressegurador 09\n",
      "GRACODIGO corresponde a um grupo de ramos válido operado pelo ressegurador 11\n",
      "GRACODIGO corresponde a um grupo de ramos válido operado pelo ressegurador 15\n",
      "GRACODIGO corresponde a um grupo de ramos válido operado pelo ressegurador 06\n",
      "GRACODIGO corresponde a um grupo de ramos válido operado pelo ressegurador 03\n",
      "GRACODIGO corresponde a um grupo de ramos válido operado pelo ressegurador 14\n",
      "GRACODIGO corresponde a um grupo de ramos válido operado pelo ressegurador 01\n",
      "GRACODIGO corresponde a um grupo de ramos válido operado pelo ressegurador 07\n"
     ]
    }
   ],
   "source": [
    "#8044.7 Verifica se o campo GRACODIGO corresponde a um grupo de ramos válido operado pelo ressegurador \n",
    "ramcod = set(arq_ramcod['graCodigo'].astype('str'))                 #Escolhendo a coluna do arquivo modelo\n",
    "dadosramcod = set(df_main['GRACODIGO'])                                 #Escolhendo a coluna dos dados\n",
    "for itemramcod in dadosramcod: \n",
    "    if itemramcod not in ramcod:\n",
    "        print('ERRO!! GRACODIGO não corresponde a um grupo de ramos válido operado pelo ressegurador', itemramcod)\n",
    "        critica8044_7 = ('Critica 8044.7, GRACODIGO não corresponde a um grupo de ramos válido operado pelo ressegurador', itemramcod)\n",
    "        criticas_impeditivas.append(critica8044_7)\n",
    "    else:\n",
    "        print('GRACODIGO corresponde a um grupo de ramos válido operado pelo ressegurador', itemramcod)\n",
    "        continue"
   ]
  },
  {
   "cell_type": "code",
   "execution_count": 14,
   "metadata": {},
   "outputs": [
    {
     "name": "stdout",
     "output_type": "stream",
     "text": [
      "MSRTIPOCONT foi preenchido com um tipo de contrato válido 1\n"
     ]
    }
   ],
   "source": [
    "#8044.8 Verifica se o campo MSRTIPOCONT foi preenchido com um tipo de contrato válido \n",
    "msrtipocont = set(arq_msrtipocont['MSRTIPOCONT'].astype('str'))                 #Escolhendo a coluna do arquivo modelo\n",
    "dadosmsrtipocont = set(df_main['MSRTIPOCONT'])                                 #Escolhendo a coluna dos dados\n",
    "for itemmsrtipocont in dadosmsrtipocont: \n",
    "    if itemmsrtipocont not in msrtipocont:\n",
    "        print('ERRO!! MSRTIPOCONT não foi preenchido com um tipo de contrato válido', itemmsrtipocont)\n",
    "        critica8044_8 = ('Critica 8044.8, MSRTIPOCONT não foi preenchido com um tipo de contrato válido', itemmsrtipocont)\n",
    "        criticas_impeditivas.append(critica8044_8)\n",
    "    else:\n",
    "        print('MSRTIPOCONT foi preenchido com um tipo de contrato válido', itemmsrtipocont)\n",
    "        continue"
   ]
  },
  {
   "cell_type": "code",
   "execution_count": 15,
   "metadata": {},
   "outputs": [],
   "source": [
    "#8044.11  Verifica se o valor dos campos MSRVALORMOV e MSRVALORMON é float \n",
    "\n",
    "###########################################\n",
    "##Readicionando as colunas str para float##\n",
    "###########################################\n",
    "\n",
    "df_main.loc[:,'fMSRVALORMOV'] = df_main['MSRVALORMOV'].astype('float64')\n",
    "df_main.loc[:,'fMSRVALORMON'] = df_main['MSRVALORMON'].astype('float64')\n",
    "\n",
    "#Adicionado colunas fMSRVALORMOV e fMSRVALORMON no tipo Float"
   ]
  },
  {
   "cell_type": "code",
   "execution_count": 16,
   "metadata": {},
   "outputs": [
    {
     "name": "stdout",
     "output_type": "stream",
     "text": [
      "MSRTIPOSIN foi preenchido com um tipo de sinistro válido 3\n",
      "MSRTIPOSIN foi preenchido com um tipo de sinistro válido 1\n"
     ]
    }
   ],
   "source": [
    "#8044.12 Verifica se o campo MSRTIPOSIN foi preenchido com um tipo de sinistro válido\n",
    "msrtiposin = set(arq_msrtiposin['MSRTIPOSIN'].astype('str'))                 #Escolhendo a coluna do arquivo modelo\n",
    "dadosmsrtiposin = set(df_main['MSRTIPOSIN'])                                 #Escolhendo a coluna dos dados\n",
    "for itemmsrtiposin in dadosmsrtiposin: \n",
    "    if itemmsrtiposin not in msrtiposin:\n",
    "        print('ERRO!! MSRTIPOSIN não foi preenchido com um tipo de sinistro válido', itemmsrtiposin)\n",
    "        critica8044_12 = ('Critica 8044.12, MSRTIPOSIN não foi preenchido com um tipo de sinistro válido', itemmsrtiposin)\n",
    "        criticas_impeditivas.append(critica8044_12)\n",
    "    else:\n",
    "        print('MSRTIPOSIN foi preenchido com um tipo de sinistro válido', itemmsrtiposin)\n",
    "        continue"
   ]
  },
  {
   "cell_type": "code",
   "execution_count": 17,
   "metadata": {},
   "outputs": [
    {
     "name": "stdout",
     "output_type": "stream",
     "text": [
      "MSRMODCONT foi preenchido com uma modalidade de contrato válida 1\n",
      "MSRMODCONT foi preenchido com uma modalidade de contrato válida 3\n"
     ]
    }
   ],
   "source": [
    "#8044.13 Verifica se o campo MSRMODCONT foi preenchido com uma modalidade de contrato válida, exceto nos casos em que o tipo de contrato seja ‘Facultativo’, quando o campo deve ser preenchido com ‘99’ \n",
    "msrmodcont = set(arq_msrmodcont['MSRMODCONT'].astype('int64'))                 #Escolhendo a coluna do arquivo modelo\n",
    "dadosmsrmodcont = set(df_main['MSRMODCONT'].astype('int64'))                                 #Escolhendo a coluna dos dados\n",
    "for itemmsrmodcont in dadosmsrmodcont: \n",
    "    if itemmsrmodcont not in msrmodcont:\n",
    "        print('ERRO!! MSRMODCONT não foi preenchido com uma modalidade de contrato válida', itemmsrmodcont)\n",
    "        critica8044_13 = ('Critica 8044.13, MSRMODCONT não foi preenchido com uma modalidade de contrato válida', itemmsrmodcont)\n",
    "        criticas_impeditivas.append(critica8044_13)\n",
    "    else:\n",
    "        print('MSRMODCONT foi preenchido com uma modalidade de contrato válida', itemmsrmodcont)\n",
    "        continue"
   ]
  },
  {
   "cell_type": "code",
   "execution_count": 18,
   "metadata": {},
   "outputs": [
    {
     "name": "stdout",
     "output_type": "stream",
     "text": [
      "MSRMOEDA foi preenchido com uma moeda válida 790\n",
      "MSRMOEDA foi preenchido com uma moeda válida 220\n"
     ]
    }
   ],
   "source": [
    "#8044.14 Verifica se o campo MSRMOEDA foi preenchido com uma moeda válida \n",
    "msrmoeda = set(arq_msrmoeda['Código'].astype('str'))                 #Escolhendo a coluna do arquivo modelo\n",
    "dadosmsrmoeda = set(df_main['MSRMOEDA'])                                 #Escolhendo a coluna dos dados\n",
    "for itemmsrmoeda in dadosmsrmoeda: \n",
    "    if itemmsrmoeda not in msrmoeda:\n",
    "        print('ERRO!! MSRMOEDA não foi preenchido com uma moeda válida', itemmsrmoeda)\n",
    "        critica8044_14 = ('Critica 8044.14, MSRMOEDA não foi preenchido com uma moeda válida', itemmsrmoeda)\n",
    "        criticas_impeditivas.append(critica8044_14)\n",
    "    else:\n",
    "        print('MSRMOEDA foi preenchido com uma moeda válida', itemmsrmoeda)\n",
    "        continue"
   ]
  },
  {
   "cell_type": "code",
   "execution_count": 19,
   "metadata": {},
   "outputs": [
    {
     "name": "stdout",
     "output_type": "stream",
     "text": [
      "MSRBASEIND foi preenchido com uma base indenitária válida 2\n",
      "MSRBASEIND foi preenchido com uma base indenitária válida 1\n"
     ]
    }
   ],
   "source": [
    "#8044.15 Verifica se o campo MSRBASEIND foi preenchido com uma base indenitária válida \n",
    "msrbaseind = set(arq_msrbaseind['MSRBASEIND'].astype('str'))                 #Escolhendo a coluna do arquivo modelo\n",
    "dadosmsrbaseind = set(df_main['MSRBASEIND'])                                 #Escolhendo a coluna dos dados\n",
    "for itemmsrbaseind in dadosmsrbaseind: \n",
    "    if itemmsrbaseind not in msrbaseind:\n",
    "        print('ERRO!! MSRBASEIND não foi preenchido com uma base indenitária válida', itemmsrbaseind)\n",
    "        critica8044_15 = ('Critica 8044.15, MSRBASEIND não foi preenchido com uma base indenitária válida', itemmsrbaseind)\n",
    "        criticas_impeditivas.append(critica8044_15)\n",
    "    else:\n",
    "        print('MSRBASEIND foi preenchido com uma base indenitária válida', itemmsrbaseind)\n",
    "        continue"
   ]
  },
  {
   "cell_type": "code",
   "execution_count": 20,
   "metadata": {},
   "outputs": [
    {
     "data": {
      "text/plain": [
       "[]"
      ]
     },
     "execution_count": 20,
     "metadata": {},
     "output_type": "execute_result"
    }
   ],
   "source": [
    "criticas_impeditivas  #Lista das criticas impeditivas"
   ]
  },
  {
   "cell_type": "code",
   "execution_count": 21,
   "metadata": {},
   "outputs": [
    {
     "data": {
      "text/html": [
       "<div>\n",
       "<style scoped>\n",
       "    .dataframe tbody tr th:only-of-type {\n",
       "        vertical-align: middle;\n",
       "    }\n",
       "\n",
       "    .dataframe tbody tr th {\n",
       "        vertical-align: top;\n",
       "    }\n",
       "\n",
       "    .dataframe thead th {\n",
       "        text-align: right;\n",
       "    }\n",
       "</style>\n",
       "<table border=\"1\" class=\"dataframe\">\n",
       "  <thead>\n",
       "    <tr style=\"text-align: right;\">\n",
       "      <th></th>\n",
       "    </tr>\n",
       "  </thead>\n",
       "  <tbody>\n",
       "  </tbody>\n",
       "</table>\n",
       "</div>"
      ],
      "text/plain": [
       "Empty DataFrame\n",
       "Columns: []\n",
       "Index: []"
      ]
     },
     "execution_count": 21,
     "metadata": {},
     "output_type": "execute_result"
    }
   ],
   "source": [
    "df_criticas_i = pd.DataFrame(criticas_impeditivas)     #criacao do DataFrame das criticas impeditivas\n",
    "df_criticas_i = df_criticas_i.rename(columns={0:'Descrição'})\n",
    "df_criticas_i"
   ]
  },
  {
   "cell_type": "code",
   "execution_count": 22,
   "metadata": {},
   "outputs": [
    {
     "name": "stdout",
     "output_type": "stream",
     "text": [
      "Nenhuma Critica Impeditiva encontrada no Quadro 380\n"
     ]
    }
   ],
   "source": [
    "if criticas_impeditivas == []:                             # Verificando se a lista de criticas esta vazia\n",
    "    print('Nenhuma Critica Impeditiva encontrada no Quadro 380')\n",
    "else:\n",
    "    print('Foi encontrada uma ou mais Criticas Impeditivas no Quadro 380')\n",
    "    df_criticas_i.to_csv('Criticas_Impeditivas_380.csv')   # Gerando csv das criticas impeditivas"
   ]
  },
  {
   "cell_type": "markdown",
   "metadata": {},
   "source": [
    "# Criticas (Validacoes) Não Impeditivas"
   ]
  },
  {
   "cell_type": "code",
   "execution_count": 23,
   "metadata": {},
   "outputs": [
    {
     "data": {
      "text/html": [
       "<div>\n",
       "<style scoped>\n",
       "    .dataframe tbody tr th:only-of-type {\n",
       "        vertical-align: middle;\n",
       "    }\n",
       "\n",
       "    .dataframe tbody tr th {\n",
       "        vertical-align: top;\n",
       "    }\n",
       "\n",
       "    .dataframe thead th {\n",
       "        text-align: right;\n",
       "    }\n",
       "</style>\n",
       "<table border=\"1\" class=\"dataframe\">\n",
       "  <thead>\n",
       "    <tr style=\"text-align: right;\">\n",
       "      <th></th>\n",
       "      <th>MSRSEQ</th>\n",
       "      <th>ENTCODIGO</th>\n",
       "      <th>MRFMESANO</th>\n",
       "      <th>TPMORESSID</th>\n",
       "      <th>GRACODIGO</th>\n",
       "      <th>MSRNUMSIN</th>\n",
       "      <th>MSRNUMCONT</th>\n",
       "      <th>MSRTIPOCONT</th>\n",
       "      <th>MSRCODCESS</th>\n",
       "      <th>MSRDATACOMUNICA</th>\n",
       "      <th>...</th>\n",
       "      <th>MSRDATAOCORR</th>\n",
       "      <th>MSRVALORMOV</th>\n",
       "      <th>MSRTIPOSIN</th>\n",
       "      <th>MSRMODCONT</th>\n",
       "      <th>MSRMOEDA</th>\n",
       "      <th>MSRBASEIND</th>\n",
       "      <th>MSRVALORMON</th>\n",
       "      <th>iTPMORESSID</th>\n",
       "      <th>fMSRVALORMOV</th>\n",
       "      <th>fMSRVALORMON</th>\n",
       "    </tr>\n",
       "  </thead>\n",
       "  <tbody>\n",
       "  </tbody>\n",
       "</table>\n",
       "<p>0 rows × 21 columns</p>\n",
       "</div>"
      ],
      "text/plain": [
       "Empty DataFrame\n",
       "Columns: [MSRSEQ, ENTCODIGO, MRFMESANO, TPMORESSID, GRACODIGO, MSRNUMSIN, MSRNUMCONT, MSRTIPOCONT, MSRCODCESS, MSRDATACOMUNICA, MSRDATAREG, MSRDATAOCORR, MSRVALORMOV, MSRTIPOSIN, MSRMODCONT, MSRMOEDA, MSRBASEIND, MSRVALORMON, iTPMORESSID, fMSRVALORMOV, fMSRVALORMON]\n",
       "Index: []\n",
       "\n",
       "[0 rows x 21 columns]"
      ]
     },
     "execution_count": 23,
     "metadata": {},
     "output_type": "execute_result"
    }
   ],
   "source": [
    "#8044.9 Verifica se o campo MSRCODCESS corresponde a um código de sociedade válido\n",
    "df_mains = df_main.copy()\n",
    "df_mains['MSRCODCESS'] = df_mains['MSRCODCESS'].astype('int64')\n",
    "mask9 = ((df_mains['MSRCODCESS'].values < 1) & (df_mains['MSRCODCESS'].values > 19999)) | ((df_mains['MSRCODCESS'].values < 30000) & (df_mains['MSRCODCESS'].values > 59999))\n",
    "df9 = df_main.loc[mask9]\n",
    "if len(df9) > 0:\n",
    "    df9.loc[:,'ID da Critica'] = ('CRITICA 8044.09')\n",
    "df9"
   ]
  },
  {
   "cell_type": "code",
   "execution_count": 24,
   "metadata": {},
   "outputs": [
    {
     "name": "stdout",
     "output_type": "stream",
     "text": [
      "Valida  2018-04-07 00:00:00\n",
      "Campo preenchido com  99999999\n",
      "Valida  2019-01-25 00:00:00\n"
     ]
    }
   ],
   "source": [
    "#8044.10 Verifica se os campos MSRDATAOCORR, MSRDATACOMUNICA e MSRDATAREG correspondem a uma data válida. Nos casos em que a modalidade do contrato seja 'Proporcional: Cota Parte' ou 'Proporcional: ER' (MSRMODCONT 1, 2), os campos podem ser preenchidos com '99999999'\n",
    "# Campo MSRDATAOCORR\n",
    "mask10_1 = set(df_main['MSRDATAOCORR'])\n",
    "for item10_1 in mask10_1:\n",
    "    try:\n",
    "        x = pd.to_datetime(item10_1)\n",
    "        print('Valida ',x)\n",
    "    except ValueError:\n",
    "        if item10_1 == '99999999':\n",
    "            print(\"Campo preenchido com \",item10_1)\n",
    "        else:\n",
    "            print(\"Campo preenchido com \",item10_1)\n",
    "            critica8044_10 = ('Critica 8044.10, MSRDATAOCORR não correspondem a uma data válida', item10_1)\n",
    "            criticas_impeditivas.append(critica8044_10)"
   ]
  },
  {
   "cell_type": "code",
   "execution_count": 25,
   "metadata": {},
   "outputs": [
    {
     "name": "stdout",
     "output_type": "stream",
     "text": [
      "Valida  2019-01-31 00:00:00\n",
      "Valida  2018-05-11 00:00:00\n",
      "Campo preenchido com  99999999\n"
     ]
    }
   ],
   "source": [
    "# Campo MSRDATACOMUNICA\n",
    "mask10_2 = set(df_main['MSRDATACOMUNICA'])\n",
    "for item10_2 in mask10_2:\n",
    "    try:\n",
    "        x = pd.to_datetime(item10_2)\n",
    "        print('Valida ',x)\n",
    "    except ValueError:\n",
    "        if item10_2 == '99999999':\n",
    "            print(\"Campo preenchido com \",item10_2)\n",
    "        else:\n",
    "            print(\"Campo preenchido com \",item10_2)\n",
    "            critica8044_10 = ('Critica 8044.10, MSRDATACOMUNICA não correspondem a uma data válida', item10_2)\n",
    "            criticas_impeditivas.append(critica8044_10)"
   ]
  },
  {
   "cell_type": "code",
   "execution_count": 26,
   "metadata": {},
   "outputs": [
    {
     "name": "stdout",
     "output_type": "stream",
     "text": [
      "Valida  2019-01-31 00:00:00\n",
      "Valida  2018-05-11 00:00:00\n",
      "Campo preenchido com  99999999\n"
     ]
    }
   ],
   "source": [
    "# Campo MSRDATAREG\n",
    "mask10_3 = set(df_main['MSRDATAREG'])\n",
    "for item10_3 in mask10_3:\n",
    "    try:\n",
    "        x = pd.to_datetime(item10_3)\n",
    "        print('Valida ',x)\n",
    "    except ValueError:\n",
    "        if item10_2 == '99999999':\n",
    "            print(\"Campo preenchido com \",item10_3)\n",
    "        else:\n",
    "            print(\"Campo preenchido com \",item10_3)\n",
    "            critica8044_10 = ('Critica 8044.10, MSRDATAREG não correspondem a uma data válida', item10_3)\n",
    "            criticas_impeditivas.append(critica8044_10)"
   ]
  },
  {
   "cell_type": "code",
   "execution_count": 27,
   "metadata": {},
   "outputs": [
    {
     "data": {
      "text/html": [
       "<div>\n",
       "<style scoped>\n",
       "    .dataframe tbody tr th:only-of-type {\n",
       "        vertical-align: middle;\n",
       "    }\n",
       "\n",
       "    .dataframe tbody tr th {\n",
       "        vertical-align: top;\n",
       "    }\n",
       "\n",
       "    .dataframe thead th {\n",
       "        text-align: right;\n",
       "    }\n",
       "</style>\n",
       "<table border=\"1\" class=\"dataframe\">\n",
       "  <thead>\n",
       "    <tr style=\"text-align: right;\">\n",
       "      <th></th>\n",
       "      <th>MSRSEQ</th>\n",
       "      <th>ENTCODIGO</th>\n",
       "      <th>MRFMESANO</th>\n",
       "      <th>TPMORESSID</th>\n",
       "      <th>GRACODIGO</th>\n",
       "      <th>MSRNUMSIN</th>\n",
       "      <th>MSRNUMCONT</th>\n",
       "      <th>MSRTIPOCONT</th>\n",
       "      <th>MSRCODCESS</th>\n",
       "      <th>MSRDATACOMUNICA</th>\n",
       "      <th>...</th>\n",
       "      <th>MSRDATAOCORR</th>\n",
       "      <th>MSRVALORMOV</th>\n",
       "      <th>MSRTIPOSIN</th>\n",
       "      <th>MSRMODCONT</th>\n",
       "      <th>MSRMOEDA</th>\n",
       "      <th>MSRBASEIND</th>\n",
       "      <th>MSRVALORMON</th>\n",
       "      <th>iTPMORESSID</th>\n",
       "      <th>fMSRVALORMOV</th>\n",
       "      <th>fMSRVALORMON</th>\n",
       "    </tr>\n",
       "  </thead>\n",
       "  <tbody>\n",
       "  </tbody>\n",
       "</table>\n",
       "<p>0 rows × 21 columns</p>\n",
       "</div>"
      ],
      "text/plain": [
       "Empty DataFrame\n",
       "Columns: [MSRSEQ, ENTCODIGO, MRFMESANO, TPMORESSID, GRACODIGO, MSRNUMSIN, MSRNUMCONT, MSRTIPOCONT, MSRCODCESS, MSRDATACOMUNICA, MSRDATAREG, MSRDATAOCORR, MSRVALORMOV, MSRTIPOSIN, MSRMODCONT, MSRMOEDA, MSRBASEIND, MSRVALORMON, iTPMORESSID, fMSRVALORMOV, fMSRVALORMON]\n",
       "Index: []\n",
       "\n",
       "[0 rows x 21 columns]"
      ]
     },
     "execution_count": 27,
     "metadata": {},
     "output_type": "execute_result"
    }
   ],
   "source": [
    "#8044.16 Exceto nos casos em que as datas foram preenchidas com '99999999', verifica se a data do campo MSRDATAOCORR é igual ou anterior à data dos campos MSRDATACOMUNICA \n",
    "mask16 = (df_main['MSRDATAOCORR'].astype('int64')) > (df_main['MSRDATACOMUNICA'].astype('int64'))\n",
    "df16 = df_main.loc[mask16]\n",
    "if len(df16) > 0:\n",
    "    df16.loc[:,'ID da Critica'] = ('CRITICA 8044.16')\n",
    "df16"
   ]
  },
  {
   "cell_type": "code",
   "execution_count": 28,
   "metadata": {},
   "outputs": [
    {
     "data": {
      "text/html": [
       "<div>\n",
       "<style scoped>\n",
       "    .dataframe tbody tr th:only-of-type {\n",
       "        vertical-align: middle;\n",
       "    }\n",
       "\n",
       "    .dataframe tbody tr th {\n",
       "        vertical-align: top;\n",
       "    }\n",
       "\n",
       "    .dataframe thead th {\n",
       "        text-align: right;\n",
       "    }\n",
       "</style>\n",
       "<table border=\"1\" class=\"dataframe\">\n",
       "  <thead>\n",
       "    <tr style=\"text-align: right;\">\n",
       "      <th></th>\n",
       "      <th>MSRSEQ</th>\n",
       "      <th>ENTCODIGO</th>\n",
       "      <th>MRFMESANO</th>\n",
       "      <th>TPMORESSID</th>\n",
       "      <th>GRACODIGO</th>\n",
       "      <th>MSRNUMSIN</th>\n",
       "      <th>MSRNUMCONT</th>\n",
       "      <th>MSRTIPOCONT</th>\n",
       "      <th>MSRCODCESS</th>\n",
       "      <th>MSRDATACOMUNICA</th>\n",
       "      <th>...</th>\n",
       "      <th>MSRDATAOCORR</th>\n",
       "      <th>MSRVALORMOV</th>\n",
       "      <th>MSRTIPOSIN</th>\n",
       "      <th>MSRMODCONT</th>\n",
       "      <th>MSRMOEDA</th>\n",
       "      <th>MSRBASEIND</th>\n",
       "      <th>MSRVALORMON</th>\n",
       "      <th>iTPMORESSID</th>\n",
       "      <th>fMSRVALORMOV</th>\n",
       "      <th>fMSRVALORMON</th>\n",
       "    </tr>\n",
       "  </thead>\n",
       "  <tbody>\n",
       "  </tbody>\n",
       "</table>\n",
       "<p>0 rows × 21 columns</p>\n",
       "</div>"
      ],
      "text/plain": [
       "Empty DataFrame\n",
       "Columns: [MSRSEQ, ENTCODIGO, MRFMESANO, TPMORESSID, GRACODIGO, MSRNUMSIN, MSRNUMCONT, MSRTIPOCONT, MSRCODCESS, MSRDATACOMUNICA, MSRDATAREG, MSRDATAOCORR, MSRVALORMOV, MSRTIPOSIN, MSRMODCONT, MSRMOEDA, MSRBASEIND, MSRVALORMON, iTPMORESSID, fMSRVALORMOV, fMSRVALORMON]\n",
       "Index: []\n",
       "\n",
       "[0 rows x 21 columns]"
      ]
     },
     "execution_count": 28,
     "metadata": {},
     "output_type": "execute_result"
    }
   ],
   "source": [
    "#8044.17 Exceto nos casos em que as datas foram preenchidas com '99999999', verifica se a data do campo MSRDATACOMUNICA é igual ou anterior à data do campo MSRDATAREG \n",
    "mask17 = (df_main['MSRDATACOMUNICA'].astype('int64')) > (df_main['MSRDATAREG'].astype('int64'))\n",
    "df17 = df_main.loc[mask17]\n",
    "if len(df17) > 0:\n",
    "    df17.loc[:,'ID da Critica'] = ('CRITICA 8044.17')\n",
    "df17"
   ]
  },
  {
   "cell_type": "code",
   "execution_count": 29,
   "metadata": {},
   "outputs": [
    {
     "name": "stderr",
     "output_type": "stream",
     "text": [
      "<ipython-input-29-5fae322f7936>:4: SettingWithCopyWarning: \n",
      "A value is trying to be set on a copy of a slice from a DataFrame.\n",
      "Try using .loc[row_indexer,col_indexer] = value instead\n",
      "\n",
      "See the caveats in the documentation: https://pandas.pydata.org/pandas-docs/stable/user_guide/indexing.html#returning-a-view-versus-a-copy\n",
      "  df18_rel['MRFMESANO'] = (df18_rel['MRFMESANO'] + '01')\n"
     ]
    },
    {
     "data": {
      "text/html": [
       "<div>\n",
       "<style scoped>\n",
       "    .dataframe tbody tr th:only-of-type {\n",
       "        vertical-align: middle;\n",
       "    }\n",
       "\n",
       "    .dataframe tbody tr th {\n",
       "        vertical-align: top;\n",
       "    }\n",
       "\n",
       "    .dataframe thead th {\n",
       "        text-align: right;\n",
       "    }\n",
       "</style>\n",
       "<table border=\"1\" class=\"dataframe\">\n",
       "  <thead>\n",
       "    <tr style=\"text-align: right;\">\n",
       "      <th></th>\n",
       "      <th>MSRSEQ</th>\n",
       "      <th>ENTCODIGO</th>\n",
       "      <th>MRFMESANO</th>\n",
       "      <th>TPMORESSID</th>\n",
       "      <th>GRACODIGO</th>\n",
       "      <th>MSRNUMSIN</th>\n",
       "      <th>MSRNUMCONT</th>\n",
       "      <th>MSRTIPOCONT</th>\n",
       "      <th>MSRCODCESS</th>\n",
       "      <th>MSRDATACOMUNICA</th>\n",
       "      <th>...</th>\n",
       "      <th>MSRDATAOCORR</th>\n",
       "      <th>MSRVALORMOV</th>\n",
       "      <th>MSRTIPOSIN</th>\n",
       "      <th>MSRMODCONT</th>\n",
       "      <th>MSRMOEDA</th>\n",
       "      <th>MSRBASEIND</th>\n",
       "      <th>MSRVALORMON</th>\n",
       "      <th>iTPMORESSID</th>\n",
       "      <th>fMSRVALORMOV</th>\n",
       "      <th>fMSRVALORMON</th>\n",
       "    </tr>\n",
       "  </thead>\n",
       "  <tbody>\n",
       "  </tbody>\n",
       "</table>\n",
       "<p>0 rows × 21 columns</p>\n",
       "</div>"
      ],
      "text/plain": [
       "Empty DataFrame\n",
       "Columns: [MSRSEQ, ENTCODIGO, MRFMESANO, TPMORESSID, GRACODIGO, MSRNUMSIN, MSRNUMCONT, MSRTIPOCONT, MSRCODCESS, MSRDATACOMUNICA, MSRDATAREG, MSRDATAOCORR, MSRVALORMOV, MSRTIPOSIN, MSRMODCONT, MSRMOEDA, MSRBASEIND, MSRVALORMON, iTPMORESSID, fMSRVALORMOV, fMSRVALORMON]\n",
       "Index: []\n",
       "\n",
       "[0 rows x 21 columns]"
      ]
     },
     "execution_count": 29,
     "metadata": {},
     "output_type": "execute_result"
    }
   ],
   "source": [
    "#8044.18 Exceto nos casos em que as datas foram preenchidas com '99999999', se o tipo de movimento for 'Aviso de Recuperação de Sinistro', verifica se o mês e ano da data do campo MSRDATAREG é igual ao mês e ano da data do campo MRFMESANO \n",
    "mask18_rel = (df_main['MSRDATAREG'] != '99999999') & (df_main['TPMORESSID'] == '012')\n",
    "df18_rel = df_main.loc[mask18_rel]\n",
    "df18_rel['MRFMESANO'] = (df18_rel['MRFMESANO'] + '01')\n",
    "maskmr = (df18_rel['MRFMESANO'].astype('datetime64')).dt.strftime(\"%Y-%m\")\n",
    "maskdtreg = (df18_rel['MSRDATAREG'].astype('datetime64')).dt.strftime(\"%Y-%m\")\n",
    "\n",
    "mask18 = ((maskdtreg) > (maskmr))\n",
    "df18 = df18_rel.loc[mask18]\n",
    "if len(df18) > 0:\n",
    "    df18.loc[:,'ID da Critica'] = ('CRITICA 8046.18')\n",
    "df18"
   ]
  },
  {
   "cell_type": "code",
   "execution_count": 31,
   "metadata": {},
   "outputs": [
    {
     "name": "stderr",
     "output_type": "stream",
     "text": [
      "C:\\ProgramData\\Anaconda3\\lib\\site-packages\\pandas\\core\\indexing.py:845: SettingWithCopyWarning: \n",
      "A value is trying to be set on a copy of a slice from a DataFrame.\n",
      "Try using .loc[row_indexer,col_indexer] = value instead\n",
      "\n",
      "See the caveats in the documentation: https://pandas.pydata.org/pandas-docs/stable/user_guide/indexing.html#returning-a-view-versus-a-copy\n",
      "  self.obj[key] = _infer_fill_value(value)\n",
      "C:\\ProgramData\\Anaconda3\\lib\\site-packages\\pandas\\core\\indexing.py:966: SettingWithCopyWarning: \n",
      "A value is trying to be set on a copy of a slice from a DataFrame.\n",
      "Try using .loc[row_indexer,col_indexer] = value instead\n",
      "\n",
      "See the caveats in the documentation: https://pandas.pydata.org/pandas-docs/stable/user_guide/indexing.html#returning-a-view-versus-a-copy\n",
      "  self.obj[item] = s\n"
     ]
    },
    {
     "data": {
      "text/html": [
       "<div>\n",
       "<style scoped>\n",
       "    .dataframe tbody tr th:only-of-type {\n",
       "        vertical-align: middle;\n",
       "    }\n",
       "\n",
       "    .dataframe tbody tr th {\n",
       "        vertical-align: top;\n",
       "    }\n",
       "\n",
       "    .dataframe thead th {\n",
       "        text-align: right;\n",
       "    }\n",
       "</style>\n",
       "<table border=\"1\" class=\"dataframe\">\n",
       "  <thead>\n",
       "    <tr style=\"text-align: right;\">\n",
       "      <th></th>\n",
       "      <th>MSRSEQ</th>\n",
       "      <th>ENTCODIGO</th>\n",
       "      <th>MRFMESANO</th>\n",
       "      <th>TPMORESSID</th>\n",
       "      <th>GRACODIGO</th>\n",
       "      <th>MSRNUMSIN</th>\n",
       "      <th>MSRNUMCONT</th>\n",
       "      <th>MSRTIPOCONT</th>\n",
       "      <th>MSRCODCESS</th>\n",
       "      <th>MSRDATACOMUNICA</th>\n",
       "      <th>...</th>\n",
       "      <th>MSRVALORMOV</th>\n",
       "      <th>MSRTIPOSIN</th>\n",
       "      <th>MSRMODCONT</th>\n",
       "      <th>MSRMOEDA</th>\n",
       "      <th>MSRBASEIND</th>\n",
       "      <th>MSRVALORMON</th>\n",
       "      <th>iTPMORESSID</th>\n",
       "      <th>fMSRVALORMOV</th>\n",
       "      <th>fMSRVALORMON</th>\n",
       "      <th>ID da Critica</th>\n",
       "    </tr>\n",
       "  </thead>\n",
       "  <tbody>\n",
       "    <tr>\n",
       "      <th>93</th>\n",
       "      <td>0000094</td>\n",
       "      <td>38270</td>\n",
       "      <td>201903</td>\n",
       "      <td>023</td>\n",
       "      <td>09</td>\n",
       "      <td>99999999999999999999</td>\n",
       "      <td>00000000015004226_20150101</td>\n",
       "      <td>1</td>\n",
       "      <td>42790</td>\n",
       "      <td>99999999</td>\n",
       "      <td>...</td>\n",
       "      <td>-000089009.43</td>\n",
       "      <td>3</td>\n",
       "      <td>01</td>\n",
       "      <td>790</td>\n",
       "      <td>1</td>\n",
       "      <td>0000000000.00</td>\n",
       "      <td>23</td>\n",
       "      <td>-89009.43</td>\n",
       "      <td>0.0</td>\n",
       "      <td>CRITICA 8044.19</td>\n",
       "    </tr>\n",
       "  </tbody>\n",
       "</table>\n",
       "<p>1 rows × 22 columns</p>\n",
       "</div>"
      ],
      "text/plain": [
       "     MSRSEQ ENTCODIGO MRFMESANO TPMORESSID GRACODIGO             MSRNUMSIN  \\\n",
       "93  0000094     38270    201903        023        09  99999999999999999999   \n",
       "\n",
       "                    MSRNUMCONT MSRTIPOCONT MSRCODCESS MSRDATACOMUNICA  ...  \\\n",
       "93  00000000015004226_20150101           1      42790        99999999  ...   \n",
       "\n",
       "      MSRVALORMOV MSRTIPOSIN MSRMODCONT MSRMOEDA MSRBASEIND    MSRVALORMON  \\\n",
       "93  -000089009.43          3         01      790          1  0000000000.00   \n",
       "\n",
       "   iTPMORESSID fMSRVALORMOV  fMSRVALORMON    ID da Critica  \n",
       "93          23    -89009.43           0.0  CRITICA 8044.19  \n",
       "\n",
       "[1 rows x 22 columns]"
      ]
     },
     "execution_count": 31,
     "metadata": {},
     "output_type": "execute_result"
    }
   ],
   "source": [
    "#8044.19 Verifica se o valor do campo MSRVALORMOV é igual ou maior do que zero, exceto para os tipos de movimento 'Reavaliação de Recuperação de Sinistros'14 ou 'Reavaliação de Salvados e Ressarcimento ao Retrocessionário'15, que podem assumir valor negativo. \n",
    "mask19_valormov = ((df_main['TPMORESSID'] == '012') | (df_main['TPMORESSID'] == '013') | (df_main['TPMORESSID'] == '016') | (df_main['TPMORESSID'] == '017') |(df_main['TPMORESSID'] == '018') | (df_main['TPMORESSID'] == '019') |(df_main['TPMORESSID'] == '020') | (df_main['TPMORESSID'] == '021') |(df_main['TPMORESSID'] == '022')|(df_main['TPMORESSID'] == '023'))\n",
    "mask19 = (mask19_valormov) & (df_main['fMSRVALORMOV'] < 0.0)\n",
    "df19 = df_main.loc[mask19]\n",
    "if len(df19) > 0:\n",
    "    df19.loc[:,'ID da Critica'] = ('CRITICA 8044.19')\n",
    "df19"
   ]
  },
  {
   "cell_type": "code",
   "execution_count": 34,
   "metadata": {},
   "outputs": [
    {
     "data": {
      "text/html": [
       "<div>\n",
       "<style scoped>\n",
       "    .dataframe tbody tr th:only-of-type {\n",
       "        vertical-align: middle;\n",
       "    }\n",
       "\n",
       "    .dataframe tbody tr th {\n",
       "        vertical-align: top;\n",
       "    }\n",
       "\n",
       "    .dataframe thead th {\n",
       "        text-align: right;\n",
       "    }\n",
       "</style>\n",
       "<table border=\"1\" class=\"dataframe\">\n",
       "  <thead>\n",
       "    <tr style=\"text-align: right;\">\n",
       "      <th></th>\n",
       "      <th>MSRSEQ</th>\n",
       "      <th>ENTCODIGO</th>\n",
       "      <th>MRFMESANO</th>\n",
       "      <th>TPMORESSID</th>\n",
       "      <th>GRACODIGO</th>\n",
       "      <th>MSRNUMSIN</th>\n",
       "      <th>MSRNUMCONT</th>\n",
       "      <th>MSRTIPOCONT</th>\n",
       "      <th>MSRCODCESS</th>\n",
       "      <th>MSRDATACOMUNICA</th>\n",
       "      <th>...</th>\n",
       "      <th>MSRDATAOCORR</th>\n",
       "      <th>MSRVALORMOV</th>\n",
       "      <th>MSRTIPOSIN</th>\n",
       "      <th>MSRMODCONT</th>\n",
       "      <th>MSRMOEDA</th>\n",
       "      <th>MSRBASEIND</th>\n",
       "      <th>MSRVALORMON</th>\n",
       "      <th>iTPMORESSID</th>\n",
       "      <th>fMSRVALORMOV</th>\n",
       "      <th>fMSRVALORMON</th>\n",
       "    </tr>\n",
       "  </thead>\n",
       "  <tbody>\n",
       "  </tbody>\n",
       "</table>\n",
       "<p>0 rows × 21 columns</p>\n",
       "</div>"
      ],
      "text/plain": [
       "Empty DataFrame\n",
       "Columns: [MSRSEQ, ENTCODIGO, MRFMESANO, TPMORESSID, GRACODIGO, MSRNUMSIN, MSRNUMCONT, MSRTIPOCONT, MSRCODCESS, MSRDATACOMUNICA, MSRDATAREG, MSRDATAOCORR, MSRVALORMOV, MSRTIPOSIN, MSRMODCONT, MSRMOEDA, MSRBASEIND, MSRVALORMON, iTPMORESSID, fMSRVALORMOV, fMSRVALORMON]\n",
       "Index: []\n",
       "\n",
       "[0 rows x 21 columns]"
      ]
     },
     "execution_count": 34,
     "metadata": {},
     "output_type": "execute_result"
    }
   ],
   "source": [
    "#8044.20 Se o valor do campo MSRVALORMON for diferente de zero, verifica se o tipo de movimento é ‘Aviso de Recuperação de Sinistros’ ou 'Reavaliação de Recuperação de Sinistros' ou 'Cancelamento de Recuperação de Sinistros' ou 'Reabertura de Recuperação de Sinistros' ou 'Recuperação de Sinistros - Transferência de Ativo Redutor da PSL para Crédito com Retrocessionário de Sinistros Já Pagos'\n",
    "mask20_tpmore = ((df_main['TPMORESSID'] == '012') | (df_main['TPMORESSID'] == '014') | (df_main['TPMORESSID'] == '019') | (df_main['TPMORESSID'] == '021') | (df_main['TPMORESSID'] == '023'))\n",
    "mask20 = (mask20_tpmore) & (df_main['fMSRVALORMON'] != 0.0)\n",
    "df20 = df_main.loc[mask20]\n",
    "if len(df20) > 0:\n",
    "    df20.loc[:,'ID da Critica'] = ('CRITICA 8044.20')\n",
    "df20"
   ]
  },
  {
   "cell_type": "code",
   "execution_count": null,
   "metadata": {},
   "outputs": [],
   "source": [
    "#8044.21 Para cada grupo de ramos, compara os valores registrados nos campos MSRVALORMOV e MSRVALORMON com os valores informados no Quadro 06R do FIPSUSEP (tolerância: R$ 1.000,00 ou 1% do valor informado no respectivo campo do Quadro 06R, o que for menor) "
   ]
  },
  {
   "cell_type": "code",
   "execution_count": 30,
   "metadata": {},
   "outputs": [
    {
     "data": {
      "text/html": [
       "<div>\n",
       "<style scoped>\n",
       "    .dataframe tbody tr th:only-of-type {\n",
       "        vertical-align: middle;\n",
       "    }\n",
       "\n",
       "    .dataframe tbody tr th {\n",
       "        vertical-align: top;\n",
       "    }\n",
       "\n",
       "    .dataframe thead th {\n",
       "        text-align: right;\n",
       "    }\n",
       "</style>\n",
       "<table border=\"1\" class=\"dataframe\">\n",
       "  <thead>\n",
       "    <tr style=\"text-align: right;\">\n",
       "      <th></th>\n",
       "      <th>MSRSEQ</th>\n",
       "      <th>ENTCODIGO</th>\n",
       "      <th>MRFMESANO</th>\n",
       "      <th>TPMORESSID</th>\n",
       "      <th>GRACODIGO</th>\n",
       "      <th>MSRNUMSIN</th>\n",
       "      <th>MSRNUMCONT</th>\n",
       "      <th>MSRTIPOCONT</th>\n",
       "      <th>MSRCODCESS</th>\n",
       "      <th>MSRDATACOMUNICA</th>\n",
       "      <th>...</th>\n",
       "      <th>MSRDATAOCORR</th>\n",
       "      <th>MSRVALORMOV</th>\n",
       "      <th>MSRTIPOSIN</th>\n",
       "      <th>MSRMODCONT</th>\n",
       "      <th>MSRMOEDA</th>\n",
       "      <th>MSRBASEIND</th>\n",
       "      <th>MSRVALORMON</th>\n",
       "      <th>iTPMORESSID</th>\n",
       "      <th>fMSRVALORMOV</th>\n",
       "      <th>fMSRVALORMON</th>\n",
       "    </tr>\n",
       "  </thead>\n",
       "  <tbody>\n",
       "  </tbody>\n",
       "</table>\n",
       "<p>0 rows × 21 columns</p>\n",
       "</div>"
      ],
      "text/plain": [
       "Empty DataFrame\n",
       "Columns: [MSRSEQ, ENTCODIGO, MRFMESANO, TPMORESSID, GRACODIGO, MSRNUMSIN, MSRNUMCONT, MSRTIPOCONT, MSRCODCESS, MSRDATACOMUNICA, MSRDATAREG, MSRDATAOCORR, MSRVALORMOV, MSRTIPOSIN, MSRMODCONT, MSRMOEDA, MSRBASEIND, MSRVALORMON, iTPMORESSID, fMSRVALORMOV, fMSRVALORMON]\n",
       "Index: []\n",
       "\n",
       "[0 rows x 21 columns]"
      ]
     },
     "execution_count": 30,
     "metadata": {},
     "output_type": "execute_result"
    }
   ],
   "source": [
    "#8044.22 Verifica se pelo menos um dos seguintes campos possui valor diferente de zero: MSRVALORMOV e MSRVALORMON \n",
    "mask22 = (df_main['fMSRVALORMOV'] == 0.0) & (df_main['fMSRVALORMON'] == 0.0)\n",
    "df22 = df_main.loc[mask22]\n",
    "if len(df22) > 0:\n",
    "    df22.loc[:,'ID da Critica'] = ('CRITICA 8044.22')\n",
    "df22"
   ]
  },
  {
   "cell_type": "code",
   "execution_count": 35,
   "metadata": {},
   "outputs": [
    {
     "name": "stdout",
     "output_type": "stream",
     "text": [
      "Valida  2019-01-31 00:00:00\n"
     ]
    }
   ],
   "source": [
    "#8044.23 Exceto nos casos em que as datas foram preenchidas com '99999999', verifica, para o tipo de movimento ‘Aviso de Recuperação de Sinistro’,  se a diferença de dias entre a data dos campos MSRDATACOMUNICA e MSRDATAREG é de até quinze dias \n",
    "mask23_1 = ((df_main['MSRDATACOMUNICA'] != '99999999') & (df_main['TPMORESSID'] == '012'))\n",
    "df23_1 =  df_main.loc[mask23_1]\n",
    "\n",
    "for item23_1 in (df23_1['MSRDATACOMUNICA']):\n",
    "    try:\n",
    "        v1 = pd.to_datetime(item23_1)\n",
    "        print('Valida ',v1)\n",
    "    except ValueError:\n",
    "        if item23_1 == '99999999':\n",
    "            print(\"Campo preenchido com \",item23_1)\n",
    "        else:\n",
    "            print(\"Campo preenchido com \",item23_1)\n",
    "            critica8044_23 = ('Critica 8044.23, MSRDATACOMUNICA não correspondem a uma data válida', item23_1)\n",
    "            criticas_impeditivas.append(critica8044_23)"
   ]
  },
  {
   "cell_type": "code",
   "execution_count": 36,
   "metadata": {},
   "outputs": [
    {
     "name": "stdout",
     "output_type": "stream",
     "text": [
      "Valida  2019-01-31 00:00:00\n"
     ]
    }
   ],
   "source": [
    "mask23_2 = ((df_main['MSRDATAREG'] != '99999999') & (df_main['TPMORESSID'] == '012'))\n",
    "df23_2 =  df_main.loc[mask23_2]\n",
    "\n",
    "for item23_2 in (df23_2['MSRDATAREG']):\n",
    "    try:\n",
    "        v2 = pd.to_datetime(item23_2)\n",
    "        print('Valida ',v2)\n",
    "    except ValueError:\n",
    "        if item23_1 == '99999999':\n",
    "            print(\"Campo preenchido com \",item23_1)\n",
    "        else:\n",
    "            print(\"Campo preenchido com \",item23_1)\n",
    "            critica8044_23 = ('Critica 8044.23, MSRDATAREG não correspondem a uma data válida', item23_1)\n",
    "            criticas_impeditivas.append(critica8044_23)"
   ]
  },
  {
   "cell_type": "code",
   "execution_count": null,
   "metadata": {},
   "outputs": [],
   "source": [
    "comparacao = (v1 + timedelta(days = 15)) < (v2)\n",
    "if comparacao == True:\n",
    "    print('ERRO!! A diferença de dias entre a data dos campos MSRDATACOMUNICA e MSRDATAREG ultrapassa os quinze dias')\n",
    "    critica8044_23 = ('Critica 8044.23, A diferença de dias entre a data dos campos MSRDATACOMUNICA e MSRDATAREG ultrapassa os quinze dias')\n",
    "    criticas.append(critica8044_23)\n",
    "else:\n",
    "    print('A diferença de dias entre a data dos campos MSRDATACOMUNICA e MSRDATAREG é de até quinze dias.')"
   ]
  },
  {
   "cell_type": "code",
   "execution_count": 37,
   "metadata": {},
   "outputs": [
    {
     "data": {
      "text/html": [
       "<div>\n",
       "<style scoped>\n",
       "    .dataframe tbody tr th:only-of-type {\n",
       "        vertical-align: middle;\n",
       "    }\n",
       "\n",
       "    .dataframe tbody tr th {\n",
       "        vertical-align: top;\n",
       "    }\n",
       "\n",
       "    .dataframe thead th {\n",
       "        text-align: right;\n",
       "    }\n",
       "</style>\n",
       "<table border=\"1\" class=\"dataframe\">\n",
       "  <thead>\n",
       "    <tr style=\"text-align: right;\">\n",
       "      <th></th>\n",
       "      <th>MSRSEQ</th>\n",
       "      <th>ENTCODIGO</th>\n",
       "      <th>MRFMESANO</th>\n",
       "      <th>TPMORESSID</th>\n",
       "      <th>GRACODIGO</th>\n",
       "      <th>MSRNUMSIN</th>\n",
       "      <th>MSRNUMCONT</th>\n",
       "      <th>MSRTIPOCONT</th>\n",
       "      <th>MSRCODCESS</th>\n",
       "      <th>MSRDATACOMUNICA</th>\n",
       "      <th>...</th>\n",
       "      <th>MSRDATAOCORR</th>\n",
       "      <th>MSRVALORMOV</th>\n",
       "      <th>MSRTIPOSIN</th>\n",
       "      <th>MSRMODCONT</th>\n",
       "      <th>MSRMOEDA</th>\n",
       "      <th>MSRBASEIND</th>\n",
       "      <th>MSRVALORMON</th>\n",
       "      <th>iTPMORESSID</th>\n",
       "      <th>fMSRVALORMOV</th>\n",
       "      <th>fMSRVALORMON</th>\n",
       "    </tr>\n",
       "  </thead>\n",
       "  <tbody>\n",
       "  </tbody>\n",
       "</table>\n",
       "<p>0 rows × 21 columns</p>\n",
       "</div>"
      ],
      "text/plain": [
       "Empty DataFrame\n",
       "Columns: [MSRSEQ, ENTCODIGO, MRFMESANO, TPMORESSID, GRACODIGO, MSRNUMSIN, MSRNUMCONT, MSRTIPOCONT, MSRCODCESS, MSRDATACOMUNICA, MSRDATAREG, MSRDATAOCORR, MSRVALORMOV, MSRTIPOSIN, MSRMODCONT, MSRMOEDA, MSRBASEIND, MSRVALORMON, iTPMORESSID, fMSRVALORMOV, fMSRVALORMON]\n",
       "Index: []\n",
       "\n",
       "[0 rows x 21 columns]"
      ]
     },
     "execution_count": 37,
     "metadata": {},
     "output_type": "execute_result"
    }
   ],
   "source": [
    "#8044.24 Verifica se o campo MSRCODCESS não foi preenchido com '99999'. Caso seja preenchido, a crítica será gerada e a empresa deverá informar na justificativa o nome do retrocessionário. \n",
    "mask24 = (df_main['MSRCODCESS'] == '99999')\n",
    "df24 = df_main.loc[mask24]\n",
    "if len(df24) > 0:\n",
    "    df24.loc[:,'ID da Critica'] = ('CRITICA 8044.24')\n",
    "df24"
   ]
  },
  {
   "cell_type": "code",
   "execution_count": null,
   "metadata": {},
   "outputs": [],
   "source": [
    "################################################\n",
    "# Adicionando Nome do Criador do output e data #\n",
    "################################################\n",
    "\n",
    "df_main.loc[:,'Criador'] = input(\"Insira seu nome: \") ### insere a coluna com o nome do criador da tabela\n",
    "data_presente = datetime.now()\n",
    "df_main.loc[:,'Data do output'] = data_presente ### insere a coluna com a data de criacao da tabela"
   ]
  },
  {
   "cell_type": "code",
   "execution_count": null,
   "metadata": {},
   "outputs": [],
   "source": [
    "df_main"
   ]
  },
  {
   "cell_type": "code",
   "execution_count": null,
   "metadata": {},
   "outputs": [],
   "source": [
    "criticas"
   ]
  },
  {
   "cell_type": "code",
   "execution_count": null,
   "metadata": {},
   "outputs": [],
   "source": [
    "df_criticas = pd.DataFrame(criticas)     #criacao do DataFrame das criticas impeditivas\n",
    "df_criticas = df_criticas.rename(columns={0:'Descrição'})\n",
    "df_criticas"
   ]
  },
  {
   "cell_type": "code",
   "execution_count": null,
   "metadata": {},
   "outputs": [],
   "source": [
    "df_criticas_2 = pd.concat([df9,df16,df17,df19,df20,df22,df24])\n",
    "df_criticas_2"
   ]
  },
  {
   "cell_type": "code",
   "execution_count": null,
   "metadata": {},
   "outputs": [],
   "source": [
    "if criticas == []:                   # Verificando se a lista de criticas esta vazia\n",
    "    print('Nenhuma Critica NÃO Impeditiva encontrada no Quadro 405')\n",
    "else:\n",
    "    print('Foi encontrada uma ou mais Criticas NÃO Impeditivas no Quadro 405')\n",
    "    df_criticas.to_csv('Criticas_nao_impeditivas405.csv')     # Gerando csv das criticas impeditivas"
   ]
  },
  {
   "cell_type": "code",
   "execution_count": null,
   "metadata": {},
   "outputs": [],
   "source": [
    "if len(df_criticas_2) == 0:                             # Verificando se o DataFrame de criticas esta vazia\n",
    "    print('Nenhuma Critica NÃO Impeditiva encontrada no Quadro 405')\n",
    "else:\n",
    "    print('Foi encontrada uma ou mais Criticas NÃO Impeditivas no Quadro 405')\n",
    "    df_criticas_2.to_csv('Criticas_nao_impeditivas405_2.csv')         # Gerando csv das criticas impeditivas"
   ]
  },
  {
   "cell_type": "code",
   "execution_count": null,
   "metadata": {},
   "outputs": [],
   "source": [
    "df_main.to_csv('405_Trabalho.csv')"
   ]
  }
 ],
 "metadata": {
  "kernelspec": {
   "display_name": "Python 3",
   "language": "python",
   "name": "python3"
  },
  "language_info": {
   "codemirror_mode": {
    "name": "ipython",
    "version": 3
   },
   "file_extension": ".py",
   "mimetype": "text/x-python",
   "name": "python",
   "nbconvert_exporter": "python",
   "pygments_lexer": "ipython3",
   "version": "3.8.3"
  }
 },
 "nbformat": 4,
 "nbformat_minor": 2
}
