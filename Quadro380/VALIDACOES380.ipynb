{
 "cells": [
  {
   "cell_type": "markdown",
   "metadata": {},
   "source": [
    "# Implanatação de algumas Bibliotacas"
   ]
  },
  {
   "cell_type": "code",
   "execution_count": null,
   "metadata": {},
   "outputs": [],
   "source": [
    "import csv\n",
    "import numpy as np\n",
    "import pandas as pd\n",
    "import sys\n",
    "from tkinter import Tk\n",
    "from tkinter import filedialog\n",
    "from datetime import date, datetime, timedelta\n",
    "#import os\n",
    "#from ciso8601 import parse_datetime"
   ]
  },
  {
   "cell_type": "markdown",
   "metadata": {},
   "source": [
    "# Criando variaveis para os arquivos permitidos"
   ]
  },
  {
   "cell_type": "code",
   "execution_count": null,
   "metadata": {},
   "outputs": [],
   "source": [
    "p_cmpid5  = pd.read_excel('PQ380.xlsx')      ### leitura do arquivo com os sinais dos cpmids do quadro 380\n",
    "param5    = pd.read_excel('LQ380.xlsx')      ### leitura do arquivo com o layout atualizado do quadro 380"
   ]
  },
  {
   "cell_type": "code",
   "execution_count": null,
   "metadata": {},
   "outputs": [],
   "source": [
    "control  = 0                                              ### controle de backup    \n",
    "p_cmpid5['cmpid'] = p_cmpid5.cmpid.astype(str)            ### transforma o campo cmpid - QE 380 - do arq auxiliar para string"
   ]
  },
  {
   "cell_type": "code",
   "execution_count": null,
   "metadata": {},
   "outputs": [],
   "source": [
    "## FUNÇÃO PARA SELEÇÃO DO ARQUIVO\n",
    "\n",
    "class qe_s:\n",
    "\n",
    "    def __init__(self):\n",
    "        self.df = {nome[s]: [] for s in range(nome.shape[0])}\n",
    "  \n",
    "    def make_df(self):\n",
    "        lines = []\n",
    "        root = Tk()\n",
    "        root.attributes(\"-topmost\", True)\n",
    "        root.withdraw()\n",
    "        for file in filedialog.askopenfilenames(filetypes=[(\"Arquivos de Text\", \"*.txt\")]):\n",
    "            for line in open(file, encoding=\"utf-8\"):\n",
    "                line = line.replace(\",\",\".\").strip()\n",
    "                for x in range(nome.shape[0]):\n",
    "                    self.df[nome[x]].append(line[i[x]:j[x]])\n",
    "                    \n",
    "        return pd.DataFrame(self.df)"
   ]
  },
  {
   "cell_type": "code",
   "execution_count": null,
   "metadata": {
    "scrolled": true
   },
   "outputs": [],
   "source": [
    "nome     = param5.Campo                      ### guarda os nomes das colunas existentes no quadro 380\n",
    "i        = param5.Ind_inf                    ### guarda a posição no arquivo que inicia um determinado campo\n",
    "j        = param5.Ind_sup                    ### guarda a posição no arquivo que termina um determinado campo\n",
    "\n",
    "quadro = qe_s()       \n",
    "df_main = quadro.make_df()\n",
    "df_main\n",
    "\n",
    "## SELECINE O(S) ARQUIVO(S) DESEJADO(S)"
   ]
  },
  {
   "cell_type": "code",
   "execution_count": null,
   "metadata": {},
   "outputs": [],
   "source": [
    "###################################\n",
    "###Importacao do Quadro380.xlsx ###\n",
    "####que serão usados para fins#####\n",
    "######### de comparação ###########\n",
    "###################################\n",
    "\n",
    "#Pasta CMPID\n",
    "arq_cmpid = pd.read_excel('Quadro380.xlsx','CMPID',fileEncoding = \"UTF-8\",encoding = 'latin_1', dtype=str)\n",
    "\n",
    "#Pasta RAMCODIGO\n",
    "arq_ramcod = pd.read_excel('Quadro380.xlsx','RAMCODIGO',fileEncoding = \"UTF-8\",encoding = 'latin_1', dtype=str)\n",
    "\n",
    "#Pasta ENTCODIGO\n",
    "arq_entcod = pd.read_excel('Quadro380.xlsx','Cod_SUSEP',fileEncoding = \"UTF-8\",encoding = 'latin_1', dtype=str)\n",
    "\n",
    "#Pasta MRFMESANO\n",
    "arq_mrfmesano = pd.read_excel('Quadro380.xlsx','MRFMESANO',fileEncoding = \"UTF-8\",encoding = 'latin_1', dtype=str)\n",
    "\n",
    "#Pasta rel_CMPID_TPMOID\n",
    "arq_relacao = pd.read_excel('Quadro380.xlsx','rel_CMPID_TPMOID',fileEncoding = \"UTF-8\",encoding = 'latin_1', dtype=str)\n",
    "\n",
    "#Pasta TPMOID\n",
    "arq_tpmoid = pd.read_excel('Quadro380.xlsx','TPMOID',fileEncoding = \"UTF-8\",encoding = 'latin_1', dtype=str)\n",
    "\n",
    "#Pasta Bib_DefCamposEstatísticos\n",
    "arq_defcamesta = pd.read_excel('Quadro380.xlsx','Bib_DefCamposEstatísticos',fileEncoding = \"UTF-8\",encoding = 'latin_1', dtype=str)\n",
    "\n",
    "#Pasta TPMOPREV\n",
    "arq_defcamesta = pd.read_excel('Quadro380.xlsx','TPMOPREV',fileEncoding = \"UTF-8\",encoding = 'latin_1', dtype=str)"
   ]
  },
  {
   "cell_type": "code",
   "execution_count": null,
   "metadata": {},
   "outputs": [],
   "source": [
    "# Criando uma lista para guardar todas as criticas impeditivas\n",
    "criticas_impeditivas = []\n",
    "criticas = []"
   ]
  },
  {
   "cell_type": "markdown",
   "metadata": {},
   "source": [
    "# Criticas (Validacoes)"
   ]
  },
  {
   "cell_type": "code",
   "execution_count": null,
   "metadata": {},
   "outputs": [],
   "source": [
    "#7396.3 Verifica se o campo sequencial EBRSEQ é uma sequência válida, que se inicia em 0000001\n",
    "array3 = df_main['EBRSEQ']\n",
    "x = list(array3)                                     ##Dados do arquivo\n",
    "arrayteste = x[:]\n",
    "arrayteste.sort()                                    ##Dados sequenciados\n",
    "if (arrayteste == x):                                ##Comparando\n",
    "    print('Tudo certo, esta de forma sequencial.')\n",
    "else: \n",
    "    print('ERRO!!!, Não prossiga.')\n",
    "    critica7396_3 = str('Critica 7396.3, Não temos uma sequencia valida na coluna EBRSEQ')\n",
    "    criticas_impeditivas.append(critica7396_3)"
   ]
  },
  {
   "cell_type": "code",
   "execution_count": null,
   "metadata": {},
   "outputs": [],
   "source": [
    "#7396.2 Verifica o tamanho padrão da linha (146 caracteres)\n",
    "tamanho = 0\n",
    "for i in range(0,df_main.shape[0]):                    #Passando por cada linha\n",
    "    for iten in df_main.columns:                       #Passando por cada coluna\n",
    "        tamanho = tamanho + len(df_main[iten][i])      #Contando Caracteres por linha\n",
    "    if tamanho != 146:\n",
    "        print('Erro na linha ',i,' o número de caracteres é de: ',tamanho)\n",
    "        critica7396_2 = (\"Critica 7396.2, Erro na linha \",i,\" o número de caracteres é de: \",tamanho)\n",
    "        criticas_impeditivas.append(critica7396_2)\n",
    "    tamanho = 0"
   ]
  },
  {
   "cell_type": "code",
   "execution_count": null,
   "metadata": {},
   "outputs": [],
   "source": [
    "#7396.4 Verifica se o campo ENTCODIGO corresponde à sociedade que está enviando o FIP/SUSEP\n",
    "entcod = set(arq_entcod['Cod_SUSEP'].astype('str'))                   #Escolhendo a coluna do arquivo modelo\n",
    "dadosentcod = set(df_main['ENTCODIGO'])                               #Escolhendo a coluna dos dados\n",
    "for itemtentcod in dadosentcod: \n",
    "    if itemtentcod not in entcod:\n",
    "        print('ERRO!! ENTCODIGO não corresponde a uma operação valida', itemtentcod)\n",
    "        critica7396_4 = ('Critica 7396.4, ENTCODIGO não corresponde a uma operação valida', itemtentcod)\n",
    "        criticas_impeditivas.append(critica7396_4)\n",
    "    else:\n",
    "        print('ENTCODIGO corresponde a um tipo de operação válida.', itemtentcod)\n",
    "        continue"
   ]
  },
  {
   "cell_type": "code",
   "execution_count": null,
   "metadata": {},
   "outputs": [],
   "source": [
    "#7396.5 Verifica se o campo MRFMESANO corresponde, respectivamente, ao ano, mês e último dia do mês de referência do FIP/SUSEP\n",
    "df_main.loc[:,'DTMRFMESANO'] = df_main['MRFMESANO'].astype('datetime64')     #Criando uma nova coluna no formato Date\n",
    "mrfmesano = set(arq_mrfmesano['DATAS'].astype('datetime64'))                 #Escolhendo a coluna do arquivo modelo\n",
    "dadosmrfmesano = set(df_main['DTMRFMESANO'])                                 #Escolhendo a coluna dos dados\n",
    "for itemmrfmesano in dadosmrfmesano: \n",
    "    if itemmrfmesano not in mrfmesano:\n",
    "        print('ERRO!! MRFMESANO não corresponde a uma operação valida', itemmrfmesano)\n",
    "        critica7396_5 = ('Critica 7396.5, MRFMESANO não corresponde a uma Data valida', itemmrfmesano)\n",
    "        criticas_impeditivas.append(critica7396_5)\n",
    "    else:\n",
    "        print('MRFMESANO corresponde a uma Data válida.', itemmrfmesano)\n",
    "        continue"
   ]
  },
  {
   "cell_type": "code",
   "execution_count": null,
   "metadata": {},
   "outputs": [],
   "source": [
    "#7396.6 Verifica se o campo QUAID corresponde ao quadro 380 \n",
    "array6 = set(df_main['QUAID'])           ##Verificando todos os Quadros que estamos tratando no documento.\n",
    "for itemarray6 in array6:\n",
    "    if itemarray6 == '380':\n",
    "        print('Este se trata do Quadro:',itemarray6)\n",
    "    else:\n",
    "        print('ERRO!! Este se trata do Quadro:',itemarray6)\n",
    "        critica7396_6 = ('Critica 7396.6, Este esta se tratando do(s) Quadro(s):',itemarray6)\n",
    "        criticas_impeditivas.append(critica7396_6)"
   ]
  },
  {
   "cell_type": "code",
   "execution_count": null,
   "metadata": {},
   "outputs": [],
   "source": [
    "#7396.7 Verifica se o campo CMPID corresponde a um tipo de operação válida (conforme tabela “Bib_DefCampos”)\n",
    "#defcamesta = set(arq_defcamesta['CMPID'].astype('str'))             #Escolhendo a coluna do arquivo modelo\n",
    "cmpid = set(arq_cmpid['CMPID'].astype('str'))\n",
    "dadoscmpid = set(df_main['CMPID'])                                 #Escolhendo a coluna dos dados\n",
    "for itemcmpid in dadoscmpid: \n",
    "    if itemcmpid not in cmpid:\n",
    "        print('ERRO!! O campo CMPID não corresponde a um tipo de operação válida (conforme tabela Bib_DefCamposEstatísticos).', itemcmpid)\n",
    "        critica7396_7 = ('Critica 7396.7, O campo CMPID não corresponde a um tipo de operação válida (conforme tabela Bib_DefCamposEstatísticos).', itemcmpid)\n",
    "        criticas.append(critica7396_7)\n",
    "    else:\n",
    "        print('O campo CMPID corresponde a um tipo de operação válida (conforme tabela Bib_DefCamposEstatísticos).', itemcmpid)\n",
    "        continue"
   ]
  },
  {
   "cell_type": "code",
   "execution_count": null,
   "metadata": {},
   "outputs": [],
   "source": [
    "#7396.8 Verifica se o PLNCODIGO pertence ao Cadastro de Planos da entidade "
   ]
  },
  {
   "cell_type": "code",
   "execution_count": null,
   "metadata": {},
   "outputs": [],
   "source": [
    "#7396.9 Verifica se o CPF do participante (EBRCPFPART) e do beneficiário (EBRCPFBENF) são inteiros e válidos, exceto para preenchimento com zeros\n",
    "\n",
    "#Criação da função\n",
    "import re\n",
    "\n",
    "def isCpfValid(cpf):\n",
    "    \"\"\" If cpf in the Brazilian format is valid, it returns True, otherwise, it returns False. \"\"\"\n",
    "\n",
    "    # Check if type is str\n",
    "    if not isinstance(cpf,str):\n",
    "        return False\n",
    "\n",
    "    # Remove some unwanted characters\n",
    "    cpf = re.sub(\"[^0-9]\",'',cpf)\n",
    "    \n",
    "    # Verify if CPF number is equal\n",
    "    if cpf=='00000000000' or cpf=='11111111111' or cpf=='22222222222' or cpf=='33333333333' or cpf=='44444444444' or cpf=='55555555555' or cpf=='66666666666' or cpf=='77777777777' or cpf=='88888888888' or cpf=='99999999999':\n",
    "        return False\n",
    "\n",
    "    # Checks if string has 11 characters\n",
    "    if len(cpf) != 11:\n",
    "        return False\n",
    "\n",
    "    sum = 0\n",
    "    weight = 10\n",
    "\n",
    "    \"\"\" Calculating the first cpf check digit. \"\"\"\n",
    "    for n in range(9):\n",
    "        sum = sum + int(cpf[n]) * weight\n",
    "\n",
    "        # Decrement weight\n",
    "        weight = weight - 1\n",
    "\n",
    "    verifyingDigit = 11 -  sum % 11\n",
    "\n",
    "    if verifyingDigit > 9 :\n",
    "        firstVerifyingDigit = 0\n",
    "    else:\n",
    "        firstVerifyingDigit = verifyingDigit\n",
    "\n",
    "    \"\"\" Calculating the second check digit of cpf. \"\"\"\n",
    "    sum = 0\n",
    "    weight = 11\n",
    "    for n in range(10):\n",
    "        sum = sum + int(cpf[n]) * weight\n",
    "\n",
    "        # Decrement weight\n",
    "        weight = weight - 1\n",
    "\n",
    "    verifyingDigit = 11 -  sum % 11\n",
    "\n",
    "    if verifyingDigit > 9 :\n",
    "        secondVerifyingDigit = 0\n",
    "    else:\n",
    "        secondVerifyingDigit = verifyingDigit\n",
    "\n",
    "    if cpf[-2:] == \"%s%s\" % (firstVerifyingDigit,secondVerifyingDigit):\n",
    "        return True\n",
    "    return False"
   ]
  },
  {
   "cell_type": "code",
   "execution_count": null,
   "metadata": {},
   "outputs": [],
   "source": [
    "# Realizando Check no Campo EBRCPFPART\n",
    "cpfparticipante = set(df_main['EBRCPFPART'])\n",
    "\n",
    "for itemcpfp in cpfparticipante:\n",
    "    verificacao1 = isCpfValid(itemcpfp)\n",
    "    if verificacao1 == False:\n",
    "        print(\"Erro!! Critica 7395.10 o CPF \", itemcpfp, \" não é um CPF valido.\")\n",
    "        critica7396_10 = (\"Critica 7396.10\",\"o CPF \", itemcpfp, \" não é um CPF valido.\")\n",
    "        criticas_impeditivas.append(critica7396_10)\n",
    "\n",
    "print('Demais CPF do participante nos campos (EBRCPFPART) são validos') "
   ]
  },
  {
   "cell_type": "code",
   "execution_count": null,
   "metadata": {},
   "outputs": [],
   "source": [
    "# Realizando Check no Campo EBRCPFBENF\n",
    "cpfbeneficiario = set(df_main['EBRCPFBENF'])\n",
    "\n",
    "for itemcpfb in cpfbeneficiario:\n",
    "    verificacao2 = isCpfValid(itemcpfb)\n",
    "    if verificacao2 == False:\n",
    "        print(\"Erro!! Critica 7396.10 o CPF \", itemcpfb, \" não é um CPF valido.\")\n",
    "        critica7396_11 = (\"Critica 7396.10\",\"o CPF \", itemcpfb, \" não é um CPF valido.\")\n",
    "        criticas_impeditivas.append(critica7396_10)\n",
    "\n",
    "print('Demais CPF do participante nos campos (EBRCPFBENF) são validos') "
   ]
  },
  {
   "cell_type": "code",
   "execution_count": null,
   "metadata": {},
   "outputs": [],
   "source": [
    "#7396.10 Verifica se os campos EBRDATAINICIO, EBRDATAFIM, EBRDATAOCORR e EBRDATAREG correspondem a uma data válida e se estão compreendidos entre os anos de 1901 e 2099 \n",
    "\n",
    "#####################################################\n",
    "##Readicionando as colunas de Data de str para date##\n",
    "#####################################################\n",
    "\n",
    "df_main.loc[:,'DTEBRDATAINICIO'] = df_main['EBRDATAINICIO'].astype('datetime64')\n",
    "df_main.loc[:,'DTEBRDATAFIM'] = df_main['EBRDATAFIM'].astype('datetime64')\n",
    "df_main.loc[:,'DTEBRDATAOCORR'] = df_main['EBRDATAOCORR'].astype('datetime64')\n",
    "df_main.loc[:,'DTEBRDATAREG'] = df_main['EBRDATAREG'].astype('datetime64')\n",
    "\n",
    "#Adicionado colunas EBRDATAINICIO, EBRDATAFIM, EBRDATAOCORR e EBRDATAREG no tipo Date\n",
    "\n",
    "df_dates_comparacao = pd.DataFrame(df_main['DTMRFMESANO'] - timedelta(days = 43800))\n",
    "df_dates_comparacao.loc[:,'DTMRFMESANO_max'] = df_main['DTMRFMESANO'] + timedelta(days = 29200)"
   ]
  },
  {
   "cell_type": "code",
   "execution_count": null,
   "metadata": {},
   "outputs": [],
   "source": [
    "comparação_01 = (df_main['DTEBRDATAINICIO'] < df_dates_comparacao['DTMRFMESANO']) | (df_main['DTEBRDATAINICIO'] > df_dates_comparacao['DTMRFMESANO_max'])\n",
    "dfc01 = df_main.loc[comparação_01]\n",
    "if len(dfc01) > 0:\n",
    "    dfc01.loc[:,'ID da Critica'] = ('CRITICA 7396.10')\n",
    "dfc01"
   ]
  },
  {
   "cell_type": "code",
   "execution_count": null,
   "metadata": {},
   "outputs": [],
   "source": [
    "comparação_02 = (df_main['DTEBRDATAFIM'] < df_dates_comparacao['DTMRFMESANO']) | (df_main['DTEBRDATAFIM'] > df_dates_comparacao['DTMRFMESANO_max'])\n",
    "dfc02 = df_main.loc[comparação_02]\n",
    "if len(dfc02) > 0:\n",
    "    dfc02.loc[:,'ID da Critica'] = ('CRITICA 7396.10')\n",
    "dfc02"
   ]
  },
  {
   "cell_type": "code",
   "execution_count": null,
   "metadata": {},
   "outputs": [],
   "source": [
    "comparação_03 = (df_main['DTEBRDATAOCORR'] < df_dates_comparacao['DTMRFMESANO']) | (df_main['DTEBRDATAOCORR'] > df_dates_comparacao['DTMRFMESANO_max'])\n",
    "dfc03 = df_main.loc[comparação_03]\n",
    "if len(dfc03) > 0:\n",
    "    dfc03.loc[:,'ID da Critica'] = ('CRITICA 7396.10')\n",
    "dfc03"
   ]
  },
  {
   "cell_type": "code",
   "execution_count": null,
   "metadata": {},
   "outputs": [],
   "source": [
    "comparação_04 = (df_main['DTEBRDATAREG'] < df_dates_comparacao['DTMRFMESANO']) | (df_main['DTEBRDATAREG'] > df_dates_comparacao['DTMRFMESANO_max'])\n",
    "dfc04 = df_main.loc[comparação_04]\n",
    "if len(dfc04) > 0:\n",
    "    dfc04.loc[:,'ID da Critica'] = ('CRITICA 7396.10')\n",
    "dfc04"
   ]
  },
  {
   "cell_type": "code",
   "execution_count": null,
   "metadata": {},
   "outputs": [],
   "source": [
    "#7396.11  Verifica se o campo EBRVALORMOV é float \n",
    "\n",
    "###########################################\n",
    "##Readicionando as colunas str para float##\n",
    "###########################################\n",
    "\n",
    "df_main.loc[:,'fEBRVALORMOV'] = df_main['EBRVALORMOV'].astype('float64')\n",
    "\n",
    "#Adicionado coluna EBRVALORMOV no tipo Float"
   ]
  },
  {
   "cell_type": "code",
   "execution_count": null,
   "metadata": {},
   "outputs": [],
   "source": [
    "criticas_impeditivas  #Lista das criticas impeditivas"
   ]
  },
  {
   "cell_type": "code",
   "execution_count": null,
   "metadata": {},
   "outputs": [],
   "source": [
    "df_criticas_i = pd.DataFrame(criticas_impeditivas)     #criacao do DataFrame das criticas impeditivas\n",
    "df_criticas_i = df_criticas_i.rename(columns={0:'Descrição'})\n",
    "df_criticas_i"
   ]
  },
  {
   "cell_type": "code",
   "execution_count": null,
   "metadata": {},
   "outputs": [],
   "source": [
    "df_criticas_i2 = pd.concat([dfc01,dfc02,dfc03,dfc04])\n",
    "df_criticas_i2"
   ]
  },
  {
   "cell_type": "code",
   "execution_count": null,
   "metadata": {},
   "outputs": [],
   "source": [
    "if criticas_impeditivas == []:                             # Verificando se a lista de criticas esta vazia\n",
    "    print('Nenhuma Critica Impeditiva encontrada no Quadro 380')\n",
    "else:\n",
    "    print('Foi encontrada uma ou mais Criticas Impeditivas no Quadro 380')\n",
    "    df_criticas_i.to_csv('Criticas_Impeditivas_380.csv')   # Gerando csv das criticas impeditivas"
   ]
  },
  {
   "cell_type": "code",
   "execution_count": null,
   "metadata": {},
   "outputs": [],
   "source": [
    "if len(df_criticas_i2) == 0:                             # Verificando se a lista de criticas esta vazia\n",
    "    print('Nenhuma Critica Impeditiva encontrada no Quadro 380')\n",
    "else:\n",
    "    print('Foi encontrada uma ou mais Criticas Impeditivas no Quadro 380')\n",
    "    df_criticas_i2.to_csv('Criticas_Impeditivas_380_2.csv')   # Gerando csv das criticas impeditivas"
   ]
  },
  {
   "cell_type": "markdown",
   "metadata": {},
   "source": [
    "# Criticas (Validacoes) Não Impeditivas"
   ]
  },
  {
   "cell_type": "code",
   "execution_count": null,
   "metadata": {},
   "outputs": [],
   "source": [
    "#7396.12 Verifica se o campo EBRCODCESS corresponde a um código de sociedade válido \n",
    "dadosebicodcess = set(df_main['EBRCODCESS'])                               #Escolhendo a coluna dos dados\n",
    "for itemebicodcess in dadosebicodcess: \n",
    "    if itemebicodcess not in entcod:\n",
    "        print('ERRO!! EBICODCESS não corresponde a um código de sociedade válido', itemebicodcess)\n",
    "        critica7396_12 = ('Critica 7396.12, EBICODCESS não corresponde a um código de sociedade válido', itemebicodcess)\n",
    "        criticas.append(critica7396_12)\n",
    "    else:\n",
    "        print('EBICODCESS corresponde a um código de sociedade válido.', itemebicodcess)\n",
    "        continue"
   ]
  },
  {
   "cell_type": "code",
   "execution_count": null,
   "metadata": {},
   "outputs": [],
   "source": [
    "# Criando DataFrame copia com Campos CMPID, EBRCODCESS, ENTCODIGO no formato int\n",
    "df_mains = df_main.copy()\n",
    "df_mains['CMPID'] = df_mains['CMPID'].astype('int64')\n",
    "df_mains['EBICODCESS'] = df_mains['EBRCODCESS'].astype('int64')\n",
    "df_mains['ENTCODIGO'] = df_mains['ENTCODIGO'].astype('int64')"
   ]
  },
  {
   "cell_type": "code",
   "execution_count": null,
   "metadata": {},
   "outputs": [],
   "source": [
    "#7396.13 Valida a correspondência entre os campos CMPID e EBRCODCESS \n",
    "relacao13_53 = df_mains[(df_mains['CMPID'] == 1053) & (df_mains['EBICODCESS'].values != df_mains['ENTCODIGO'].values)]\n",
    "relacao13_58 = df_mains[(df_mains['CMPID'] == 1058) & (df_mains['EBICODCESS'].values != df_mains['ENTCODIGO'].values)]\n",
    "relacao13_63 = df_mains[(df_mains['CMPID'] == 1063) & (df_mains['EBICODCESS'].values != df_mains['ENTCODIGO'].values)]\n",
    "relacao13_64 = df_mains[(df_mains['CMPID'] == 1064) & (df_mains['EBICODCESS'].values != df_mains['ENTCODIGO'].values)]"
   ]
  },
  {
   "cell_type": "code",
   "execution_count": null,
   "metadata": {},
   "outputs": [],
   "source": [
    "i = 23   #Definindo numero de colunas\n",
    "\n",
    "# Adicionando criticas com CMPIDs 1053, 1058, 1063, 1064 na lista 'criticas'\n",
    "if relacao13_53.shape != (0,i): \n",
    "    critica7395_13_53 = ('Critica 7396.13, O CMPID é 1053 e o EBICODCESS é diferente do ENTCODIGO') \n",
    "    criticas.append(critica7395_17_38)\n",
    "elif relacao13_58.shape != (0,i): \n",
    "    critica7392_13_58 = ('Critica 7396.13, O CMPID é 1058 e o EBICODCESS é diferente do ENTCODIGO')\n",
    "    criticas.append(critica7392_17_39)\n",
    "elif relacao13_63.shape != (0,i): \n",
    "    critica7392_13_63 = ('Critica 7396.13, O CMPID é 1063 e o EBICODCESS é diferente do ENTCODIGO')\n",
    "    criticas.append(critica7392_17_42)\n",
    "elif relacao13_64.shape != (0,i): \n",
    "    critica7392_13_64 = ('Critica 7396.13, O CMPID é 1064 e o EBICODCESS é diferente do ENTCODIGO')\n",
    "    criticas.append(critica7392_17_44)\n",
    "else: print('CMPIDs 1053, 1058, 1063, 1064. Valida campo EBICODCESS')"
   ]
  },
  {
   "cell_type": "code",
   "execution_count": null,
   "metadata": {},
   "outputs": [],
   "source": [
    "#7396.13 Valida a correspondência entre os campos CMPID e EBRCODCESS \n",
    "relacao13_54 = df_mains[(df_mains['CMPID'] == 1054) & (df_mains['EBICODCESS'].values <= 1) & (df_mains['EBICODCESS'].values >= 9999)] \n",
    "relacao13_55 = df_mains[(df_mains['CMPID'] == 1055) & (df_mains['EBICODCESS'].values <= 1) & (df_mains['EBICODCESS'].values >= 9999)] \n",
    "relacao13_59 = df_mains[(df_mains['CMPID'] == 1059) & (df_mains['EBICODCESS'].values <= 1) & (df_mains['EBICODCESS'].values >= 9999)] \n",
    "relacao13_60 = df_mains[(df_mains['CMPID'] == 1060) & (df_mains['EBICODCESS'].values <= 1) & (df_mains['EBICODCESS'].values >= 9999)]"
   ]
  },
  {
   "cell_type": "code",
   "execution_count": null,
   "metadata": {},
   "outputs": [],
   "source": [
    "# Adicionando criticas com CMPIDs 1054, 1055, 1059, 1060 na lista 'criticas'\n",
    "if relacao13_54.shape != (0,i): \n",
    "    critica7395_13_54 = ('Critica 7396.13, O CMPID é 1054 e o EBICODCESS é diferente do ENTCODIGO') \n",
    "    criticas.append(critica7395_13_54)\n",
    "elif relacao13_55.shape != (0,i): \n",
    "    critica7392_13_55 = ('Critica 7396.13, O CMPID é 1055 e o EBICODCESS é diferente do ENTCODIGO')\n",
    "    criticas.append(critica7392_13_55)\n",
    "elif relacao13_59.shape != (0,i): \n",
    "    critica7392_13_59 = ('Critica 7396.13, O CMPID é 1059 e o EBICODCESS é diferente do ENTCODIGO')\n",
    "    criticas.append(critica7392_13_59)\n",
    "elif relacao13_60.shape != (0,i): \n",
    "    critica7392_13_60 = ('Critica 7396.13, O CMPID é 1060 e o EBICODCESS é diferente do ENTCODIGO')\n",
    "    criticas.append(critica7392_13_60)\n",
    "else: print('CMPIDs 1054, 1055, 1059, 1060. Valida campo EBICODCESS')"
   ]
  },
  {
   "cell_type": "code",
   "execution_count": null,
   "metadata": {},
   "outputs": [],
   "source": [
    "#7396.13 Valida a correspondência entre os campos CMPID e EBRCODCESS \n",
    "relacao13_56 = df_mains[(df_mains['CMPID'] == 1056) & (df_mains['EBICODCESS'].values <= 30000) & (df_mains['EBICODCESS'].values >= 59999)] \n",
    "relacao13_57 = df_mains[(df_mains['CMPID'] == 1057) & (df_mains['EBICODCESS'].values <= 30000) & (df_mains['EBICODCESS'].values >= 59999)] \n",
    "relacao13_61 = df_mains[(df_mains['CMPID'] == 1061) & (df_mains['EBICODCESS'].values <= 30000) & (df_mains['EBICODCESS'].values >= 59999)] \n",
    "relacao13_62 = df_mains[(df_mains['CMPID'] == 1062) & (df_mains['EBICODCESS'].values <= 30000) & (df_mains['EBICODCESS'].values >= 59999)]"
   ]
  },
  {
   "cell_type": "code",
   "execution_count": null,
   "metadata": {},
   "outputs": [],
   "source": [
    "# Adicionando criticas com CMPIDs 1056, 1057, 1061, 1062 na lista 'criticas'\n",
    "if relacao13_56.shape != (0,i): \n",
    "    critica7395_13_56 = ('Critica 7396.13, O CMPID é 1056 e o EBICODCESS é diferente do ENTCODIGO') \n",
    "    criticas.append(critica7395_13_56)\n",
    "elif relacao13_57.shape != (0,i): \n",
    "    critica7392_13_57 = ('Critica 7396.13, O CMPID é 1057 e o EBICODCESS é diferente do ENTCODIGO')\n",
    "    criticas.append(critica7392_13_57)\n",
    "elif relacao13_61.shape != (0,i): \n",
    "    critica7392_13_61 = ('Critica 7396.13, O CMPID é 1061 e o EBICODCESS é diferente do ENTCODIGO')\n",
    "    criticas.append(critica7392_13_61)\n",
    "elif relacao13_62.shape != (0,i): \n",
    "    critica7392_13_62 = ('Critica 7396.13, O CMPID é 1062 e o EBICODCESS é diferente do ENTCODIGO')\n",
    "    criticas.append(critica7392_13_62)\n",
    "else: print('CMPIDs 1056, 1057, 1061, 1062. Valida campo EBICODCESS')"
   ]
  },
  {
   "cell_type": "code",
   "execution_count": null,
   "metadata": {},
   "outputs": [],
   "source": [
    "#7396.15 Verifica se o CPF do participante (EBRCPFPART) e do beneficiário (EBRCPFBENF) são diferentes de zero \n",
    "for itemcpfp in cpfparticipante:\n",
    "    if itemcpfp == '00000000000':\n",
    "        print(\"Erro!! Critica 7395.20 o CPF \", itemcpfp, \" não é um CPF valido.\")\n",
    "        critica7396_15 = (\"Critica 7396.15\",\"o CPF \", itemcpfp, \" não é um CPF valido.\")\n",
    "        criticas.append(critica7396_15)\n",
    "\n",
    "print('CPFs dos participantes nos campos (EBICPFPART) são validos')"
   ]
  },
  {
   "cell_type": "code",
   "execution_count": null,
   "metadata": {},
   "outputs": [],
   "source": [
    "for itemcpfb in cpfbeneficiario:\n",
    "    if itemcpfb == '00000000000':\n",
    "        print(\"Erro!! Critica 7395.20 o CPF \", itemcpfb, \" não é um CPF valido.\")\n",
    "        critica7396_15 = (\"Critica 7396.15\",\"o CPF \", itemcpfb, \" não é um CPF valido.\")\n",
    "        criticas.append(critica7396_15)\n",
    "\n",
    "print('CPFs dos participantes nos campos (EBICPFBENF) são validos')"
   ]
  },
  {
   "cell_type": "code",
   "execution_count": null,
   "metadata": {},
   "outputs": [],
   "source": [
    "#7396.16 Verifica se a data do campo EBRDATAFIM é posterior à data do campo EBRDATAINICIO\n",
    "mask16 = (df_main['DTEBRDATAFIM']) < (df_main['DTEBRDATAINICIO'])\n",
    "df16 = df_main.loc[mask16]\n",
    "if len(df16) > 0:\n",
    "    df16.loc[:,'ID da Critica'] = ('CRITICA 7396.16')\n",
    "df16"
   ]
  },
  {
   "cell_type": "code",
   "execution_count": null,
   "metadata": {},
   "outputs": [],
   "source": [
    "#7396.17 Verifica se a data do campo EBRDATAINICIO é igual ou anterior à data do campo EBRDATAOCORR\n",
    "mask17 = (df_main['DTEBRDATAINICIO']) > (df_main['DTEBRDATAOCORR'])\n",
    "df17 = df_main.loc[mask17]\n",
    "if len(df17) > 0:\n",
    "    df17.loc[:,'ID da Critica'] = ('CRITICA 7396.17')\n",
    "df17"
   ]
  },
  {
   "cell_type": "code",
   "execution_count": null,
   "metadata": {},
   "outputs": [],
   "source": [
    "#7396.18 Verifica se a data do campo EBRDATAOCORR é igual ou anterior à data do campo EBRDATAFIM\n",
    "mask18 = (df_main['DTEBRDATAFIM']) < (df_main['DTEBRDATAOCORR'])\n",
    "df18 = df_main.loc[mask18]\n",
    "if len(df18) > 0:\n",
    "    df18.loc[:,'ID da Critica'] = ('CRITICA 7396.18')\n",
    "df18"
   ]
  },
  {
   "cell_type": "code",
   "execution_count": null,
   "metadata": {},
   "outputs": [],
   "source": [
    "#7396.19 Verifica se a data do campo EBRDATAOCORR é igual ou anterior à data do campo EBRDATAREG\n",
    "mask19 = (df_main['DTEBRDATAREG']) < (df_main['DTEBRDATAOCORR'])\n",
    "df19 = df_main.loc[mask19]\n",
    "if len(df19) > 0:\n",
    "    df19.loc[:,'ID da Critica'] = ('CRITICA 7396.19')\n",
    "df19"
   ]
  },
  {
   "cell_type": "code",
   "execution_count": null,
   "metadata": {},
   "outputs": [],
   "source": [
    "#7396.20 Verifica se a data do campo EBRDATAREG é igual ou anterior à data do campo MRFMESANO\n",
    "mask20 = (df_main['DTEBRDATAREG']) > (df_main['DTMRFMESANO'])\n",
    "df20 = df_main.loc[mask20]\n",
    "if len(df20) > 0:\n",
    "    df20.loc[:,'ID da Critica'] = ('CRITICA 7396.20')\n",
    "df20"
   ]
  },
  {
   "cell_type": "code",
   "execution_count": null,
   "metadata": {},
   "outputs": [],
   "source": [
    "#7396.22 Verifica se o ano da data dos campos EBRDATAINICIO, EBRDATAFIM, EBRDATAOCORR e EBRDATAREG está entre os limites de \n",
    "#trinta anos para mais ou para menos do ano da data do campo MRFMESANO quando o tipo de operação for 'direto – administrativo' \n",
    "#(CMPID: 1053), 'cosseguro aceito – administrativo’ (CMPID: 1054),'cosseguro cedido - administrativo' (CMPID: 1055), \n",
    "#'recuperação de sinistros não pagos - administrativo' (CMPID: 1056), 'recuperação de sinistros já pagos - administrativo' (CMPID: 1057)  \n",
    "df_dates_comparacao.loc[:,'DTMRFMESANO+30anos'] = df_main['DTMRFMESANO'] + timedelta(days = 10950)\n",
    "df_dates_comparacao.loc[:,'DTMRFMESANO-30anos'] = df_main['DTMRFMESANO'] - timedelta(days = 10950)\n",
    "\n",
    "mask22_cmpid = (df_main['CMPID'] == '1053')|(df_main['CMPID'] == '1054')|(df_main['CMPID'] == '1055')|(df_main['CMPID'] == '1056')|(df_main['CMPID'] == '1057')"
   ]
  },
  {
   "cell_type": "code",
   "execution_count": null,
   "metadata": {},
   "outputs": [],
   "source": [
    "mask22_INI1 = (df_main['DTEBRDATAINICIO'] < df_dates_comparacao['DTMRFMESANO-30anos']) | (df_main['DTEBRDATAINICIO'] > df_dates_comparacao['DTMRFMESANO+30anos'])\n",
    "mask22_INI2 = (mask22_cmpid) & (mask22_INI1)\n",
    "df22_ini = df_main.loc[mask22_INI2]\n",
    "if len(df22_ini) > 0:\n",
    "    df22_ini.loc[:,'ID da Critica'] = ('CRITICA 7396.22')\n",
    "df22_ini"
   ]
  },
  {
   "cell_type": "code",
   "execution_count": null,
   "metadata": {},
   "outputs": [],
   "source": [
    "mask22_fim1 = (df_main['DTEBRDATAFIM'] < df_dates_comparacao['DTMRFMESANO-30anos']) | (df_main['DTEBRDATAFIM'] > df_dates_comparacao['DTMRFMESANO+30anos'])\n",
    "mask22_fim2 = (mask22_cmpid) & (mask22_fim1)\n",
    "df22_fim = df_main.loc[mask22_fim2]\n",
    "if len(df22_fim) > 0:\n",
    "    df22_fim.loc[:,'ID da Critica'] = ('CRITICA 7396.22')\n",
    "df22_fim"
   ]
  },
  {
   "cell_type": "code",
   "execution_count": null,
   "metadata": {},
   "outputs": [],
   "source": [
    "mask22_oco1 = (df_main['DTEBRDATAOCORR'] < df_dates_comparacao['DTMRFMESANO-30anos']) | (df_main['DTEBRDATAOCORR'] > df_dates_comparacao['DTMRFMESANO+30anos'])\n",
    "mask22_oco2 = (mask22_cmpid) & (mask22_oco1)\n",
    "df22_oco = df_main.loc[mask22_oco2]\n",
    "if len(df22_oco) > 0:\n",
    "    df22_oco.loc[:,'ID da Critica'] = ('CRITICA 7396.22')\n",
    "df22_oco"
   ]
  },
  {
   "cell_type": "code",
   "execution_count": null,
   "metadata": {},
   "outputs": [],
   "source": [
    "mask22_reg1 = (df_main['DTEBRDATAREG'] < df_dates_comparacao['DTMRFMESANO-30anos']) | (df_main['DTEBRDATAREG'] > df_dates_comparacao['DTMRFMESANO+30anos'])\n",
    "mask22_reg2 = (mask22_cmpid) & (mask22_reg1)\n",
    "df22_reg = df_main.loc[mask22_reg2]\n",
    "if len(df22_reg) > 0:\n",
    "    df22_reg.loc[:,'ID da Critica'] = ('CRITICA 7396.22')\n",
    "df22_reg"
   ]
  },
  {
   "cell_type": "code",
   "execution_count": null,
   "metadata": {},
   "outputs": [],
   "source": [
    "#7396.23 Para cada PLNCODIGO, verifica se o resultado da soma do EBRVALORMOV para os movimentos 'direto – administrativo' (CMPID: 1053) e 'cosseguro aceito – administrativo’ (CMPID: 1054) subtraída da soma do EBRVALORMOV dos movimentos de 'cosseguro cedido - administrativo' (CMPID: 1055) é igual à ‘PSL/Administrativa/Avisada’ dos Quadros por plano 110 (CMPID: 12914), 111(CMPID: 12953), 112 (CMPID: 12992) e 113 (CMPID: 13031) "
   ]
  },
  {
   "cell_type": "code",
   "execution_count": null,
   "metadata": {},
   "outputs": [],
   "source": [
    "#7396.24 Para cada PLNCODIGO, verifica se o resultado da soma do EBRVALORMOV para os movimentos 'direto – judicial’ (CMPID: 1058), ‘Revisão Judicial de Benefícios Concedidos (PMBC)’ (CMPID: 1064) e 'cosseguro aceito – judicial’ (CMPID: 1059) subtraída da soma do EBRVALORMOV dos movimentos de 'cosseguro cedido - judicial' (CMPID: 1060) é igual à ‘PSL/Judicial/Avisada’ dos Quadros por plano 110 (CMPID: 12918), 111(CMPID: 12957), 112 (CMPID: 12996) e 113 (CMPID: 13035) "
   ]
  },
  {
   "cell_type": "code",
   "execution_count": null,
   "metadata": {},
   "outputs": [],
   "source": [
    "#7396.25 Soma dos campos EBRVALORMOV dos registros cujo CMPID seja 1063 (Depósito Judicial Redutor da Necessidade de Cobertura) deve ser igual ao valor informado no campo Depósitos Judiciais Redutores – Previdência/Dotais/VI/VGBL/Universal/EFPC (CMPID 12594) do quadro 16."
   ]
  },
  {
   "cell_type": "code",
   "execution_count": null,
   "metadata": {},
   "outputs": [],
   "source": [
    "#7396.26 Verifica se o valor do campo EBRNUMSIN é maior do que zero \n",
    "mask26 = (df_main['EBRNUMSIN'] == '00000000000000000000')\n",
    "df26 = df_main.loc[mask26]\n",
    "if len(df26) > 0:\n",
    "    df26.loc[:,'ID da Critica'] = ('CRITICA 7396.26')\n",
    "df26"
   ]
  },
  {
   "cell_type": "code",
   "execution_count": null,
   "metadata": {},
   "outputs": [],
   "source": [
    "#7396.27 Verifica se o valor do campo EBRVALORMOV é maior do que zero \n",
    "mask27 = (df_main['EBRNUMSIN'] == 0.0)\n",
    "df27 = df_main.loc[mask27]\n",
    "if len(df27) > 0:\n",
    "    df27.loc[:,'ID da Critica'] = ('CRITICA 7396.27')\n",
    "df27"
   ]
  },
  {
   "cell_type": "code",
   "execution_count": null,
   "metadata": {},
   "outputs": [],
   "source": [
    "################################################\n",
    "# Adicionando Nome do Criador do output e data #\n",
    "################################################\n",
    "\n",
    "df_main.loc[:,'Criador'] = input(\"Insira seu nome: \") ### insere a coluna com o nome do criador da tabela\n",
    "data_presente = datetime.now()\n",
    "df_main.loc[:,'Data do output'] = data_presente ### insere a coluna com a data de criacao da tabela"
   ]
  },
  {
   "cell_type": "code",
   "execution_count": null,
   "metadata": {},
   "outputs": [],
   "source": [
    "df_main"
   ]
  },
  {
   "cell_type": "code",
   "execution_count": null,
   "metadata": {},
   "outputs": [],
   "source": [
    "criticas"
   ]
  },
  {
   "cell_type": "code",
   "execution_count": null,
   "metadata": {},
   "outputs": [],
   "source": [
    "df_criticas = pd.DataFrame(criticas)\n",
    "df_criticas = df_criticas.rename(columns={0:'Descrição'})\n",
    "df_criticas"
   ]
  },
  {
   "cell_type": "code",
   "execution_count": null,
   "metadata": {},
   "outputs": [],
   "source": [
    "df_criticas_2 = pd.concat([df16,df17,df18,df19,df20,df22_ini,df22_fim,df22_oco,df22_reg,df26,df27])\n",
    "df_criticas_2"
   ]
  },
  {
   "cell_type": "code",
   "execution_count": null,
   "metadata": {},
   "outputs": [],
   "source": [
    "if criticas == []:                   # Verificando se a lista de criticas esta vazia\n",
    "    print('Nenhuma Critica NÃO Impeditiva encontrada no Quadro 380')\n",
    "else:\n",
    "    print('Foi encontrada uma ou mais Criticas NÃO Impeditivas no Quadro 380')\n",
    "    df_criticas.to_csv('Criticas_nao_impeditivas380.csv')     # Gerando csv das criticas impeditivas"
   ]
  },
  {
   "cell_type": "code",
   "execution_count": null,
   "metadata": {},
   "outputs": [],
   "source": [
    "if len(df_criticas_2) == 0:                             # Verificando se o DataFrame de criticas esta vazia\n",
    "    print('Nenhuma Critica NÃO Impeditiva encontrada no Quadro 380')\n",
    "else:\n",
    "    print('Foi encontrada uma ou mais Criticas NÃO Impeditivas no Quadro 380')\n",
    "    df_criticas_2.to_csv('Criticas_nao_impeditivas380_2.csv')         # Gerando csv das criticas impeditivas"
   ]
  },
  {
   "cell_type": "code",
   "execution_count": null,
   "metadata": {},
   "outputs": [],
   "source": [
    "df_main.to_csv('380_Trabalho.csv')"
   ]
  }
 ],
 "metadata": {
  "kernelspec": {
   "display_name": "Python 3",
   "language": "python",
   "name": "python3"
  },
  "language_info": {
   "codemirror_mode": {
    "name": "ipython",
    "version": 3
   },
   "file_extension": ".py",
   "mimetype": "text/x-python",
   "name": "python",
   "nbconvert_exporter": "python",
   "pygments_lexer": "ipython3",
   "version": "3.8.3"
  }
 },
 "nbformat": 4,
 "nbformat_minor": 2
}
