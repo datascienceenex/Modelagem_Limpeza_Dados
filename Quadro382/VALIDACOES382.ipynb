{
 "cells": [
  {
   "cell_type": "markdown",
   "metadata": {},
   "source": [
    "# Implanatação de algumas Bibliotacas"
   ]
  },
  {
   "cell_type": "code",
   "execution_count": null,
   "metadata": {},
   "outputs": [],
   "source": [
    "import csv\n",
    "import numpy as np\n",
    "import pandas as pd\n",
    "import sys\n",
    "from tkinter import Tk\n",
    "from tkinter import filedialog\n",
    "from datetime import date, datetime, timedelta\n",
    "#import os\n",
    "#from ciso8601 import parse_datetime"
   ]
  },
  {
   "cell_type": "markdown",
   "metadata": {},
   "source": [
    "# Criando variaveis para os arquivos permitidos"
   ]
  },
  {
   "cell_type": "code",
   "execution_count": null,
   "metadata": {},
   "outputs": [],
   "source": [
    "p_cmpid7  = pd.read_excel('PQ382.xlsx')      ### leitura do arquivo com os sinais dos cpmids do quadro 382\n",
    "param7    = pd.read_excel('LQ382.xlsx')      ### leitura do arquivo com o layout atualizado do quadro 382"
   ]
  },
  {
   "cell_type": "code",
   "execution_count": null,
   "metadata": {},
   "outputs": [],
   "source": [
    "control  = 0                                              ### controle de backup    \n",
    "p_cmpid7['cmpid'] = p_cmpid7.cmpid.astype(str)            ### transforma o campo cmpid - QE 382 - do arq auxiliar para string"
   ]
  },
  {
   "cell_type": "code",
   "execution_count": null,
   "metadata": {},
   "outputs": [],
   "source": [
    "## FUNÇÃO PARA SELEÇÃO DO ARQUIVO\n",
    "\n",
    "class qe_s:\n",
    "\n",
    "    def __init__(self):\n",
    "        self.df = {nome[s]: [] for s in range(nome.shape[0])}\n",
    "  \n",
    "    def make_df(self):\n",
    "        lines = []\n",
    "        root = Tk()\n",
    "        root.attributes(\"-topmost\", True)\n",
    "        root.withdraw()\n",
    "        for file in filedialog.askopenfilenames(filetypes=[(\"Arquivos de Text\", \"*.txt\")]):\n",
    "            for line in open(file, encoding=\"utf-8\"):\n",
    "                line = line.replace(\",\",\".\").strip()\n",
    "                for x in range(nome.shape[0]):\n",
    "                    self.df[nome[x]].append(line[i[x]:j[x]])\n",
    "                    \n",
    "        return pd.DataFrame(self.df)"
   ]
  },
  {
   "cell_type": "code",
   "execution_count": null,
   "metadata": {
    "scrolled": true
   },
   "outputs": [],
   "source": [
    "nome     = param7.Campo                      ### guarda os nomes das colunas existentes no quadro 380\n",
    "i        = param7.Ind_inf                    ### guarda a posição no arquivo que inicia um determinado campo\n",
    "j        = param7.Ind_sup                    ### guarda a posição no arquivo que termina um determinado campo\n",
    "\n",
    "quadro = qe_s()       \n",
    "df_main = quadro.make_df()\n",
    "df_main\n",
    "\n",
    "## SELECINE O(S) ARQUIVO(S) DESEJADO(S)"
   ]
  },
  {
   "cell_type": "code",
   "execution_count": null,
   "metadata": {},
   "outputs": [],
   "source": [
    "###################################\n",
    "###Importacao do Quadro382.xlsx ###\n",
    "####que serão usados para fins#####\n",
    "######### de comparação ###########\n",
    "###################################\n",
    "\n",
    "#Pasta ENTCODIGO\n",
    "arq_entcod = pd.read_excel('Quadro382.xlsx','Cod_SUSEP',fileEncoding = \"UTF-8\",encoding = 'latin_1', dtype=str)\n",
    "\n",
    "#Pasta MRFMESANO\n",
    "arq_mrfmesano = pd.read_excel('Quadro382.xlsx','MRFMESANO',fileEncoding = \"UTF-8\",encoding = 'latin_1', dtype=str)\n",
    "\n",
    "#Pasta Bib_DefCamposEstatísticos\n",
    "arq_defcamesta = pd.read_excel('Quadro382.xlsx','Bib_DefCamposEstatísticos',fileEncoding = \"UTF-8\",encoding = 'latin_1', dtype=str)\n",
    "\n",
    "#Pasta rel_CMPID_TPMOID\n",
    "arq_relacao = pd.read_excel('Quadro382.xlsx','rel_CMPID_TPMOID',fileEncoding = \"UTF-8\",encoding = 'latin_1', dtype=str)\n",
    "\n",
    "#Pasta TPMOID\n",
    "arq_tpmoid = pd.read_excel('Quadro382.xlsx','TPMOID',fileEncoding = \"UTF-8\",encoding = 'latin_1', dtype=str)"
   ]
  },
  {
   "cell_type": "code",
   "execution_count": null,
   "metadata": {},
   "outputs": [],
   "source": [
    "# Criando uma lista para guardar todas as criticas impeditivas\n",
    "criticas_impeditivas = []\n",
    "criticas = []"
   ]
  },
  {
   "cell_type": "markdown",
   "metadata": {},
   "source": [
    "# Criticas (Validacoes)"
   ]
  },
  {
   "cell_type": "code",
   "execution_count": null,
   "metadata": {},
   "outputs": [],
   "source": [
    "#7398.3 Verifica se o campo sequencial ESCSEQ é uma sequência válida, que se inicia em 0000001\n",
    "array3 = df_main['ESCSEQ']\n",
    "x = list(array3)                                     ##Dados do arquivo\n",
    "arrayteste = x[:]\n",
    "arrayteste.sort()                                    ##Dados sequenciados\n",
    "if (arrayteste == x):                                ##Comparando\n",
    "    print('Tudo certo, esta de forma sequencial.')\n",
    "else: \n",
    "    print('ERRO!!!, Não prossiga.')\n",
    "    critica7398_3 = str('Critica 7398.3, Não temos uma sequencia valida na coluna ESCSEQ')\n",
    "    criticas_impeditivas.append(critica7398_3)"
   ]
  },
  {
   "cell_type": "code",
   "execution_count": null,
   "metadata": {},
   "outputs": [],
   "source": [
    "#7398.2 Verifica o tamanho padrão da linha (188 caracteres) \n",
    "tamanho = 0\n",
    "for i in range(0,df_main.shape[0]):                    #Passando por cada linha\n",
    "    for iten in df_main.columns:                       #Passando por cada coluna\n",
    "        tamanho = tamanho + len(df_main[iten][i])      #Contando Caracteres por linha\n",
    "    if tamanho != 188:\n",
    "        print('Erro na linha ',i,' o número de caracteres é de: ',tamanho)\n",
    "        critica7398_2 = (\"Critica 7398.2, Erro na linha \",i,\" o número de caracteres é de: \",tamanho)\n",
    "        criticas_impeditivas.append(critica7398_2)\n",
    "    tamanho = 0"
   ]
  },
  {
   "cell_type": "code",
   "execution_count": null,
   "metadata": {},
   "outputs": [],
   "source": [
    "#7398.4 Verifica se o campo ENTCODIGO corresponde à sociedade que está enviando o FIP/SUSEP\n",
    "entcod = set(arq_entcod['Cod_SUSEP'].astype('str'))                   #Escolhendo a coluna do arquivo modelo\n",
    "dadosentcod = set(df_main['ENTCODIGO'])                               #Escolhendo a coluna dos dados\n",
    "for itemtentcod in dadosentcod: \n",
    "    if itemtentcod not in entcod:\n",
    "        print('ERRO!! ENTCODIGO não corresponde a uma operação valida', itemtentcod)\n",
    "        critica7398_4 = ('Critica 7398.4, ENTCODIGO não corresponde a uma operação valida', itemtentcod)\n",
    "        criticas_impeditivas.append(critica7398_4)\n",
    "    else:\n",
    "        print('ENTCODIGO corresponde a um tipo de operação válida.', itemtentcod)\n",
    "        continue"
   ]
  },
  {
   "cell_type": "code",
   "execution_count": null,
   "metadata": {},
   "outputs": [],
   "source": [
    "#7398.5 Verifica se o campo MRFMESANO corresponde, respectivamente, ao ano, mês e último dia do mês de referência do FIP/SUSEP \n",
    "df_main.loc[:,'DTMRFMESANO'] = df_main['MRFMESANO'].astype('datetime64')     #Criando uma nova coluna no formato Date\n",
    "mrfmesano = set(arq_mrfmesano['DATAS'].astype('datetime64'))                 #Escolhendo a coluna do arquivo modelo\n",
    "dadosmrfmesano = set(df_main['DTMRFMESANO'])                                 #Escolhendo a coluna dos dados\n",
    "for itemmrfmesano in dadosmrfmesano: \n",
    "    if itemmrfmesano not in mrfmesano:\n",
    "        print('ERRO!! MRFMESANO não corresponde a uma operação valida', itemmrfmesano)\n",
    "        critica7398_5 = ('Critica 7398.5, MRFMESANO não corresponde a uma Data valida', itemmrfmesano)\n",
    "        criticas_impeditivas.append(critica7398_5)\n",
    "    else:\n",
    "        print('MRFMESANO corresponde a uma Data válida.', itemmrfmesano)\n",
    "        continue"
   ]
  },
  {
   "cell_type": "code",
   "execution_count": null,
   "metadata": {},
   "outputs": [],
   "source": [
    "#7398.6 Verifica se o campo QUAID corresponde ao quadro 382\n",
    "array6 = set(df_main['QUAID'])           ##Verificando todos os Quadros que estamos tratando no documento.\n",
    "for itemarray6 in array6:\n",
    "    if itemarray6 == '382':\n",
    "        print('Este se trata do Quadro:',itemarray6)\n",
    "    else:\n",
    "        print('ERRO!! Este se trata do Quadro:',itemarray6)\n",
    "        critica7398_6 = ('Critica 7398.6, Este esta se tratando do(s) Quadro(s):',itemarray6)\n",
    "        criticas_impeditivas.append(critica7398_6)"
   ]
  },
  {
   "cell_type": "code",
   "execution_count": null,
   "metadata": {},
   "outputs": [],
   "source": [
    "#7398.7 Verifica se o código do tipo de movimento é valido (conforme tabela ‘Tipos Movimentos’ do FIPSUSEP) \n",
    "tpmoid = set(arq_tpmoid['TPMOID'].astype('str'))             #Escolhendo a coluna do arquivo modelo\n",
    "dadostpmoid = set(df_main['TPMOID'])                                 #Escolhendo a coluna dos dados\n",
    "for itemtpmoid in dadostpmoid: \n",
    "    if itemtpmoid not in tpmoid:\n",
    "        print('ERRO!! O código do tipo de movimento não é valido (conforme tabela ‘Tipos Movimentos’ do FIPSUSEP) .', itemtpmoid)\n",
    "        critica7398_7 = ('Critica 7398.7, O código do tipo de movimento não é valido (conforme tabela ‘Tipos Movimentos’ do FIPSUSEP) .', itemtpmoid)\n",
    "        criticas.append(critica7398_7)\n",
    "    else:\n",
    "        print('O código do tipo de movimento é valido (conforme tabela ‘Tipos Movimentos’ do FIPSUSEP) .', itemtpmoid)\n",
    "        continue"
   ]
  },
  {
   "cell_type": "code",
   "execution_count": null,
   "metadata": {},
   "outputs": [],
   "source": [
    "#7398.8 Verifica se o campo CMPID corresponde a um tipo de operação válida (conforme tabela ‘Bib_DefCamposEstatisticos’ do FIPSUSEP) \n",
    "defcamesta = set(arq_defcamesta['CMPID'].astype('str'))             #Escolhendo a coluna do arquivo modelo\n",
    "dadoscmpid = set(df_main['CMPID'])                                 #Escolhendo a coluna dos dados\n",
    "for itemcmpid in dadoscmpid: \n",
    "    if itemcmpid not in defcamesta:\n",
    "        print('ERRO!! O campo CMPID não corresponde a um tipo de operação válida (conforme tabela Bib_DefCamposEstatísticos).', itemcmpid)\n",
    "        critica7398_8 = ('Critica 7398.8, O campo CMPID não corresponde a um tipo de operação válida (conforme tabela Bib_DefCamposEstatísticos).', itemcmpid)\n",
    "        criticas.append(critica7398_8)\n",
    "    else:\n",
    "        print('O campo CMPID corresponde a um tipo de operação válida (conforme tabela Bib_DefCamposEstatísticos).', itemcmpid)\n",
    "        continue"
   ]
  },
  {
   "cell_type": "code",
   "execution_count": null,
   "metadata": {},
   "outputs": [],
   "source": [
    "#7398.9 Verifica se o PLNCODIGO pertence à tabela ‘Planos’ da entidade."
   ]
  },
  {
   "cell_type": "code",
   "execution_count": null,
   "metadata": {},
   "outputs": [],
   "source": [
    "##########################################\n",
    "##Readicionando as colunas str para DATE##\n",
    "##########################################\n",
    "\n",
    "df_main.loc[:,'DTESCDATAINICIORO'] = df_main['ESCDATAINICIORO'].astype('datetime64')\n",
    "df_main.loc[:,'DTESCDATAFIMRO'] = df_main['ESCDATAFIMRO'].astype('datetime64')\n",
    "df_main.loc[:,'DTESCDATAEMISSRO'] = df_main['ESCDATAEMISSRO'].astype('datetime64')\n",
    "df_main.loc[:,'DTESCDATAINICIORD'] = df_main['ESCDATAINICIORD'].astype('datetime64')\n",
    "df_main.loc[:,'DTESCDATAFIMRD'] = df_main['ESCDATAFIMRD'].astype('datetime64')\n",
    "df_main.loc[:,'DTESCDATAEMISSRD'] = df_main['ESCDATAEMISSRD'].astype('datetime64')"
   ]
  },
  {
   "cell_type": "code",
   "execution_count": null,
   "metadata": {},
   "outputs": [],
   "source": [
    "#7398.10 Verifica se os campos ESCVALORMOVRO, ESCVALORMOVRD, ESCIMPSEG, ESCVALORCARO, ESCVALORCARD, ESCVALORCIRO e ESCVALORCIRD são float.\n",
    "\n",
    "###########################################\n",
    "##Readicionando as colunas str para float##\n",
    "###########################################\n",
    "\n",
    "df_main.loc[:,'fESCVALORMOVRO'] = df_main['ESCVALORMOVRO'].astype('float64')\n",
    "df_main.loc[:,'fESCVALORMOVRD'] = df_main['ESCVALORMOVRD'].astype('float64')\n",
    "df_main.loc[:,'fESCIMPSEG'] = df_main['ESCIMPSEG'].astype('float64')\n",
    "df_main.loc[:,'fESCVALORCARO'] = df_main['ESCVALORCARO'].astype('float64')\n",
    "df_main.loc[:,'fESCVALORCARD'] = df_main['ESCVALORCARD'].astype('float64')\n",
    "df_main.loc[:,'fESCVALORCIRO'] = df_main['ESCVALORCIRO'].astype('float64')\n",
    "df_main.loc[:,'fESCVALORCIRD'] = df_main['ESCVALORCIRD'].astype('float64')\n",
    "\n",
    "#Adicionado coluna ESCVALORMOVRO, ESCVALORMOVRD, ESCIMPSEG, ESCVALORCARO, ESCVALORCARD, ESCVALORCIRO e ESCVALORCIRD no tipo Float"
   ]
  },
  {
   "cell_type": "code",
   "execution_count": null,
   "metadata": {},
   "outputs": [],
   "source": [
    "#7398.13 Valida a correspondência entre os campos TPMOID e CMPID\n",
    "mod_relacao = set(arq_relacao['relacao'].astype('str'))\n",
    "relacao = [df_main['CMPID'] + df_main['TPMOID']]\n",
    "for itemrelacao in relacao:\n",
    "    relacao2 = set(itemrelacao)\n",
    "    for itemrelacao2 in relacao2:\n",
    "        if itemrelacao2 not in mod_relacao:\n",
    "            print('ERRO!! A relação ',itemrelacao2,' (CMPID/TPMOID) não é uma relação possivel.')\n",
    "            critica7398_13 = ('Critica 7398.13, A relação ',itemrelacao2,' (CMPID/TPMOID) não é uma relação possivel.')\n",
    "            criticas_impeditivas.append(critica7398_13)\n",
    "        else:\n",
    "            print('A relação ',itemrelacao2,' (CMPID/TPMOID) é uma relação possivel.')\n",
    "        continue"
   ]
  },
  {
   "cell_type": "code",
   "execution_count": null,
   "metadata": {},
   "outputs": [],
   "source": [
    "criticas_impeditivas  #Lista das criticas impeditivas"
   ]
  },
  {
   "cell_type": "code",
   "execution_count": null,
   "metadata": {},
   "outputs": [],
   "source": [
    "df_criticas_i = pd.DataFrame(criticas_impeditivas)     #criacao do DataFrame das criticas impeditivas\n",
    "df_criticas_i = df_criticas_i.rename(columns={0:'Descrição'})\n",
    "df_criticas_i"
   ]
  },
  {
   "cell_type": "code",
   "execution_count": null,
   "metadata": {},
   "outputs": [],
   "source": [
    "if criticas_impeditivas == []:                             # Verificando se a lista de criticas esta vazia\n",
    "    print('Nenhuma Critica Impeditiva encontrada no Quadro 382')\n",
    "else:\n",
    "    print('Foi encontrada uma ou mais Criticas Impeditivas no Quadro 382')\n",
    "    df_criticas_i.to_csv('Criticas_Impeditivas_382.csv')   # Gerando csv das criticas impeditivas"
   ]
  },
  {
   "cell_type": "markdown",
   "metadata": {},
   "source": [
    "# Criticas (Validacoes) Não Impeditivas"
   ]
  },
  {
   "cell_type": "code",
   "execution_count": null,
   "metadata": {},
   "outputs": [],
   "source": [
    "#7398.11 Verifica se o campo ESCCODCESS corresponde a um código de sociedade válido\n",
    "dadosesrcodcess = set(df_main['ESCCODCESS'])       #Escolhendo a coluna dos dados\n",
    "for itemtesrcodcess in dadosesrcodcess: \n",
    "    if itemtesrcodcess not in entcod:\n",
    "        print('ERRO!! ESCCODCESS não corresponde a um código de sociedade válido', itemtesrcodcess)\n",
    "        critica7392_11 = ('Critica 7392.11, ESCCODCESS corresponde a um código de sociedade válido', itemtesrcodcess)\n",
    "        criticas.append(critica7392_11)\n",
    "    else:\n",
    "        print('ENTCODIGO corresponde a um tipo de operação válida.', itemtesrcodcess)\n",
    "        continue"
   ]
  },
  {
   "cell_type": "code",
   "execution_count": null,
   "metadata": {},
   "outputs": [],
   "source": [
    "# Criando DataFrame copia com Campos CMPID, ESCCODCESS, ENTCODIGO no formato int\n",
    "df_mains = df_main.copy()\n",
    "df_mains['CMPID'] = df_mains['CMPID'].astype('int64')\n",
    "df_mains['ESCCODCESS'] = df_mains['ESCCODCESS'].astype('int64')\n",
    "df_mains['ENTCODIGO'] = df_mains['ENTCODIGO'].astype('int64')"
   ]
  },
  {
   "cell_type": "code",
   "execution_count": null,
   "metadata": {},
   "outputs": [],
   "source": [
    "#7398.12 Valida a correspondência entre os campos CMPID e ESCCODCESS \n",
    "relacao12_65 = df_mains[(df_mains['CMPID'] == 1065) & (df_mains['ESCCODCESS'].values != df_mains['ENTCODIGO'].values)]\n",
    "relacao12_69 = df_mains[(df_mains['CMPID'] == 1069) & (df_mains['ESCCODCESS'].values != df_mains['ENTCODIGO'].values)]\n",
    "relacao12_73 = df_mains[(df_mains['CMPID'] == 1073) & (df_mains['ESCCODCESS'].values != df_mains['ENTCODIGO'].values)]"
   ]
  },
  {
   "cell_type": "code",
   "execution_count": null,
   "metadata": {},
   "outputs": [],
   "source": [
    "i = 36   #Definindo numero de colunas\n",
    "\n",
    "# Adicionando criticas com CMPIDs 1065, 1069, 1073 na lista 'criticas'\n",
    "if relacao12_65.shape != (0,i): \n",
    "    critica7398_12_65 = ('Critica 7398.12, O CMPID é 1065 e o ESCCODCESS é diferente do ENTCODIGO') \n",
    "    criticas.append(critica7398_12_65)\n",
    "elif relacao12_69.shape != (0,i): \n",
    "    critica7398_12_69 = ('Critica 7398.12, O CMPID é 1069 e o ESCCODCESS é diferente do ENTCODIGO')\n",
    "    criticas.append(critica7398_12_69)\n",
    "elif relacao12_73.shape != (0,i): \n",
    "    critica7398_12_73 = ('Critica 7398.12, O CMPID é 1073 e o ESCCODCESS é diferente do ENTCODIGO')\n",
    "    criticas.append(critica7398_12_73)\n",
    "else: print('CMPIDs 1065, 1069, 1073. Valida campo ESCCODCESS')"
   ]
  },
  {
   "cell_type": "code",
   "execution_count": null,
   "metadata": {},
   "outputs": [],
   "source": [
    "#7398.12 Valida a correspondência entre os campos CMPID e ESCCODCESS \n",
    "relacao12_66 = df_mains[(df_mains['CMPID'] == 1066) & (df_mains['ESCCODCESS'].values <= 1) & (df_mains['ESCCODCESS'].values >= 9999)] \n",
    "relacao12_67 = df_mains[(df_mains['CMPID'] == 1067) & (df_mains['ESCCODCESS'].values <= 1) & (df_mains['ESCCODCESS'].values >= 9999)] \n",
    "relacao12_70 = df_mains[(df_mains['CMPID'] == 1070) & (df_mains['ESCCODCESS'].values <= 1) & (df_mains['ESCCODCESS'].values >= 9999)] \n",
    "relacao12_71 = df_mains[(df_mains['CMPID'] == 1071) & (df_mains['ESCCODCESS'].values <= 1) & (df_mains['ESCCODCESS'].values >= 9999)] \n",
    "relacao12_74 = df_mains[(df_mains['CMPID'] == 1074) & (df_mains['ESCCODCESS'].values <= 1) & (df_mains['ESCCODCESS'].values >= 9999)] \n",
    "relacao12_75 = df_mains[(df_mains['CMPID'] == 1075) & (df_mains['ESCCODCESS'].values <= 1) & (df_mains['ESCCODCESS'].values >= 9999)] "
   ]
  },
  {
   "cell_type": "code",
   "execution_count": null,
   "metadata": {},
   "outputs": [],
   "source": [
    "# Adicionando criticas com CMPIDs 1066, 1067, 1070, 1071, 1074, 1075 na lista 'criticas'\n",
    "if relacao12_66.shape != (0,i): \n",
    "    critica7398_12_66 = ('Critica 7398.12, O CMPID é 1066 e o ESCCODCESS é diferente do ENTCODIGO') \n",
    "    criticas.append(critica7398_12_66)\n",
    "elif relacao12_67.shape != (0,i): \n",
    "    critica7398_12_67 = ('Critica 7398.12, O CMPID é 1067 e o ESCCODCESS é diferente do ENTCODIGO')\n",
    "    criticas.append(critica7398_12_67)\n",
    "elif relacao12_70.shape != (0,i): \n",
    "    critica7398_12_70 = ('Critica 7398.12, O CMPID é 1070 e o ESCCODCESS é diferente do ENTCODIGO')\n",
    "    criticas.append(critica7398_12_70)\n",
    "elif relacao12_71.shape != (0,i): \n",
    "    critica7398_12_71 = ('Critica 7398.12, O CMPID é 1071 e o ESCCODCESS é diferente do ENTCODIGO')\n",
    "    criticas.append(critica7398_12_71)\n",
    "elif relacao12_74.shape != (0,i): \n",
    "    critica7398_12_74 = ('Critica 7398.12, O CMPID é 1074 e o ESCCODCESS é diferente do ENTCODIGO')\n",
    "    criticas.append(critica7398_12_74)\n",
    "elif relacao12_75.shape != (0,i): \n",
    "    critica7398_12_75 = ('Critica 7398.12, O CMPID é 1075 e o ESCCODCESS é diferente do ENTCODIGO')\n",
    "    criticas.append(critica7398_12_75)\n",
    "else: print('CMPIDs 1066, 1067, 1070, 1071, 1074, 1075. Valida campo ESCCODCESS')"
   ]
  },
  {
   "cell_type": "code",
   "execution_count": null,
   "metadata": {},
   "outputs": [],
   "source": [
    "#7398.12 Valida a correspondência entre os campos CMPID e ESCCODCESS \n",
    "relacao12_68 = df_mains[(df_mains['CMPID'] == 1068) & (df_mains['ESCCODCESS'].values <= 30000) & (df_mains['ESCCODCESS'].values >= 59999)] \n",
    "relacao12_72 = df_mains[(df_mains['CMPID'] == 1072) & (df_mains['ESCCODCESS'].values <= 30000) & (df_mains['ESCCODCESS'].values >= 59999)]\n",
    "relacao12_76 = df_mains[(df_mains['CMPID'] == 1076) & (df_mains['ESCCODCESS'].values <= 30000) & (df_mains['ESCCODCESS'].values >= 59999)]"
   ]
  },
  {
   "cell_type": "code",
   "execution_count": null,
   "metadata": {},
   "outputs": [],
   "source": [
    "# Adicionando criticas com CMPIDs 1068, 1072, 1076 na lista 'criticas'\n",
    "if relacao12_68.shape != (0,i): \n",
    "    critica7398_12_68 = ('Critica 7398.12, O CMPID é 1068 e o ESCCODCESS é diferente do ENTCODIGO') \n",
    "    criticas.append(critica7398_12_68)\n",
    "elif relacao12_72.shape != (0,i): \n",
    "    critica7398_12_72 = ('Critica 7398.12, O CMPID é 1072 e o ESCCODCESS é diferente do ENTCODIGO')\n",
    "    criticas.append(critica7398_12_72)\n",
    "elif relacao12_76.shape != (0,i): \n",
    "    critica7398_12_76 = ('Critica 7398.12, O CMPID é 1076 e o ESCCODCESS é diferente do ENTCODIGO')\n",
    "    criticas.append(critica7398_12_73)\n",
    "else: print('CMPIDs 1068, 1072, 1076. Valida campo ESCCODCESS')"
   ]
  },
  {
   "cell_type": "code",
   "execution_count": null,
   "metadata": {},
   "outputs": [],
   "source": [
    "#7398.14 Verifica se os campos ESCDATAINICIORO, ESCDATAFIMRO, ESCDATAEMISSRO, ESCDATAINICIORD, ESCDATAFIMRD e ESCDATAEMISSRD \n",
    "#correspondem a uma data válida e verifica se estão entre os limites de trinta anos para mais ou menos em relação ao mês de referência. \n",
    "\n",
    "#Criando um DataFrame com colunas de Data para cpmparação. \n",
    "#Adicionando MRFMESANO minimo e maximo\n",
    "df_dates_comparacao = pd.DataFrame(df_main['DTMRFMESANO'] - timedelta(days = 10950))\n",
    "df_dates_comparacao.loc[:,'DTMRFMESANO_max'] = df_main['DTMRFMESANO'] + timedelta(days = 10950)"
   ]
  },
  {
   "cell_type": "code",
   "execution_count": null,
   "metadata": {},
   "outputs": [],
   "source": [
    "mask14_i = (df_main['DTESCDATAINICIORO'] < df_dates_comparacao['DTMRFMESANO']) | (df_main['DTESCDATAINICIORO'] > df_dates_comparacao['DTMRFMESANO_max'])\n",
    "df14_i = df_main.loc[mask14_i] \n",
    "\n",
    "if len(df14_i) > 0:\n",
    "    df14_i.loc[:,'ID da Critica'] = ('CRITICA 7398.14')\n",
    "df14_i"
   ]
  },
  {
   "cell_type": "code",
   "execution_count": null,
   "metadata": {},
   "outputs": [],
   "source": [
    "mask14_f = (df_main['DTESCDATAFIMRO'] < df_dates_comparacao['DTMRFMESANO']) | (df_main['DTESCDATAFIMRO'] > df_dates_comparacao['DTMRFMESANO_max'])\n",
    "df14_f = df_main.loc[mask14_f] \n",
    "\n",
    "if len(df14_f) > 0:\n",
    "    df14_f.loc[:,'ID da Critica'] = ('CRITICA 7398.14')\n",
    "df14_f"
   ]
  },
  {
   "cell_type": "code",
   "execution_count": null,
   "metadata": {},
   "outputs": [],
   "source": [
    "mask14_e = (df_main['DTESCDATAEMISSRO'] < df_dates_comparacao['DTMRFMESANO']) | (df_main['DTESCDATAEMISSRO'] > df_dates_comparacao['DTMRFMESANO_max'])\n",
    "df14_e = df_main.loc[mask14_e] \n",
    "\n",
    "if len(df14_e) > 0:\n",
    "    df14_e.loc[:,'ID da Critica'] = ('CRITICA 7398.14')\n",
    "df14_e"
   ]
  },
  {
   "cell_type": "code",
   "execution_count": null,
   "metadata": {},
   "outputs": [],
   "source": [
    "mask14_io = (df_main['DTESCDATAINICIORD'] < df_dates_comparacao['DTMRFMESANO']) | (df_main['DTESCDATAINICIORD'] > df_dates_comparacao['DTMRFMESANO_max'])\n",
    "df14_io = df_main.loc[mask14_io] \n",
    "\n",
    "if len(df14_io) > 0:\n",
    "    df14_io.loc[:,'ID da Critica'] = ('CRITICA 7398.14')\n",
    "df14_io"
   ]
  },
  {
   "cell_type": "code",
   "execution_count": null,
   "metadata": {},
   "outputs": [],
   "source": [
    "mask14_fr = (df_main['DTESCDATAFIMRD'] < df_dates_comparacao['DTMRFMESANO']) | (df_main['DTESCDATAFIMRD'] > df_dates_comparacao['DTMRFMESANO_max'])\n",
    "df14_fr = df_main.loc[mask14_fr] \n",
    "\n",
    "if len(df14_fr) > 0:\n",
    "    df14_fr.loc[:,'ID da Critica'] = ('CRITICA 7398.14')\n",
    "df14_fr"
   ]
  },
  {
   "cell_type": "code",
   "execution_count": null,
   "metadata": {},
   "outputs": [],
   "source": [
    "mask14_er = (df_main['DTESCDATAEMISSRD'] < df_dates_comparacao['DTMRFMESANO']) | (df_main['DTESCDATAEMISSRD'] > df_dates_comparacao['DTMRFMESANO_max'])\n",
    "df14_er = df_main.loc[mask14_er] \n",
    "\n",
    "if len(df14_er) > 0:\n",
    "    df14_er.loc[:,'ID da Critica'] = ('CRITICA 7398.14')\n",
    "df14_er"
   ]
  },
  {
   "cell_type": "code",
   "execution_count": null,
   "metadata": {},
   "outputs": [],
   "source": [
    "#7398.15 Verifica se a data do campo ESCDATAFIMRO é posterior à data do campo ESCDATAINICIORO e se a data do campo ESCDATAFIMRD \n",
    "#é posterior à data do campo ESCDATAINICIORD \n",
    "mask15_1 = df_main['DTESCDATAFIMRO'] < df_main['DTESCDATAINICIORO']\n",
    "df15_1 = df_main.loc[mask15_1]\n",
    "if len(df15_1) > 0:\n",
    "    df15_1.loc[:,'ID da Critica'] = ('CRITICA 7398.15')\n",
    "df15_1"
   ]
  },
  {
   "cell_type": "code",
   "execution_count": null,
   "metadata": {},
   "outputs": [],
   "source": [
    "mask15_2 = df_main['DTESCDATAFIMRD'] < df_main['DTESCDATAINICIORD']\n",
    "df15_2 = df_main.loc[mask15_2]\n",
    "if len(df15_2) > 0:\n",
    "    df15_2.loc[:,'ID da Critica'] = ('CRITICA 7398.15')\n",
    "df15_2"
   ]
  },
  {
   "cell_type": "code",
   "execution_count": null,
   "metadata": {},
   "outputs": [],
   "source": [
    "#7398.16 Verifica se o mês e ano da data do campo ESCDATAEMISSRO é igual ao mês e ano da data do campo MRFMESANO quando o tipo \n",
    "#de movimento for 'emissão' \n",
    "mask16_tpmoid = (df_main['TPMOID'] == '0007')\n",
    "maskmr_16 = df_main['DTMRFMESANO'].dt.strftime(\"%Y-%m\")\n",
    "maskesr_16 = df_main['DTESCDATAEMISSRO'].dt.strftime(\"%Y-%m\")\n",
    "\n",
    "mask16 = ((maskmr_16 != maskesr_16)) & (mask16_tpmoid)\n",
    "df16 = df_main.loc[mask16]\n",
    "if len(df16) > 0:\n",
    "    df16.loc[:,'ID da Critica'] = ('CRITICA 7398.16')\n",
    "df16"
   ]
  },
  {
   "cell_type": "code",
   "execution_count": null,
   "metadata": {},
   "outputs": [],
   "source": [
    "#7398.17 Verifica se os valores dos campos ESCDATAINICIORO, ESCDATAFIMRO, ESCDATAEMISSRO, ESCVALORMOVRO, ESCVALORCARO e ESCVALORCIRO \n",
    "#são iguais, respectivamente, aos valores dos campos ESCDATAINICIORD, ESCDATAFIMRD, ESCDATAEMISSRD, ESCVALORMOVRD, ESCVALORCARD \n",
    "#e ESCVALORCIRD quando o tipo de movimento for 'emissão' \n",
    "mask17_tpmoid = (df_main['TPMOID'] == '0007')\n",
    "mask17_1 = (df_main['DTESCDATAINICIORO'] != df_main['DTESCDATAINICIORD'])|(df_main['DTESCDATAFIMRO'] != df_main['DTESCDATAFIMRD'])|(df_main['DTESCDATAEMISSRO'] != df_main['DTESCDATAEMISSRD'])\n",
    "mask17_2 = (df_main['ESCVALORMOVRO'] != df_main['ESCVALORMOVRD'])|(df_main['ESCVALORCARO'] != df_main['ESCVALORCARD'])|(df_main['ESCVALORCIRO'] != df_main['ESCVALORCIRD'])\n",
    "mask17_3 = (mask17_1)|(mask17_2)\n",
    "\n",
    "mask17 = (mask17_tpmoid) & (mask17_3)\n",
    "df17 = df_main.loc[mask17]\n",
    "if len(df17) > 0:\n",
    "    df17.loc[:,'ID da Critica'] = ('CRITICA 7398.17')\n",
    "df17"
   ]
  },
  {
   "cell_type": "code",
   "execution_count": null,
   "metadata": {},
   "outputs": [],
   "source": [
    "#7398.18 Se o tipo de movimento for 'emissão' e o valor dos campos ESCVALORCARO e ESCVALORCIRO for maior ou igual a zero, verifica se a soma dos campos ESCVALORCARO e ESCVALORCIRO é inferior ao valor do campo ESCVALORMOVRO"
   ]
  },
  {
   "cell_type": "code",
   "execution_count": null,
   "metadata": {},
   "outputs": [],
   "source": [
    "#7398.19 Verifica se o mês e ano da data do campo ESCDATAEMISSRD é igual ao mês e ano da data do campo MRFMESANO quando o tipo \n",
    "#de movimento for 'aumento' ou 'restituição' ou 'cancelamento',\n",
    "mask19_tpmoid = (df_main['TPMOID'] == '0008') | (df_main['TPMOID'] == '0009') | (df_main['TPMOID'] == '0010')\n",
    "maskmr_19 = df_main['DTMRFMESANO'].dt.strftime(\"%Y-%m\")\n",
    "maskesr_19 = df_main['DTESCDATAEMISSRD'].dt.strftime(\"%Y-%m\")\n",
    "\n",
    "mask19 = ((maskmr_19 != maskesr_19)) & (mask19_tpmoid)\n",
    "df19 = df_main.loc[mask19]\n",
    "if len(df19) > 0:\n",
    "    df19.loc[:,'ID da Critica'] = ('CRITICA 7398.19')\n",
    "df19"
   ]
  },
  {
   "cell_type": "code",
   "execution_count": null,
   "metadata": {},
   "outputs": [],
   "source": [
    "#7398.20 Verifica se a data dos campos ESCDATAINICIORD e ESCDATAEMISSRD é igual ou posterior, respectivamente, à data dos campos\n",
    "#ESCDATAINICIORO e ESCDATAEMISSRO quando o tipo de movimento for 'aumento' ou 'restituição' ou 'cancelamento' \n",
    "mask20_tpmoid = (df_main['TPMOID'] == '0008') | (df_main['TPMOID'] == '0009') | (df_main['TPMOID'] == '0010')\n",
    "mask20_1 = (df_main['DTESCDATAINICIORD'] < df_main['DTESCDATAINICIORO'])\n",
    "mask20_2 = (df_main['DTESCDATAEMISSRD'] < df_main['DTESCDATAEMISSRO'])\n",
    "mask20_3 = (mask20_1)|(mask20_2)\n",
    "\n",
    "mask20 = (mask20_tpmoid) & (mask20_3)\n",
    "df20 = df_main.loc[mask20]\n",
    "if len(df20) > 0:\n",
    "    df20.loc[:,'ID da Critica'] = ('CRITICA 7398.20')\n",
    "df20"
   ]
  },
  {
   "cell_type": "code",
   "execution_count": null,
   "metadata": {},
   "outputs": [],
   "source": [
    "#7398.21 Se o tipo de movimento for 'aumento' ou 'restituição' ou 'cancelamento'  e o valor dos campos ESCVALORCARD ou ESCVALORCIRD for maior ou igual a zero, verifica se a soma dos campos ESCVALORCARD e ESCVALORCIRD é inferior ao valor do campo ESCVALORMOVRD "
   ]
  },
  {
   "cell_type": "code",
   "execution_count": null,
   "metadata": {},
   "outputs": [],
   "source": [
    "#7398.22  Se o tipo de movimento for 'restituição' ou 'cancelamento', verifica se a data do campo ESCDATAEMISSRD é inferior a \n",
    "#90 dias após à data informada no campo ESCDATAFIMRD \n",
    "mask22_tpmoid = (df_main['TPMOID'] == '0009') | (df_main['TPMOID'] == '0010')\n",
    "df_dates_comparacao.loc[:,'DTESCDATAFIMRD-90'] = df_main['DTESCDATAFIMRD'] - timedelta(days = 90)\n",
    "\n",
    "mask22 = (mask22_tpmoid) & (df_main['DTESCDATAEMISSRD'] < df_dates_comparacao['DTESCDATAFIMRD-90'])\n",
    "df22 = df_main[mask22]\n",
    "if len(df22) > 0:\n",
    "    df22.loc[:,'ID da Critica'] = ('CRITICA 7398.22')\n",
    "df22"
   ]
  },
  {
   "cell_type": "code",
   "execution_count": null,
   "metadata": {},
   "outputs": [],
   "source": [
    "#7398.23 Verifica se a data do campo ESCDATAFIMRD é igual à data do campo ESCDATAFIMRO quando o tipo de movimento for \n",
    "#'restituição' ou 'cancelamento'\n",
    "mask23_tpmoid = (df_main['TPMOID'] == '0009') | (df_main['TPMOID'] == '0010')\n",
    "mask23 = (mask23_tpmoid) & (df_main['DTESCDATAFIMRD'] != df_main['DTESCDATAFIMRO'])\n",
    "df23 = df_main.loc[mask23]\n",
    "if len(df23) > 0:\n",
    "    df23.loc[:,'ID da Critica'] = ('CRITICA 7398.23')\n",
    "df23"
   ]
  },
  {
   "cell_type": "code",
   "execution_count": null,
   "metadata": {},
   "outputs": [],
   "source": [
    "#7398.24 Verifica se o valor dos campos ESCVALORMOVRD, ESCVALORCARD e ESCVALORCIRD é igual ou inferior, respectivamente, \n",
    "#ao valor dos campos ESCVALORMOVRO, ESCVALORCARO e ESCVALORCIRO quando o tipo de movimento for 'restituição' ou 'cancelamento', \n",
    "mask24_tpmoid = (df_main['TPMOID'] == '0009') | (df_main['TPMOID'] == '0010')\n",
    "mask24_1 = (df_main['fESCVALORMOVRD'] != df_main['fESCVALORMOVRO'])|(df_main['fESCVALORCARD'] != df_main['fESCVALORCARO'])|(df_main['fESCVALORCIRD'] != df_main['fESCVALORCIRO'])\n",
    "\n",
    "mask24 = (mask24_tpmoid) & (mask24_1)\n",
    "df24 = df_main.loc[mask24]\n",
    "if len(df24) > 0:\n",
    "    df24.loc[:,'ID da Critica'] = ('CRITICA 7398.24')\n",
    "df24"
   ]
  },
  {
   "cell_type": "code",
   "execution_count": null,
   "metadata": {},
   "outputs": [],
   "source": [
    "#7398.25 Verifica se os campos ESCVALORCARO e ESCVALORCARD são iguais a zero  quando o tipo de operação for 'prêmio de resseguro' \n",
    "#(CMPID: 1068) ou 'restituição de prêmio de resseguro' (CMPID: 1072) ou 'cancelamento - repasse de resseguro' (CMPID: 1076) \n",
    "mask25_tpmoid = (df_main['CMPID'] == '1068') | (df_main['CMPID'] == '1072') | (df_main['CMPID'] == '1076')\n",
    "mask25_1 = (df_main['fESCVALORCARO'] != 0.0)|(df_main['fESCVALORCARD'] != 0.0)\n",
    "\n",
    "mask25 = (mask25_tpmoid) & (mask25_1)\n",
    "df25 = df_main.loc[mask25]\n",
    "if len(df25) > 0:\n",
    "    df25.loc[:,'ID da Critica'] = ('CRITICA 7398.25')\n",
    "df25"
   ]
  },
  {
   "cell_type": "code",
   "execution_count": null,
   "metadata": {},
   "outputs": [],
   "source": [
    "#7398.26 Verifica se os campos ESCVALORCIRO e ESCVALORCIRD são iguais à zero quando o tipo de operação for 'cosseguro aceito' \n",
    "#(CMPID: 1066) ou 'cosseguro cedido' (CMPID: 1067) ou ' prêmio de resseguro' (CMPID: 1068) ou 'restituição de prêmio de cosseguro aceito' \n",
    "#(CMPID: 1070) ou 'restituição de prêmio de cosseguro cedido' (CMPID: 1071) ou 'restituição de prêmio de resseguro' (CMPID: 1072) \n",
    "#ou 'cancelamento total de prêmio de cosseguro aceito' (CMPID: 1074)ou ' cancelamento total de prêmio de cosseguro cedido' ou (CMPID: 1075)\n",
    "#'cancelamento total de prêmio de resseguro' (CMPID: 1076)\n",
    "mask26_tpmoid = (df_main['CMPID'] == '1066') | (df_main['CMPID'] == '1067') | (df_main['CMPID'] == '1068')|(df_main['CMPID'] == '1070') | (df_main['CMPID'] == '1071') | (df_main['CMPID'] == '1072')|(df_main['CMPID'] == '1074') | (df_main['CMPID'] == '1075') | (df_main['CMPID'] == '1076')\n",
    "mask26_1 = (df_main['fESCVALORCIRO'] != 0.0)|(df_main['fESCVALORCIRD'] != 0.0)\n",
    "\n",
    "mask26 = (mask26_tpmoid) & (mask26_1)\n",
    "df26 = df_main.loc[mask26]\n",
    "if len(df26) > 0:\n",
    "    df26.loc[:,'ID da Critica'] = ('CRITICA 7398.26')\n",
    "df26"
   ]
  },
  {
   "cell_type": "code",
   "execution_count": null,
   "metadata": {},
   "outputs": [],
   "source": [
    "#7398.28 Verifica se os campos ESCVALORMOVRO E ESCVALORMOVRD são maiores que zero e se os campos ESCVALORCARO, ESCVALORCARD, \n",
    "#ESCVALORCIRO e ESCVALORCIRD são maiores ou iguais a zero \n",
    "mask28_1 = (df_main['fESCVALORMOVRO'] <= 0.0)|(df_main['fESCVALORMOVRD'] <= 0.0)\n",
    "mask28_2 = (df_main['fESCVALORCARO'] < 0.0)|(df_main['fESCVALORCARD'] < 0.0)|(df_main['fESCVALORCIRO'] < 0.0)|(df_main['fESCVALORCIRD'] < 0.0)\n",
    "\n",
    "mask28 = (mask28_1) | (mask28_2)\n",
    "df28 = df_main.loc[mask28]\n",
    "if len(df28) > 0:\n",
    "    df28.loc[:,'ID da Critica'] = ('CRITICA 7398.28')\n",
    "df28"
   ]
  },
  {
   "cell_type": "code",
   "execution_count": null,
   "metadata": {},
   "outputs": [],
   "source": [
    "#7398.29  Para cada “PLNCODIGO” informado pela companhia no quadro estatístico 382 (exceto planos cadastrados com regime financeiro de capitalização), verifica se o resultado da soma do ESCVALORMOVRO ‘Emitido’(TPMOID: 0007; CMPID: 1065 + 1066 –1067) com a soma do campo ESCVALORMOVRD ‘Aumentado’(TPMOID: 0008; CMPID: 1065 + 1066 –1067), subtraído da soma do campo ESCVALORMOVRD ‘Restituído’(TPMOPID: 0009; CMPID: 1069 + 1070 –1071) e subtraído da soma do campo ESCVALORMOVRD ‘Cancelado’(TPMOID 0010; CMPID: 1073 + 1074 –1075) é igual ao campo ‘Valor do Prêmio/Contribuição Comercial’ nos Quadros 102 (CMPID: 12837) e 103 (CMPID: 12844). "
   ]
  },
  {
   "cell_type": "code",
   "execution_count": null,
   "metadata": {},
   "outputs": [],
   "source": [
    "#7398.30 Para cada “PLNCODIGO” informado pela companhia no quadro estatístico 382, verifica se o resultado da soma do campo ESCVALORCIRO ‘Emitido’ (TPMOID: 0007; CMPID: 1065) com a soma do campo ESCVALORCIRD ‘Aumentado’ (TPMOID: 0008; CMPID: 1065), subtraído da soma do campo ESCVALORCIRD ‘Restituído’ (TPMOID: 0009; CMPID: 1069) e subtraído da soma do campo ESCVALORCIRD ‘Cancelado’ (TPMOID: 0010; CMPID: 1073) é igual ao campo ‘Custos Iniciais’ nos Quadros 102 (CMPID: 12839) e 103 (CMPID: 12846) "
   ]
  },
  {
   "cell_type": "code",
   "execution_count": null,
   "metadata": {},
   "outputs": [],
   "source": [
    "#7398.31 Verifica se o campo ESCFREQ é um número inteiro positivo.\n",
    "df_main.loc[:,'iESCFREQ'] = df_main['ESCFREQ'].astype('int64')"
   ]
  },
  {
   "cell_type": "code",
   "execution_count": null,
   "metadata": {},
   "outputs": [],
   "source": [
    "#7398.32 Para os registros cujo PLNCODIGO informado se refira a um plano de previdência tradicional, verifica se o valor do campo ESCIMPSEG dividido pelo valor do campo ESCFREQ é menor ou igual ao Limite de Retenção informado no cadastro de planos de previdência tradicionais (CMPID 13108). "
   ]
  },
  {
   "cell_type": "code",
   "execution_count": null,
   "metadata": {},
   "outputs": [],
   "source": [
    "#7398.33 Se o MRFMESANO for maior ou igual a 20180131 e o tipo de movimento for “Emissão de Prêmio”, verificar se o campo \n",
    "#ESCVALORCIRO é igual a zero.\n",
    "mask33_1 = (df_main['MRFMESANO'] >= '20180131') & (df_main['TPMOID'] == '0007')\n",
    "mask33 = (mask33_1) & (df_main['fESCVALORCIRO'] != 0.0)\n",
    "df33 = df_main.loc[mask33]\n",
    "if len(df33) > 0:\n",
    "    df33.loc[:,'ID da Critica'] = ('CRITICA 7398.33')\n",
    "df33"
   ]
  },
  {
   "cell_type": "code",
   "execution_count": null,
   "metadata": {},
   "outputs": [],
   "source": [
    "#7398.34 Se o MRFMESANO for maior ou igual a 20180131 e o tipo de movimento for “Aumento de Prêmio”, verificar se o campo \n",
    "#ESCVALORCIRD é igual a zero.\n",
    "mask34_1 = (df_main['MRFMESANO'] >= '20180131') & (df_main['TPMOID'] == '0008')\n",
    "mask34 = (mask34_1) & (df_main['fESCVALORCIRD'] != 0.0)\n",
    "df34 = df_main.loc[mask34]\n",
    "if len(df34) > 0:\n",
    "    df34.loc[:,'ID da Critica'] = ('CRITICA 7398.34')\n",
    "df34"
   ]
  },
  {
   "cell_type": "code",
   "execution_count": null,
   "metadata": {},
   "outputs": [],
   "source": [
    "################################################\n",
    "# Adicionando Nome do Criador do output e data #\n",
    "################################################\n",
    "\n",
    "df_main.loc[:,'Criador'] = input(\"Insira seu nome: \") ### insere a coluna com o nome do criador da tabela\n",
    "data_presente = datetime.now()\n",
    "df_main.loc[:,'Data do output'] = data_presente ### insere a coluna com a data de criacao da tabela"
   ]
  },
  {
   "cell_type": "code",
   "execution_count": null,
   "metadata": {},
   "outputs": [],
   "source": [
    "df_main"
   ]
  },
  {
   "cell_type": "code",
   "execution_count": null,
   "metadata": {},
   "outputs": [],
   "source": [
    "criticas"
   ]
  },
  {
   "cell_type": "code",
   "execution_count": null,
   "metadata": {},
   "outputs": [],
   "source": [
    "df_criticas = pd.DataFrame(criticas)\n",
    "df_criticas = df_criticas.rename(columns={0:'Descrição'})\n",
    "df_criticas"
   ]
  },
  {
   "cell_type": "code",
   "execution_count": null,
   "metadata": {},
   "outputs": [],
   "source": [
    "df_criticas_2 = pd.concat([df14_i,df14_f,df14_e,df14_io,df14_fr,df14_er,df15_1,df15_2,df16,df17,df19,df20,df22,df23,df24,df25,df26,df28,df33,df34])\n",
    "df_criticas_2"
   ]
  },
  {
   "cell_type": "code",
   "execution_count": null,
   "metadata": {},
   "outputs": [],
   "source": [
    "if criticas == []:                   # Verificando se a lista de criticas esta vazia\n",
    "    print('Nenhuma Critica NÃO Impeditiva encontrada no Quadro 382')\n",
    "else:\n",
    "    print('Foi encontrada uma ou mais Criticas NÃO Impeditivas no Quadro 382')\n",
    "    df_criticas.to_csv('Criticas_nao_impeditivas382.csv')     # Gerando csv das criticas impeditivas"
   ]
  },
  {
   "cell_type": "code",
   "execution_count": null,
   "metadata": {},
   "outputs": [],
   "source": [
    "if len(df_criticas_2) == 0:                             # Verificando se o DataFrame de criticas esta vazia\n",
    "    print('Nenhuma Critica NÃO Impeditiva encontrada no Quadro 382')\n",
    "else:\n",
    "    print('Foi encontrada uma ou mais Criticas NÃO Impeditivas no Quadro 382')\n",
    "    df_criticas_2.to_csv('Criticas_nao_impeditivas382_2.csv')         # Gerando csv das criticas impeditivas"
   ]
  },
  {
   "cell_type": "code",
   "execution_count": null,
   "metadata": {},
   "outputs": [],
   "source": [
    "df_main.to_csv('382_Trabalho.csv')"
   ]
  }
 ],
 "metadata": {
  "kernelspec": {
   "display_name": "Python 3",
   "language": "python",
   "name": "python3"
  },
  "language_info": {
   "codemirror_mode": {
    "name": "ipython",
    "version": 3
   },
   "file_extension": ".py",
   "mimetype": "text/x-python",
   "name": "python",
   "nbconvert_exporter": "python",
   "pygments_lexer": "ipython3",
   "version": "3.8.3"
  }
 },
 "nbformat": 4,
 "nbformat_minor": 2
}
