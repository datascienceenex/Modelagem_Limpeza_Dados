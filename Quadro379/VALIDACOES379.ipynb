{
 "cells": [
  {
   "cell_type": "markdown",
   "metadata": {},
   "source": [
    "# Implanatação de algumas Bibliotacas"
   ]
  },
  {
   "cell_type": "code",
   "execution_count": null,
   "metadata": {},
   "outputs": [],
   "source": [
    "import csv\n",
    "import numpy as np\n",
    "import pandas as pd\n",
    "import sys\n",
    "from tkinter import Tk\n",
    "from tkinter import filedialog\n",
    "from datetime import date, datetime, timedelta\n",
    "#import os\n",
    "#from ciso8601 import parse_datetime"
   ]
  },
  {
   "cell_type": "markdown",
   "metadata": {},
   "source": [
    "# Criando variaveis para os arquivos permitidos"
   ]
  },
  {
   "cell_type": "code",
   "execution_count": null,
   "metadata": {},
   "outputs": [],
   "source": [
    "p_cmpid4  = pd.read_excel('PQ379.xlsx')      ### leitura do arquivo com os sinais dos cpmids do quadro 379\n",
    "param4    = pd.read_excel('LQ379.xlsx')      ### leitura do arquivo com o layout atualizado do quadro 379"
   ]
  },
  {
   "cell_type": "code",
   "execution_count": null,
   "metadata": {},
   "outputs": [],
   "source": [
    "control  = 0                                              ### controle de backup    \n",
    "p_cmpid4['cmpid'] = p_cmpid4.cmpid.astype(str)            ### transforma o campo cmpid - QE 379 - do arq auxiliar para string"
   ]
  },
  {
   "cell_type": "code",
   "execution_count": null,
   "metadata": {},
   "outputs": [],
   "source": [
    "## FUNÇÃO PARA SELEÇÃO DO ARQUIVO\n",
    "\n",
    "class qe_s:\n",
    "\n",
    "    def __init__(self):\n",
    "        self.df = {nome[s]: [] for s in range(nome.shape[0])}\n",
    "  \n",
    "    def make_df(self):\n",
    "        lines = []\n",
    "        root = Tk()\n",
    "        root.attributes(\"-topmost\", True)\n",
    "        root.withdraw()\n",
    "        for file in filedialog.askopenfilenames(filetypes=[(\"Arquivos de Text\", \"*.txt\")]):\n",
    "            for line in open(file, encoding=\"utf-8\"):\n",
    "                line = line.replace(\",\",\".\").strip()\n",
    "                for x in range(nome.shape[0]):\n",
    "                    self.df[nome[x]].append(line[i[x]:j[x]])\n",
    "                    \n",
    "        return pd.DataFrame(self.df)"
   ]
  },
  {
   "cell_type": "code",
   "execution_count": null,
   "metadata": {
    "scrolled": false
   },
   "outputs": [],
   "source": [
    "nome     = param4.Campo                      ### guarda os nomes das colunas existentes no quadro 379\n",
    "i        = param4.Ind_inf                    ### guarda a posição no arquivo que inicia um determinado campo\n",
    "j        = param4.Ind_sup                    ### guarda a posição no arquivo que termina um determinado campo\n",
    "\n",
    "quadro = qe_s()       \n",
    "df_main = quadro.make_df()\n",
    "df_main\n",
    "\n",
    "## SELECINE O(S) ARQUIVO(S) DESEJADO(S)"
   ]
  },
  {
   "cell_type": "code",
   "execution_count": null,
   "metadata": {},
   "outputs": [],
   "source": [
    "###################################\n",
    "###Importacao do Quadro379.xlsx ###\n",
    "####que serão usados para fins#####\n",
    "######### de comparação ###########\n",
    "###################################\n",
    "\n",
    "#Pasta CMPID\n",
    "arq_cmpid = pd.read_excel('Quadro379.xlsx','CMPID',fileEncoding = \"UTF-8\",encoding = 'latin_1', dtype=str)\n",
    "\n",
    "#Pasta RAMCODIGO\n",
    "arq_ramcod = pd.read_excel('Quadro379.xlsx','RAMCODIGO',fileEncoding = \"UTF-8\",encoding = 'latin_1', dtype=str)\n",
    "\n",
    "#Pasta ENTCODIGO\n",
    "arq_entcod = pd.read_excel('Quadro379.xlsx','Cod_SUSEP',fileEncoding = \"UTF-8\",encoding = 'latin_1', dtype=str)\n",
    "\n",
    "#Pasta MRFMESANO\n",
    "arq_mrfmesano = pd.read_excel('Quadro379.xlsx','MRFMESANO',fileEncoding = \"UTF-8\",encoding = 'latin_1', dtype=str)\n",
    "\n",
    "#Pasta rel_CMPID_TPMOID\n",
    "arq_relacao = pd.read_excel('Quadro379.xlsx','rel_CMPID_TPMOID',fileEncoding = \"UTF-8\",encoding = 'latin_1', dtype=str)\n",
    "\n",
    "#Pasta TPMOID\n",
    "arq_tpmoid = pd.read_excel('Quadro379.xlsx','TPMOID',fileEncoding = \"UTF-8\",encoding = 'latin_1', dtype=str)\n",
    "\n",
    "#Pasta TPMOPREV\n",
    "arq_tpmoprev = pd.read_excel('Quadro379.xlsx','TPMOPREV',fileEncoding = \"UTF-8\",encoding = 'latin_1', dtype=str)"
   ]
  },
  {
   "cell_type": "code",
   "execution_count": null,
   "metadata": {},
   "outputs": [],
   "source": [
    "# Criando uma lista para guardar todas as criticas impeditivas\n",
    "criticas_impeditivas = []\n",
    "criticas = []"
   ]
  },
  {
   "cell_type": "markdown",
   "metadata": {},
   "source": [
    "# Criticas (Validacoes)"
   ]
  },
  {
   "cell_type": "code",
   "execution_count": null,
   "metadata": {},
   "outputs": [],
   "source": [
    "#7395.3 Verifica se o campo sequencial EBISEQ é uma sequência válida, que se inicia em 0000001 \n",
    "array3 = df_main['EBISEQ']\n",
    "x = list(array3)                                     ##Dados do arquivo\n",
    "arrayteste = x[:]\n",
    "arrayteste.sort()                                    ##Dados sequenciados\n",
    "if (arrayteste == x):                                ##Comparando\n",
    "    print('Tudo certo, esta de forma sequencial.')\n",
    "else: \n",
    "    print('ERRO!!!, Não prossiga.')\n",
    "    critica7395_3 = str('Critica 7395.3, Não temos uma sequencia valida na coluna EBISEQ')\n",
    "    criticas_impeditivas.append(critica7395_3)"
   ]
  },
  {
   "cell_type": "code",
   "execution_count": null,
   "metadata": {},
   "outputs": [],
   "source": [
    "#7395.2 Verifica o tamanho padrão da linha (205 caracteres)\n",
    "tamanho = 0\n",
    "for i in range(0,df_main.shape[0]):                    #Passando por cada linha\n",
    "    for iten in df_main.columns:                       #Passando por cada coluna\n",
    "        tamanho = tamanho + len(df_main[iten][i])      #Contando Caracteres por linha\n",
    "    if tamanho != 205:\n",
    "        print('Erro na linha ',i,' o número de caracteres é de: ',tamanho)\n",
    "        critica7395_2 = (\"Critica 7395.2, Erro na linha \",i,\" o número de caracteres é de: \",tamanho)\n",
    "        criticas_impeditivas.append(critica7395_2)\n",
    "    tamanho = 0"
   ]
  },
  {
   "cell_type": "code",
   "execution_count": null,
   "metadata": {},
   "outputs": [],
   "source": [
    "#7395.4 Verifica se o campo ENTCODIGO corresponde à sociedade que está enviando o FIP/SUSEP\n",
    "entcod = set(arq_entcod['Cod_SUSEP'].astype('str'))                   #Escolhendo a coluna do arquivo modelo\n",
    "dadosentcod = set(df_main['ENTCODIGO'])                               #Escolhendo a coluna dos dados\n",
    "for itemtentcod in dadosentcod: \n",
    "    if itemtentcod not in entcod:\n",
    "        print('ERRO!! ENTCODIGO não corresponde a uma operação valida', itemtentcod)\n",
    "        critica7395_4 = ('Critica 7395.4, ENTCODIGO não corresponde a uma operação valida', itemtentcod)\n",
    "        criticas_impeditivas.append(critica7395_4)\n",
    "    else:\n",
    "        print('ENTCODIGO corresponde a um tipo de operação válida.', itemtentcod)\n",
    "        continue"
   ]
  },
  {
   "cell_type": "code",
   "execution_count": null,
   "metadata": {},
   "outputs": [],
   "source": [
    "#7395.5 Verifica se o campo MRFMESANO corresponde, respectivamente, ao ano, mês e último dia do mês de referência do FIP/SUSEP \n",
    "df_main.loc[:,'DTMRFMESANO'] = df_main['MRFMESANO'].astype('datetime64')     #Criando uma nova coluna no formato Date\n",
    "mrfmesano = set(arq_mrfmesano['DATAS'].astype('datetime64'))                 #Escolhendo a coluna do arquivo modelo\n",
    "dadosmrfmesano = set(df_main['DTMRFMESANO'])                                 #Escolhendo a coluna dos dados\n",
    "for itemmrfmesano in dadosmrfmesano: \n",
    "    if itemmrfmesano not in mrfmesano:\n",
    "        print('ERRO!! MRFMESANO não corresponde a uma operação valida', itemmrfmesano)\n",
    "        critica7395_5 = ('Critica 7395.5, MRFMESANO não corresponde a uma Data valida', itemmrfmesano)\n",
    "        criticas_impeditivas.append(critica7395_5)\n",
    "    else:\n",
    "        print('MRFMESANO corresponde a uma Data válida.', itemmrfmesano)\n",
    "        continue"
   ]
  },
  {
   "cell_type": "code",
   "execution_count": null,
   "metadata": {},
   "outputs": [],
   "source": [
    "#7395.6 Verifica se o campo QUAID corresponde ao quadro 379\n",
    "array6 = set(df_main['QUAID'])           ##Verificando todos os Quadros que estamos tratando no documento.\n",
    "for itemarray6 in array6:\n",
    "    if itemarray6 == '379':\n",
    "        print('Este se trata do Quadro:',itemarray6)\n",
    "    else:\n",
    "        print('ERRO!! Este se trata do Quadro:',itemarray6)\n",
    "        critica7395_6 = ('Critica 7395.6, Este esta se tratando do(s) Quadro(s):',itemarray6)\n",
    "        criticas_impeditivas.append(critica7395_6)"
   ]
  },
  {
   "cell_type": "code",
   "execution_count": null,
   "metadata": {},
   "outputs": [],
   "source": [
    "#7395.7 Verifica se o campo TPMOID corresponde a um tipo de movimento valido \n",
    "tpmoid = set(arq_tpmoid['TPMOID'].astype('str'))                                    #Escolhendo a coluna do arquivo modelo\n",
    "dadostpmoid = set(df_main['TPMOID'])                                                #Escolhendo a coluna dos dados\n",
    "for itemtpmoid in dadostpmoid: \n",
    "    if itemtpmoid not in tpmoid:\n",
    "        print('ERRO!! TPMOID não corresponde a uma operação valida', itemtpmoid)\n",
    "        critica7395_7 = ('Critica 7395.7, TPMOID não corresponde a uma operação valida', itemtpmoid)\n",
    "        criticas_impeditivas.append(critica7395_7)\n",
    "    else:\n",
    "        print('TPMOID corresponde a um tipo de operação válida.', itemtpmoid)\n",
    "        continue"
   ]
  },
  {
   "cell_type": "code",
   "execution_count": null,
   "metadata": {},
   "outputs": [],
   "source": [
    "#7395.8 Verifica se o campo TPMOPREV corresponde a um tipo de movimento de previdência valido \n",
    "tpmoprev = set(arq_tpmoprev['TPMOPREV'].astype('str'))                                  #Escolhendo a coluna do arquivo modelo\n",
    "dadostpmoprev = set(df_main['TPMOPREV'])                                                #Escolhendo a coluna dos dados\n",
    "for itemtpmoprev in dadostpmoprev: \n",
    "    if itemtpmoprev not in tpmoprev:\n",
    "        print('ERRO!! TPMOPREV não corresponde a uma operação valida', itemtpmoprev)\n",
    "        critica7395_8 = ('Critica 7395.8, TPMOPREV não corresponde a uma operação valida', itemtpmoprev)\n",
    "        criticas_impeditivas.append(critica7395_8)\n",
    "    else:\n",
    "        print('TPMOPREV corresponde a um tipo de operação válida.', itemtpmoprev)\n",
    "        continue"
   ]
  },
  {
   "cell_type": "code",
   "execution_count": null,
   "metadata": {},
   "outputs": [],
   "source": [
    "#7395.9 Verifica se o campo CMPID corresponde a um tipo de operação válida\n",
    "cmpid = set(arq_cmpid['CMPID'].astype('str'))             #Escolhendo a coluna do arquivo modelo\n",
    "dadoscmpid = set(df_main['CMPID'])                                 #Escolhendo a coluna dos dados\n",
    "for itemcmpid in dadoscmpid: \n",
    "    if itemcmpid not in cmpid:\n",
    "        print('ERRO!! O campo CMPID não corresponde a um tipo de operação válida.', itemcmpid)\n",
    "        critica73995_9 = ('Critica 7395.9, O campo CMPID não corresponde a um tipo de operação válida.', itemcmpid)\n",
    "        criticas_impeditivas.append(critica7395_9)\n",
    "    else:\n",
    "        print('O campo CMPID corresponde a um tipo de operação válida.', itemcmpid)\n",
    "        continue"
   ]
  },
  {
   "cell_type": "code",
   "execution_count": null,
   "metadata": {},
   "outputs": [],
   "source": [
    "#7395.10 Verifica se o PLNCODIGO pertence ao Cadastro de Planos da entidade"
   ]
  },
  {
   "cell_type": "code",
   "execution_count": null,
   "metadata": {},
   "outputs": [],
   "source": [
    "#7395.11 Verifica se o CPF do participante (EBICPFPART) e do beneficiário (EBICPFBENF) são inteiros e válidos, exceto para preenchimento com zeros\n",
    "\n",
    "#Criação da função\n",
    "import re\n",
    "\n",
    "def isCpfValid(cpf):\n",
    "    \"\"\" If cpf in the Brazilian format is valid, it returns True, otherwise, it returns False. \"\"\"\n",
    "\n",
    "    # Check if type is str\n",
    "    if not isinstance(cpf,str):\n",
    "        return False\n",
    "\n",
    "    # Remove some unwanted characters\n",
    "    cpf = re.sub(\"[^0-9]\",'',cpf)\n",
    "    \n",
    "    # Verify if CPF number is equal\n",
    "    if cpf=='00000000000' or cpf=='11111111111' or cpf=='22222222222' or cpf=='33333333333' or cpf=='44444444444' or cpf=='55555555555' or cpf=='66666666666' or cpf=='77777777777' or cpf=='88888888888' or cpf=='99999999999':\n",
    "        return False\n",
    "\n",
    "    # Checks if string has 11 characters\n",
    "    if len(cpf) != 11:\n",
    "        return False\n",
    "\n",
    "    sum = 0\n",
    "    weight = 10\n",
    "\n",
    "    \"\"\" Calculating the first cpf check digit. \"\"\"\n",
    "    for n in range(9):\n",
    "        sum = sum + int(cpf[n]) * weight\n",
    "\n",
    "        # Decrement weight\n",
    "        weight = weight - 1\n",
    "\n",
    "    verifyingDigit = 11 -  sum % 11\n",
    "\n",
    "    if verifyingDigit > 9 :\n",
    "        firstVerifyingDigit = 0\n",
    "    else:\n",
    "        firstVerifyingDigit = verifyingDigit\n",
    "\n",
    "    \"\"\" Calculating the second check digit of cpf. \"\"\"\n",
    "    sum = 0\n",
    "    weight = 11\n",
    "    for n in range(10):\n",
    "        sum = sum + int(cpf[n]) * weight\n",
    "\n",
    "        # Decrement weight\n",
    "        weight = weight - 1\n",
    "\n",
    "    verifyingDigit = 11 -  sum % 11\n",
    "\n",
    "    if verifyingDigit > 9 :\n",
    "        secondVerifyingDigit = 0\n",
    "    else:\n",
    "        secondVerifyingDigit = verifyingDigit\n",
    "\n",
    "    if cpf[-2:] == \"%s%s\" % (firstVerifyingDigit,secondVerifyingDigit):\n",
    "        return True\n",
    "    return False"
   ]
  },
  {
   "cell_type": "code",
   "execution_count": null,
   "metadata": {},
   "outputs": [],
   "source": [
    "# Realizando Check no Campo EBICPFPART\n",
    "cpfparticipante = set(df_main['EBICPFPART'])\n",
    "\n",
    "for itemcpfp in cpfparticipante:\n",
    "    verificacao1 = isCpfValid(itemcpfp)\n",
    "    if verificacao1 == False:\n",
    "        print(\"Erro!! Critica 7395.11 o CPF \", itemcpfp, \" não é um CPF valido.\")\n",
    "        critica7395_11 = (\"Critica 7395.11\",\"o CPF \", itemcpfp, \" não é um CPF valido.\")\n",
    "        criticas_impeditivas.append(critica7395_11)\n",
    "\n",
    "print('Demais CPF do participante nos campos (EBICPFPART) são validos')      "
   ]
  },
  {
   "cell_type": "code",
   "execution_count": null,
   "metadata": {},
   "outputs": [],
   "source": [
    "# Realizando Check no Campo EBICPFBENF\n",
    "cpfbeneficiario = set(df_main['EBICPFBENF'])\n",
    "\n",
    "for itemcpfb in cpfbeneficiario:\n",
    "    verificacao2 = isCpfValid(itemcpfb)\n",
    "    if verificacao2 == False:\n",
    "        print(\"Erro!! Critica 7395.11 o CPF \", itemcpfb, \" não é um CPF valido.\")\n",
    "        critica7395_11 = (\"Critica 7395.11\",\"o CPF \", itemcpfb, \" não é um CPF valido.\")\n",
    "        criticas_impeditivas.append(critica7395_11)\n",
    "\n",
    "print('Demais CPF do participante nos campos (EBICPFPART) são validos')   "
   ]
  },
  {
   "cell_type": "code",
   "execution_count": null,
   "metadata": {},
   "outputs": [],
   "source": [
    "#7395.12 Verifica se os campos EBIDATAINICIO, EBIDATAFIM, EBIDATAOCORR, EBIDATAREG e EBIDATACOMUNICA correspondem a uma data válida \n",
    "#e se estão compreendidos entre os anos de 1901 e 2099.\n",
    "\n",
    "#####################################################\n",
    "##Readicionando as colunas de Data de str para date##\n",
    "#####################################################\n",
    "\n",
    "df_main.loc[:,'DTEBIDATAINICIO'] = df_main['EBIDATAINICIO'].astype('datetime64')\n",
    "df_main.loc[:,'DTEBIDATAFIM'] = df_main['EBIDATAFIM'].astype('datetime64')\n",
    "df_main.loc[:,'DTEBIDATAOCORR'] = df_main['EBIDATAOCORR'].astype('datetime64')\n",
    "df_main.loc[:,'DTEBIDATAREG'] = df_main['EBIDATAREG'].astype('datetime64')\n",
    "df_main.loc[:,'DTEBIDATACOMUNICA'] = df_main['EBIDATACOMUNICA'].astype('datetime64')\n",
    "\n",
    "#Adicionado colunas EBIDATAINICIO, EBIDATAFIM, EBIDATAOCORR, EBIDATAREG e EBIDATACOMUNICA no tipo Date\n",
    "\n",
    "df_dates_comparacao = pd.DataFrame(df_main['DTMRFMESANO'] - timedelta(days = 43800))\n",
    "df_dates_comparacao.loc[:,'DTMRFMESANO_max'] = df_main['DTMRFMESANO'] + timedelta(days = 29200)"
   ]
  },
  {
   "cell_type": "code",
   "execution_count": null,
   "metadata": {},
   "outputs": [],
   "source": [
    "comparação_01 = (df_main['DTEBIDATAINICIO'] < df_dates_comparacao['DTMRFMESANO']) | (df_main['DTEBIDATAINICIO'] > df_dates_comparacao['DTMRFMESANO_max'])\n",
    "dfc01 = df_main.loc[comparação_01]\n",
    "if len(dfc01) > 0:\n",
    "    dfc01.loc[:,'ID da Critica'] = ('CRITICA 7395.12')\n",
    "dfc01"
   ]
  },
  {
   "cell_type": "code",
   "execution_count": null,
   "metadata": {},
   "outputs": [],
   "source": [
    "comparação_02 = (df_main['DTEBIDATAFIM'] < df_dates_comparacao['DTMRFMESANO']) | (df_main['DTEBIDATAFIM'] > df_dates_comparacao['DTMRFMESANO_max'])\n",
    "dfc02 = df_main.loc[comparação_02]\n",
    "if len(dfc02) > 0:\n",
    "    dfc02.loc[:,'ID da Critica'] = ('CRITICA 7395.12')\n",
    "dfc02"
   ]
  },
  {
   "cell_type": "code",
   "execution_count": null,
   "metadata": {},
   "outputs": [],
   "source": [
    "comparação_03 = (df_main['DTEBIDATAOCORR'] < df_dates_comparacao['DTMRFMESANO']) | (df_main['DTEBIDATAOCORR'] > df_dates_comparacao['DTMRFMESANO_max'])\n",
    "dfc03 = df_main.loc[comparação_03]\n",
    "if len(dfc03) > 0:\n",
    "    dfc03.loc[:,'ID da Critica'] = ('CRITICA 7395.12')\n",
    "dfc03"
   ]
  },
  {
   "cell_type": "code",
   "execution_count": null,
   "metadata": {},
   "outputs": [],
   "source": [
    "comparação_04 = (df_main['DTEBIDATAREG'] < df_dates_comparacao['DTMRFMESANO']) | (df_main['DTEBIDATAREG'] > df_dates_comparacao['DTMRFMESANO_max'])\n",
    "dfc04 = df_main.loc[comparação_04]\n",
    "if len(dfc04) > 0:\n",
    "    dfc04.loc[:,'ID da Critica'] = ('CRITICA 7395.12')\n",
    "dfc04"
   ]
  },
  {
   "cell_type": "code",
   "execution_count": null,
   "metadata": {},
   "outputs": [],
   "source": [
    "comparação_05 = (df_main['DTEBIDATACOMUNICA'] < df_dates_comparacao['DTMRFMESANO']) | (df_main['DTEBIDATACOMUNICA'] > df_dates_comparacao['DTMRFMESANO_max'])\n",
    "dfc05 = df_main.loc[comparação_05]\n",
    "if len(dfc05) > 0:\n",
    "    dfc05.loc[:,'ID da Critica'] = ('CRITICA 7395.12')\n",
    "dfc05"
   ]
  },
  {
   "cell_type": "code",
   "execution_count": null,
   "metadata": {},
   "outputs": [],
   "source": [
    "#7395.13 Verifica se as datas relacionadas ao evento (EBIDATAOCORR, EBIDATAREG e EBIDATARCOMUNICA), \n",
    "#para a combinação de TPMOID 0001 e TPMOPREV 0001, estão entre os limites de trinta anos para mais ou menos em relação ao mês de referência\n",
    "combinação_13 = (df_main['TPMOID'] == '0001') & (df_main['TPMOPREV'] == '0001')\n",
    "\n",
    "df_dates_comparacao.loc[:,'DTMRFMESANO-30'] = df_main['DTMRFMESANO'] - timedelta(days = 10950)\n",
    "df_dates_comparacao.loc[:,'DTMRFMESANO+30'] = df_main['DTMRFMESANO'] + timedelta(days = 10950)"
   ]
  },
  {
   "cell_type": "code",
   "execution_count": null,
   "metadata": {},
   "outputs": [],
   "source": [
    "mask13_1 = (df_main['DTEBIDATAOCORR'] < df_dates_comparacao['DTMRFMESANO-30']) | (df_main['DTEBIDATAOCORR'] > df_dates_comparacao['DTMRFMESANO+30'])\n",
    "df13_1 = df_main.loc[mask13_1]\n",
    "if len(df13_1) > 0:\n",
    "    df13_1.loc[:,'ID da Critica'] = ('CRITICA 7395.13')\n",
    "df13_1"
   ]
  },
  {
   "cell_type": "code",
   "execution_count": null,
   "metadata": {},
   "outputs": [],
   "source": [
    "mask13_2 = (df_main['DTEBIDATAREG'] < df_dates_comparacao['DTMRFMESANO-30']) | (df_main['DTEBIDATAREG'] > df_dates_comparacao['DTMRFMESANO+30'])\n",
    "df13_2 = df_main.loc[mask13_2]\n",
    "if len(df13_2) > 0:\n",
    "    df13_2.loc[:,'ID da Critica'] = ('CRITICA 7395.13')\n",
    "df13_2"
   ]
  },
  {
   "cell_type": "code",
   "execution_count": null,
   "metadata": {},
   "outputs": [],
   "source": [
    "mask13_3 = (df_main['DTEBIDATACOMUNICA'] < df_dates_comparacao['DTMRFMESANO-30']) | (df_main['DTEBIDATACOMUNICA'] > df_dates_comparacao['DTMRFMESANO+30'])\n",
    "df13_3 = df_main.loc[mask13_3]\n",
    "if len(df13_3) > 0:\n",
    "    df13_3.loc[:,'ID da Critica'] = ('CRITICA 7395.13')\n",
    "df13_3"
   ]
  },
  {
   "cell_type": "code",
   "execution_count": null,
   "metadata": {},
   "outputs": [],
   "source": [
    "#7395.14 Verifica se o campo EBIBENVEN é inteiro e maior ou igual a zero. \n",
    "df_main.loc[:,'iEBIBENVEN'] = df_main['EBIBENVEN'].astype('int64')\n",
    "dadosebibenven = set(df_main['iEBIBENVEN'])\n",
    "for itemebibenven in dadosebibenven:\n",
    "    if itemebibenven < 0:\n",
    "        print('Erro!! O campo EBIBENVEN não é maior ou igual a zero.',itemebibenven)\n",
    "        critica7395_14 = ('Critica 7395.14, O campo EBIBENVEN não é maior ou igual a zero.',itemebibenven)\n",
    "    else:\n",
    "        print('O campo EBIBENVEN é inteiro e maior ou igual a zero.', itemebibenven)\n",
    "        continue"
   ]
  },
  {
   "cell_type": "code",
   "execution_count": null,
   "metadata": {},
   "outputs": [],
   "source": [
    "#7395.15 Verifica se os campos EBIVALORPBAC, EBIVALORPBC, EBIVALORMOV e EBIVALORMON são float\n",
    "\n",
    "###########################################\n",
    "##Readicionando as colunas str para float##\n",
    "###########################################\n",
    "\n",
    "df_main.loc[:,'fEBIVALORPBAC'] = df_main['EBIVALORPBAC'].astype('float64')\n",
    "df_main.loc[:,'fEBIVALORPBC'] = df_main['EBIVALORPBC'].astype('float64')\n",
    "df_main.loc[:,'fEBIVALORMOV'] = df_main['EBIVALORMOV'].astype('float64')\n",
    "df_main.loc[:,'fEBIVALORMON'] = df_main['EBIVALORMON'].astype('float64')\n",
    "\n",
    "#Adicionado coluna EBIVALORPBAC, EBIVALORPBC, EBIVALORMOV e EBIVALORMON no tipo Float"
   ]
  },
  {
   "cell_type": "code",
   "execution_count": null,
   "metadata": {},
   "outputs": [],
   "source": [
    "#7395.18 Valida a correspondência entre os campos CMPID e TPMOID\n",
    "mod_relacao = set(arq_relacao['relacao'].astype('str'))\n",
    "relacao = [df_main['CMPID'] + df_main['TPMOID']]\n",
    "for itemrelacao in relacao:\n",
    "    relacao2 = set(itemrelacao)\n",
    "    for itemrelacao2 in relacao2:\n",
    "        if itemrelacao2 not in mod_relacao:\n",
    "            print('ERRO!! A relação ',itemrelacao2,' (CMPID/TPMOID) não é uma relação possivel.')\n",
    "            critica7395_18 = ('Critica 7395.18, A relação ',itemrelacao2,' (CMPID/TPMOID) não é uma relação possivel.')\n",
    "            criticas_impeditivas.append(critica7395_18)\n",
    "        else:\n",
    "            print('A relação ',itemrelacao2,' (CMPID/TPMOID) é uma relação possivel.')\n",
    "        continue"
   ]
  },
  {
   "cell_type": "code",
   "execution_count": null,
   "metadata": {},
   "outputs": [],
   "source": [
    "criticas_impeditivas  #Lista das criticas impeditivas"
   ]
  },
  {
   "cell_type": "code",
   "execution_count": null,
   "metadata": {},
   "outputs": [],
   "source": [
    "df_criticas_i = pd.DataFrame(criticas_impeditivas)     #criacao do DataFrame das criticas impeditivas\n",
    "df_criticas_i = df_criticas_i.rename(columns={0:'Descrição'})\n",
    "df_criticas_i"
   ]
  },
  {
   "cell_type": "code",
   "execution_count": null,
   "metadata": {},
   "outputs": [],
   "source": [
    "df_criticas_i2 = pd.concat([dfc01,dfc02,dfc03,dfc04,dfc05,df13_1,df13_2,df13_3])\n",
    "df_criticas_i2"
   ]
  },
  {
   "cell_type": "code",
   "execution_count": null,
   "metadata": {},
   "outputs": [],
   "source": [
    "if criticas_impeditivas == []:                             # Verificando se a lista de criticas esta vazia\n",
    "    print('Nenhuma Critica Impeditiva encontrada no Quadro 379')\n",
    "else:\n",
    "    print('Foi encontrada uma ou mais Criticas Impeditivas no Quadro 379')\n",
    "    df_criticas_i.to_csv('Criticas_Impeditivas_379.csv')   # Gerando csv das criticas impeditivas"
   ]
  },
  {
   "cell_type": "code",
   "execution_count": null,
   "metadata": {},
   "outputs": [],
   "source": [
    "if len(df_criticas_i2) == 0:                               # Verificando se a lista de criticas esta vazia\n",
    "    print('Nenhuma Critica Impeditiva encontrada no Quadro 379')\n",
    "else:\n",
    "    print('Foi encontrada uma ou mais Criticas Impeditivas no Quadro 379')\n",
    "    df_criticas_i2.to_csv('Criticas_Impeditivas_379_2.csv')   # Gerando csv das criticas impeditivas"
   ]
  },
  {
   "cell_type": "markdown",
   "metadata": {},
   "source": [
    "# Criticas (Validacoes) Não Impeditivas"
   ]
  },
  {
   "cell_type": "code",
   "execution_count": null,
   "metadata": {},
   "outputs": [],
   "source": [
    "#7395.16 Verifica se o campo EBICODCESS corresponde a um código de sociedade válido \n",
    "dadosebicodcess = set(df_main['EBICODCESS'])                               #Escolhendo a coluna dos dados\n",
    "for itemebicodcess in dadosebicodcess: \n",
    "    if itemebicodcess not in entcod:\n",
    "        print('ERRO!! EBICODCESS não corresponde a um código de sociedade válido', itemebicodcess)\n",
    "        critica7395_16 = ('Critica 7395.16, EBICODCESS não corresponde a um código de sociedade válido', itemebicodcess)\n",
    "        criticas.append(critica7395_16)\n",
    "    else:\n",
    "        print('EBICODCESS corresponde a um código de sociedade válido.', itemebicodcess)\n",
    "        continue"
   ]
  },
  {
   "cell_type": "code",
   "execution_count": null,
   "metadata": {},
   "outputs": [],
   "source": [
    "# Criando DataFrame copia com Campos CMPID, EBICODCESS, ENTCODIGO no formato int\n",
    "df_mains = df_main.copy()\n",
    "df_mains['CMPID'] = df_mains['CMPID'].astype('int64')\n",
    "df_mains['EBICODCESS'] = df_mains['EBICODCESS'].astype('int64')\n",
    "df_mains['ENTCODIGO'] = df_mains['ENTCODIGO'].astype('int64')"
   ]
  },
  {
   "cell_type": "code",
   "execution_count": null,
   "metadata": {},
   "outputs": [],
   "source": [
    "#7395.17 Valida a correspondência entre os campos CMPID e EBICODCESS \n",
    "relacao17_38 = df_mains[(df_mains['CMPID'] == 1038) & (df_mains['EBICODCESS'].values != df_mains['ENTCODIGO'].values)]\n",
    "relacao17_39 = df_mains[(df_mains['CMPID'] == 1039) & (df_mains['EBICODCESS'].values != df_mains['ENTCODIGO'].values)]\n",
    "relacao17_42 = df_mains[(df_mains['CMPID'] == 1042) & (df_mains['EBICODCESS'].values != df_mains['ENTCODIGO'].values)]\n",
    "relacao17_44 = df_mains[(df_mains['CMPID'] == 1044) & (df_mains['EBICODCESS'].values != df_mains['ENTCODIGO'].values)]\n",
    "relacao17_47 = df_mains[(df_mains['CMPID'] == 1047) & (df_mains['EBICODCESS'].values != df_mains['ENTCODIGO'].values)]"
   ]
  },
  {
   "cell_type": "code",
   "execution_count": null,
   "metadata": {},
   "outputs": [],
   "source": [
    "i = 34   #Definindo numero de colunas\n",
    "\n",
    "# Adicionando criticas com CMPIDs 1038, 1039, 1042, 1044, 1047 na lista 'criticas'\n",
    "if relacao17_38.shape != (0,i): \n",
    "    critica7395_17_38 = ('Critica 7395.17, O CMPID é 1038 e o EBICODCESS é diferente do ENTCODIGO') \n",
    "    criticas.append(critica7395_17_38)\n",
    "elif relacao17_39.shape != (0,i): \n",
    "    critica7392_17_39 = ('Critica 7395.17, O CMPID é 1039 e o EBICODCESS é diferente do ENTCODIGO')\n",
    "    criticas.append(critica7392_17_39)\n",
    "elif relacao17_42.shape != (0,i): \n",
    "    critica7392_17_42 = ('Critica 7395.17, O CMPID é 1042 e o EBICODCESS é diferente do ENTCODIGO')\n",
    "    criticas.append(critica7392_17_42)\n",
    "elif relacao17_44.shape != (0,i): \n",
    "    critica7392_17_44 = ('Critica 7395.17, O CMPID é 1044 e o EBICODCESS é diferente do ENTCODIGO')\n",
    "    criticas.append(critica7392_17_44)\n",
    "elif relacao17_47.shape != (0,i): \n",
    "    critica7392_17_47 = ('Critica 7395.17, O CMPID é 1047 e o EBICODCESS é diferente do ENTCODIGO')\n",
    "    criticas.append(critica7392_17_47)\n",
    "else: print('CMPIDs 1038, 1039, 1042, 1044, 1047. Valida campo EBICODCESS')"
   ]
  },
  {
   "cell_type": "code",
   "execution_count": null,
   "metadata": {},
   "outputs": [],
   "source": [
    "#7395.17 Valida a correspondência entre os campos CMPID e EBICODCESS \n",
    "relacao17_40 = df_mains[(df_mains['CMPID'] == 1040) & (df_mains['EBICODCESS'].values <= 1) & (df_mains['EBICODCESS'].values >= 9999)] \n",
    "relacao17_41 = df_mains[(df_mains['CMPID'] == 1041) & (df_mains['EBICODCESS'].values <= 1) & (df_mains['EBICODCESS'].values >= 9999)] \n",
    "relacao17_45 = df_mains[(df_mains['CMPID'] == 1045) & (df_mains['EBICODCESS'].values <= 1) & (df_mains['EBICODCESS'].values >= 9999)] \n",
    "relacao17_46 = df_mains[(df_mains['CMPID'] == 1046) & (df_mains['EBICODCESS'].values <= 1) & (df_mains['EBICODCESS'].values >= 9999)] "
   ]
  },
  {
   "cell_type": "code",
   "execution_count": null,
   "metadata": {},
   "outputs": [],
   "source": [
    "# Adicionando criticas com CMPIDs 1040, 1041, 1045, 1046 na lista 'criticas'\n",
    "if relacao17_40.shape != (0,i): \n",
    "    critica7395_17_40 = ('Critica 7395.17, O CMPID é 1040 e o EBICODCESS é diferente do ENTCODIGO') \n",
    "    criticas.append(critica7395_17_40)\n",
    "elif relacao17_41.shape != (0,i): \n",
    "    critica7392_17_41 = ('Critica 7395.17, O CMPID é 1041 e o EBICODCESS é diferente do ENTCODIGO')\n",
    "    criticas.append(critica7392_17_41)\n",
    "elif relacao17_45.shape != (0,i): \n",
    "    critica7392_17_45 = ('Critica 7395.17, O CMPID é 1045 e o EBICODCESS é diferente do ENTCODIGO')\n",
    "    criticas.append(critica7392_17_45)\n",
    "elif relacao17_46.shape != (0,i): \n",
    "    critica7392_17_46 = ('Critica 7395.17, O CMPID é 1046 e o EBICODCESS é diferente do ENTCODIGO')\n",
    "    criticas.append(critica7392_17_46)\n",
    "else: print('CMPIDs 1040, 1041, 1045, 1046. Valida campo EBICODCESS')"
   ]
  },
  {
   "cell_type": "code",
   "execution_count": null,
   "metadata": {},
   "outputs": [],
   "source": [
    "#7395.17 Valida a correspondência entre os campos CMPID e EBICODCESS \n",
    "relacao17_43 = df_mains[(df_mains['CMPID'] == 1043) & (df_mains['EBICODCESS'].values <= 30000) & (df_mains['EBICODCESS'].values >= 59999)] \n",
    "relacao17_48 = df_mains[(df_mains['CMPID'] == 1048) & (df_mains['EBICODCESS'].values <= 30000) & (df_mains['EBICODCESS'].values >= 59999)] \n",
    "relacao17_49 = df_mains[(df_mains['CMPID'] == 1049) & (df_mains['EBICODCESS'].values <= 30000) & (df_mains['EBICODCESS'].values >= 59999)] \n",
    "relacao17_50 = df_mains[(df_mains['CMPID'] == 1050) & (df_mains['EBICODCESS'].values <= 30000) & (df_mains['EBICODCESS'].values >= 59999)]\n",
    "relacao17_51 = df_mains[(df_mains['CMPID'] == 1051) & (df_mains['EBICODCESS'].values <= 30000) & (df_mains['EBICODCESS'].values >= 59999)] \n",
    "relacao17_52 = df_mains[(df_mains['CMPID'] == 1052) & (df_mains['EBICODCESS'].values <= 30000) & (df_mains['EBICODCESS'].values >= 59999)] "
   ]
  },
  {
   "cell_type": "code",
   "execution_count": null,
   "metadata": {},
   "outputs": [],
   "source": [
    "# Adicionando criticas com CMPIDs 1043, 1048, 1049, 1050 ,1051 ,1052 na lista 'criticas'\n",
    "if relacao17_43.shape != (0,i): \n",
    "    critica7395_17_43 = ('Critica 7395.17, O CMPID é 1043 e o EBICODCESS é diferente do ENTCODIGO') \n",
    "    criticas.append(critica7395_17_43)\n",
    "elif relacao17_48.shape != (0,i): \n",
    "    critica7392_17_48 = ('Critica 7395.17, O CMPID é 1048 e o EBICODCESS é diferente do ENTCODIGO')\n",
    "    criticas.append(critica7392_17_48)\n",
    "elif relacao17_49.shape != (0,i): \n",
    "    critica7392_17_49 = ('Critica 7395.17, O CMPID é 1049 e o EBICODCESS é diferente do ENTCODIGO')\n",
    "    criticas.append(critica7392_17_49)\n",
    "elif relacao17_50.shape != (0,i): \n",
    "    critica7392_17_50 = ('Critica 7395.17, O CMPID é 1050 e o EBICODCESS é diferente do ENTCODIGO')\n",
    "    criticas.append(critica7392_17_50)\n",
    "elif relacao17_51.shape != (0,i): \n",
    "    critica7392_17_51 = ('Critica 7395.17, O CMPID é 1051 e o EBICODCESS é diferente do ENTCODIGO')\n",
    "    criticas.append(critica7392_17_51)\n",
    "elif relacao17_52.shape != (0,i): \n",
    "    critica7392_17_52 = ('Critica 7395.17, O CMPID é 1052 e o EBICODCESS é diferente do ENTCODIGO')\n",
    "    criticas.append(critica7392_17_52)\n",
    "else: print('CMPIDs 1043, 1048, 1049, 1050 ,1051 ,1052. Valida campo EBICODCESS')"
   ]
  },
  {
   "cell_type": "code",
   "execution_count": null,
   "metadata": {},
   "outputs": [],
   "source": [
    "#7395.20 Verifica se o CPF do participante (EBICPFPART) e do beneficiário (EBICPFBENF) são diferentes de zero \n",
    "for itemcpfp in cpfparticipante:\n",
    "    if itemcpfp == '00000000000':\n",
    "        print(\"Erro!! Critica 7395.20 o CPF \", itemcpfp, \" não é um CPF valido.\")\n",
    "        critica7395_20 = (\"Critica 7395.20\",\"o CPF \", itemcpfp, \" não é um CPF valido.\")\n",
    "        criticas.append(critica7395_20)\n",
    "\n",
    "print('CPFs dos participantes nos campos (EBICPFPART) são validos')    "
   ]
  },
  {
   "cell_type": "code",
   "execution_count": null,
   "metadata": {},
   "outputs": [],
   "source": [
    "for itemcpfb in cpfbeneficiario:\n",
    "    if itemcpfb == '00000000000':\n",
    "        print(\"Erro!! Critica 7395.20 o CPF \", itemcpfb, \" não é um CPF valido.\")\n",
    "        critica7395_20 = (\"Critica 7395.20\",\"o CPF \", itemcpfb, \" não é um CPF valido.\")\n",
    "        criticas.append(critica7395_20)\n",
    "\n",
    "print('CPFs dos participantes nos campos (EBICPFBENF) são validos')  "
   ]
  },
  {
   "cell_type": "code",
   "execution_count": null,
   "metadata": {},
   "outputs": [],
   "source": [
    "#7395.21 Verifica se a data do campo EBIDATAFIM é posterior à data do campo EBIDATAINICIO \n",
    "mask21 = (df_main['DTEBIDATAFIM']) <= (df_main['DTEBIDATAINICIO'])\n",
    "df21 = df_main.loc[mask21]\n",
    "if len(df21) > 0:\n",
    "    df21.loc[:,'ID da Critica'] = ('CRITICA 7395.21')\n",
    "df21"
   ]
  },
  {
   "cell_type": "code",
   "execution_count": null,
   "metadata": {},
   "outputs": [],
   "source": [
    "#7395.22 Verifica se a data do campo EBIDATAINICIO é igual ou anterior à data do campo EBIDATAOCORR\n",
    "mask22 = (df_main['DTEBIDATAINICIO']) > (df_main['DTEBIDATAOCORR'])\n",
    "df22 = df_main.loc[mask22]\n",
    "if len(df22) > 0:\n",
    "    df22.loc[:,'ID da Critica'] = ('CRITICA 7395.22')\n",
    "df22"
   ]
  },
  {
   "cell_type": "code",
   "execution_count": null,
   "metadata": {},
   "outputs": [],
   "source": [
    "#7395.23 Verifica se a data do campo EBIDATAOCORR é igual ou anterior à data do campo EBIDATAFIM\n",
    "mask23 = (df_main['DTEBIDATAOCORR']) > (df_main['DTEBIDATAFIM'])\n",
    "df23 = df_main.loc[mask23]\n",
    "if len(df23) > 0:\n",
    "    df23.loc[:,'ID da Critica'] = ('CRITICA 7395.23')\n",
    "df23"
   ]
  },
  {
   "cell_type": "code",
   "execution_count": null,
   "metadata": {},
   "outputs": [],
   "source": [
    "#7395.24 Verifica se a data do campo EBIDATAOCORR é igual ou anterior à data do campo EBIDATACOMUNICA\n",
    "mask24 = (df_main['DTEBIDATAOCORR']) > (df_main['DTEBIDATACOMUNICA'])\n",
    "df24 = df_main.loc[mask24]\n",
    "if len(df24) > 0:\n",
    "    df24.loc[:,'ID da Critica'] = ('CRITICA 7395.24')\n",
    "df24"
   ]
  },
  {
   "cell_type": "code",
   "execution_count": null,
   "metadata": {},
   "outputs": [],
   "source": [
    "#7395.25 Verifica se a data do campo EBIDATACOMUNICA é igual ou anterior à data do campo EBIDATAREG\n",
    "mask25 = (df_main['DTEBIDATACOMUNICA']) > (df_main['DTEBIDATAREG'])\n",
    "df25 = df_main.loc[mask25]\n",
    "if len(df25) > 0:\n",
    "    df25.loc[:,'ID da Critica'] = ('CRITICA 7395.25')\n",
    "df25"
   ]
  },
  {
   "cell_type": "code",
   "execution_count": null,
   "metadata": {},
   "outputs": [],
   "source": [
    "#7395.26 Se o TPMOPREV for 0001, o TPMOID for 0001 e o CMPID for 1039, 1040, 1041, 1044, 1045 ou 1046, verifica se o mês e \n",
    "#ano da data do campo EBIDATAREG é igual ao mês e ano da data do campo MRFMESANO. Para os demais casos, verifica se a data dos \n",
    "#campos EBIDATAREG é igual ou anterior à data do campo MRFMESANO\n",
    "mask26_rel_TT = (df_main['TPMOID'] == '0001') & (df_main['TPMOPREV'] == '0001')\n",
    "mask26_cmpid = (df_main['CMPID'] == '1039') | (df_main['CMPID'] == '1040')| (df_main['CMPID'] == '1041')| (df_main['CMPID'] == '1044')| (df_main['CMPID'] == '1045')| (df_main['CMPID'] == '1046')\n",
    "mask26_rel = (mask26_rel_TT) & (mask26_cmpid)\n",
    "maskmr = df_main['DTMRFMESANO'].dt.strftime(\"%Y-%m\")\n",
    "maskreg = df_main['DTEBIDATAREG'].dt.strftime(\"%Y-%m\")\n",
    "\n",
    "mask26_1 = ((maskmr != maskreg)) & (mask26_rel)\n",
    "df26_1 = df_main.loc[mask26_1]\n",
    "if len(df26_1) > 0:\n",
    "    df26_1.loc[:,'ID da Critica'] = ('CRITICA 7395.26')\n",
    "df26_1"
   ]
  },
  {
   "cell_type": "code",
   "execution_count": null,
   "metadata": {},
   "outputs": [],
   "source": [
    "mask26_TT_2 = (df_main['TPMOID'] != '0001') | (df_main['TPMOPREV'] != '0001')\n",
    "mask26_cmpid_2=(df_main['CMPID'] == '1038') |(df_main['CMPID'] == '1047')|(df_main['CMPID'] == '1048')|(df_main['CMPID'] == '1049')|(df_main['CMPID'] == '1050')|(df_main['CMPID'] == '1051')|(df_main['CMPID'] == '1052')\n",
    "mask26_rel_2 = (mask26_TT_2) & (mask26_cmpid_2)\n",
    "\n",
    "mask26_2 = ((df_main['DTEBIDATAREG'] > df_main['DTMRFMESANO'])) != (mask26_rel_2)\n",
    "df26_2 = df_main.loc[mask26_2]\n",
    "if len(df26_2) > 0:\n",
    "    df26_2.loc[:,'ID da Critica'] = ('CRITICA 7395.26')\n",
    "df26_2"
   ]
  },
  {
   "cell_type": "code",
   "execution_count": null,
   "metadata": {},
   "outputs": [],
   "source": [
    "#7395.27 Se o tipo de movimento (TPMOID) for 'aviso' 0001, a origem do movimento de regulação do evento (TPMOPREV) for \n",
    "#‘Planos de Risco (excluindo-se rendas vencidas)’ 0001 e o tipo de operação (CMPID) for 'direto - administrativo' 1039 ou \n",
    "#'cosseguro cedido - administrativo'1041 ou 'direto - judicial' 1044 ou 'cosseguro cedido - judicial' 1046, \n",
    "#verifica se a diferença de dias entre a data dos campos EBIDATACOMUNICA e EBIDATAREG é de até quinze dias\n",
    "df_dates_comparacao.loc[:,'DTEBIDATACOMUNICA+15'] = df_main['DTMRFMESANO'] + timedelta(days = 15)\n",
    "\n",
    "mask27_T = (df_main['TPMOID'] == '0001') & (df_main['TPMOPREV'] == '0001')"
   ]
  },
  {
   "cell_type": "code",
   "execution_count": null,
   "metadata": {},
   "outputs": [],
   "source": [
    "mask27_1 = (mask27_T) & (df_main['CMPID'] == '1039')\n",
    "\n",
    "mask27_DA = (mask27_1) & (df_dates_comparacao['DTEBIDATACOMUNICA+15'] < df_main['DTEBIDATAREG'])\n",
    "df27_DA = df_main.loc[mask27_DA]\n",
    "if len(df27_DA) > 0:\n",
    "    df27_DA.loc[:,'ID da Critica'] = ('CRITICA 7395.27')\n",
    "df27_DA"
   ]
  },
  {
   "cell_type": "code",
   "execution_count": null,
   "metadata": {},
   "outputs": [],
   "source": [
    "mask27_2 = (mask27_T) & (df_main['CMPID'] == '1041')\n",
    "\n",
    "mask27_CCA = (mask27_2) & (df_dates_comparacao['DTEBIDATACOMUNICA+15'] < df_main['DTEBIDATAREG'])\n",
    "df27_CCA = df_main.loc[mask27_CCA]\n",
    "if len(df27_CCA) > 0:\n",
    "    df27_CCA.loc[:,'ID da Critica'] = ('CRITICA 7395.27')\n",
    "df27_CCA"
   ]
  },
  {
   "cell_type": "code",
   "execution_count": null,
   "metadata": {},
   "outputs": [],
   "source": [
    "mask27_3 = (mask27_T) & (df_main['CMPID'] == '1044')\n",
    "\n",
    "mask27_DJ = (mask27_3) & (df_dates_comparacao['DTEBIDATACOMUNICA+15'] < df_main['DTEBIDATAREG'])\n",
    "df27_DJ = df_main.loc[mask27_DJ]\n",
    "if len(df27_DJ) > 0:\n",
    "    df27_DJ.loc[:,'ID da Critica'] = ('CRITICA 7395.27')\n",
    "df27_DJ"
   ]
  },
  {
   "cell_type": "code",
   "execution_count": null,
   "metadata": {},
   "outputs": [],
   "source": [
    "mask27_4 = (mask27_T) & (df_main['CMPID'] == '1046')\n",
    "\n",
    "mask27_CCJ = (mask27_4) & (df_dates_comparacao['DTEBIDATACOMUNICA+15'] < df_main['DTEBIDATAREG'])\n",
    "df27_CCJ = df_main.loc[mask27_CCJ]\n",
    "if len(df27_CCJ) > 0:\n",
    "    df27_CCJ.loc[:,'ID da Critica'] = ('CRITICA 7395.27')\n",
    "df27_CCJ"
   ]
  },
  {
   "cell_type": "code",
   "execution_count": null,
   "metadata": {},
   "outputs": [],
   "source": [
    "#7395.28 Verifica se os campos EBIVALORPBAC e EBIVALORPBC são maiores ou iguais a zero para a combinação de TPMOID e TPMOPREV \n",
    "#(0001x0001; 0005x0001; 0006x0001) e se é zero para as demais combinações\n",
    "mask28_rel_11 = (df_main['TPMOID'] == '0001') & (df_main['TPMOPREV'] == '0001')\n",
    "mask28_rel_51 = (df_main['TPMOID'] == '0005') & (df_main['TPMOPREV'] == '0001')\n",
    "mask28_rel_61 = (df_main['TPMOID'] == '0006') & (df_main['TPMOPREV'] == '0001')\n",
    "mask28_rel = (mask28_rel_11) | (mask28_rel_51) | (mask28_rel_61)\n",
    "\n",
    "mask28_PBAC = (df_main['fEBIVALORPBAC'] != 0.0) != (mask28_rel)\n",
    "df28_PBAC = df_main.loc[mask28_PBAC]\n",
    "if len(df28_PBAC) > 0:\n",
    "    df28_PBAC.loc[:,'ID da Critica'] = ('CRITICA 7395.28')\n",
    "df28_PBAC"
   ]
  },
  {
   "cell_type": "code",
   "execution_count": null,
   "metadata": {},
   "outputs": [],
   "source": [
    "mask28_PBC = (df_main['fEBIVALORPBC'] != 0.0) != (mask28_rel)\n",
    "df28_PBC = df_main.loc[mask28_PBC]\n",
    "if len(df28_PBC) > 0:\n",
    "    df28_PBC.loc[:,'ID da Critica'] = ('CRITICA 7395.28')\n",
    "df28_PBC"
   ]
  },
  {
   "cell_type": "code",
   "execution_count": null,
   "metadata": {},
   "outputs": [],
   "source": [
    "#7395.29 Verifica se o campo EBIVALORMOV é maior que zero quando o campo TPMOID for 0001, 0003, 0004, 0005 ou 0006\n",
    "mask29_tpmoid = (df_main['TPMOID'] == '0001') | (df_main['TPMOID'] == '0003') | (df_main['TPMOID'] == '0004') | (df_main['TPMOID'] == '0005') | (df_main['TPMOID'] == '0006')\n",
    "mask29 = (mask29_tpmoid) & (df_main['fEBIVALORMOV'] <= 0.0 )\n",
    "df29 = df_main.loc[mask29]\n",
    "if len(df29) > 0:\n",
    "    df29.loc[:,'ID da Critica'] = ('CRITICA 7395.29')\n",
    "df29"
   ]
  },
  {
   "cell_type": "code",
   "execution_count": null,
   "metadata": {},
   "outputs": [],
   "source": [
    "#7395.30 Verifica se o campo EBIVALORMON é zero quando o campo TPMOID for 0003 e 0004 \n",
    "mask30_tpmoid = (df_main['TPMOID'] == '0003') | (df_main['TPMOID'] == '0004')\n",
    "mask30 = (mask30_tpmoid) & (df_main['fEBIVALORMON'] != 0.0 )\n",
    "df30 = df_main.loc[mask30]\n",
    "if len(df30) > 0:\n",
    "    df30.loc[:,'ID da Critica'] = ('CRITICA 7395.30')\n",
    "df30"
   ]
  },
  {
   "cell_type": "code",
   "execution_count": null,
   "metadata": {},
   "outputs": [],
   "source": [
    "#7395.32 Verifica se os campos EBIVALORMOV e EBIVALORMON não são, simultaneamente, iguais a zero\n",
    "mask32 = (df_main['fEBIVALORMOV'] == 0.0) & (df_main['fEBIVALORMON'] == 0.0)\n",
    "df32 = df_main.loc[mask32]\n",
    "if len(df32) > 0:\n",
    "    df32.loc[:,'ID da Critica'] = ('CRITICA 7395.32')\n",
    "df32"
   ]
  },
  {
   "cell_type": "code",
   "execution_count": null,
   "metadata": {},
   "outputs": [],
   "source": [
    "#7395.33 Verifica se o campo EBINUMSIN é diferente de 0. \n",
    "mask33 = (df_main['EBINUMSIN'] == '00000000000000000000')\n",
    "df33 = df_main.loc[mask33]\n",
    "if len(df33) > 0:\n",
    "    df33.loc[:,'ID da Critica'] = ('CRITICA 7395.33')\n",
    "df33"
   ]
  },
  {
   "cell_type": "code",
   "execution_count": null,
   "metadata": {},
   "outputs": [],
   "source": [
    "#7395.34 Verifica se o campo EBIBENVEN é zero para todas as combinações de TPMOID e TPMOPREV, exceto 0001x0001; 0005x0001; 0006x0001 \n",
    "mask34_rel_11 = (df_main['TPMOID'] == '0001') & (df_main['TPMOPREV'] == '0001')\n",
    "mask34_rel_51 = (df_main['TPMOID'] == '0005') & (df_main['TPMOPREV'] == '0001')\n",
    "mask34_rel_61 = (df_main['TPMOID'] == '0006') & (df_main['TPMOPREV'] == '0001')\n",
    "mask34_rel = (mask34_rel_11) | (mask34_rel_51) | (mask34_rel_61)\n",
    "\n",
    "mask34 = (df_main['iEBIBENVEN'] != 0) != (mask34_rel)\n",
    "df34 = df_main.loc[mask34]\n",
    "if len(df34) > 0:\n",
    "    df34.loc[:,'ID da Critica'] = ('CRITICA 7395.34')\n",
    "df34"
   ]
  },
  {
   "cell_type": "code",
   "execution_count": null,
   "metadata": {},
   "outputs": [],
   "source": [
    "################################################\n",
    "# Adicionando Nome do Criador do output e data #\n",
    "################################################\n",
    "\n",
    "df_main.loc[:,'Criador'] = input(\"Insira seu nome: \") ### insere a coluna com o nome do criador da tabela\n",
    "data_presente = datetime.now()\n",
    "df_main.loc[:,'Data do output'] = data_presente ### insere a coluna com a data de criacao da tabela"
   ]
  },
  {
   "cell_type": "code",
   "execution_count": null,
   "metadata": {},
   "outputs": [],
   "source": [
    "df_main"
   ]
  },
  {
   "cell_type": "code",
   "execution_count": null,
   "metadata": {},
   "outputs": [],
   "source": [
    "criticas"
   ]
  },
  {
   "cell_type": "code",
   "execution_count": null,
   "metadata": {},
   "outputs": [],
   "source": [
    "df_criticas = pd.DataFrame(criticas)\n",
    "df_criticas = df_criticas.rename(columns={0:'Descrição'})\n",
    "df_criticas"
   ]
  },
  {
   "cell_type": "code",
   "execution_count": null,
   "metadata": {
    "scrolled": true
   },
   "outputs": [],
   "source": [
    "df_criticas_2 = pd.concat([df21,df22,df23,df24,df25,df26_1,df26_2,df27_DA,df27_CCA,df27_DJ,df27_CCJ,df28_PBAC,df28_PBC,df29,df30,df32,df33,df34])\n",
    "df_criticas_2"
   ]
  },
  {
   "cell_type": "code",
   "execution_count": null,
   "metadata": {},
   "outputs": [],
   "source": [
    "if criticas == []:                   # Verificando se a lista de criticas esta vazia\n",
    "    print('Nenhuma Critica NÃO Impeditiva encontrada no Quadro 379')\n",
    "else:\n",
    "    print('Foi encontrada uma ou mais Criticas NÃO Impeditivas no Quadro 379')\n",
    "    df_criticas.to_csv('Criticas_nao_impeditivas379.csv')     # Gerando csv das criticas impeditivas"
   ]
  },
  {
   "cell_type": "code",
   "execution_count": null,
   "metadata": {},
   "outputs": [],
   "source": [
    "if len(df_criticas_2) == 0:                             # Verificando se o DataFrame de criticas esta vazia\n",
    "    print('Nenhuma Critica NÃO Impeditiva encontrada no Quadro 379')\n",
    "else:\n",
    "    print('Foi encontrada uma ou mais Criticas NÃO Impeditivas no Quadro 379')\n",
    "    df_criticas_2.to_csv('Criticas_nao_impeditivas379_2.csv')         # Gerando csv das criticas impeditivas"
   ]
  },
  {
   "cell_type": "code",
   "execution_count": null,
   "metadata": {},
   "outputs": [],
   "source": [
    "df_main.to_csv('379_Trabalho.csv')"
   ]
  }
 ],
 "metadata": {
  "kernelspec": {
   "display_name": "Python 3",
   "language": "python",
   "name": "python3"
  },
  "language_info": {
   "codemirror_mode": {
    "name": "ipython",
    "version": 3
   },
   "file_extension": ".py",
   "mimetype": "text/x-python",
   "name": "python",
   "nbconvert_exporter": "python",
   "pygments_lexer": "ipython3",
   "version": "3.8.3"
  }
 },
 "nbformat": 4,
 "nbformat_minor": 2
}
