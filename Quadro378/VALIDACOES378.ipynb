{
 "cells": [
  {
   "cell_type": "markdown",
   "metadata": {},
   "source": [
    "# Implanatação de algumas Bibliotacas"
   ]
  },
  {
   "cell_type": "code",
   "execution_count": null,
   "metadata": {},
   "outputs": [],
   "source": [
    "import csv\n",
    "import numpy as np\n",
    "import pandas as pd\n",
    "import sys\n",
    "from tkinter import Tk\n",
    "from tkinter import filedialog\n",
    "from datetime import date, datetime, timedelta\n",
    "#import os\n",
    "#from ciso8601 import parse_datetime"
   ]
  },
  {
   "cell_type": "markdown",
   "metadata": {},
   "source": [
    "# Criando variaveis para os arquivos permitidos"
   ]
  },
  {
   "cell_type": "code",
   "execution_count": null,
   "metadata": {},
   "outputs": [],
   "source": [
    "p_cmpid3  = pd.read_excel('PQ378.xlsx')      ### leitura do arquivo com os sinais dos cpmids do quadro 378\n",
    "param3    = pd.read_excel('LQ378.xlsx')      ### leitura do arquivo com o layout atualizado do quadro 378"
   ]
  },
  {
   "cell_type": "code",
   "execution_count": null,
   "metadata": {},
   "outputs": [],
   "source": [
    "control  = 0                                              ### controle de backup    \n",
    "p_cmpid3['cmpid'] = p_cmpid3.cmpid.astype(str)            ### transforma o campo cmpid - QE 378 - do arq auxiliar para string"
   ]
  },
  {
   "cell_type": "code",
   "execution_count": null,
   "metadata": {},
   "outputs": [],
   "source": [
    "## FUNÇÃO PARA SELEÇÃO DO ARQUIVO\n",
    "\n",
    "class qe_s:\n",
    "\n",
    "    def __init__(self):\n",
    "        self.df = {nome[s]: [] for s in range(nome.shape[0])}\n",
    "  \n",
    "    def make_df(self):\n",
    "        lines = []\n",
    "        root = Tk()\n",
    "        root.attributes(\"-topmost\", True)\n",
    "        root.withdraw()\n",
    "        for file in filedialog.askopenfilenames(filetypes=[(\"Arquivos de Text\", \"*.txt\")]):\n",
    "            for line in open(file, encoding=\"utf-8\"):\n",
    "                line = line.replace(\",\",\".\").strip()\n",
    "                for x in range(nome.shape[0]):\n",
    "                    self.df[nome[x]].append(line[i[x]:j[x]])\n",
    "                    \n",
    "        return pd.DataFrame(self.df)"
   ]
  },
  {
   "cell_type": "code",
   "execution_count": null,
   "metadata": {
    "scrolled": true
   },
   "outputs": [],
   "source": [
    "nome     = param3.Campo                      ### guarda os nomes das colunas existentes no quadro 376\n",
    "i        = param3.Ind_inf                    ### guarda a posição no arquivo que inicia um determinado campo\n",
    "j        = param3.Ind_sup                    ### guarda a posição no arquivo que termina um determinado campo\n",
    "\n",
    "quadro = qe_s()       \n",
    "df_main = quadro.make_df()\n",
    "df_main\n",
    "\n",
    "## SELECINE O(S) ARQUIVO(S) DESEJADO(S)"
   ]
  },
  {
   "cell_type": "code",
   "execution_count": null,
   "metadata": {},
   "outputs": [],
   "source": [
    "###################################\n",
    "###Importacao do Quadro378.xlsx ###\n",
    "####que serão usados para fins#####\n",
    "######### de comparação ###########\n",
    "###################################\n",
    "\n",
    "#Pasta CMPID\n",
    "arq_cmpid = pd.read_excel('Quadro378.xlsx','CMPID',fileEncoding = \"UTF-8\",encoding = 'latin_1', dtype=str)\n",
    "\n",
    "#Pasta RAMCODIGO\n",
    "arq_ramcod = pd.read_excel('Quadro378.xlsx','RAMCODIGO',fileEncoding = \"UTF-8\",encoding = 'latin_1', dtype=str)\n",
    "\n",
    "#Pasta ENTCODIGO\n",
    "arq_entcod = pd.read_excel('Quadro378.xlsx','Cod_SUSEP',fileEncoding = \"UTF-8\",encoding = 'latin_1', dtype=str)\n",
    "\n",
    "#Pasta MRFMESANO\n",
    "arq_mrfmesano = pd.read_excel('Quadro378.xlsx','MRFMESANO',fileEncoding = \"UTF-8\",encoding = 'latin_1', dtype=str)\n",
    "\n",
    "#Pasta rel_CMPID_TPMOID\n",
    "arq_relacao = pd.read_excel('Quadro378.xlsx','rel_CMPID_TPMOID',fileEncoding = \"UTF-8\",encoding = 'latin_1', dtype=str)\n",
    "\n",
    "#Pasta TPMOID\n",
    "arq_tpmoid = pd.read_excel('Quadro378.xlsx','TPMOID',fileEncoding = \"UTF-8\",encoding = 'latin_1', dtype=str)\n",
    "\n",
    "#Pasta Bib_DefCamposEstatísticos\n",
    "arq_defcamesta = pd.read_excel('Quadro378.xlsx','Bib_DefCamposEstatísticos',fileEncoding = \"UTF-8\",encoding = 'latin_1', dtype=str)"
   ]
  },
  {
   "cell_type": "code",
   "execution_count": null,
   "metadata": {},
   "outputs": [],
   "source": [
    "# Criando uma lista para guardar todas as criticas impeditivas\n",
    "criticas_impeditivas = []\n",
    "criticas = []"
   ]
  },
  {
   "cell_type": "markdown",
   "metadata": {},
   "source": [
    "# Criticas (Validacoes)"
   ]
  },
  {
   "cell_type": "code",
   "execution_count": null,
   "metadata": {},
   "outputs": [],
   "source": [
    "#7394.3 Verifica se o campo sequencial ESPSEQ é uma sequência válida, que se inicia em 0000001\n",
    "array3 = df_main['ESPSEQ']\n",
    "x = list(array3)                                     ##Dados do arquivo\n",
    "arrayteste = x[:]\n",
    "arrayteste.sort()                                    ##Dados sequenciados\n",
    "if (arrayteste == x):                                ##Comparando\n",
    "    print('Tudo certo, esta de forma sequencial.')\n",
    "else: \n",
    "    print('ERRO!!!, Não prossiga.')\n",
    "    critica7394_3 = str('Critica 7394.3, Não temos uma sequencia valida na coluna ESRSEQ')\n",
    "    criticas_impeditivas.append(critica7394_3)"
   ]
  },
  {
   "cell_type": "code",
   "execution_count": null,
   "metadata": {},
   "outputs": [],
   "source": [
    "#7394.2 Verifica o tamanho padrão da linha (deve conter 173 caracteres)\n",
    "tamanho = 0\n",
    "for i in range(0,df_main.shape[0]):                    #Passando por cada linha\n",
    "    for iten in df_main.columns:                       #Passando por cada coluna\n",
    "        tamanho = tamanho + len(df_main[iten][i])      #Contando Caracteres por linha\n",
    "    if tamanho != 173:\n",
    "        print('Erro na linha ',i,' o número de caracteres é de: ',tamanho)\n",
    "        critica7394_2 = (\"Critica 7394.2, Erro na linha \",i,\" o número de caracteres é de: \",tamanho)\n",
    "        criticas_impeditivas.append(critica7394_2)\n",
    "    tamanho = 0"
   ]
  },
  {
   "cell_type": "code",
   "execution_count": null,
   "metadata": {},
   "outputs": [],
   "source": [
    "#7394.4 Verifica se o campo ENTCODIGO corresponde à sociedade que está enviando o FIP/SUSEP\n",
    "entcod = set(arq_entcod['Cod_SUSEP'].astype('str'))                   #Escolhendo a coluna do arquivo modelo\n",
    "dadosentcod = set(df_main['ENTCODIGO'])                               #Escolhendo a coluna dos dados\n",
    "for itemtentcod in dadosentcod: \n",
    "    if itemtentcod not in entcod:\n",
    "        print('ERRO!! ENTCODIGO não corresponde a uma operação valida', itemtentcod)\n",
    "        critica7394_4 = ('Critica 7394.4, ENTCODIGO não corresponde a uma operação valida', itemtentcod)\n",
    "        criticas_impeditivas.append(critica7394_4)\n",
    "    else:\n",
    "        print('ENTCODIGO corresponde a um tipo de operação válida.', itemtentcod)\n",
    "        continue"
   ]
  },
  {
   "cell_type": "code",
   "execution_count": null,
   "metadata": {},
   "outputs": [],
   "source": [
    "#7394.5 Verifica se o campo MRFMESANO corresponde, respectivamente, ao ano, mês e último dia do mês de referência do FIP/SUSEP \n",
    "df_main.loc[:,'DTMRFMESANO'] = df_main['MRFMESANO'].astype('datetime64')     #Criando uma nova coluna no formato Date\n",
    "mrfmesano = set(arq_mrfmesano['DATAS'].astype('datetime64'))                 #Escolhendo a coluna do arquivo modelo\n",
    "dadosmrfmesano = set(df_main['DTMRFMESANO'])                                 #Escolhendo a coluna dos dados\n",
    "for itemmrfmesano in dadosmrfmesano: \n",
    "    if itemmrfmesano not in mrfmesano:\n",
    "        print('ERRO!! MRFMESANO não corresponde a uma operação valida', itemmrfmesano)\n",
    "        critica7394_5 = ('Critica 7394.5, MRFMESANO não corresponde a uma Data valida', itemmrfmesano)\n",
    "        criticas_impeditivas.append(critica7394_5)\n",
    "    else:\n",
    "        print('MRFMESANO corresponde a uma Data válida.', itemmrfmesano)\n",
    "        continue"
   ]
  },
  {
   "cell_type": "code",
   "execution_count": null,
   "metadata": {},
   "outputs": [],
   "source": [
    "#7394.6 Verifica se o campo QUAID corresponde ao quadro 378 \n",
    "array6 = set(df_main['QUAID'])           ##Verificando todos os Quadros que estamos tratando no documento.\n",
    "for itemarray6 in array6:\n",
    "    if itemarray6 == '378':\n",
    "        print('Este se trata do Quadro:',itemarray6)\n",
    "    else:\n",
    "        print('ERRO!! Este se trata do Quadro:',itemarray6)\n",
    "        critica7394_6 = ('Critica 7394.6, Este esta se tratando do(s) Quadro(s):',itemarray6)\n",
    "        criticas_impeditivas.append(critica7394_6)"
   ]
  },
  {
   "cell_type": "code",
   "execution_count": null,
   "metadata": {},
   "outputs": [],
   "source": [
    "#7394.7 Verifica se o campo TPMOID corresponde a um tipo de movimento válido (conforme tabela 'TiposMovimentos' do FIPSUSEP) \n",
    "tpmoid = set(arq_tpmoid['TPMOID'].astype('str'))                                    #Escolhendo a coluna do arquivo modelo\n",
    "dadostpmoid = set(df_main['TPMOID'])                                                #Escolhendo a coluna dos dados\n",
    "for itemtpmoid in dadostpmoid: \n",
    "    if itemtpmoid not in tpmoid:\n",
    "        print('ERRO!! TPMOID não corresponde a uma operação valida', itemtpmoid)\n",
    "        critica7394_7 = ('Critica 7394.7, TPMOID não corresponde a uma operação valida', itemtpmoid)\n",
    "        criticas_impeditivas.append(critica7394_7)\n",
    "    else:\n",
    "        print('TPMOID corresponde a um tipo de operação válida.', itemtpmoid)\n",
    "        continue"
   ]
  },
  {
   "cell_type": "code",
   "execution_count": null,
   "metadata": {},
   "outputs": [],
   "source": [
    "#7394.8 Valida a correspondência entre os campos TPMOID e CMPID \n",
    "mod_relacao = set(arq_relacao['relacao'].astype('str'))\n",
    "relacao = [df_main['CMPID'] + df_main['TPMOID']]\n",
    "for itemrelacao in relacao:\n",
    "    relacao2 = set(itemrelacao)\n",
    "    for itemrelacao2 in relacao2:\n",
    "        if itemrelacao2 not in mod_relacao:\n",
    "            print('ERRO!! A relação ',itemrelacao2,' (CMPID/TPMOID) não é uma relação possivel.')\n",
    "            critica7394_8 = ('Critica 7394.8, A relação ',itemrelacao2,' (CMPID/TPMOID) não é uma relação possivel.')\n",
    "            criticas_impeditivas.append(critica7394_8)\n",
    "        else:\n",
    "            print('A relação ',itemrelacao2,' (CMPID/TPMOID) é uma relação possivel.')\n",
    "        continue"
   ]
  },
  {
   "cell_type": "code",
   "execution_count": null,
   "metadata": {},
   "outputs": [],
   "source": [
    "#7394.9 Verifica se o campo CMPID corresponde a um tipo de operação válida (conforme tabela 'Bib_DefCamposEstatísticos do FIPSUSEP) \n",
    "defcamesta = set(arq_defcamesta['CMPID'].astype('str'))             #Escolhendo a coluna do arquivo modelo\n",
    "dadoscmpid = set(df_main['CMPID'])                                 #Escolhendo a coluna dos dados\n",
    "for itemcmpid in dadoscmpid: \n",
    "    if itemcmpid not in defcamesta:\n",
    "        print('ERRO!! O campo CMPID não corresponde a um tipo de operação válida (conforme tabela Bib_DefCamposEstatísticos).', itemcmpid)\n",
    "        critica7394_7 = ('Critica 7394.7, O campo CMPID não corresponde a um tipo de operação válida (conforme tabela Bib_DefCamposEstatísticos).', itemcmpid)\n",
    "        criticas.append(critica7394_7)\n",
    "    else:\n",
    "        print('O campo CMPID corresponde a um tipo de operação válida (conforme tabela Bib_DefCamposEstatísticos).', itemcmpid)\n",
    "        continue"
   ]
  },
  {
   "cell_type": "code",
   "execution_count": null,
   "metadata": {},
   "outputs": [],
   "source": [
    "#7394.10 Verifica se o campo RAMCODIGO corresponde, respectivamente, a um grupo de ramos e ramo válidos\n",
    "ramcod = set(arq_ramcod['ramo_s1'].astype('str'))                       #Escolhendo a coluna do arquivo\n",
    "dadosramcod = set(df_main['RAMCODIGO'])                                 #Escolhendo a coluna dos dados\n",
    "for itemramcod in dadosramcod: \n",
    "    if itemramcod not in ramcod:\n",
    "        print('ERRO!! RAMCODIGO não corresponde a uma operação valida', itemramcod)\n",
    "        critica7394_10 = ('Critica 7394.10, RAMCODIGO não corresponde a uma operação valida', itemramcod)\n",
    "        criticas.append(critica7394_10)\n",
    "    else:\n",
    "        print('RAMCODIGO corresponde a um tipo de operação válida.', itemramcod)\n",
    "        continue"
   ]
  },
  {
   "cell_type": "code",
   "execution_count": null,
   "metadata": {},
   "outputs": [],
   "source": [
    "#7394.11 Verifica se o campo RAMCODIGO não foi preenchido para os ramos 0588, 0589, 0983, 0986, 0991, 0992, 0994, 0996, 1066, 1383, 1386, 1391, 1392, 1396, 1603 e 2201 \n",
    "ramcodver = set(arq_ramcod['RAMCODIGO_não_fazem_parte_376'].astype('str'))       #Escolhendo a coluna do arquivo modelo\n",
    "dadosramcod = set(df_main['RAMCODIGO'])                                 #Escolhendo a coluna dos dados\n",
    "for itemramcod in dadosramcod: \n",
    "    if itemramcod in ramcodver:\n",
    "        print('ERRO!! RAMCODIGO não corresponde a uma operação valida', itemramcod)\n",
    "        critica7394_11 = ('Critica 7394.11, RAMCODIGO não corresponde a uma operação valida', itemramcod)\n",
    "        criticas.append(critica7394_11)\n",
    "    else:\n",
    "        print('RAMCODIGO corresponde a um tipo de operação válida.', itemramcod)\n",
    "        continue"
   ]
  },
  {
   "cell_type": "code",
   "execution_count": null,
   "metadata": {},
   "outputs": [],
   "source": [
    "#7394.13 Verifica se os campos ESPDATAINICIORO, ESPDATAFIMRO, ESPEMISSRO, ESPDATAINICIORD, ESPDATAFIMRD e ESPEMISSRD correspondem a uma data válida\n",
    "\n",
    "#####################################################\n",
    "##Readicionando as colunas de Data de str para date##\n",
    "#####################################################\n",
    "\n",
    "df_main.loc[:,'DTESPDATAINICIORO'] = df_main['ESPDATAINICIORO'].astype('datetime64')\n",
    "df_main.loc[:,'DTESPDATAFIMRO'] = df_main['ESPDATAFIMRO'].astype('datetime64')\n",
    "df_main.loc[:,'DTESDATAPEMISSRO'] = df_main['ESPDATAEMISSRO'].astype('datetime64')\n",
    "df_main.loc[:,'DTESPDATAINICIORD'] = df_main['ESPDATAINICIORD'].astype('datetime64')\n",
    "df_main.loc[:,'DTESPDATAFIMRD'] = df_main['ESPDATAFIMRD'].astype('datetime64')\n",
    "df_main.loc[:,'DTESDATAPEMISSRD'] = df_main['ESPDATAEMISSRD'].astype('datetime64')\n",
    "\n",
    "#Adicionado colunas ESPDATAINICIORO, ESPDATAFIMRO, ESPEMISSRO, ESPDATAINICIORD, ESPDATAFIMRD e ESPEMISSRD no tipo Date"
   ]
  },
  {
   "cell_type": "code",
   "execution_count": null,
   "metadata": {},
   "outputs": [],
   "source": [
    "#7394.12 Verifica se o valor dos campos ESPVALORMOVRO, ESPVALORMOVRD, ESPVALORCARO, ESPVALORCARD, ESPVALORCIRO e ESPVALORCIRD é float \n",
    "\n",
    "###########################################\n",
    "##Readicionando as colunas str para float##\n",
    "###########################################\n",
    "\n",
    "df_main.loc[:,'fESPVALORMOVRO'] = df_main['ESPVALORMOVRO'].astype('float64')\n",
    "df_main.loc[:,'fESPVALORMOVRD'] = df_main['ESPVALORMOVRD'].astype('float64')\n",
    "df_main.loc[:,'fESPVALORCARO'] = df_main['ESPVALORCARO'].astype('float64')\n",
    "df_main.loc[:,'fESPVALORCARD'] = df_main['ESPVALORCARD'].astype('float64')\n",
    "df_main.loc[:,'fESPVALORCIRO'] = df_main['ESPVALORCIRO'].astype('float64')\n",
    "df_main.loc[:,'fESPVALORCIRD'] = df_main['ESPVALORCIRD'].astype('float64')\n",
    "\n",
    "#Adicionado coluna ESPVALORMOVRO, ESPVALORMOVRD, ESPVALORCARO, ESPVALORCARD, ESPVALORCIRO e ESPVALORCIRD no tipo Float"
   ]
  },
  {
   "cell_type": "code",
   "execution_count": null,
   "metadata": {},
   "outputs": [],
   "source": [
    "criticas_impeditivas  #Lista das criticas impeditivas"
   ]
  },
  {
   "cell_type": "code",
   "execution_count": null,
   "metadata": {},
   "outputs": [],
   "source": [
    "df_criticas_i = pd.DataFrame(criticas_impeditivas)     #criacao do DataFrame das criticas impeditivas\n",
    "df_criticas_i = df_criticas_i.rename(columns={0:'Descrição'})\n",
    "df_criticas_i"
   ]
  },
  {
   "cell_type": "code",
   "execution_count": null,
   "metadata": {},
   "outputs": [],
   "source": [
    "if criticas_impeditivas == []:                             # Verificando se a lista de criticas esta vazia\n",
    "    print('Nenhuma Critica Impeditiva encontrada no Quadro 378')\n",
    "else:\n",
    "    print('Foi encontrada uma ou mais Criticas Impeditivas no Quadro 378')\n",
    "    df_criticas_i.to_csv('Criticas_Impeditivas_378.csv')   # Gerando csv das criticas impeditivas"
   ]
  },
  {
   "cell_type": "markdown",
   "metadata": {},
   "source": [
    "# Criticas (Validacoes) Não Impeditivas"
   ]
  },
  {
   "cell_type": "code",
   "execution_count": null,
   "metadata": {},
   "outputs": [],
   "source": [
    "# Criando DataFrame copia \n",
    "\n",
    "#Campos CMPID, ESPCODCESS, ENTCODIGO no formato int\n",
    "df_mains = df_main.copy()\n",
    "df_mains['CMPID'] = df_mains['CMPID'].astype('int64')\n",
    "df_mains['ESPCODCESS'] = df_mains['ESPCODCESS'].astype('int64')\n",
    "df_mains['ENTCODIGO'] = df_mains['ENTCODIGO'].astype('int64')\n",
    "\n",
    "#Campo ESPFREQ no formato int\n",
    "df_mains['ESPFREQ'] = df_mains['ESPFREQ'].astype('int64')"
   ]
  },
  {
   "cell_type": "code",
   "execution_count": null,
   "metadata": {},
   "outputs": [],
   "source": [
    "#7394.14 Valida a correspondência entre os campos CMPID e ESPCODCESS\n",
    "relacao15_26 = df_mains[(df_mains['CMPID'] == 1026) & (df_mains['ESPCODCESS'].values != df_mains['ENTCODIGO'].values)]\n",
    "relacao15_30 = df_mains[(df_mains['CMPID'] == 1030) & (df_mains['ESPCODCESS'].values != df_mains['ENTCODIGO'].values)]\n",
    "relacao15_34 = df_mains[(df_mains['CMPID'] == 1034) & (df_mains['ESPCODCESS'].values != df_mains['ENTCODIGO'].values)]"
   ]
  },
  {
   "cell_type": "code",
   "execution_count": null,
   "metadata": {},
   "outputs": [],
   "source": [
    "i = 35   #Definindo numero de colunas\n",
    "\n",
    "# Adicionando criticas com CMPIDs 1015, 1020, 1025 na lista 'criticas'\n",
    "if relacao15_26.shape != (0,i): \n",
    "    critica7392_15_26 = ('Critica 7392.15_26, O CMPID é 1026 e o ESPCODCESS é diferente do ENTCODIGO') \n",
    "    criticas.append(critica7392_15_26)\n",
    "elif relacao15_30.shape != (0,i): \n",
    "    critica7392_15_30 = ('Critica 7392.15_30, O CMPID é 1030 e o ESPCODCESS é diferente do ENTCODIGO')\n",
    "    criticas.append(critica7392_15_30)\n",
    "elif relacao15_34.shape != (0,i): \n",
    "    critica7392_15_34 = ('Critica 7392.15_34, O CMPID é 1034 e o ESPCODCESS é diferente do ENTCODIGO')\n",
    "    criticas.append(critica7392_15_34)\n",
    "else: print('CMPIDs 1026, 1030, 1034. Valida campo ESPCODCESS')"
   ]
  },
  {
   "cell_type": "code",
   "execution_count": null,
   "metadata": {},
   "outputs": [],
   "source": [
    "#7394.14 Valida a correspondência entre os campos CMPID e ESPCODCESS\n",
    "relacao15_27 = df_mains[(df_mains['CMPID'] == 1027) & (df_mains['ESPCODCESS'].values <= 1) & (df_mains['ESPCODCESS'].values >= 9999)] \n",
    "relacao15_28 = df_mains[(df_mains['CMPID'] == 1028) & (df_mains['ESPCODCESS'].values <= 1) & (df_mains['ESPCODCESS'].values >= 9999)] \n",
    "relacao15_31 = df_mains[(df_mains['CMPID'] == 1031) & (df_mains['ESPCODCESS'].values <= 1) & (df_mains['ESPCODCESS'].values >= 9999)] \n",
    "relacao15_32 = df_mains[(df_mains['CMPID'] == 1032) & (df_mains['ESPCODCESS'].values <= 1) & (df_mains['ESPCODCESS'].values >= 9999)] "
   ]
  },
  {
   "cell_type": "code",
   "execution_count": null,
   "metadata": {},
   "outputs": [],
   "source": [
    "if relacao15_27.shape != (0,i): \n",
    "    critica7392_15_27 = ('Critica 7392.15_27, O CMPID é 1027 e o ESPCODCESS é diferente do ENTCODIGO')\n",
    "    criticas.append(critica7392_15_27)\n",
    "elif relacao15_28.shape != (0,i): \n",
    "    critica7392_15_28 = ('Critica 7392.15_28, O CMPID é 1028 e o ESPCODCESS é diferente do ENTCODIGO')\n",
    "    criticas.append(critica7392_15_28)\n",
    "elif relacao15_31.shape != (0,i): \n",
    "    critica7392_15_31 = ('Critica 7392.15_31, O CMPID é 1031 e o ESPCODCESS é diferente do ENTCODIGO')\n",
    "    criticas.append(critica7392_15_31)\n",
    "elif relacao15_32.shape != (0,i): \n",
    "    critica7392_15_32 = ('Critica 7392.15_32, O CMPID é 1032 e o ESPCODCESS é diferente do ENTCODIGO')\n",
    "    criticas.append(critica7392_15_32)\n",
    "else: print('CMPIDs 1027, 1028, 1031, 1032. Valida campo ESPCODCESS')"
   ]
  },
  {
   "cell_type": "code",
   "execution_count": null,
   "metadata": {},
   "outputs": [],
   "source": [
    "#7394.14 Valida a correspondência entre os campos CMPID e ESPCODCESS\n",
    "relacao15_29 = df_mains[(df_mains['CMPID'] == 1029) & (df_mains['ESPCODCESS'].values <= 30000) & (df_mains['ESPCODCESS'].values >= 59999)] \n",
    "relacao15_33 = df_mains[(df_mains['CMPID'] == 1033) & (df_mains['ESPCODCESS'].values <= 30000) & (df_mains['ESPCODCESS'].values >= 59999)] \n",
    "relacao15_37 = df_mains[(df_mains['CMPID'] == 1037) & (df_mains['ESPCODCESS'].values <= 30000) & (df_mains['ESPCODCESS'].values >= 59999)] "
   ]
  },
  {
   "cell_type": "code",
   "execution_count": null,
   "metadata": {},
   "outputs": [],
   "source": [
    "# Adicionando criticas com CMPIDs 1029, 1033, 1037 na lista 'criticas'\n",
    "if relacao15_29.shape != (0,i): \n",
    "    critica7392_15_29 = ('Critica 7392.15_29, O CMPID é 1029 e o ESPCODCESS é diferente do ENTCODIGO')\n",
    "    criticas.append(critica7392_15_29)\n",
    "elif relacao15_33.shape != (0,i): \n",
    "    critica7392_15_33 = ('Critica 7392.15_33, O CMPID é 1033 e o ESPCODCESS é diferente do ENTCODIGO')\n",
    "    criticas.append(critica7392_15_33)\n",
    "elif relacao15_37.shape != (0,i): \n",
    "    critica7392_15_37 = ('Critica 7392.15_37, O CMPID é 1037 e o ESPCODCESS é diferente do ENTCODIGO')\n",
    "    criticas.append(critica7392_15_37)\n",
    "else: print('CMPIDs 1029, 1033, 1037. Valida campo ESPCODCESS')"
   ]
  },
  {
   "cell_type": "code",
   "execution_count": null,
   "metadata": {},
   "outputs": [],
   "source": [
    "#7394.15 Verifica se o campo ESPCODCESS corresponde a um código de sociedade válido \n",
    "dadosesrcodcess = set(df_main['ESPCODCESS'])       #Escolhendo a coluna dos dados\n",
    "for itemtesrcodcess in dadosesrcodcess: \n",
    "    if itemtesrcodcess not in entcod:\n",
    "        print('ERRO!! ESPCODCESS não corresponde a um código de sociedade válido', itemtesrcodcess)\n",
    "        critica7394_15 = ('Critica 7394.15, ESPCODCESS corresponde a um código de sociedade válido', itemtesrcodcess)\n",
    "        criticas.append(critica7394_15)\n",
    "    else:\n",
    "        print('ESPCODCESS corresponde a um tipo de operação válida.', itemtesrcodcess)\n",
    "        continue"
   ]
  },
  {
   "cell_type": "code",
   "execution_count": null,
   "metadata": {},
   "outputs": [],
   "source": [
    "#7394.16 Verifica se o campo ESPFREQ é um número inteiro positivo\n",
    "dadosespfreq = set(df_mains['ESPFREQ'])\n",
    "for itemespfreq in dadosespfreq:\n",
    "    if itemespfreq <= 0:\n",
    "        print('ERRO!! O campo ESPFREQ não corresponde um número inteiro positivo')\n",
    "        critica7394_16 = ('Critica 7394.16, ESPFREQ não corresponde um número inteiro positivo', itemespfreq)\n",
    "        criticas.append(critica7394_16)\n",
    "    else:\n",
    "        print('O campo ESPFREQ é um número inteiro positivo')"
   ]
  },
  {
   "cell_type": "code",
   "execution_count": null,
   "metadata": {},
   "outputs": [],
   "source": [
    "#7394.18 Verifica se o ano da data dos campos ESPDATAINICIORO, ESPDATAFIMRO, ESPDATAEMISSRO, ESPDATAINICIORD, \n",
    "#ESPDATAFIMRD e ESPDATAEMISSRD está entre os limites de trinta anos para mais ou para menos do ano da data do \n",
    "#campo MRFMESANO \n",
    "\n",
    "#Criando um DataFrame com colunas de Data para cpmparação. \n",
    "#Adicionando MRFMESANO minimo e maximo\n",
    "df_dates_comparacao = pd.DataFrame(df_main['DTMRFMESANO'] - timedelta(days = 10950))\n",
    "df_dates_comparacao.loc[:,'DTMRFMESANO_max'] = df_main['DTMRFMESANO'] + timedelta(days = 10950)"
   ]
  },
  {
   "cell_type": "code",
   "execution_count": null,
   "metadata": {},
   "outputs": [],
   "source": [
    "mask18_i = (df_main['DTESPDATAINICIORO'] < df_dates_comparacao['DTMRFMESANO']) | (df_main['DTESPDATAINICIORO'] > df_dates_comparacao['DTMRFMESANO_max'])\n",
    "df18_i = df_main.loc[mask18_i] \n",
    "if len(df18_i) > 0:\n",
    "    df18_i.loc[:,'ID da Critica'] = ('CRITICA 7394.18')\n",
    "df18_i"
   ]
  },
  {
   "cell_type": "code",
   "execution_count": null,
   "metadata": {},
   "outputs": [],
   "source": [
    "mask18_f = (df_main['DTESPDATAFIMRO'] < df_dates_comparacao['DTMRFMESANO']) | (df_main['DTESPDATAFIMRO'] > df_dates_comparacao['DTMRFMESANO_max'])\n",
    "df18_f = df_main.loc[mask18_f] \n",
    "if len(df18_f) > 0:\n",
    "    df18_f.loc[:,'ID da Critica'] = ('CRITICA 7394.18')\n",
    "df18_f"
   ]
  },
  {
   "cell_type": "code",
   "execution_count": null,
   "metadata": {},
   "outputs": [],
   "source": [
    "mask18_Eo = (df_main['DTESDATAPEMISSRO'] < df_dates_comparacao['DTMRFMESANO']) | (df_main['DTESDATAPEMISSRO'] > df_dates_comparacao['DTMRFMESANO_max'])\n",
    "df18_Eo = df_main.loc[mask18_Eo]\n",
    "if len(df18_Eo) > 0:\n",
    "    df18_Eo.loc[:,'ID da Critica'] = ('CRITICA 7394.18')\n",
    "df18_Eo"
   ]
  },
  {
   "cell_type": "code",
   "execution_count": null,
   "metadata": {},
   "outputs": [],
   "source": [
    "mask18_Io = (df_main['DTESPDATAINICIORD'] < df_dates_comparacao['DTMRFMESANO']) | (df_main['DTESPDATAINICIORD'] > df_dates_comparacao['DTMRFMESANO_max'])\n",
    "df18_Io = df_main.loc[mask18_Io]\n",
    "if len(df18_Io) > 0:\n",
    "    df18_Io.loc[:,'ID da Critica'] = ('CRITICA 7394.18')\n",
    "df18_Io"
   ]
  },
  {
   "cell_type": "code",
   "execution_count": null,
   "metadata": {},
   "outputs": [],
   "source": [
    "mask18_Fo = (df_main['DTESPDATAFIMRD'] < df_dates_comparacao['DTMRFMESANO']) | (df_main['DTESPDATAFIMRD'] > df_dates_comparacao['DTMRFMESANO_max'])\n",
    "df18_Fo = df_main.loc[mask18_Fo]\n",
    "if len(df18_Fo) > 0:\n",
    "    df18_Fo.loc[:,'ID da Critica'] = ('CRITICA 7394.18')\n",
    "df18_Fo"
   ]
  },
  {
   "cell_type": "code",
   "execution_count": null,
   "metadata": {},
   "outputs": [],
   "source": [
    "mask18_e = (df_main['DTESDATAPEMISSRD'] < df_dates_comparacao['DTMRFMESANO']) | (df_main['DTESDATAPEMISSRD'] > df_dates_comparacao['DTMRFMESANO_max'])\n",
    "df18_e = df_main.loc[mask18_e]\n",
    "if len(df18_e) > 0:\n",
    "    df18_e.loc[:,'ID da Critica'] = ('CRITICA 7394.18')\n",
    "df18_e"
   ]
  },
  {
   "cell_type": "code",
   "execution_count": null,
   "metadata": {},
   "outputs": [],
   "source": [
    "#7394.19 Verifica se a data do campo ESPDATAFIMRO é posterior à data do campo ESPDATAINICIORO e se a data do campo ESPDATAFIMRD é posterior à data do campo ESPDATAINICIORD\n",
    "mask19 = (df_main['DTESPDATAFIMRO'] <= df_main['DTESPDATAINICIORO']) | (df_main['DTESPDATAFIMRD'] <= df_main['DTESPDATAINICIORD'])\n",
    "df19 = df_main.loc[mask19]\n",
    "if len(df19) > 0:\n",
    "    df19.loc[:,'ID da Critica'] = ('CRITICA 7394.19')\n",
    "df19"
   ]
  },
  {
   "cell_type": "code",
   "execution_count": null,
   "metadata": {},
   "outputs": [],
   "source": [
    "#7394.20 Se o tipo de movimento for 'emissão', verifica se o mês e ano da data do campo ESPDATAEMISSRO \n",
    "#é igual ao mês e ano da data do campo MRFMESANO \n",
    "mask20_1 = (df_main['TPMOID'] == '0007')                   # Selecionando os movimento emissão\n",
    "\n",
    "maskmr = df_main['DTMRFMESANO'].dt.strftime(\"%Y-%m\")\n",
    "masker = df_main['DTESDATAPEMISSRD'].dt.strftime(\"%Y-%m\")\n",
    "mask20_2 = (maskmr != masker)                              # Fazendo o comparativo dos campos ESPDATAEMISSRO e MRFMESANO\n",
    "\n",
    "mask20 = (mask20_1) & (mask20_2)\n",
    "df20 = df_main.loc[mask20]\n",
    "if len(df20) > 0:\n",
    "    df20.loc[:,'ID da Critica'] = ('CRITICA 7394.20')\n",
    "df20"
   ]
  },
  {
   "cell_type": "code",
   "execution_count": null,
   "metadata": {},
   "outputs": [],
   "source": [
    "#7394.21 Se o tipo de movimento for 'emissão', verifica se os valores dos campos ESPDATAINICIORO, \n",
    "#ESPDATAFIMRO, ESPDATAEMISSRO, ESPVALORMOVRO, ESPVALORCARO e ESPVALORCIRO são iguais, respectivamente, \n",
    "#aos valores dos campos ESPDATAINICIORD, ESPDATAFIMRD, ESPDATAEMISSRD, ESPVALORMOVRD, ESPVALORCARD e ESPVALORCIRD\n",
    "mask21_1 = (df_main['TPMOID'] == '0007') & (df_main['ESPDATAINICIORO'] != df_main['ESPDATAINICIORD'])\n",
    "df21_1 = df_main.loc[mask21_1]\n",
    "if len(df21_1) > 0:\n",
    "    df21_1.loc[:,'ID da Critica'] = ('CRITICA 7394.21')\n",
    "df21_1"
   ]
  },
  {
   "cell_type": "code",
   "execution_count": null,
   "metadata": {},
   "outputs": [],
   "source": [
    "mask21_2 = (df_main['TPMOID'] == '0007') & (df_main['ESPDATAFIMRO'] != df_main['ESPDATAFIMRD'])\n",
    "df21_2 = df_main.loc[mask21_2]\n",
    "if len(df21_2) > 0:\n",
    "    df21_2.loc[:,'ID da Critica'] = ('CRITICA 7394.21')\n",
    "df21_2"
   ]
  },
  {
   "cell_type": "code",
   "execution_count": null,
   "metadata": {},
   "outputs": [],
   "source": [
    "mask21_3 = (df_main['TPMOID'] == '0007') & (df_main['ESPDATAEMISSRO'] != df_main['ESPDATAEMISSRD'])\n",
    "df21_3 = df_main.loc[mask21_3]\n",
    "if len(df21_3) > 0:\n",
    "    df21_3.loc[:,'ID da Critica'] = ('CRITICA 7394.21')\n",
    "df21_3"
   ]
  },
  {
   "cell_type": "code",
   "execution_count": null,
   "metadata": {},
   "outputs": [],
   "source": [
    "mask21_4 = (df_main['TPMOID'] == '0007') & (df_main['ESPVALORMOVRO'] != df_main['ESPVALORMOVRD'])\n",
    "df21_4 = df_main.loc[mask21_4]\n",
    "if len(df21_4) > 0:\n",
    "    df21_4.loc[:,'ID da Critica'] = ('CRITICA 7394.21')\n",
    "df21_4"
   ]
  },
  {
   "cell_type": "code",
   "execution_count": null,
   "metadata": {},
   "outputs": [],
   "source": [
    "mask21_5 = (df_main['TPMOID'] == '0007') & (df_main['ESPVALORCARO'] != df_main['ESPVALORCARD'])\n",
    "df21_5 = df_main.loc[mask21_5]\n",
    "if len(df21_5) > 0:\n",
    "    df21_5.loc[:,'ID da Critica'] = ('CRITICA 7394.21')\n",
    "df21_5"
   ]
  },
  {
   "cell_type": "code",
   "execution_count": null,
   "metadata": {},
   "outputs": [],
   "source": [
    "mask21_6 = (df_main['TPMOID'] == '0007') & (df_main['ESPVALORCIRO'] != df_main['ESPVALORCIRD'])\n",
    "df21_6 = df_main.loc[mask21_6]\n",
    "if len(df21_6) > 0:\n",
    "    df21_6.loc[:,'ID da Critica'] = ('CRITICA 7394.21')\n",
    "df21_6"
   ]
  },
  {
   "cell_type": "code",
   "execution_count": null,
   "metadata": {},
   "outputs": [],
   "source": [
    "#7394.22 Se o tipo de movimento for 'emissão' e o valor dos campos ESPVALORCARO e ESPVALORCIRO for \n",
    "#maior ou igual a zero, verifica se a soma dos campos ESPVALORCARO e ESPVALORCIRO é inferior ao valor \n",
    "#do campo ESPVALORMOVRO \n",
    "mask22_1 = (df_main['TPMOID'] == '0007') & (df_main['fESPVALORCARO'] >= 0) & (df_main['fESPVALORCIRO'] >= 0)\n",
    "mask22_2 = df_main['fESPVALORCARO'] + df_main['fESPVALORCIRO']\n",
    "mask22_3 = mask22_1 & (mask22_2 < df_main['fESPVALORCARO'])\n",
    "df22 = df_main.loc[mask22_3]\n",
    "if len(df22) > 0:\n",
    "    df22.loc[:,'ID da Critica'] = ('CRITICA 7394.22')\n",
    "df22"
   ]
  },
  {
   "cell_type": "code",
   "execution_count": null,
   "metadata": {},
   "outputs": [],
   "source": [
    "#7394.23 Se o tipo de movimento for 'aumento' ou 'restituição' ou 'cancelamento'(0008,0009,0010), verifica se o mês e \n",
    "#ano da data do campo ESPDATAEMISSRD é igual ao mês e ano da data do campo MRFMESANO \n",
    "mask23_1 = (df_main['TPMOID'] == '0008') | (df_main['TPMOID'] == '0009') | (df_main['TPMOID'] == '0010') # Selecionando os movimento emissão\n",
    "\n",
    "maskmr = df_main['DTMRFMESANO'].dt.strftime(\"%Y-%m\")\n",
    "masker = df_main['DTESDATAPEMISSRD'].dt.strftime(\"%Y-%m\")\n",
    "mask23_2 = (maskmr != masker)                              # Fazendo o comparativo dos campos ESPDATAEMISSRO e MRFMESANO\n",
    "\n",
    "mask23 = (mask23_1) & (mask23_2)\n",
    "df23 = df_main.loc[mask23]\n",
    "if len(df23) > 0:\n",
    "    df23.loc[:,'ID da Critica'] = ('CRITICA 7394.23')\n",
    "df23"
   ]
  },
  {
   "cell_type": "code",
   "execution_count": null,
   "metadata": {},
   "outputs": [],
   "source": [
    "#7394.24 Se o tipo de movimento for 'aumento' ou 'restituição' ou 'cancelamento'(0008,0009,0010), verifica se a data \n",
    "#dos campos ESPDATAINICIORD e ESPDATAEMISSRD é igual ou posterior, respectivamente, à data dos campos \n",
    "#ESPDATAINICIORO e ESPDATAEMISSRO \n",
    "mask24_tpmoid = (df_main['TPMOID'] == '0008') | (df_main['TPMOID'] == '0009') | (df_main['TPMOID'] == '0010')\n",
    "\n",
    "mask24_1 = mask24_tpmoid & (df_main['DTESPDATAINICIORD'] != df_main['DTESPDATAINICIORO'])\n",
    "df24_1 = df_main.loc[mask24_1]\n",
    "if len(df24_1) > 0:\n",
    "    df24_1.loc[:,'ID da Critica'] = ('CRITICA 7394.24')\n",
    "df24_1"
   ]
  },
  {
   "cell_type": "code",
   "execution_count": null,
   "metadata": {},
   "outputs": [],
   "source": [
    "mask24_2 = mask24_tpmoid & (df_main['ESPDATAEMISSRD'] != df_main['ESPDATAEMISSRO'])\n",
    "df24_2 = df_main.loc[mask24_2]\n",
    "if len(df18_f) > 0:\n",
    "    df24_2.loc[:,'ID da Critica'] = ('CRITICA 7394.24')\n",
    "if len(df24_2) > 0:\n",
    "    df24_2.loc[:,'ID da Critica'] = ('CRITICA 7394.24')\n",
    "df24_2"
   ]
  },
  {
   "cell_type": "code",
   "execution_count": null,
   "metadata": {},
   "outputs": [],
   "source": [
    "#7394.25  Se o tipo de movimento for 'aumento' ou 'restituição' ou 'cancelamento'(0008,0009,0010)e o valor dos campos ESPVALORCARD e \n",
    "#ESPVALORCIRD for maior que zero, verifica se a soma dos campos ESPVALORCARD e ESPVALORCIRD é inferior ao valor do campo ESPVALORMOVRD \n",
    "mask25_tpmoid = (df_main['TPMOID'] == '0008') | (df_main['TPMOID'] == '0009') | (df_main['TPMOID'] == '0010')\n",
    "mask25_valor = (df_main['fESPVALORCARD'] > 0) & (df_main['fESPVALORCIRD'] > 0)\n",
    "soma = (df_main['fESPVALORCARD']) + (df_main['fESPVALORCIRD'])\n",
    "\n",
    "mask25 = (mask25_tpmoid) & (mask25_valor) & (soma >= df_main['fESPVALORMOVRD'])\n",
    "df25 = df_main.loc[mask25]\n",
    "if len(df25) > 0:\n",
    "    df25.loc[:,'ID da Critica'] = ('CRITICA 7394.25')\n",
    "\n",
    "df25"
   ]
  },
  {
   "cell_type": "code",
   "execution_count": null,
   "metadata": {},
   "outputs": [],
   "source": [
    "#7394.26  Se o tipo de movimento for 'restituição' ou 'cancelamento', verifica se a data do campo \n",
    "#ESPDATAEMISSRD é inferior a 90 dias após à data informada no campo ESPDATAFIMRD\n",
    "\n",
    "#Adicionando ESPDATAFIMRD + 90days\n",
    "df_dates_comparacao.loc[:,'DTESPDATAFIMRD'] = df_main['DTESPDATAFIMRD'] + timedelta(days = 90)\n",
    "\n",
    "mask26_tpmoid = (df_main['TPMOID'] == '0009') | (df_main['TPMOID'] == '0010')\n",
    "\n",
    "mask26 = mask26_tpmoid & (df_main['DTESDATAPEMISSRD'] > df_dates_comparacao['DTESPDATAFIMRD'])\n",
    "df26 = df_main.loc[mask26]\n",
    "if len(df26) > 0:\n",
    "    df26.loc[:,'ID da Critica'] = ('CRITICA 7394.26')\n",
    "\n",
    "df26"
   ]
  },
  {
   "cell_type": "code",
   "execution_count": null,
   "metadata": {},
   "outputs": [],
   "source": [
    "#7394.27 Se o tipo de movimento for 'restituição' ou 'cancelamento', verifica se a data do campo \n",
    "#ESPDATAFIMRD é igual à data do campo ESPDATAFIMRO \n",
    "mask27_tpmoid = (df_main['TPMOID'] == '0009') | (df_main['TPMOID'] == '0010')\n",
    "\n",
    "mask27 = (mask27_tpmoid) & (df_main['DTESPDATAFIMRD'] != df_main['DTESPDATAFIMRO'])\n",
    "df27 = df_main.loc[mask27]\n",
    "if len(df27) > 0:\n",
    "    df27.loc[:,'ID da Critica'] = ('CRITICA 7394.27')\n",
    "df27"
   ]
  },
  {
   "cell_type": "code",
   "execution_count": null,
   "metadata": {},
   "outputs": [],
   "source": [
    "#7394.28 Se o tipo de movimento for 'restituição' ou 'cancelamento', verifica se o valor dos campos ESPVALORMOVRD, ESPVALORCARD \n",
    "#e ESPVALORCIRD é igual ou inferior, respectivamente, ao valor dos campos ESPVALORMOVRO, ESPVALORCARO e ESPVALORCIRO\n",
    "mask28_tpmoid = (df_main['TPMOID'] == '0009') | (df_main['TPMOID'] == '0010')\n",
    "\n",
    "mask28 = (df_main['fESPVALORMOVRD'] > df_main['fESPVALORMOVRO']) | (df_main['fESPVALORCARD'] > df_main['fESPVALORCARO']) | (df_main['fESPVALORCIRD'] > df_main['fESPVALORCIRO'])\n",
    "df28 = df_main.loc[mask28]\n",
    "if len(df28) > 0:\n",
    "    df28.loc[:,'ID da Critica'] = ('CRITICA 7394.28')\n",
    "df28"
   ]
  },
  {
   "cell_type": "code",
   "execution_count": null,
   "metadata": {},
   "outputs": [],
   "source": [
    "#7394.29 Para cada ramo, compara os valores registrados nos campos ESPVALORMOVRO, ESPVALORMOVRD, ESPVALORCIRO e ESPVALORCIRD com os valores informados no Quadro 02 do FIP/SUSEP (tolerância: R$ 1.000,00 ou 1% do valor informado no respectivo campo do Quadro 02, o que for maior) "
   ]
  },
  {
   "cell_type": "code",
   "execution_count": null,
   "metadata": {},
   "outputs": [],
   "source": [
    "#7394.30 Para cada ramo, compara os valores registrados nos campos ESPVALORCARO e ESPVALORCARD com os valores informados no Quadro 08 do FIP/SUSEP (tolerância: R$ 1.000,00 ou 1% do valor informado no respectivo campo do Quadro 08, o que for maior)"
   ]
  },
  {
   "cell_type": "code",
   "execution_count": null,
   "metadata": {},
   "outputs": [],
   "source": [
    "#7394.31 Verifica se o valor do campo ESPVALORMOVRO é maior do que zero e se o valor dos campos \n",
    "#ESPVALORCARO, ESPVALORCARD, ESPVALORCIRO e ESPVALORCIRD é maior ou igual a zero\n",
    "mask31 = df_main['fESPVALORMOVRO']\n",
    "mask31_1 = (mask31 > 0) & (df_main['fESPVALORMOVRO'] < 0) | (df_main['fESPVALORCARD'] < 0) | (df_main['fESPVALORCIRO'] < 0) | (df_main['fESPVALORCIRD'] < 0)\n",
    "df31 = df_main.loc[mask31_1]\n",
    "if len(df31) > 0:\n",
    "    df31.loc[:,'ID da Critica'] = ('CRITICA 7394.31')\n",
    "df31"
   ]
  },
  {
   "cell_type": "code",
   "execution_count": null,
   "metadata": {},
   "outputs": [],
   "source": [
    "#7394.32 Se o tipo de operação for 'cosseguro aceito' ou 'cosseguro cedido' ou 'prêmio de resseguro' ou 'restituição de prêmio\n",
    "#de cosseguro aceito' ou 'restituição de prêmio de cosseguro cedido' ou 'restituição de prêmio de resseguro' ou\n",
    "#'cancelamento total de prêmio de cosseguro aceito' ou 'cancelamento total de prêmio de cosseguro cedido' ou\n",
    "#'cancelamento total de prêmio de resseguro', verifica se o valor dos campos ESPVALORCIRO e ESPVALORCIRD é igual a zero\n",
    "# CMPID 1027, 1028, 1029,1031, 1032, 1033, 1035, 1036, 1037\n",
    "mask_cmpid_1 = (df_main['CMPID'] == '1027') | (df_main['CMPID'] == '1028') | (df_main['CMPID'] == '1029')\n",
    "mask_cmpid_2 = (df_main['CMPID'] == '1031') | (df_main['CMPID'] == '1032') | (df_main['CMPID'] == '1033')\n",
    "mask_cmpid_3 = (df_main['CMPID'] == '1035') | (df_main['CMPID'] == '1036') | (df_main['CMPID'] == '1037')\n",
    "mask32_cmpid = (mask_cmpid_1) | (mask_cmpid_2) | (mask_cmpid_3)\n",
    "mask32_valor = (df_main['fESPVALORCIRO'] != 0.0) | (df_main['fESPVALORCIRD'] != 0.0)\n",
    "\n",
    "mask32 = (mask32_cmpid) & (mask32_valor)\n",
    "df32 = df_main.loc[mask32]\n",
    "if len(df32) > 0:\n",
    "    df32.loc[:,'ID da Critica'] = ('CRITICA 7394.32')\n",
    "df32"
   ]
  },
  {
   "cell_type": "code",
   "execution_count": null,
   "metadata": {},
   "outputs": [],
   "source": [
    "#7394.33 Se o tipo de operação for 'prêmio de resseguro' ou 'restituição de prêmio de resseguro' ou \n",
    "#'cancelamento de prêmio de resseguro', verifica se o valor dos campos ESPVALORCARO e ESPVALORCARD é igual a zero\n",
    "# CMPID 1029, 1033, 1037\n",
    "mask33_cmpid = (df_main['CMPID'] == '1029') | (df_main['CMPID'] == '1033') | (df_main['CMPID'] == '1037')\n",
    "\n",
    "mask33 = (mask33_cmpid) & (df_main['fESPVALORCARO'] != 0.0) & (df_main['fESPVALORCARD'] != 0.0)\n",
    "df33 = df_main.loc[mask33]\n",
    "if len(df33) > 0:\n",
    "    df33.loc[:,'ID da Critica'] = ('CRITICA 7394.33')\n",
    "df33"
   ]
  },
  {
   "cell_type": "code",
   "execution_count": null,
   "metadata": {},
   "outputs": [],
   "source": [
    "#7394.34 Se o tipo de movimento for 'emissão', verifica se o campo RAMCODIGO não se refere a um ramo em run-off \n",
    "#(conforme Anexo II da Circular SUSEP nº 395/2009)\n",
    "dadosrunoff = set(arq_ramcod['run-off'].astype('str'))          # Escolhendo a coluna do arquivo\n",
    "mask_tpmoid = (df_main['TPMOID'] == '0007')                     # Criando uma mascara com os TPMOID emissão\n",
    "df34 = df_main.loc[mask_tpmoid]                                 # Transformando a mascara em DataFrame\n",
    "dadosramcodoff = set(df34['RAMCODIGO'])                         # Escolhendo a coluna do DataFrame df34\n",
    "for itemramcodoff in dadosramcodoff: \n",
    "    if itemramcodoff in dadosrunoff:\n",
    "        print('ERRO!! O campo RAMCODIGO se refere a um ramo em run-off', itemramcodoff)\n",
    "        critica7394_34 = ('Critica 7394.34, O campo RAMCODIGO se refere a um ramo em run-off', itemramcodoff)\n",
    "        criticas.append(critica7394_34)\n",
    "    else:\n",
    "        print('O campo RAMCODIGO não se refere a um ramo em run-off', itemramcodoff)\n",
    "        continue"
   ]
  },
  {
   "cell_type": "code",
   "execution_count": null,
   "metadata": {},
   "outputs": [],
   "source": [
    "#7394.35 Para os tipos de movimento “Emissão de Prêmio”, “Aumento de Prêmio” e “Restituição de Prêmio \n",
    "#(Cancelamento Parcial de Prêmio)”,(0007,0008,0009) verifica se o valor do campo ESPVALORMOVRD é maior do que zero\n",
    "mask_tpmoid = (df_main['TPMOID'] == '0007') | (df_main['TPMOID'] == '0008') | (df_main['TPMOID'] == '0009')\n",
    "\n",
    "mask_35 = (mask_tpmoid) & (df_main['fESPVALORMOVRD'] <= 0)\n",
    "df35 = df_main.loc[mask_35]\n",
    "if len(df35) > 0:\n",
    "    df35.loc[:,'ID da Critica'] = ('CRITICA 7394.35')\n",
    "df35"
   ]
  },
  {
   "cell_type": "code",
   "execution_count": null,
   "metadata": {},
   "outputs": [],
   "source": [
    "#7394.36 Se o MRFMESANO for maior ou igual a 20180131 e o tipo de movimento for “Aumento de Prêmio”, \n",
    "#verificar se o campo ESPVALORCIRD é igual a zero\n",
    "mask_36 = (df_main['MRFMESANO'] >= '20180131') & (df_main['TPMOID'] >= '0008') & (df_main['fESPVALORCIRD'] != 0)\n",
    "df36 = df_main.loc[mask_36]\n",
    "if len(df36) > 0:\n",
    "    df36.loc[:,'ID da Critica'] = ('CRITICA 7394.36')\n",
    "df36"
   ]
  },
  {
   "cell_type": "code",
   "execution_count": null,
   "metadata": {},
   "outputs": [],
   "source": [
    "#7394.37 Se o MRFMESANO for maior ou igual a 20180131 e o tipo de movimento for “Emissão de Prêmio”, \n",
    "#verificar se o campo ESPVALORCIRO é igual a zero \n",
    "mask_37 = (df_main['MRFMESANO'] >= '20180131') & (df_main['TPMOID'] >= '0007') & (df_main['fESPVALORCIRO'] != 0)\n",
    "df37 = df_main.loc[mask_37]\n",
    "if len(df37) > 0:\n",
    "    df37.loc[:,'ID da Critica'] = ('CRITICA 7394.37')\n",
    "df37"
   ]
  },
  {
   "cell_type": "code",
   "execution_count": null,
   "metadata": {},
   "outputs": [],
   "source": [
    "################################################\n",
    "# Adicionando Nome do Criador do output e data #\n",
    "################################################\n",
    "\n",
    "df_main.loc[:,'Criador'] = input(\"Insira seu nome: \") ### insere a coluna com o nome do criador da tabela\n",
    "data_presente = datetime.now()\n",
    "df_main.loc[:,'Data do output'] = data_presente ### insere a coluna com a data de criacao da tabela"
   ]
  },
  {
   "cell_type": "code",
   "execution_count": null,
   "metadata": {},
   "outputs": [],
   "source": [
    "df_main"
   ]
  },
  {
   "cell_type": "code",
   "execution_count": null,
   "metadata": {},
   "outputs": [],
   "source": [
    "criticas"
   ]
  },
  {
   "cell_type": "code",
   "execution_count": null,
   "metadata": {},
   "outputs": [],
   "source": [
    "df_criticas = pd.DataFrame(criticas)\n",
    "df_criticas = df_criticas.rename(columns={0:'Descrição'})\n",
    "for i in range(0,df_criticas.shape[0]):\n",
    "    df_criticas.loc[:,'Quantidade de Criticas'] = i\n",
    "df_criticas"
   ]
  },
  {
   "cell_type": "code",
   "execution_count": null,
   "metadata": {},
   "outputs": [],
   "source": [
    "df_criticas_2 = pd.concat([df18_i,df18_f,df18_Eo,df18_Io,df18_Fo,df18_e,df19,df20,df21_1,df21_2,df21_3,df21_4,df21_5,df21_6,df22,df23,df24_1,df24_2,df25,df26,df27,df28,df31,df32,df33,df35,df36,df37])\n",
    "df_criticas_2"
   ]
  },
  {
   "cell_type": "code",
   "execution_count": null,
   "metadata": {},
   "outputs": [],
   "source": [
    "if criticas == []:                   # Verificando se a lista de criticas esta vazia\n",
    "    print('Nenhuma Critica NÃO Impeditiva encontrada no Quadro 378')\n",
    "else:\n",
    "    print('Foi encontrada uma ou mais Criticas NÃO Impeditivas no Quadro 378')\n",
    "    df_criticas.to_csv('Criticas_nao_impeditivas378.csv')     # Gerando csv das criticas impeditivas"
   ]
  },
  {
   "cell_type": "code",
   "execution_count": null,
   "metadata": {},
   "outputs": [],
   "source": [
    "if len(df_criticas_2) == 0:                             # Verificando se o DataFrame de criticas esta vazia\n",
    "    print('Nenhuma Critica NÃO Impeditiva encontrada no Quadro 378')\n",
    "else:\n",
    "    print('Foi encontrada uma ou mais Criticas NÃO Impeditivas no Quadro 378')\n",
    "    df_criticas_2.to_csv('Criticas_nao_impeditivas378_2.csv')         # Gerando csv das criticas impeditivas"
   ]
  },
  {
   "cell_type": "code",
   "execution_count": null,
   "metadata": {},
   "outputs": [],
   "source": [
    "df_main.to_csv('378_Trabalho.csv')"
   ]
  },
  {
   "cell_type": "markdown",
   "metadata": {},
   "source": [
    "# Teste"
   ]
  },
  {
   "cell_type": "code",
   "execution_count": null,
   "metadata": {},
   "outputs": [],
   "source": [
    "df_main['mask'] = pd.to_datetime(df_main['DTESDATAPEMISSRD'])\n",
    "#mask = pd.to_datetime(mask04)\n",
    "df_main['mask'] = df_main['mask'].dt.strftime(\"%d/%m/%Y\")\n",
    "df_main['mask']"
   ]
  }
 ],
 "metadata": {
  "kernelspec": {
   "display_name": "Python 3",
   "language": "python",
   "name": "python3"
  },
  "language_info": {
   "codemirror_mode": {
    "name": "ipython",
    "version": 3
   },
   "file_extension": ".py",
   "mimetype": "text/x-python",
   "name": "python",
   "nbconvert_exporter": "python",
   "pygments_lexer": "ipython3",
   "version": "3.8.3"
  }
 },
 "nbformat": 4,
 "nbformat_minor": 2
}
