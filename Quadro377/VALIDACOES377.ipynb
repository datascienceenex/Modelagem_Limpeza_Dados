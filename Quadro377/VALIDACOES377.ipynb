{
 "cells": [
  {
   "cell_type": "markdown",
   "metadata": {},
   "source": [
    "# Implanatação de algumas Bibliotacas"
   ]
  },
  {
   "cell_type": "code",
   "execution_count": null,
   "metadata": {},
   "outputs": [],
   "source": [
    "import csv\n",
    "import numpy as np\n",
    "import pandas as pd\n",
    "import sys\n",
    "from tkinter import Tk\n",
    "from tkinter import filedialog\n",
    "from datetime import date, datetime, timedelta\n",
    "#import os\n",
    "#from ciso8601 import parse_datetime"
   ]
  },
  {
   "cell_type": "markdown",
   "metadata": {},
   "source": [
    "# Criando variaveis para os arquivos permitidos"
   ]
  },
  {
   "cell_type": "code",
   "execution_count": null,
   "metadata": {},
   "outputs": [],
   "source": [
    "#p_cmpid   = pd.read_excel('PQ376.xlsx')      ### leitura do arquivo com os sinais dos cpmids do quadro 376\n",
    "#p_tpmoid  = pd.read_excel('Pt376.xlsx')      ### leitura do arquivo com os sinais dos tpmoids do quadro 376\n",
    "#param     = pd.read_excel('LQ376.xlsx')      ### leitura do arquivo com o layout atualizado do quadro 376\n",
    "\n",
    "p_cmpid2  = pd.read_excel('PQ377.xlsx')      ### leitura do arquivo com os sinais dos cpmids do quadro 377\n",
    "param2    = pd.read_excel('LQ377.xlsx')      ### leitura do arquivo com o layout atualizado do quadro 377"
   ]
  },
  {
   "cell_type": "code",
   "execution_count": null,
   "metadata": {},
   "outputs": [],
   "source": [
    "control  = 0                                              ### controle de backup    \n",
    "#p_cmpid['cmpid'] = p_cmpid.cmpid.astype(str)              ### transforma o campo cmpid - QE 376 - do arq auxiliar para string \n",
    "p_cmpid2['cmpid'] = p_cmpid2.cmpid.astype(str)            ### transforma o campo cmpid - QE 377 - do arq auxiliar para string "
   ]
  },
  {
   "cell_type": "code",
   "execution_count": null,
   "metadata": {},
   "outputs": [],
   "source": [
    "## FUNÇÃO PARA SELEÇÃO DO ARQUIVO\n",
    "\n",
    "class qe_s:\n",
    "\n",
    "    def __init__(self):\n",
    "        self.df = {nome[s]: [] for s in range(nome.shape[0])}\n",
    "  \n",
    "    def make_df(self):\n",
    "        lines = []\n",
    "        root = Tk()\n",
    "        root.attributes(\"-topmost\", True)\n",
    "        root.withdraw()\n",
    "        for file in filedialog.askopenfilenames(filetypes=[(\"Arquivos de Text\", \"*.txt\")]):\n",
    "            for line in open(file, encoding=\"utf-8\"):\n",
    "                line = line.replace(\",\",\".\").strip()\n",
    "                for x in range(nome.shape[0]):\n",
    "                    self.df[nome[x]].append(line[i[x]:j[x]])\n",
    "                    \n",
    "        return pd.DataFrame(self.df)"
   ]
  },
  {
   "cell_type": "code",
   "execution_count": null,
   "metadata": {
    "scrolled": true
   },
   "outputs": [],
   "source": [
    "nome     = param2.Campo                      ### guarda os nomes das colunas existentes no quadro 376\n",
    "i        = param2.Ind_inf                    ### guarda a posição no arquivo que inicia um determinado campo\n",
    "j        = param2.Ind_sup                    ### guarda a posição no arquivo que termina um determinado campo\n",
    "\n",
    "quadro = qe_s()       \n",
    "df_main = quadro.make_df()\n",
    "df_main\n",
    "\n",
    "## SELECINE O(S) ARQUIVO(S) DESEJADO(S)"
   ]
  },
  {
   "cell_type": "code",
   "execution_count": null,
   "metadata": {},
   "outputs": [],
   "source": [
    "###################################\n",
    "###Importacao do Quadro377.xlsx ###\n",
    "####que serão usados para fins#####\n",
    "######### de comparação ###########\n",
    "###################################\n",
    "\n",
    "#Pasta CMPID\n",
    "arq_cmpid = pd.read_excel('Quadro377.xlsx','CMPID',fileEncoding = \"UTF-8\",encoding = 'latin_1', dtype=str)\n",
    "\n",
    "#Pasta ENTCODIGO\n",
    "arq_entcod = pd.read_excel('Quadro377.xlsx','Cod_SUSEP',fileEncoding = \"UTF-8\",encoding = 'latin_1', dtype=str)\n",
    "\n",
    "#Pasta MRFMESANO\n",
    "arq_mrfmesano = pd.read_excel('Quadro377.xlsx','MRFMESANO',fileEncoding = \"UTF-8\",encoding = 'latin_1', dtype=str)\n",
    "\n",
    "#Pasta RAMCODIGO\n",
    "arq_ramcod = pd.read_excel('Quadro377.xlsx','RAMCODIGO',fileEncoding = \"UTF-8\",encoding = 'latin_1', dtype=str)\n",
    "\n",
    "#Pasta Bib_DefCamposEstatísticos\n",
    "arq_defcamesta = pd.read_excel('Quadro377.xlsx','Bib_DefCamposEstatísticos',fileEncoding = \"UTF-8\",encoding = 'latin_1', dtype=str)"
   ]
  },
  {
   "cell_type": "code",
   "execution_count": null,
   "metadata": {},
   "outputs": [],
   "source": [
    "# Criando uma lista para guardar todas as criticas impeditivas\n",
    "criticas_impeditivas = []\n",
    "criticas = []"
   ]
  },
  {
   "cell_type": "markdown",
   "metadata": {},
   "source": [
    "# Criticas (Validacoes)"
   ]
  },
  {
   "cell_type": "code",
   "execution_count": null,
   "metadata": {},
   "outputs": [],
   "source": [
    "#7393.3 Verifica se o campo sequencial ESLSEQ é uma sequência válida, que se inicia em 0000001\n",
    "array3 = df_main['ESLSEQ']\n",
    "x = list(array3)                                     ##Dados do arquivo\n",
    "arrayteste = x[:]\n",
    "arrayteste.sort()                                    ##Dados sequenciados\n",
    "if (arrayteste == x):                                ##Comparando\n",
    "    print('Tudo certo, esta de forma sequencial.')\n",
    "else: \n",
    "    print('ERRO!!!, Não prossiga.')\n",
    "    critica7393_3 = str('Critica 7393.3, Não temos uma sequencia valida na coluna ESRSEQ')\n",
    "    criticas_impeditivas.append(critica7393_3)"
   ]
  },
  {
   "cell_type": "code",
   "execution_count": null,
   "metadata": {},
   "outputs": [],
   "source": [
    "#7393.2 Verifica o tamanho padrão da linha (deve conter 101 caracteres)\n",
    "tamanho = 0\n",
    "for i in range(0,df_main.shape[0]):                    #Passando por cada linha\n",
    "    for iten in df_main.columns:                       #Passando por cada coluna\n",
    "        tamanho = tamanho + len(df_main[iten][i])      #Contando Caracteres por linha\n",
    "    if tamanho != 101:\n",
    "        print('Erro na linha ',i,' o número de caracteres é de: ',tamanho)\n",
    "        critica7393_2 = (\"Critica 7393.2, Erro na linha \",i,\" o número de caracteres é de: \",tamanho)\n",
    "        criticas_impeditivas.append(critica7393_2)\n",
    "    tamanho = 0"
   ]
  },
  {
   "cell_type": "code",
   "execution_count": null,
   "metadata": {},
   "outputs": [],
   "source": [
    "#7393.4 Verifica se o campo ENTCODIGO corresponde à sociedade que está enviando o FIP/SUSEP\n",
    "entcod = set(arq_entcod['Cod_SUSEP'].astype('str'))                   #Escolhendo a coluna do arquivo modelo\n",
    "dadosentcod = set(df_main['ENTCODIGO'])                               #Escolhendo a coluna dos dados\n",
    "for itemtentcod in dadosentcod: \n",
    "    if itemtentcod not in entcod:\n",
    "        print('ERRO!! ENTCODIGO não corresponde a uma operação valida', itemtentcod)\n",
    "        critica7393_4 = ('Critica 7393.4, ENTCODIGO não corresponde a uma operação valida', itemtentcod)\n",
    "        criticas.append(critica7393_4)\n",
    "    else:\n",
    "        print('ENTCODIGO corresponde a um tipo de operação válida.', itemtentcod)\n",
    "        continue"
   ]
  },
  {
   "cell_type": "code",
   "execution_count": null,
   "metadata": {},
   "outputs": [],
   "source": [
    "#7393.5 Verifica se o campo MRFMESANO corresponde, respectivamente, ao ano, mês e último dia do mês de referência do FIP/SUSEP\n",
    "df_main.loc[:,'DTMRFMESANO'] = df_main['MRFMESANO'].astype('datetime64')     #Criando uma nova coluna no formato Date\n",
    "mrfmesano = set(arq_mrfmesano['DATAS'].astype('datetime64'))                 #Escolhendo a coluna do arquivo modelo\n",
    "dadosmrfmesano = set(df_main['DTMRFMESANO'])                                 #Escolhendo a coluna dos dados\n",
    "for itemmrfmesano in dadosmrfmesano: \n",
    "    if itemmrfmesano not in mrfmesano:\n",
    "        print('ERRO!! MRFMESANO não corresponde a uma operação valida', itemmrfmesano)\n",
    "        critica7393_5 = ('Critica 7393.5, MRFMESANO não corresponde a uma Data valida', itemmrfmesano)\n",
    "        criticas.append(critica7393_5)\n",
    "    else:\n",
    "        print('MRFMESANO corresponde a uma Data válida.', itemmrfmesano)\n",
    "        continue"
   ]
  },
  {
   "cell_type": "code",
   "execution_count": null,
   "metadata": {},
   "outputs": [],
   "source": [
    "#7393.6 Verifica se o campo QUAID corresponde ao quadro 377\n",
    "array6 = set(df_main['QUAID'])           ##Verificando todos os Quadros que estamos tratando no documento.\n",
    "for itemarray6 in array6:\n",
    "    if itemarray6 == '377':\n",
    "        print('Este se trata do Quadro:',itemarray6)\n",
    "    else:\n",
    "        print('ERRO!! Este se trata do Quadro:',itemarray6)\n",
    "        critica7393_6 = ('Critica 7393.6, Este esta se tratando do(s) Quadro(s):',itemarray6)\n",
    "        criticas.append(critica7393_6)"
   ]
  },
  {
   "cell_type": "code",
   "execution_count": null,
   "metadata": {},
   "outputs": [],
   "source": [
    "#7393.7 Verifica se o campo CMPID corresponde a um tipo de operação válida (conforme tabela Bib_DefCamposEstatísticos)\n",
    "defcamesta = set(arq_defcamesta['CMPID'].astype('str'))             #Escolhendo a coluna do arquivo modelo\n",
    "dadoscmpid = set(df_main['CMPID'])                                 #Escolhendo a coluna dos dados\n",
    "for itemcmpid in dadoscmpid: \n",
    "    if itemcmpid not in defcamesta:\n",
    "        print('ERRO!! O campo CMPID não corresponde a um tipo de operação válida (conforme tabela Bib_DefCamposEstatísticos).', itemcmpid)\n",
    "        critica7393_7 = ('Critica 7393.7, O campo CMPID não corresponde a um tipo de operação válida (conforme tabela Bib_DefCamposEstatísticos).', itemcmpid)\n",
    "        criticas.append(critica7393_7)\n",
    "    else:\n",
    "        print('O campo CMPID corresponde a um tipo de operação válida (conforme tabela Bib_DefCamposEstatísticos).', itemcmpid)\n",
    "        continue"
   ]
  },
  {
   "cell_type": "code",
   "execution_count": null,
   "metadata": {},
   "outputs": [],
   "source": [
    "#7393.10 Verifica se o campo RAMCODIGO corresponde, respectivamente, a um grupo de ramos e ramo válidos e operados pela companhia no mês de referência\n",
    "ramcod = set(arq_ramcod['ramo_s1'].astype('str'))                       #Escolhendo a coluna do arquivo\n",
    "dadosramcod = set(df_main['RAMCODIGO'])                                 #Escolhendo a coluna dos dados\n",
    "for itemramcod in dadosramcod: \n",
    "    if itemramcod not in ramcod:\n",
    "        print('ERRO!! RAMCODIGO não corresponde a uma operação valida', itemramcod)\n",
    "        critica7393_10 = ('Critica 7393.10, RAMCODIGO não corresponde a uma operação valida', itemramcod)\n",
    "        criticas.append(critica7393_10)\n",
    "    else:\n",
    "        print('RAMCODIGO corresponde a um tipo de operação válida.', itemramcod)\n",
    "        continue"
   ]
  },
  {
   "cell_type": "code",
   "execution_count": null,
   "metadata": {},
   "outputs": [],
   "source": [
    "#7393.11 Verifica se o campo RAMCODIGO não foi preenchido para os ramos 0588, 0589, 0983, 0986, 0991, 0992, 0994, 0996, 1066, 1383, 1386, 1391, 1392, 1396, 1603 e 2201\n",
    "ramcodver = set(arq_ramcod['RAMCODIGO_não_fazem_parte_376'].astype('str'))       #Escolhendo a coluna do arquivo modelo\n",
    "dadosramcod = set(df_main['RAMCODIGO'])                                 #Escolhendo a coluna dos dados\n",
    "for itemramcod in dadosramcod: \n",
    "    if itemramcod in ramcodver:\n",
    "        print('ERRO!! RAMCODIGO não corresponde a uma operação valida', itemramcod)\n",
    "        critica7393_11 = ('Critica 7393.11, RAMCODIGO não corresponde a uma operação valida', itemramcod)\n",
    "        criticas.append(critica7393_11)\n",
    "    else:\n",
    "        print('RAMCODIGO corresponde a um tipo de operação válida.', itemramcod)\n",
    "        continue"
   ]
  },
  {
   "cell_type": "code",
   "execution_count": null,
   "metadata": {},
   "outputs": [],
   "source": [
    "#7393.13 Verifica se os campos ESLDATAINICIO, ESLDATAFIM, ESLDATAOCORR e ESLDATAREG correspondem a uma data válida\n",
    "\n",
    "#####################################################\n",
    "##Readicionando as colunas de Data de str para date##\n",
    "#####################################################\n",
    "\n",
    "df_main.loc[:,'DTESLDATAINICIO'] = df_main['ESLDATAINICIO'].astype('datetime64')\n",
    "df_main.loc[:,'DTESLDATAFIM'] = df_main['ESLDATAFIM'].astype('datetime64')\n",
    "df_main.loc[:,'DTESLDATAOCORR'] = df_main['ESLDATAOCORR'].astype('datetime64')\n",
    "df_main.loc[:,'DTESLDATAREG'] = df_main['ESLDATAREG'].astype('datetime64')\n",
    "\n",
    "#Adicionado colunas DTESRDATAINICIO, DTESRDATAFIM, DTESRDATAOCORR, DTESRDATAREG e DTESRDATACOMUNICA no tipo Date"
   ]
  },
  {
   "cell_type": "code",
   "execution_count": null,
   "metadata": {},
   "outputs": [],
   "source": [
    "#7393.12 Verifica se o valor dos campos ESLVALORMOV é float\n",
    "\n",
    "###########################################\n",
    "##Readicionando as colunas str para float##\n",
    "###########################################\n",
    "\n",
    "df_main.loc[:,'fESRVALORMOV'] = df_main['ESLVALORMOV'].astype('float64')\n",
    "\n",
    "#Adicionado coluna ESLVALORMOV no tipo Float"
   ]
  },
  {
   "cell_type": "code",
   "execution_count": null,
   "metadata": {},
   "outputs": [],
   "source": [
    "criticas_impeditivas  #Lista das criticas impeditivas"
   ]
  },
  {
   "cell_type": "code",
   "execution_count": null,
   "metadata": {},
   "outputs": [],
   "source": [
    "df_criticas_i = pd.DataFrame(criticas_impeditivas)     #criacao do DataFrame das criticas impeditivas\n",
    "df_criticas_i = df_criticas_i.rename(columns={0:'Descrição'})\n",
    "df_criticas_i"
   ]
  },
  {
   "cell_type": "code",
   "execution_count": null,
   "metadata": {},
   "outputs": [],
   "source": [
    "if criticas_impeditivas == []:                             # Verificando se a lista de criticas esta vazia\n",
    "    print('Nenhuma Critica Impeditiva encontrada no Quadro 377')\n",
    "else:\n",
    "    print('Foi encontrada uma ou mais Criticas Impeditivas no Quadro 377')\n",
    "    df_criticas_i.to_csv('Criticas_Impeditivas_377.csv')   # Gerando csv das criticas impeditivas"
   ]
  },
  {
   "cell_type": "markdown",
   "metadata": {},
   "source": [
    "# Criticas (Validacoes) Não Impeditivas"
   ]
  },
  {
   "cell_type": "code",
   "execution_count": null,
   "metadata": {},
   "outputs": [],
   "source": [
    "# Criando DataFrame copia com Campos CMPID, ESLCODCESS, ENTCODIGO no formato int\n",
    "df_mains = df_main.copy()\n",
    "df_mains['CMPID'] = df_mains['CMPID'].astype('int64')\n",
    "df_mains['ESLCODCESS'] = df_mains['ESLCODCESS'].astype('int64')\n",
    "df_mains['ENTCODIGO'] = df_mains['ENTCODIGO'].astype('int64')"
   ]
  },
  {
   "cell_type": "code",
   "execution_count": null,
   "metadata": {},
   "outputs": [],
   "source": [
    "#7393.14 Valida a correspondência entre os campos CMPID e ESLCODCESS\n",
    "relacao15_15 = df_mains[(df_mains['CMPID'] == 1015) & (df_mains['ESLCODCESS'].values != df_mains['ENTCODIGO'].values)]\n",
    "relacao15_20 = df_mains[(df_mains['CMPID'] == 1020) & (df_mains['ESLCODCESS'].values != df_mains['ENTCODIGO'].values)]\n",
    "relacao15_25 = df_mains[(df_mains['CMPID'] == 1025) & (df_mains['ESLCODCESS'].values != df_mains['ENTCODIGO'].values)]"
   ]
  },
  {
   "cell_type": "code",
   "execution_count": null,
   "metadata": {},
   "outputs": [],
   "source": [
    "i = 19   #Definindo numero de colunas\n",
    "\n",
    "# Adicionando criticas com CMPIDs 1015, 1020, 1025 na lista 'criticas'\n",
    "if relacao15_15.shape != (0,i): \n",
    "    critica7392_15_15 = ('Critica 7392.15_15, O CMPID é 1015 e o ESLCODCESS é diferente do ENTCODIGO') \n",
    "    criticas.append(critica7392_15_15)\n",
    "elif relacao15_20.shape != (0,i): \n",
    "    critica7392_15_20 = ('Critica 7392.15_20, O CMPID é 1020 e o ESLCODCESS é diferente do ENTCODIGO')\n",
    "    criticas.append(critica7392_15_20)\n",
    "elif relacao15_25.shape != (0,i): \n",
    "    critica7392_15_25 = ('Critica 7392.15_25, O CMPID é 1025 e o ESLCODCESS é diferente do ENTCODIGO')\n",
    "    criticas.append(critica7392_15_25)\n",
    "else: print('CMPIDs 1015, 1020, 1025. Valida campo ESLCODCESS')"
   ]
  },
  {
   "cell_type": "code",
   "execution_count": null,
   "metadata": {},
   "outputs": [],
   "source": [
    "#7393.14 Valida a correspondência entre os campos CMPID e ESLCODCESS\n",
    "relacao15_17 = df_mains[(df_mains['CMPID'] == 1017) & (df_mains['ESLCODCESS'].values <= 1) & (df_mains['ESLCODCESS'].values >= 9999)] \n",
    "relacao15_21 = df_mains[(df_mains['CMPID'] == 1021) & (df_mains['ESLCODCESS'].values <= 1) & (df_mains['ESLCODCESS'].values >= 9999)] \n",
    "relacao15_22 = df_mains[(df_mains['CMPID'] == 1022) & (df_mains['ESLCODCESS'].values <= 1) & (df_mains['ESLCODCESS'].values >= 9999)] "
   ]
  },
  {
   "cell_type": "code",
   "execution_count": null,
   "metadata": {},
   "outputs": [],
   "source": [
    "# Adicionando criticas com CMPIDs 1017, 1021, 1022 na lista 'criticas'\n",
    "if relacao15_17.shape != (0,i): \n",
    "    critica7392_15_17 = ('Critica 7392.15_17, O CMPID é 1017 e o ESLCODCESS é diferente do ENTCODIGO')\n",
    "    criticas.append(critica7392_15_17)\n",
    "elif relacao15_21.shape != (0,i): \n",
    "    critica7392_15_21 = ('Critica 7392.15_21, O CMPID é 1021 e o ESLCODCESS é diferente do ENTCODIGO')\n",
    "    criticas.append(critica7392_15_21)\n",
    "elif relacao15_22.shape != (0,i): \n",
    "    critica7392_15_22 = ('Critica 7392.15_22, O CMPID é 1022 e o ESLCODCESS é diferente do ENTCODIGO')\n",
    "    criticas.append(critica7392_15_22)\n",
    "else: print('CMPIDs 1017, 1021, 1022. Valida campo ESLCODCESS')"
   ]
  },
  {
   "cell_type": "code",
   "execution_count": null,
   "metadata": {},
   "outputs": [],
   "source": [
    "#7393.14 Valida a correspondência entre os campos CMPID e ESLCODCESS\n",
    "relacao15_18 = df_mains[(df_mains['CMPID'] == 1018) & (df_mains['ESLCODCESS'].values <= 30000) & (df_mains['ESLCODCESS'].values >= 59999)] \n",
    "relacao15_19 = df_mains[(df_mains['CMPID'] == 1019) & (df_mains['ESLCODCESS'].values <= 30000) & (df_mains['ESLCODCESS'].values >= 59999)] \n",
    "relacao15_23 = df_mains[(df_mains['CMPID'] == 1023) & (df_mains['ESLCODCESS'].values <= 30000) & (df_mains['ESLCODCESS'].values >= 59999)] \n",
    "relacao15_24 = df_mains[(df_mains['CMPID'] == 1024) & (df_mains['ESLCODCESS'].values <= 30000) & (df_mains['ESLCODCESS'].values >= 59999)]  "
   ]
  },
  {
   "cell_type": "code",
   "execution_count": null,
   "metadata": {},
   "outputs": [],
   "source": [
    "# Adicionando criticas com CMPIDs 1018, 1019, 1023, 1024 na lista 'criticas'\n",
    "if relacao15_18.shape != (0,i): \n",
    "    critica7392_15_18 = ('Critica 7392.15_18, O CMPID é 1018 e o ESLCODCESS é diferente do ENTCODIGO')\n",
    "    criticas.append(critica7392_15_18)\n",
    "elif relacao15_19.shape != (0,i): \n",
    "    critica7392_15_19 = ('Critica 7392.15_19, O CMPID é 1019 e o ESLCODCESS é diferente do ENTCODIGO')\n",
    "    criticas.append(critica7392_15_19)\n",
    "elif relacao15_23.shape != (0,i): \n",
    "    critica7392_15_23 = ('Critica 7392.15_23, O CMPID é 1023 e o ESLCODCESS é diferente do ENTCODIGO')\n",
    "    criticas.append(critica7392_15_23)\n",
    "elif relacao15_24.shape != (0,i): \n",
    "    critica7392_15_24 = ('Critica 7392.15_24, O CMPID é 1024 e o ESLCODCESS é diferente do ENTCODIGO')\n",
    "    criticas.append(critica7392_15_24)\n",
    "else: print('CMPIDs 1018, 1019, 1023, 1024. Valida campo ESLCODCESS')"
   ]
  },
  {
   "cell_type": "code",
   "execution_count": null,
   "metadata": {},
   "outputs": [],
   "source": [
    "#7393.15 Verifica se o campo ESLCODCESS corresponde a um código de sociedade válido\n",
    "dadosesrcodcess = set(df_main['ESLCODCESS'])       #Escolhendo a coluna dos dados\n",
    "for itemtesrcodcess in dadosesrcodcess: \n",
    "    if itemtesrcodcess not in entcod:\n",
    "        print('ERRO!! ESLCODCESS não corresponde a um código de sociedade válido', itemtesrcodcess)\n",
    "        critica7393_15 = ('Critica 7393.15, ESLCODCESS corresponde a um código de sociedade válido', itemtesrcodcess)\n",
    "        criticas.append(critica7393_15)\n",
    "    else:\n",
    "        print('ENTCODIGO corresponde a um tipo de operação válida.', itemtesrcodcess)\n",
    "        continue"
   ]
  },
  {
   "cell_type": "code",
   "execution_count": null,
   "metadata": {},
   "outputs": [],
   "source": [
    "#7393.16 Se o tipo de operação for 'direto - administrativo' ou \n",
    "#'cosseguro aceito - administrativo' ou 'cosseguro cedido - administrativo' ou \n",
    "#'recuperação de sinistros não pagos - administrativo' ou \n",
    "#'recuperação de sinistros já pagos - administrativo', \n",
    "#verifica se o ano da data dos campos ESLDATAINICIO, ESLDATAFIM, ESLDATAOCORR \n",
    "#e ESLDATAREG está entre os limites de trinta anos para mais ou para menos do \n",
    "#ano da data do campo MRFMESANO\n",
    "df_dates_comparacao = pd.DataFrame(df_main['DTMRFMESANO'] - timedelta(days = 10950))\n",
    "df_dates_comparacao.loc[:,'DTMRFMESANO_max'] = df_main['DTMRFMESANO'] + timedelta(days = 10950)"
   ]
  },
  {
   "cell_type": "code",
   "execution_count": null,
   "metadata": {},
   "outputs": [],
   "source": [
    "mask16_i = (df_main['DTESLDATAINICIO'] < df_dates_comparacao['DTMRFMESANO']) | (df_main['DTESLDATAINICIO'] > df_dates_comparacao['DTMRFMESANO_max'])\n",
    "df16_i = df_main.loc[mask16_i] \n",
    "\n",
    "if len(df16_i) > 0:\n",
    "    df16_i.loc[:,'ID da Critica'] = ('CRITICA 7394.16')\n",
    "\n",
    "df16_i"
   ]
  },
  {
   "cell_type": "code",
   "execution_count": null,
   "metadata": {},
   "outputs": [],
   "source": [
    "mask16_f = (df_main['DTESLDATAFIM'] < df_dates_comparacao['DTMRFMESANO']) | (df_main['DTESLDATAFIM'] > df_dates_comparacao['DTMRFMESANO_max'])\n",
    "df16_f = df_main.loc[mask16_f] \n",
    "\n",
    "if len(df16_f) > 0:\n",
    "    df16_f.loc[:,'ID da Critica'] = ('CRITICA 7394.16')\n",
    "df16_f"
   ]
  },
  {
   "cell_type": "code",
   "execution_count": null,
   "metadata": {},
   "outputs": [],
   "source": [
    "mask16_o = (df_main['DTESLDATAOCORR'] < df_dates_comparacao['DTMRFMESANO']) | (df_main['DTESLDATAOCORR'] > df_dates_comparacao['DTMRFMESANO_max'])\n",
    "df16_o = df_main.loc[mask16_o]\n",
    "\n",
    "if len(df16_o) > 0:\n",
    "    df16_o.loc[:,'ID da Critica'] = ('CRITICA 7394.16')\n",
    "df16_o"
   ]
  },
  {
   "cell_type": "code",
   "execution_count": null,
   "metadata": {},
   "outputs": [],
   "source": [
    "mask16_r = (df_main['DTESLDATAREG'] < df_dates_comparacao['DTMRFMESANO']) | (df_main['DTESLDATAREG'] > df_dates_comparacao['DTMRFMESANO_max'])\n",
    "df16_r = df_main.loc[mask16_r] \n",
    "\n",
    "if len(df16_r) > 0:\n",
    "    df16_r.loc[:,'ID da Critica'] = ('CRITICA 7394.16')\n",
    "df16_r"
   ]
  },
  {
   "cell_type": "code",
   "execution_count": null,
   "metadata": {},
   "outputs": [],
   "source": [
    "#7393.17 Verifica se a data do campo ESLDATAFIM é posterior à data do campo ESLDATAINICIO \n",
    "mask17 = (df_main['DTESLDATAFIM'] < df_main['DTESLDATAINICIO']) #Criando uma mascara para realizar a validação\n",
    "\n",
    "df17 = df_main.loc[mask17]                                      #Transformando a mascara em DataFrame\n",
    "\n",
    "if len(df17) > 0:\n",
    "    df17.loc[:,'ID da Critica'] = ('CRITICA 7394.17')\n",
    "df17                                                            #Apresentando o DataFrame"
   ]
  },
  {
   "cell_type": "code",
   "execution_count": null,
   "metadata": {},
   "outputs": [],
   "source": [
    "#7393.18 Verifica se a data do campo ESLDATAOCORR está entre as datas dos campos ESLDATAINICIO e ESLDATAFIM \n",
    "mask18 = (df_main['DTESLDATAOCORR'] < df_main['DTESLDATAINICIO']) | (df_main['DTESLDATAOCORR'] > df_main['DTESLDATAFIM'])\n",
    "\n",
    "df18 = df_main.loc[mask18]\n",
    "\n",
    "if len(df18) > 0:\n",
    "    df18.loc[:,'ID da Critica'] = ('CRITICA 7394.18')\n",
    "df18"
   ]
  },
  {
   "cell_type": "code",
   "execution_count": null,
   "metadata": {},
   "outputs": [],
   "source": [
    "#7393.19 Verifica se a data do campo ESLDATAOCORR é igual ou anterior à data do campo ESLDATAREG\n",
    "mask19 = (df_main['DTESLDATAOCORR'] > df_main['DTESLDATAREG'])\n",
    "df19 = df_main.loc[mask19]\n",
    "\n",
    "if len(df19) > 0:\n",
    "    df19.loc[:,'ID da Critica'] = ('CRITICA 7394.19')\n",
    "df19"
   ]
  },
  {
   "cell_type": "code",
   "execution_count": null,
   "metadata": {},
   "outputs": [],
   "source": [
    "#7393.20 Verifica se a data dos campos ESLDATAINICIO, ESLDATAOCORR e ESLDATAREG é igual ou anterior à data do campo MRFMESANO\n",
    "mask20 = (df_main['DTMRFMESANO'] < df_main['DTESLDATAINICIO']) | (df_main['DTMRFMESANO'] < df_main['DTESLDATAOCORR']) | (df_main['DTMRFMESANO'] < df_main['DTESLDATAREG'])\n",
    "df20 = df_main.loc[mask20]\n",
    "\n",
    "if len(df20) > 0:\n",
    "    df20.loc[:,'ID da Critica'] = ('CRITICA 7394.20')\n",
    "df20"
   ]
  },
  {
   "cell_type": "code",
   "execution_count": null,
   "metadata": {},
   "outputs": [],
   "source": [
    "#7393.21 Para cada ramo, compara os valores registrados no campo ESLVALORMOV com os valores informados no Quadro 07 do FIP/SUSEP (tolerância: R$ 1.000,00 ou 1% do valor informado no respectivo campo do Quadro 07, o que for maior)"
   ]
  },
  {
   "cell_type": "code",
   "execution_count": null,
   "metadata": {},
   "outputs": [],
   "source": [
    "#7393.22 Verifica se o valor do campo ESLVALORMOV é maior do que zero\n",
    "mask22 = (df_main['fESRVALORMOV'] <= 0.0)\n",
    "df22 = df_main.loc[mask22]\n",
    "\n",
    "if len(df22) > 0:\n",
    "    df22.loc[:,'ID da Critica'] = ('CRITICA 7394.22')\n",
    "df22"
   ]
  },
  {
   "cell_type": "code",
   "execution_count": null,
   "metadata": {},
   "outputs": [],
   "source": [
    "#7393.23 Verifica se o campo ESLNUMSIN é diferente de 0.\n",
    "mask23 = (df_main['ESLNUMSIN'] == 0.0)\n",
    "df23 = df_main.loc[mask23]\n",
    "\n",
    "if len(df23) > 0:\n",
    "    df23.loc[:,'ID da Critica'] = ('CRITICA 7394.23')\n",
    "df23"
   ]
  },
  {
   "cell_type": "code",
   "execution_count": null,
   "metadata": {},
   "outputs": [],
   "source": [
    "################################################\n",
    "# Adicionando Nome do Criador do output e data #\n",
    "################################################\n",
    "\n",
    "df_main.loc[:,'Criador'] = input(\"Insira seu nome: \") ### insere a coluna com o nome do criador da tabela\n",
    "data_presente = datetime.now()\n",
    "df_main.loc[:,'Data do output'] = data_presente ### insere a coluna com a data de criacao da tabela"
   ]
  },
  {
   "cell_type": "code",
   "execution_count": null,
   "metadata": {},
   "outputs": [],
   "source": [
    "df_main"
   ]
  },
  {
   "cell_type": "code",
   "execution_count": null,
   "metadata": {},
   "outputs": [],
   "source": [
    "criticas"
   ]
  },
  {
   "cell_type": "code",
   "execution_count": null,
   "metadata": {},
   "outputs": [],
   "source": [
    "df_criticas = pd.DataFrame(criticas)\n",
    "df_criticas = df_criticas.rename(columns={0:'Descrição'})\n",
    "df_criticas"
   ]
  },
  {
   "cell_type": "code",
   "execution_count": null,
   "metadata": {},
   "outputs": [],
   "source": [
    "df_criticas_2 = pd.concat([df16_i,df16_f,df16_o,df16_r,df17,df18,df19,df20,df22,df23])\n",
    "df_criticas_2"
   ]
  },
  {
   "cell_type": "code",
   "execution_count": null,
   "metadata": {},
   "outputs": [],
   "source": [
    "if criticas == []:                   # Verificando se a lista de criticas esta vazia\n",
    "    print('Nenhuma Critica NÃO Impeditiva encontrada no Quadro 377')\n",
    "else:\n",
    "    print('Foi encontrada uma ou mais Criticas NÃO Impeditivas no Quadro 377')\n",
    "    df_criticas.to_csv('Criticas_nao_impeditivas377.csv')     # Gerando csv das criticas impeditivas"
   ]
  },
  {
   "cell_type": "code",
   "execution_count": null,
   "metadata": {},
   "outputs": [],
   "source": [
    "if len(df_criticas_2) == 0:                             # Verificando se o DataFrame de criticas esta vazia\n",
    "    print('Nenhuma Critica NÃO Impeditiva encontrada no Quadro 377')\n",
    "else:\n",
    "    print('Foi encontrada uma ou mais Criticas NÃO Impeditivas no Quadro 377')\n",
    "    df_criticas_2.to_csv('Criticas_nao_impeditivas377_2.csv')         # Gerando csv das criticas impeditivas"
   ]
  },
  {
   "cell_type": "code",
   "execution_count": null,
   "metadata": {},
   "outputs": [],
   "source": [
    "df_main.to_csv('377_Trabalho.csv')"
   ]
  }
 ],
 "metadata": {
  "kernelspec": {
   "display_name": "Python 3",
   "language": "python",
   "name": "python3"
  },
  "language_info": {
   "codemirror_mode": {
    "name": "ipython",
    "version": 3
   },
   "file_extension": ".py",
   "mimetype": "text/x-python",
   "name": "python",
   "nbconvert_exporter": "python",
   "pygments_lexer": "ipython3",
   "version": "3.8.3"
  }
 },
 "nbformat": 4,
 "nbformat_minor": 2
}
